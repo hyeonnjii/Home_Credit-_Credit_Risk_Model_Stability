{
  "nbformat": 4,
  "nbformat_minor": 0,
  "metadata": {
    "colab": {
      "provenance": [],
      "gpuType": "T4",
      "toc_visible": true
    },
    "kernelspec": {
      "name": "python3",
      "display_name": "Python 3"
    },
    "language_info": {
      "name": "python"
    },
    "accelerator": "GPU"
  },
  "cells": [
    {
      "cell_type": "code",
      "execution_count": null,
      "metadata": {
        "id": "80M3lUC3G0jf"
      },
      "outputs": [],
      "source": [
        "import numpy as np\n",
        "import pandas as pd\n",
        "import matplotlib.pyplot as plt\n",
        "import seaborn as sns\n",
        "\n",
        "import polars as pl"
      ]
    },
    {
      "cell_type": "code",
      "source": [
        "#%cd /content/drive/MyDrive/Colab Notebooks/Upstage_AI_LAB/ML/ML_Project/data/\n",
        "\n",
        "#! unzip -qq \"parquet_files.zip\""
      ],
      "metadata": {
        "colab": {
          "base_uri": "https://localhost:8080/"
        },
        "id": "PSpxKTZUMtFT",
        "outputId": "f97af5f8-2533-4c1f-f7ae-698368b2d5bb"
      },
      "execution_count": null,
      "outputs": [
        {
          "output_type": "stream",
          "name": "stdout",
          "text": [
            "/content/drive/MyDrive/Colab Notebooks/Upstage_AI_LAB/ML/ML_Project/data\n",
            "replace test/test_applprev_1_0.parquet? [y]es, [n]o, [A]ll, [N]one, [r]ename: "
          ]
        }
      ]
    },
    {
      "cell_type": "code",
      "source": [
        "#feature_def = pl.read_parquet(\"/content/feature_definitions_dtypes_tables.parquet\").to_pandas()\n",
        "#feature_def.to_csv('feature_def.csv', index=False)"
      ],
      "metadata": {
        "id": "DsN4y3pFMZvv"
      },
      "execution_count": null,
      "outputs": []
    },
    {
      "cell_type": "code",
      "source": [
        "parquet_f = r\"/content/drive/MyDrive/Colab Notebooks/Upstage_AI_LAB/ML/ML_Project/data/\"\n",
        "\n",
        "df_base = pl.read_parquet(parquet_f+\"train/train_base.parquet\")"
      ],
      "metadata": {
        "id": "MZdhtOo4KYTh"
      },
      "execution_count": null,
      "outputs": []
    },
    {
      "cell_type": "code",
      "source": [
        "# feature_static0 = pd.merge(\n",
        "#     pd.DataFrame(zip(df_static_0_0.schema.keys(), df_static_0_0.schema.values()), columns=['Variable', 'dtype']),\n",
        "#     pd.read_csv(parquet_f + \"train/feature_definitions.csv\"),\n",
        "#     on=['Variable'],\n",
        "#     how='left'\n",
        "# )\n",
        "\n",
        "# feature_static0\n",
        "# #df_static_0_0\n",
        "\n",
        "# feature_static0.to_csv('static_features.csv', index=False)"
      ],
      "metadata": {
        "id": "swG4ZJdlKaUy"
      },
      "execution_count": null,
      "outputs": []
    },
    {
      "cell_type": "code",
      "source": [
        "df_base.schema\n",
        "df_base"
      ],
      "metadata": {
        "colab": {
          "base_uri": "https://localhost:8080/",
          "height": 882
        },
        "id": "dfwJ9UFiWK96",
        "outputId": "a0e5074e-ea7e-45c2-d225-34dd67aa007c"
      },
      "execution_count": null,
      "outputs": [
        {
          "output_type": "execute_result",
          "data": {
            "text/plain": [
              "shape: (1_526_659, 5)\n",
              "┌─────────┬───────────────┬────────┬──────────┬────────┐\n",
              "│ case_id ┆ date_decision ┆ MONTH  ┆ WEEK_NUM ┆ target │\n",
              "│ ---     ┆ ---           ┆ ---    ┆ ---      ┆ ---    │\n",
              "│ i64     ┆ str           ┆ i64    ┆ i64      ┆ i64    │\n",
              "╞═════════╪═══════════════╪════════╪══════════╪════════╡\n",
              "│ 0       ┆ 2019-01-03    ┆ 201901 ┆ 0        ┆ 0      │\n",
              "│ 1       ┆ 2019-01-03    ┆ 201901 ┆ 0        ┆ 0      │\n",
              "│ 2       ┆ 2019-01-04    ┆ 201901 ┆ 0        ┆ 0      │\n",
              "│ 3       ┆ 2019-01-03    ┆ 201901 ┆ 0        ┆ 0      │\n",
              "│ …       ┆ …             ┆ …      ┆ …        ┆ …      │\n",
              "│ 2703451 ┆ 2020-10-05    ┆ 202010 ┆ 91       ┆ 0      │\n",
              "│ 2703452 ┆ 2020-10-05    ┆ 202010 ┆ 91       ┆ 0      │\n",
              "│ 2703453 ┆ 2020-10-05    ┆ 202010 ┆ 91       ┆ 0      │\n",
              "│ 2703454 ┆ 2020-10-05    ┆ 202010 ┆ 91       ┆ 0      │\n",
              "└─────────┴───────────────┴────────┴──────────┴────────┘"
            ],
            "text/html": [
              "<div><style>\n",
              ".dataframe > thead > tr,\n",
              ".dataframe > tbody > tr {\n",
              "  text-align: right;\n",
              "  white-space: pre-wrap;\n",
              "}\n",
              "</style>\n",
              "<small>shape: (1_526_659, 5)</small><table border=\"1\" class=\"dataframe\"><thead><tr><th>case_id</th><th>date_decision</th><th>MONTH</th><th>WEEK_NUM</th><th>target</th></tr><tr><td>i64</td><td>str</td><td>i64</td><td>i64</td><td>i64</td></tr></thead><tbody><tr><td>0</td><td>&quot;2019-01-03&quot;</td><td>201901</td><td>0</td><td>0</td></tr><tr><td>1</td><td>&quot;2019-01-03&quot;</td><td>201901</td><td>0</td><td>0</td></tr><tr><td>2</td><td>&quot;2019-01-04&quot;</td><td>201901</td><td>0</td><td>0</td></tr><tr><td>3</td><td>&quot;2019-01-03&quot;</td><td>201901</td><td>0</td><td>0</td></tr><tr><td>4</td><td>&quot;2019-01-04&quot;</td><td>201901</td><td>0</td><td>1</td></tr><tr><td>5</td><td>&quot;2019-01-02&quot;</td><td>201901</td><td>0</td><td>0</td></tr><tr><td>6</td><td>&quot;2019-01-03&quot;</td><td>201901</td><td>0</td><td>0</td></tr><tr><td>7</td><td>&quot;2019-01-03&quot;</td><td>201901</td><td>0</td><td>0</td></tr><tr><td>8</td><td>&quot;2019-01-03&quot;</td><td>201901</td><td>0</td><td>0</td></tr><tr><td>9</td><td>&quot;2019-01-03&quot;</td><td>201901</td><td>0</td><td>0</td></tr><tr><td>10</td><td>&quot;2019-01-03&quot;</td><td>201901</td><td>0</td><td>0</td></tr><tr><td>11</td><td>&quot;2019-01-03&quot;</td><td>201901</td><td>0</td><td>0</td></tr><tr><td>&hellip;</td><td>&hellip;</td><td>&hellip;</td><td>&hellip;</td><td>&hellip;</td></tr><tr><td>2703442</td><td>&quot;2020-10-05&quot;</td><td>202010</td><td>91</td><td>0</td></tr><tr><td>2703443</td><td>&quot;2020-10-05&quot;</td><td>202010</td><td>91</td><td>0</td></tr><tr><td>2703445</td><td>&quot;2020-10-05&quot;</td><td>202010</td><td>91</td><td>0</td></tr><tr><td>2703446</td><td>&quot;2020-10-05&quot;</td><td>202010</td><td>91</td><td>0</td></tr><tr><td>2703447</td><td>&quot;2020-10-05&quot;</td><td>202010</td><td>91</td><td>0</td></tr><tr><td>2703448</td><td>&quot;2020-10-05&quot;</td><td>202010</td><td>91</td><td>0</td></tr><tr><td>2703449</td><td>&quot;2020-10-05&quot;</td><td>202010</td><td>91</td><td>0</td></tr><tr><td>2703450</td><td>&quot;2020-10-05&quot;</td><td>202010</td><td>91</td><td>0</td></tr><tr><td>2703451</td><td>&quot;2020-10-05&quot;</td><td>202010</td><td>91</td><td>0</td></tr><tr><td>2703452</td><td>&quot;2020-10-05&quot;</td><td>202010</td><td>91</td><td>0</td></tr><tr><td>2703453</td><td>&quot;2020-10-05&quot;</td><td>202010</td><td>91</td><td>0</td></tr><tr><td>2703454</td><td>&quot;2020-10-05&quot;</td><td>202010</td><td>91</td><td>0</td></tr></tbody></table></div>"
            ]
          },
          "metadata": {},
          "execution_count": 3
        }
      ]
    },
    {
      "cell_type": "markdown",
      "source": [
        "# train_credit_bureau_a_1\n",
        "\n",
        "- null 값이 대부분 > 신용 금융 기관에 기록된 데이터\n",
        "  - 있고 없고가 target 이 영향을 받는지 안받는지\n",
        "    - 결측치는 eda로 결정한다(10%가 전부 같으면 엄청 큰 )\n",
        "    - 있는 것들의 분포\n",
        "- masking category > null이 없음!\n",
        "  - null 을 encoding한 값이 들어가있는건 아닌지 확인 필요(어떻게,,?)\n",
        "  - 모델링 자체에서 tree feature importance가 높은애들, 분포가 특이하게 나오는 애들\n",
        "  - 그냥 masking에 의미를 부여하지 않는게 중요!\n",
        "  - 필요하면, 의미가 있다면 찾아보는 게 중요!!!\n",
        "- 대부분 left skewed 형태\n",
        "  - log 변환 : np.log1p()\n",
        "  - 음수 data 존재 컬럼 `dpdmax_757P`: + min 처리\n",
        "\n",
        "- Feature Engineering:\n",
        "  - date 처리\n",
        "  - masking category\n",
        "  - 부분적으로 포함되어 있는 컬럼\n",
        "    - 1) linear 모델 선택시 `다중공산성` 이슈 해결 필요\n",
        "    - 2) 합치거나 빼거나 지지고 볶는 과정은 무조건 필요,, 너무 많아요 데이터ㅠㅠ\n",
        "  - active vs. closed 분리?\n",
        "\n",
        "- 코로나 19가 예측에 끼어져있다는게 가장 큰 이슈!\n",
        ": https://www.kaggle.com/competitions/home-credit-credit-risk-model-stability/discussion/473765\n"
      ],
      "metadata": {
        "id": "G5kX6pJfBCa0"
      }
    },
    {
      "cell_type": "code",
      "source": [
        "df_credit_bureau_1_0 = pl.read_parquet(parquet_f+\"train/train_credit_bureau_a_1_0.parquet\")\n",
        "df_credit_bureau_1_1 = pl.read_parquet(parquet_f+\"train/train_credit_bureau_a_1_1.parquet\")\n",
        "df_credit_bureau_1_2 = pl.read_parquet(parquet_f+\"train/train_credit_bureau_a_1_2.parquet\")\n",
        "df_credit_bureau_1_3 = pl.read_parquet(parquet_f+\"train/train_credit_bureau_a_1_3.parquet\")"
      ],
      "metadata": {
        "id": "bYX1toO7WHiZ"
      },
      "execution_count": null,
      "outputs": []
    },
    {
      "cell_type": "code",
      "source": [
        "df_credit_bureau_a = pl.concat([df_credit_bureau_1_0, df_credit_bureau_1_1, df_credit_bureau_1_2, df_credit_bureau_1_3])\n",
        "df_credit_bureau_a = df_credit_bureau_a.to_pandas()"
      ],
      "metadata": {
        "id": "o2hkXqiaXZOL"
      },
      "execution_count": null,
      "outputs": []
    },
    {
      "cell_type": "code",
      "source": [
        "len(df_credit_bureau_1_0.schema), len(df_credit_bureau_1_1.schema), #len(df_credit_bureau_1_2.schema), len(df_credit_bureau_1_3.schema)"
      ],
      "metadata": {
        "colab": {
          "base_uri": "https://localhost:8080/"
        },
        "id": "X-73jfeTwR7c",
        "outputId": "6a754e14-8493-4970-bb9b-126934f7d43a"
      },
      "execution_count": null,
      "outputs": [
        {
          "output_type": "execute_result",
          "data": {
            "text/plain": [
              "(79, 79)"
            ]
          },
          "metadata": {},
          "execution_count": 4
        }
      ]
    },
    {
      "cell_type": "code",
      "source": [
        "#df_credit_bureau_1_0.schema\n",
        "df_credit_bureau_a.info()"
      ],
      "metadata": {
        "colab": {
          "base_uri": "https://localhost:8080/"
        },
        "id": "5Pag9IB2Nj5E",
        "outputId": "d780a572-594e-4485-9757-bcd6a65d021d"
      },
      "execution_count": null,
      "outputs": [
        {
          "output_type": "stream",
          "name": "stdout",
          "text": [
            "<class 'pandas.core.frame.DataFrame'>\n",
            "RangeIndex: 4108212 entries, 0 to 4108211\n",
            "Data columns (total 79 columns):\n",
            " #   Column                           Dtype  \n",
            "---  ------                           -----  \n",
            " 0   case_id                          int64  \n",
            " 1   annualeffectiverate_199L         float64\n",
            " 2   annualeffectiverate_63L          float64\n",
            " 3   classificationofcontr_13M        object \n",
            " 4   classificationofcontr_400M       object \n",
            " 5   contractst_545M                  object \n",
            " 6   contractst_964M                  object \n",
            " 7   contractsum_5085717L             float64\n",
            " 8   credlmt_230A                     float64\n",
            " 9   credlmt_935A                     float64\n",
            " 10  dateofcredend_289D               object \n",
            " 11  dateofcredend_353D               object \n",
            " 12  dateofcredstart_181D             object \n",
            " 13  dateofcredstart_739D             object \n",
            " 14  dateofrealrepmt_138D             object \n",
            " 15  debtoutstand_525A                float64\n",
            " 16  debtoverdue_47A                  float64\n",
            " 17  description_351M                 object \n",
            " 18  dpdmax_139P                      float64\n",
            " 19  dpdmax_757P                      float64\n",
            " 20  dpdmaxdatemonth_442T             float64\n",
            " 21  dpdmaxdatemonth_89T              float64\n",
            " 22  dpdmaxdateyear_596T              float64\n",
            " 23  dpdmaxdateyear_896T              float64\n",
            " 24  financialinstitution_382M        object \n",
            " 25  financialinstitution_591M        object \n",
            " 26  instlamount_768A                 float64\n",
            " 27  instlamount_852A                 float64\n",
            " 28  interestrate_508L                float64\n",
            " 29  lastupdate_1112D                 object \n",
            " 30  lastupdate_388D                  object \n",
            " 31  monthlyinstlamount_332A          float64\n",
            " 32  monthlyinstlamount_674A          float64\n",
            " 33  nominalrate_281L                 float64\n",
            " 34  nominalrate_498L                 float64\n",
            " 35  num_group1                       int64  \n",
            " 36  numberofcontrsvalue_258L         float64\n",
            " 37  numberofcontrsvalue_358L         float64\n",
            " 38  numberofinstls_229L              float64\n",
            " 39  numberofinstls_320L              float64\n",
            " 40  numberofoutstandinstls_520L      float64\n",
            " 41  numberofoutstandinstls_59L       float64\n",
            " 42  numberofoverdueinstlmax_1039L    float64\n",
            " 43  numberofoverdueinstlmax_1151L    float64\n",
            " 44  numberofoverdueinstlmaxdat_148D  object \n",
            " 45  numberofoverdueinstlmaxdat_641D  object \n",
            " 46  numberofoverdueinstls_725L       float64\n",
            " 47  numberofoverdueinstls_834L       float64\n",
            " 48  outstandingamount_354A           float64\n",
            " 49  outstandingamount_362A           float64\n",
            " 50  overdueamount_31A                float64\n",
            " 51  overdueamount_659A               float64\n",
            " 52  overdueamountmax2_14A            float64\n",
            " 53  overdueamountmax2_398A           float64\n",
            " 54  overdueamountmax2date_1002D      object \n",
            " 55  overdueamountmax2date_1142D      object \n",
            " 56  overdueamountmax_155A            float64\n",
            " 57  overdueamountmax_35A             float64\n",
            " 58  overdueamountmaxdatemonth_284T   float64\n",
            " 59  overdueamountmaxdatemonth_365T   float64\n",
            " 60  overdueamountmaxdateyear_2T      float64\n",
            " 61  overdueamountmaxdateyear_994T    float64\n",
            " 62  periodicityofpmts_1102L          float64\n",
            " 63  periodicityofpmts_837L           float64\n",
            " 64  prolongationcount_1120L          float64\n",
            " 65  prolongationcount_599L           float64\n",
            " 66  purposeofcred_426M               object \n",
            " 67  purposeofcred_874M               object \n",
            " 68  refreshdate_3813885D             object \n",
            " 69  residualamount_488A              float64\n",
            " 70  residualamount_856A              float64\n",
            " 71  subjectrole_182M                 object \n",
            " 72  subjectrole_93M                  object \n",
            " 73  totalamount_6A                   float64\n",
            " 74  totalamount_996A                 float64\n",
            " 75  totaldebtoverduevalue_178A       float64\n",
            " 76  totaldebtoverduevalue_718A       float64\n",
            " 77  totaloutstanddebtvalue_39A       float64\n",
            " 78  totaloutstanddebtvalue_668A      float64\n",
            "dtypes: float64(54), int64(2), object(23)\n",
            "memory usage: 2.4+ GB\n"
          ]
        }
      ]
    },
    {
      "cell_type": "code",
      "source": [
        "with pd.option_context('display.max_rows', None, 'display.max_columns', None):\n",
        "    print(df_credit_bureau_a.isnull().sum())\n"
      ],
      "metadata": {
        "colab": {
          "base_uri": "https://localhost:8080/"
        },
        "id": "Y69kZX9LSN_P",
        "outputId": "a560378c-3fbf-4360-9a52-6ac47369324e"
      },
      "execution_count": null,
      "outputs": [
        {
          "output_type": "stream",
          "name": "stdout",
          "text": [
            "case_id                                   0\n",
            "annualeffectiverate_199L           15213904\n",
            "annualeffectiverate_63L            15629294\n",
            "classificationofcontr_13M                 0\n",
            "classificationofcontr_400M                0\n",
            "contractst_545M                           0\n",
            "contractst_964M                           0\n",
            "contractsum_5085717L               15621206\n",
            "credlmt_230A                       15044115\n",
            "credlmt_935A                       14685552\n",
            "dateofcredend_289D                 13281261\n",
            "dateofcredend_353D                  9188054\n",
            "dateofcredstart_181D                9188040\n",
            "dateofcredstart_739D               13281261\n",
            "dateofrealrepmt_138D                9225946\n",
            "debtoutstand_525A                  14554700\n",
            "debtoverdue_47A                    14554700\n",
            "description_351M                          0\n",
            "dpdmax_139P                        13296501\n",
            "dpdmax_757P                         9413642\n",
            "dpdmaxdatemonth_442T                9413642\n",
            "dpdmaxdatemonth_89T                13296501\n",
            "dpdmaxdateyear_596T                13296501\n",
            "dpdmaxdateyear_896T                 9413642\n",
            "financialinstitution_382M                 0\n",
            "financialinstitution_591M                 0\n",
            "instlamount_768A                   14701343\n",
            "instlamount_852A                   15346371\n",
            "interestrate_508L                  15874717\n",
            "lastupdate_1112D                   13281261\n",
            "lastupdate_388D                     9188241\n",
            "monthlyinstlamount_332A            13297895\n",
            "monthlyinstlamount_674A             9648370\n",
            "nominalrate_281L                   14960980\n",
            "nominalrate_498L                   13630910\n",
            "num_group1                                0\n",
            "numberofcontrsvalue_258L           14635534\n",
            "numberofcontrsvalue_358L           14664995\n",
            "numberofinstls_229L                10087399\n",
            "numberofinstls_320L                14536672\n",
            "numberofoutstandinstls_520L        10083124\n",
            "numberofoutstandinstls_59L         14536715\n",
            "numberofoverdueinstlmax_1039L      13281261\n",
            "numberofoverdueinstlmax_1151L       9188040\n",
            "numberofoverdueinstlmaxdat_148D    13916081\n",
            "numberofoverdueinstlmaxdat_641D    15260655\n",
            "numberofoverdueinstls_725L         13296747\n",
            "numberofoverdueinstls_834L          9196947\n",
            "outstandingamount_354A             10081292\n",
            "outstandingamount_362A             14536309\n",
            "overdueamount_31A                   9195358\n",
            "overdueamount_659A                 13296737\n",
            "overdueamountmax2_14A              13281261\n",
            "overdueamountmax2_398A              9188040\n",
            "overdueamountmax2date_1002D        13935837\n",
            "overdueamountmax2date_1142D        15254776\n",
            "overdueamountmax_155A              13281262\n",
            "overdueamountmax_35A                9405492\n",
            "overdueamountmaxdatemonth_284T      9405492\n",
            "overdueamountmaxdatemonth_365T     13281262\n",
            "overdueamountmaxdateyear_2T        13281262\n",
            "overdueamountmaxdateyear_994T       9405492\n",
            "periodicityofpmts_1102L            10684354\n",
            "periodicityofpmts_837L             14573042\n",
            "prolongationcount_1120L            15459068\n",
            "prolongationcount_599L             15901589\n",
            "purposeofcred_426M                        0\n",
            "purposeofcred_874M                        0\n",
            "refreshdate_3813885D                4855840\n",
            "residualamount_488A                15052745\n",
            "residualamount_856A                14701246\n",
            "subjectrole_182M                          0\n",
            "subjectrole_93M                           0\n",
            "totalamount_6A                     10079656\n",
            "totalamount_996A                   14536246\n",
            "totaldebtoverduevalue_178A         14635534\n",
            "totaldebtoverduevalue_718A         14664995\n",
            "totaloutstanddebtvalue_39A         14635534\n",
            "totaloutstanddebtvalue_668A        14664995\n",
            "dtype: int64\n"
          ]
        }
      ]
    },
    {
      "cell_type": "code",
      "source": [
        "def print_info(df:pd.DataFrame, col_name):\n",
        "    temp = '=' * 10 + ' [' + col_name + '] ' + '=' * 10\n",
        "    print(temp)\n",
        "    print(f'데이터 타입: {df[col_name].dtype}')\n",
        "    print(f'NaN값: {any(df[col_name].isna())}, {(df[col_name].isna().sum() / df[col_name].shape[0])}')\n",
        "\n",
        "    plt.figure(figsize=(6,4))\n",
        "\n",
        "    if df[col_name].dtype != 'object':\n",
        "        print(f\"(null, 0, positive) = {df[col_name].isna().sum(), (df[col_name] == 0.0).sum(), (df[col_name] > 0.0).sum()}\")\n",
        "        print(f'(min, max): ({df[col_name].dropna().min()}, {df[col_name].dropna().max()})')\n",
        "        print(f'평균값: {df[col_name].dropna().mean()}')\n",
        "        print(f'중간값: {df[col_name].dropna().median()}')\n",
        "        print('=' * len(temp))\n",
        "\n",
        "        # min 이 음수일 경우\n",
        "        if df[col_name].dropna().min() < 0:\n",
        "          temp = df[col_name].dropna() + np.ceil(np.abs(df[col_name]))\n",
        "          print(df[col_name].dropna().min())\n",
        "        else:\n",
        "          temp = df[col_name].dropna()\n",
        "\n",
        "        # 최댓값이 크면 log 변환, diverse 문제 -> log1p() 사용\n",
        "        if np.log1p(temp.max()) - np.log1p(temp.min()) > 0.1:\n",
        "            log_temp = np.log1p(temp)\n",
        "            sns.kdeplot(log_temp, palette='Blues_r', )\n",
        "            plt.xlabel('log converted value')\n",
        "        else:\n",
        "            sns.kdeplot(df[col_name], palette='Blues_r', )\n",
        "\n",
        "        plt.title(col_name)\n",
        "        plt.show()\n",
        "    else:\n",
        "\t\t\t\t# 날짜 데이터인 경우\n",
        "        try:\n",
        "            # 날짜 데이터가 크다면(500개 이상) 연도별 데이터로 변환하기\n",
        "            if len(df[col_name].value_counts()) > 500:\n",
        "                df_datetime = pd.DataFrame(pd.to_datetime(df[col_name]).dt.year).value_counts().reset_index()\n",
        "            else:\n",
        "                df_datetime = pd.DataFrame(pd.to_datetime(df[col_name])).value_counts().reset_index()\n",
        "\n",
        "            df_datetime.columns = ['date', 'count']\n",
        "            df_datetime = df_datetime.set_index('date').sort_index()\n",
        "\n",
        "            print(f'최솟값: {df_datetime.idxmin().values[0]} | {df_datetime.min().values[0]}')\n",
        "            print(f'최댓값: {df_datetime.idxmax().values[0]} | {df_datetime.max().values[0]}')\n",
        "\n",
        "            print('- - ' * 5)\n",
        "            print('value_counts:')\n",
        "            print(df[col_name].value_counts())\n",
        "            print('- - ' * 5)\n",
        "            print('=' * len(temp))\n",
        "\n",
        "            sns.barplot(data=df_datetime['count'], palette='Blues', )\n",
        "            x_ticks_interval = int(len(df_datetime['count']) / 10)\n",
        "            plt.xticks(range(0, len(df_datetime['count']), x_ticks_interval), rotation=90)\n",
        "            plt.title(col_name)\n",
        "            plt.show()\n",
        "\n",
        "        # 날짜 데이터로 변환이 불가능한 경우\n",
        "        except:\n",
        "            print(f'(min, max): ({df[col_name].dropna().min()}, {df[col_name].dropna().max()})')\n",
        "\n",
        "            print('- - ' * 5)\n",
        "            print('value_counts:')\n",
        "            print(df[col_name].value_counts())\n",
        "            print('- - ' * 5)\n",
        "            print('=' * len(temp))\n",
        "\n",
        "\t\t\t\t\t\t# 카테고리가 10개를 넘는다면 5개만을 뽑아서 시각화\n",
        "            if len(df[col_name].value_counts()) > 10:\n",
        "                slice = 5\n",
        "            else:\n",
        "                slice = len(df[col_name])\n",
        "\n",
        "            sns.countplot(data=df, x=col_name, order=df[col_name].value_counts()[:slice].index, palette='Blues_r', )\n",
        "            plt.xticks(rotation=90, ha='right')\n",
        "            plt.title(col_name)\n",
        "            plt.show()"
      ],
      "metadata": {
        "id": "DOwvmA7Cn3y5"
      },
      "execution_count": null,
      "outputs": []
    },
    {
      "cell_type": "markdown",
      "source": [
        "## annualeffectiverate_199L\n",
        "\n",
        "- Closed contract의 유효이자율(복리)\n",
        "  - 채권 또는 채무의 이자를 인식할 때, 그 이자율이 매년 일정하게 되도록 하는 이자수익/비용 계산방법\n",
        "  - 참고해보셔도 좋을 것 같습니다!(https://www.investopedia.com/terms/e/effectiveinterest.asp)\n",
        "\n",
        "> **해석**\n",
        "- 99% 이상이 null값 -> 4108211중 36981\n",
        "- max가 73000.000000 --> 유효이자율이 이렇게 크게 나올 수가 있나? 63개의 rows\n",
        "- 0과 null 값의 차이? 0 유의미하다 판단 -> 0 포함 mean, medain 계산\n",
        "\n",
        "\n",
        "> **필요 논의**\n",
        "- nominal rate 컬럼과 비교 필요성(nominalrate_281L, nominalrate_498L)\n",
        "- classificationofcontr_400M(closed contract에 대한 classification) 별로 분류, 특징 추출\n",
        "\n",
        "\n"
      ],
      "metadata": {
        "id": "_O53FyeWA9Bw"
      }
    },
    {
      "cell_type": "markdown",
      "source": [
        "![image.png](data:image/png;base64,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)"
      ],
      "metadata": {
        "id": "J73LOZFKM6SY"
      }
    },
    {
      "cell_type": "code",
      "source": [
        "print_info(df_credit_bureau_a,'annualeffectiverate_199L')"
      ],
      "metadata": {
        "colab": {
          "base_uri": "https://localhost:8080/",
          "height": 596
        },
        "id": "ME4QL0Aa73UC",
        "outputId": "1cb77223-f940-4305-8a33-cdd4e6b49916"
      },
      "execution_count": null,
      "outputs": [
        {
          "output_type": "stream",
          "name": "stdout",
          "text": [
            "========== [annualeffectiverate_199L] ==========\n",
            "데이터 타입: float64\n",
            "NaN값: True, 0.9544160275152588\n",
            "(null, 0, positive) = (15213904, 24417, 702216)\n",
            "(min, max): (0.0, 91250.0)\n",
            "평균값: 1069.1376995539704\n",
            "중간값: 38.3\n",
            "================================================\n"
          ]
        },
        {
          "output_type": "stream",
          "name": "stderr",
          "text": [
            "<ipython-input-26-7480a55719a5>:25: UserWarning: Ignoring `palette` because no `hue` variable has been assigned.\n",
            "  sns.kdeplot(log_temp, palette='Blues_r', )\n"
          ]
        },
        {
          "output_type": "display_data",
          "data": {
            "text/plain": [
              "<Figure size 600x400 with 1 Axes>"
            ],
            "image/png": "[encoded data removed]"
          },
          "metadata": {}
        }
      ]
    },
    {
      "cell_type": "code",
      "source": [
        "df_credit_bureau_a.annualeffectiverate_199L.describe()"
      ],
      "metadata": {
        "colab": {
          "base_uri": "https://localhost:8080/"
        },
        "id": "-TMA-hXJEAI8",
        "outputId": "36350f1e-c510-4bd4-d393-e02e0c172298"
      },
      "execution_count": null,
      "outputs": [
        {
          "output_type": "execute_result",
          "data": {
            "text/plain": [
              "count    726633.000000\n",
              "mean       1069.137700\n",
              "std        7355.213474\n",
              "min           0.000000\n",
              "25%           9.130000\n",
              "50%          38.300000\n",
              "75%          96.300000\n",
              "max       91250.000000\n",
              "Name: annualeffectiverate_199L, dtype: float64"
            ]
          },
          "metadata": {},
          "execution_count": 19
        }
      ]
    },
    {
      "cell_type": "code",
      "source": [
        "df_credit_bureau_a[df_credit_bureau_a.annualeffectiverate_199L == 73000.000000]"
      ],
      "metadata": {
        "colab": {
          "base_uri": "https://localhost:8080/",
          "height": 444
        },
        "id": "aup0nDgBE7za",
        "outputId": "10458974-6310-400a-aa13-ef556d3a5d72"
      },
      "execution_count": null,
      "outputs": [
        {
          "output_type": "execute_result",
          "data": {
            "text/plain": [
              "          case_id  annualeffectiverate_199L  annualeffectiverate_63L  \\\n",
              "55698        7654                   73000.0                      NaN   \n",
              "131791      17491                   73000.0                      NaN   \n",
              "149124      19487                   73000.0                      NaN   \n",
              "516994     133025                   73000.0                      NaN   \n",
              "518069     133108                   73000.0                      NaN   \n",
              "...           ...                       ...                      ...   \n",
              "15905234  2700393                   73000.0                      NaN   \n",
              "15905955  2700448                   73000.0                      NaN   \n",
              "15915980  2701295                   73000.0                      NaN   \n",
              "15926060  2702186                   73000.0                      NaN   \n",
              "15926062  2702186                   73000.0                      NaN   \n",
              "\n",
              "         classificationofcontr_13M classificationofcontr_400M contractst_545M  \\\n",
              "55698                     a55475b1                   00135d9c        a55475b1   \n",
              "131791                    a55475b1                   00135d9c        a55475b1   \n",
              "149124                    a55475b1                   00135d9c        a55475b1   \n",
              "516994                    a55475b1                   00135d9c        a55475b1   \n",
              "518069                    a55475b1                   00135d9c        a55475b1   \n",
              "...                            ...                        ...             ...   \n",
              "15905234                  a55475b1                   00135d9c        a55475b1   \n",
              "15905955                  a55475b1                   00135d9c        a55475b1   \n",
              "15915980                  a55475b1                   00135d9c        a55475b1   \n",
              "15926060                  a55475b1                   00135d9c        a55475b1   \n",
              "15926062                  a55475b1                   00135d9c        a55475b1   \n",
              "\n",
              "         contractst_964M  contractsum_5085717L  credlmt_230A  credlmt_935A  \\\n",
              "55698           7241344e                   NaN           NaN           NaN   \n",
              "131791          7241344e                   NaN           NaN           NaN   \n",
              "149124          7241344e                   NaN           NaN           NaN   \n",
              "516994          7241344e                   NaN           NaN           NaN   \n",
              "518069          7241344e                   NaN           NaN           NaN   \n",
              "...                  ...                   ...           ...           ...   \n",
              "15905234        1603bd2c                   NaN           NaN           NaN   \n",
              "15905955        24706fdc                   NaN           NaN           NaN   \n",
              "15915980        7241344e                   NaN           NaN           NaN   \n",
              "15926060        7241344e                   NaN           NaN           NaN   \n",
              "15926062        7241344e                   NaN           NaN           NaN   \n",
              "\n",
              "          ... residualamount_488A residualamount_856A subjectrole_182M  \\\n",
              "55698     ...                 NaN                 NaN         a55475b1   \n",
              "131791    ...                 NaN                 NaN         a55475b1   \n",
              "149124    ...                 NaN                 NaN         a55475b1   \n",
              "516994    ...                 NaN                 NaN         a55475b1   \n",
              "518069    ...                 NaN                 NaN         a55475b1   \n",
              "...       ...                 ...                 ...              ...   \n",
              "15905234  ...                 NaN                 NaN         a55475b1   \n",
              "15905955  ...                 NaN                 NaN         a55475b1   \n",
              "15915980  ...                 NaN                 NaN         a55475b1   \n",
              "15926060  ...                 NaN                 NaN         a55475b1   \n",
              "15926062  ...                 NaN                 NaN         a55475b1   \n",
              "\n",
              "         subjectrole_93M totalamount_6A  totalamount_996A  \\\n",
              "55698           a55475b1         4000.0               NaN   \n",
              "131791          a55475b1        10000.0               NaN   \n",
              "149124          a55475b1         8000.0               NaN   \n",
              "516994          a55475b1         8000.0               NaN   \n",
              "518069          a55475b1        10000.0               NaN   \n",
              "...                  ...            ...               ...   \n",
              "15905234        a55475b1        10000.0               NaN   \n",
              "15905955        a55475b1        20000.0               NaN   \n",
              "15915980        a55475b1        14000.0               NaN   \n",
              "15926060        a55475b1        14000.0               NaN   \n",
              "15926062        a55475b1        13000.0               NaN   \n",
              "\n",
              "          totaldebtoverduevalue_178A totaldebtoverduevalue_718A  \\\n",
              "55698                            NaN                        NaN   \n",
              "131791                           NaN                        NaN   \n",
              "149124                           NaN                        NaN   \n",
              "516994                           NaN                        NaN   \n",
              "518069                           NaN                        NaN   \n",
              "...                              ...                        ...   \n",
              "15905234                         NaN                        NaN   \n",
              "15905955                         NaN                        NaN   \n",
              "15915980                         NaN                        NaN   \n",
              "15926060                         NaN                        NaN   \n",
              "15926062                         NaN                        NaN   \n",
              "\n",
              "          totaloutstanddebtvalue_39A  totaloutstanddebtvalue_668A  \n",
              "55698                            NaN                          NaN  \n",
              "131791                           NaN                          NaN  \n",
              "149124                           NaN                          NaN  \n",
              "516994                           NaN                          NaN  \n",
              "518069                           NaN                          NaN  \n",
              "...                              ...                          ...  \n",
              "15905234                         NaN                          NaN  \n",
              "15905955                         NaN                          NaN  \n",
              "15915980                         NaN                          NaN  \n",
              "15926060                         NaN                          NaN  \n",
              "15926062                         NaN                          NaN  \n",
              "\n",
              "[2710 rows x 79 columns]"
            ],
            "text/html": [
              "\n",
              "  <div id=\"df-e6bf2fc7-f0be-44ea-b0c4-85c56d015c0c\" class=\"colab-df-container\">\n",
              "    <div>\n",
              "<style scoped>\n",
              "    .dataframe tbody tr th:only-of-type {\n",
              "        vertical-align: middle;\n",
              "    }\n",
              "\n",
              "    .dataframe tbody tr th {\n",
              "        vertical-align: top;\n",
              "    }\n",
              "\n",
              "    .dataframe thead th {\n",
              "        text-align: right;\n",
              "    }\n",
              "</style>\n",
              "<table border=\"1\" class=\"dataframe\">\n",
              "  <thead>\n",
              "    <tr style=\"text-align: right;\">\n",
              "      <th></th>\n",
              "      <th>case_id</th>\n",
              "      <th>annualeffectiverate_199L</th>\n",
              "      <th>annualeffectiverate_63L</th>\n",
              "      <th>classificationofcontr_13M</th>\n",
              "      <th>classificationofcontr_400M</th>\n",
              "      <th>contractst_545M</th>\n",
              "      <th>contractst_964M</th>\n",
              "      <th>contractsum_5085717L</th>\n",
              "      <th>credlmt_230A</th>\n",
              "      <th>credlmt_935A</th>\n",
              "      <th>...</th>\n",
              "      <th>residualamount_488A</th>\n",
              "      <th>residualamount_856A</th>\n",
              "      <th>subjectrole_182M</th>\n",
              "      <th>subjectrole_93M</th>\n",
              "      <th>totalamount_6A</th>\n",
              "      <th>totalamount_996A</th>\n",
              "      <th>totaldebtoverduevalue_178A</th>\n",
              "      <th>totaldebtoverduevalue_718A</th>\n",
              "      <th>totaloutstanddebtvalue_39A</th>\n",
              "      <th>totaloutstanddebtvalue_668A</th>\n",
              "    </tr>\n",
              "  </thead>\n",
              "  <tbody>\n",
              "    <tr>\n",
              "      <th>55698</th>\n",
              "      <td>7654</td>\n",
              "      <td>73000.0</td>\n",
              "      <td>NaN</td>\n",
              "      <td>a55475b1</td>\n",
              "      <td>00135d9c</td>\n",
              "      <td>a55475b1</td>\n",
              "      <td>7241344e</td>\n",
              "      <td>NaN</td>\n",
              "      <td>NaN</td>\n",
              "      <td>NaN</td>\n",
              "      <td>...</td>\n",
              "      <td>NaN</td>\n",
              "      <td>NaN</td>\n",
              "      <td>a55475b1</td>\n",
              "      <td>a55475b1</td>\n",
              "      <td>4000.0</td>\n",
              "      <td>NaN</td>\n",
              "      <td>NaN</td>\n",
              "      <td>NaN</td>\n",
              "      <td>NaN</td>\n",
              "      <td>NaN</td>\n",
              "    </tr>\n",
              "    <tr>\n",
              "      <th>131791</th>\n",
              "      <td>17491</td>\n",
              "      <td>73000.0</td>\n",
              "      <td>NaN</td>\n",
              "      <td>a55475b1</td>\n",
              "      <td>00135d9c</td>\n",
              "      <td>a55475b1</td>\n",
              "      <td>7241344e</td>\n",
              "      <td>NaN</td>\n",
              "      <td>NaN</td>\n",
              "      <td>NaN</td>\n",
              "      <td>...</td>\n",
              "      <td>NaN</td>\n",
              "      <td>NaN</td>\n",
              "      <td>a55475b1</td>\n",
              "      <td>a55475b1</td>\n",
              "      <td>10000.0</td>\n",
              "      <td>NaN</td>\n",
              "      <td>NaN</td>\n",
              "      <td>NaN</td>\n",
              "      <td>NaN</td>\n",
              "      <td>NaN</td>\n",
              "    </tr>\n",
              "    <tr>\n",
              "      <th>149124</th>\n",
              "      <td>19487</td>\n",
              "      <td>73000.0</td>\n",
              "      <td>NaN</td>\n",
              "      <td>a55475b1</td>\n",
              "      <td>00135d9c</td>\n",
              "      <td>a55475b1</td>\n",
              "      <td>7241344e</td>\n",
              "      <td>NaN</td>\n",
              "      <td>NaN</td>\n",
              "      <td>NaN</td>\n",
              "      <td>...</td>\n",
              "      <td>NaN</td>\n",
              "      <td>NaN</td>\n",
              "      <td>a55475b1</td>\n",
              "      <td>a55475b1</td>\n",
              "      <td>8000.0</td>\n",
              "      <td>NaN</td>\n",
              "      <td>NaN</td>\n",
              "      <td>NaN</td>\n",
              "      <td>NaN</td>\n",
              "      <td>NaN</td>\n",
              "    </tr>\n",
              "    <tr>\n",
              "      <th>516994</th>\n",
              "      <td>133025</td>\n",
              "      <td>73000.0</td>\n",
              "      <td>NaN</td>\n",
              "      <td>a55475b1</td>\n",
              "      <td>00135d9c</td>\n",
              "      <td>a55475b1</td>\n",
              "      <td>7241344e</td>\n",
              "      <td>NaN</td>\n",
              "      <td>NaN</td>\n",
              "      <td>NaN</td>\n",
              "      <td>...</td>\n",
              "      <td>NaN</td>\n",
              "      <td>NaN</td>\n",
              "      <td>a55475b1</td>\n",
              "      <td>a55475b1</td>\n",
              "      <td>8000.0</td>\n",
              "      <td>NaN</td>\n",
              "      <td>NaN</td>\n",
              "      <td>NaN</td>\n",
              "      <td>NaN</td>\n",
              "      <td>NaN</td>\n",
              "    </tr>\n",
              "    <tr>\n",
              "      <th>518069</th>\n",
              "      <td>133108</td>\n",
              "      <td>73000.0</td>\n",
              "      <td>NaN</td>\n",
              "      <td>a55475b1</td>\n",
              "      <td>00135d9c</td>\n",
              "      <td>a55475b1</td>\n",
              "      <td>7241344e</td>\n",
              "      <td>NaN</td>\n",
              "      <td>NaN</td>\n",
              "      <td>NaN</td>\n",
              "      <td>...</td>\n",
              "      <td>NaN</td>\n",
              "      <td>NaN</td>\n",
              "      <td>a55475b1</td>\n",
              "      <td>a55475b1</td>\n",
              "      <td>10000.0</td>\n",
              "      <td>NaN</td>\n",
              "      <td>NaN</td>\n",
              "      <td>NaN</td>\n",
              "      <td>NaN</td>\n",
              "      <td>NaN</td>\n",
              "    </tr>\n",
              "    <tr>\n",
              "      <th>...</th>\n",
              "      <td>...</td>\n",
              "      <td>...</td>\n",
              "      <td>...</td>\n",
              "      <td>...</td>\n",
              "      <td>...</td>\n",
              "      <td>...</td>\n",
              "      <td>...</td>\n",
              "      <td>...</td>\n",
              "      <td>...</td>\n",
              "      <td>...</td>\n",
              "      <td>...</td>\n",
              "      <td>...</td>\n",
              "      <td>...</td>\n",
              "      <td>...</td>\n",
              "      <td>...</td>\n",
              "      <td>...</td>\n",
              "      <td>...</td>\n",
              "      <td>...</td>\n",
              "      <td>...</td>\n",
              "      <td>...</td>\n",
              "      <td>...</td>\n",
              "    </tr>\n",
              "    <tr>\n",
              "      <th>15905234</th>\n",
              "      <td>2700393</td>\n",
              "      <td>73000.0</td>\n",
              "      <td>NaN</td>\n",
              "      <td>a55475b1</td>\n",
              "      <td>00135d9c</td>\n",
              "      <td>a55475b1</td>\n",
              "      <td>1603bd2c</td>\n",
              "      <td>NaN</td>\n",
              "      <td>NaN</td>\n",
              "      <td>NaN</td>\n",
              "      <td>...</td>\n",
              "      <td>NaN</td>\n",
              "      <td>NaN</td>\n",
              "      <td>a55475b1</td>\n",
              "      <td>a55475b1</td>\n",
              "      <td>10000.0</td>\n",
              "      <td>NaN</td>\n",
              "      <td>NaN</td>\n",
              "      <td>NaN</td>\n",
              "      <td>NaN</td>\n",
              "      <td>NaN</td>\n",
              "    </tr>\n",
              "    <tr>\n",
              "      <th>15905955</th>\n",
              "      <td>2700448</td>\n",
              "      <td>73000.0</td>\n",
              "      <td>NaN</td>\n",
              "      <td>a55475b1</td>\n",
              "      <td>00135d9c</td>\n",
              "      <td>a55475b1</td>\n",
              "      <td>24706fdc</td>\n",
              "      <td>NaN</td>\n",
              "      <td>NaN</td>\n",
              "      <td>NaN</td>\n",
              "      <td>...</td>\n",
              "      <td>NaN</td>\n",
              "      <td>NaN</td>\n",
              "      <td>a55475b1</td>\n",
              "      <td>a55475b1</td>\n",
              "      <td>20000.0</td>\n",
              "      <td>NaN</td>\n",
              "      <td>NaN</td>\n",
              "      <td>NaN</td>\n",
              "      <td>NaN</td>\n",
              "      <td>NaN</td>\n",
              "    </tr>\n",
              "    <tr>\n",
              "      <th>15915980</th>\n",
              "      <td>2701295</td>\n",
              "      <td>73000.0</td>\n",
              "      <td>NaN</td>\n",
              "      <td>a55475b1</td>\n",
              "      <td>00135d9c</td>\n",
              "      <td>a55475b1</td>\n",
              "      <td>7241344e</td>\n",
              "      <td>NaN</td>\n",
              "      <td>NaN</td>\n",
              "      <td>NaN</td>\n",
              "      <td>...</td>\n",
              "      <td>NaN</td>\n",
              "      <td>NaN</td>\n",
              "      <td>a55475b1</td>\n",
              "      <td>a55475b1</td>\n",
              "      <td>14000.0</td>\n",
              "      <td>NaN</td>\n",
              "      <td>NaN</td>\n",
              "      <td>NaN</td>\n",
              "      <td>NaN</td>\n",
              "      <td>NaN</td>\n",
              "    </tr>\n",
              "    <tr>\n",
              "      <th>15926060</th>\n",
              "      <td>2702186</td>\n",
              "      <td>73000.0</td>\n",
              "      <td>NaN</td>\n",
              "      <td>a55475b1</td>\n",
              "      <td>00135d9c</td>\n",
              "      <td>a55475b1</td>\n",
              "      <td>7241344e</td>\n",
              "      <td>NaN</td>\n",
              "      <td>NaN</td>\n",
              "      <td>NaN</td>\n",
              "      <td>...</td>\n",
              "      <td>NaN</td>\n",
              "      <td>NaN</td>\n",
              "      <td>a55475b1</td>\n",
              "      <td>a55475b1</td>\n",
              "      <td>14000.0</td>\n",
              "      <td>NaN</td>\n",
              "      <td>NaN</td>\n",
              "      <td>NaN</td>\n",
              "      <td>NaN</td>\n",
              "      <td>NaN</td>\n",
              "    </tr>\n",
              "    <tr>\n",
              "      <th>15926062</th>\n",
              "      <td>2702186</td>\n",
              "      <td>73000.0</td>\n",
              "      <td>NaN</td>\n",
              "      <td>a55475b1</td>\n",
              "      <td>00135d9c</td>\n",
              "      <td>a55475b1</td>\n",
              "      <td>7241344e</td>\n",
              "      <td>NaN</td>\n",
              "      <td>NaN</td>\n",
              "      <td>NaN</td>\n",
              "      <td>...</td>\n",
              "      <td>NaN</td>\n",
              "      <td>NaN</td>\n",
              "      <td>a55475b1</td>\n",
              "      <td>a55475b1</td>\n",
              "      <td>13000.0</td>\n",
              "      <td>NaN</td>\n",
              "      <td>NaN</td>\n",
              "      <td>NaN</td>\n",
              "      <td>NaN</td>\n",
              "      <td>NaN</td>\n",
              "    </tr>\n",
              "  </tbody>\n",
              "</table>\n",
              "<p>2710 rows × 79 columns</p>\n",
              "</div>\n",
              "    <div class=\"colab-df-buttons\">\n",
              "\n",
              "  <div class=\"colab-df-container\">\n",
              "    <button class=\"colab-df-convert\" onclick=\"convertToInteractive('df-e6bf2fc7-f0be-44ea-b0c4-85c56d015c0c')\"\n",
              "            title=\"Convert this dataframe to an interactive table.\"\n",
              "            style=\"display:none;\">\n",
              "\n",
              "  <svg xmlns=\"http://www.w3.org/2000/svg\" height=\"24px\" viewBox=\"0 -960 960 960\">\n",
              "    <path d=\"M120-120v-720h720v720H120Zm60-500h600v-160H180v160Zm220 220h160v-160H400v160Zm0 220h160v-160H400v160ZM180-400h160v-160H180v160Zm440 0h160v-160H620v160ZM180-180h160v-160H180v160Zm440 0h160v-160H620v160Z\"/>\n",
              "  </svg>\n",
              "    </button>\n",
              "\n",
              "  <style>\n",
              "    .colab-df-container {\n",
              "      display:flex;\n",
              "      gap: 12px;\n",
              "    }\n",
              "\n",
              "    .colab-df-convert {\n",
              "      background-color: #E8F0FE;\n",
              "      border: none;\n",
              "      border-radius: 50%;\n",
              "      cursor: pointer;\n",
              "      display: none;\n",
              "      fill: #1967D2;\n",
              "      height: 32px;\n",
              "      padding: 0 0 0 0;\n",
              "      width: 32px;\n",
              "    }\n",
              "\n",
              "    .colab-df-convert:hover {\n",
              "      background-color: #E2EBFA;\n",
              "      box-shadow: 0px 1px 2px rgba(60, 64, 67, 0.3), 0px 1px 3px 1px rgba(60, 64, 67, 0.15);\n",
              "      fill: #174EA6;\n",
              "    }\n",
              "\n",
              "    .colab-df-buttons div {\n",
              "      margin-bottom: 4px;\n",
              "    }\n",
              "\n",
              "    [theme=dark] .colab-df-convert {\n",
              "      background-color: #3B4455;\n",
              "      fill: #D2E3FC;\n",
              "    }\n",
              "\n",
              "    [theme=dark] .colab-df-convert:hover {\n",
              "      background-color: #434B5C;\n",
              "      box-shadow: 0px 1px 3px 1px rgba(0, 0, 0, 0.15);\n",
              "      filter: drop-shadow(0px 1px 2px rgba(0, 0, 0, 0.3));\n",
              "      fill: #FFFFFF;\n",
              "    }\n",
              "  </style>\n",
              "\n",
              "    <script>\n",
              "      const buttonEl =\n",
              "        document.querySelector('#df-e6bf2fc7-f0be-44ea-b0c4-85c56d015c0c button.colab-df-convert');\n",
              "      buttonEl.style.display =\n",
              "        google.colab.kernel.accessAllowed ? 'block' : 'none';\n",
              "\n",
              "      async function convertToInteractive(key) {\n",
              "        const element = document.querySelector('#df-e6bf2fc7-f0be-44ea-b0c4-85c56d015c0c');\n",
              "        const dataTable =\n",
              "          await google.colab.kernel.invokeFunction('convertToInteractive',\n",
              "                                                    [key], {});\n",
              "        if (!dataTable) return;\n",
              "\n",
              "        const docLinkHtml = 'Like what you see? Visit the ' +\n",
              "          '<a target=\"_blank\" href=https://colab.research.google.com/notebooks/data_table.ipynb>data table notebook</a>'\n",
              "          + ' to learn more about interactive tables.';\n",
              "        element.innerHTML = '';\n",
              "        dataTable['output_type'] = 'display_data';\n",
              "        await google.colab.output.renderOutput(dataTable, element);\n",
              "        const docLink = document.createElement('div');\n",
              "        docLink.innerHTML = docLinkHtml;\n",
              "        element.appendChild(docLink);\n",
              "      }\n",
              "    </script>\n",
              "  </div>\n",
              "\n",
              "\n",
              "<div id=\"df-179ef062-4ea2-4c1d-95c9-7ee0f57037da\">\n",
              "  <button class=\"colab-df-quickchart\" onclick=\"quickchart('df-179ef062-4ea2-4c1d-95c9-7ee0f57037da')\"\n",
              "            title=\"Suggest charts\"\n",
              "            style=\"display:none;\">\n",
              "\n",
              "<svg xmlns=\"http://www.w3.org/2000/svg\" height=\"24px\"viewBox=\"0 0 24 24\"\n",
              "     width=\"24px\">\n",
              "    <g>\n",
              "        <path d=\"M19 3H5c-1.1 0-2 .9-2 2v14c0 1.1.9 2 2 2h14c1.1 0 2-.9 2-2V5c0-1.1-.9-2-2-2zM9 17H7v-7h2v7zm4 0h-2V7h2v10zm4 0h-2v-4h2v4z\"/>\n",
              "    </g>\n",
              "</svg>\n",
              "  </button>\n",
              "\n",
              "<style>\n",
              "  .colab-df-quickchart {\n",
              "      --bg-color: #E8F0FE;\n",
              "      --fill-color: #1967D2;\n",
              "      --hover-bg-color: #E2EBFA;\n",
              "      --hover-fill-color: #174EA6;\n",
              "      --disabled-fill-color: #AAA;\n",
              "      --disabled-bg-color: #DDD;\n",
              "  }\n",
              "\n",
              "  [theme=dark] .colab-df-quickchart {\n",
              "      --bg-color: #3B4455;\n",
              "      --fill-color: #D2E3FC;\n",
              "      --hover-bg-color: #434B5C;\n",
              "      --hover-fill-color: #FFFFFF;\n",
              "      --disabled-bg-color: #3B4455;\n",
              "      --disabled-fill-color: #666;\n",
              "  }\n",
              "\n",
              "  .colab-df-quickchart {\n",
              "    background-color: var(--bg-color);\n",
              "    border: none;\n",
              "    border-radius: 50%;\n",
              "    cursor: pointer;\n",
              "    display: none;\n",
              "    fill: var(--fill-color);\n",
              "    height: 32px;\n",
              "    padding: 0;\n",
              "    width: 32px;\n",
              "  }\n",
              "\n",
              "  .colab-df-quickchart:hover {\n",
              "    background-color: var(--hover-bg-color);\n",
              "    box-shadow: 0 1px 2px rgba(60, 64, 67, 0.3), 0 1px 3px 1px rgba(60, 64, 67, 0.15);\n",
              "    fill: var(--button-hover-fill-color);\n",
              "  }\n",
              "\n",
              "  .colab-df-quickchart-complete:disabled,\n",
              "  .colab-df-quickchart-complete:disabled:hover {\n",
              "    background-color: var(--disabled-bg-color);\n",
              "    fill: var(--disabled-fill-color);\n",
              "    box-shadow: none;\n",
              "  }\n",
              "\n",
              "  .colab-df-spinner {\n",
              "    border: 2px solid var(--fill-color);\n",
              "    border-color: transparent;\n",
              "    border-bottom-color: var(--fill-color);\n",
              "    animation:\n",
              "      spin 1s steps(1) infinite;\n",
              "  }\n",
              "\n",
              "  @keyframes spin {\n",
              "    0% {\n",
              "      border-color: transparent;\n",
              "      border-bottom-color: var(--fill-color);\n",
              "      border-left-color: var(--fill-color);\n",
              "    }\n",
              "    20% {\n",
              "      border-color: transparent;\n",
              "      border-left-color: var(--fill-color);\n",
              "      border-top-color: var(--fill-color);\n",
              "    }\n",
              "    30% {\n",
              "      border-color: transparent;\n",
              "      border-left-color: var(--fill-color);\n",
              "      border-top-color: var(--fill-color);\n",
              "      border-right-color: var(--fill-color);\n",
              "    }\n",
              "    40% {\n",
              "      border-color: transparent;\n",
              "      border-right-color: var(--fill-color);\n",
              "      border-top-color: var(--fill-color);\n",
              "    }\n",
              "    60% {\n",
              "      border-color: transparent;\n",
              "      border-right-color: var(--fill-color);\n",
              "    }\n",
              "    80% {\n",
              "      border-color: transparent;\n",
              "      border-right-color: var(--fill-color);\n",
              "      border-bottom-color: var(--fill-color);\n",
              "    }\n",
              "    90% {\n",
              "      border-color: transparent;\n",
              "      border-bottom-color: var(--fill-color);\n",
              "    }\n",
              "  }\n",
              "</style>\n",
              "\n",
              "  <script>\n",
              "    async function quickchart(key) {\n",
              "      const quickchartButtonEl =\n",
              "        document.querySelector('#' + key + ' button');\n",
              "      quickchartButtonEl.disabled = true;  // To prevent multiple clicks.\n",
              "      quickchartButtonEl.classList.add('colab-df-spinner');\n",
              "      try {\n",
              "        const charts = await google.colab.kernel.invokeFunction(\n",
              "            'suggestCharts', [key], {});\n",
              "      } catch (error) {\n",
              "        console.error('Error during call to suggestCharts:', error);\n",
              "      }\n",
              "      quickchartButtonEl.classList.remove('colab-df-spinner');\n",
              "      quickchartButtonEl.classList.add('colab-df-quickchart-complete');\n",
              "    }\n",
              "    (() => {\n",
              "      let quickchartButtonEl =\n",
              "        document.querySelector('#df-179ef062-4ea2-4c1d-95c9-7ee0f57037da button');\n",
              "      quickchartButtonEl.style.display =\n",
              "        google.colab.kernel.accessAllowed ? 'block' : 'none';\n",
              "    })();\n",
              "  </script>\n",
              "</div>\n",
              "\n",
              "    </div>\n",
              "  </div>\n"
            ],
            "application/vnd.google.colaboratory.intrinsic+json": {
              "type": "dataframe"
            }
          },
          "metadata": {},
          "execution_count": 21
        }
      ]
    },
    {
      "cell_type": "markdown",
      "source": [
        "## annualeffectiverate_63L\n",
        "\n",
        "- Active contract의 유효 이자율(복리)\n",
        "\n",
        "> **해석**\n",
        "- 98% 이상이 null값\n",
        "- max는 closed contract와 동일\n",
        "- 0과 null 값의 차이? 0 유의미하다 판단 -> 0 포함 mean, medain 계산\n",
        "\n",
        "\n",
        "> **필요 논의**\n",
        "- nominal rate 컬럼과 비교 필요성(nominalrate_281L, nominalrate_498L)\n",
        "- classificationofcontr_400M(closed contract에 대한 classification) 별로 분류, 특징 추출\n",
        "- closed contract와 active contract rate의 값이 동시에 있는 경우는 어떻게 해석?"
      ],
      "metadata": {
        "id": "7Af9Cqj6Cz3o"
      }
    },
    {
      "cell_type": "code",
      "source": [
        "print_info(df_credit_bureau_a,'annualeffectiverate_63L')"
      ],
      "metadata": {
        "colab": {
          "base_uri": "https://localhost:8080/",
          "height": 633
        },
        "id": "PLWnBRH3PpkM",
        "outputId": "e8611e55-1b28-4efc-d60e-feb6ba1f54ee"
      },
      "execution_count": null,
      "outputs": [
        {
          "output_type": "stream",
          "name": "stdout",
          "text": [
            "========== [annualeffectiverate_63L] ==========\n",
            "데이터 타입: float64\n",
            "NaN값: True, 0.9804747481217226\n",
            "(null, 0, positive) = (15629294, 7960, 303283)\n",
            "(min, max): (0.0, 91250.0)\n",
            "평균값: 155.65459078597752\n",
            "중간값: 22.85\n",
            "===============================================\n"
          ]
        },
        {
          "output_type": "stream",
          "name": "stderr",
          "text": [
            "/usr/local/lib/python3.10/dist-packages/pandas/core/arraylike.py:402: RuntimeWarning: divide by zero encountered in log10\n",
            "  result = getattr(ufunc, method)(*inputs, **kwargs)\n",
            "<ipython-input-17-0da34c2d718b>:19: UserWarning: Ignoring `palette` because no `hue` variable has been assigned.\n",
            "  sns.kdeplot(temp, palette='Blues_r', )\n"
          ]
        },
        {
          "output_type": "display_data",
          "data": {
            "text/plain": [
              "<Figure size 600x400 with 1 Axes>"
            ],
            "image/png": "[encoded data removed]"
          },
          "metadata": {}
        }
      ]
    },
    {
      "cell_type": "code",
      "source": [
        "df_credit_bureau_a.annualeffectiverate_63L.describe()"
      ],
      "metadata": {
        "colab": {
          "base_uri": "https://localhost:8080/"
        },
        "id": "VhYAV5lkPyGX",
        "outputId": "fa34ade4-07e8-45eb-a00f-1a7533ea41a5"
      },
      "execution_count": null,
      "outputs": [
        {
          "output_type": "execute_result",
          "data": {
            "text/plain": [
              "count    311243.000000\n",
              "mean        155.654591\n",
              "std        2551.590803\n",
              "min           0.000000\n",
              "25%           5.100000\n",
              "50%          22.850000\n",
              "75%          38.820000\n",
              "max       91250.000000\n",
              "Name: annualeffectiverate_63L, dtype: float64"
            ]
          },
          "metadata": {},
          "execution_count": 23
        }
      ]
    },
    {
      "cell_type": "code",
      "source": [
        "closed_effective_rate = df_credit_bureau_1_0.annualeffectiverate_199L.value_counts().reset_index() # 36980\n",
        "active_effective_rate = df_credit_bureau_1_0.annualeffectiverate_63L.value_counts().reset_index()\n",
        "print(closed_effective_rate)\n",
        "print(active_effective_rate)\n",
        "\n",
        "closed_effective_rate_filtered = closed_effective_rate[closed_effective_rate['index'] > 0]\n",
        "active_effective_rate_filtered = active_effective_rate[active_effective_rate['index'] > 0]\n",
        "\n",
        "plt.figure(figsize=(20, 6))\n",
        "sns.scatterplot(data=closed_effective_rate_filtered, x='index', y='annualeffectiverate_199L', color='blue')\n",
        "sns.scatterplot(data=active_effective_rate_filtered, x='index', y='annualeffectiverate_63L', color='red')\n",
        "plt.show()"
      ],
      "metadata": {
        "colab": {
          "base_uri": "https://localhost:8080/",
          "height": 738
        },
        "id": "i3nOIKkyYoue",
        "outputId": "5c95a12e-6edb-4af4-d95c-462ede655bac"
      },
      "execution_count": null,
      "outputs": [
        {
          "output_type": "stream",
          "name": "stdout",
          "text": [
            "       index  annualeffectiverate_199L\n",
            "0      96.30                      3855\n",
            "1     730.00                      2007\n",
            "2      98.55                      1987\n",
            "3       0.12                      1711\n",
            "4     365.00                      1528\n",
            "...      ...                       ...\n",
            "3086    4.71                         1\n",
            "3087   35.37                         1\n",
            "3088   28.76                         1\n",
            "3089  108.41                         1\n",
            "3090   40.12                         1\n",
            "\n",
            "[3091 rows x 2 columns]\n",
            "       index  annualeffectiverate_63L\n",
            "0       0.12                    11984\n",
            "1       0.11                     2010\n",
            "2       0.00                     1976\n",
            "3      96.30                     1562\n",
            "4       5.11                     1201\n",
            "...      ...                      ...\n",
            "4300  447.70                        1\n",
            "4301   55.00                        1\n",
            "4302   49.45                        1\n",
            "4303   25.81                        1\n",
            "4304   46.48                        1\n",
            "\n",
            "[4305 rows x 2 columns]\n"
          ]
        },
        {
          "output_type": "display_data",
          "data": {
            "text/plain": [
              "<Figure size 2000x600 with 1 Axes>"
            ],
            "image/png": "[encoded data removed]"
          },
          "metadata": {}
        }
      ]
    },
    {
      "cell_type": "markdown",
      "source": [
        "## nominalrate_281L\n",
        "\n",
        "- Active contract의 명목 금리\n",
        "\n",
        "> **해석**\n",
        "- 0일 때\n",
        "  - 금리가 0%인 대출: 대출이 무이자 대출이거나, 이자를 포함한 기본금액만 상환해야 하는 경우\n",
        "  - 정책적인 이유: 대출 상품이나 금융 제도에 따라 명목금리가 0으로 설정되는 경우가 있을 수 있음. 예를 들어, 정부에서 지원하는 특정 대출 프로그램이나 혜택을 받는 경우에는 명목금리가 0으로 설정될 수 있음.\n",
        "\n",
        "\n",
        "> **필요 논의**\n",
        "- 유효 이자율 컬럼과 closed, active 동시에 값이 있는 경우 -> contract classification으로 분류시도"
      ],
      "metadata": {
        "id": "67zL1XuwC2PE"
      }
    },
    {
      "cell_type": "code",
      "source": [
        "x = df_credit_bureau_1_0.nominalrate_281L\n",
        "print(f\"컬럼명: {x.name}\")\n",
        "print(f\"데이터 타입: {x.dtype}\")\n",
        "print(f\"(min, max) = {x.min()}, {x.max()}\")\n",
        "print(f\"NA 값: {any(x.isna())}, {x.isna().sum() / x.shape[0]:.10f}\")\n",
        "print(f\"(null, 0, >0) = {x.isna().sum(), (x == 0.0).sum(), (x > 0.0).sum()}\")\n",
        "# print(f\"평균: {x[x > 0].mean()}\")\n",
        "# print(f\"중간값(0이상): {x[x > 0].median()}\")\n",
        "print(f\"평균: {x.mean()}\")\n",
        "print(f\"중간값: {x.median()}\")"
      ],
      "metadata": {
        "id": "4p9phWgzX1Cl"
      },
      "execution_count": null,
      "outputs": []
    },
    {
      "cell_type": "code",
      "source": [
        "print_info(df_credit_bureau_a, 'nominalrate_281L')"
      ],
      "metadata": {
        "colab": {
          "base_uri": "https://localhost:8080/",
          "height": 633
        },
        "id": "igx_bE0oSHwC",
        "outputId": "5e0ef203-80a9-46f9-98f5-2adc51090c43"
      },
      "execution_count": null,
      "outputs": [
        {
          "output_type": "stream",
          "name": "stdout",
          "text": [
            "========== [nominalrate_281L] ==========\n",
            "데이터 타입: float64\n",
            "NaN값: True, 0.9385493098507284\n",
            "(null, 0, positive) = (14960980, 120265, 859292)\n",
            "(min, max): (0.0, 59140.9)\n",
            "평균값: 41.782558483069394\n",
            "중간값: 39.0\n",
            "========================================\n"
          ]
        },
        {
          "output_type": "stream",
          "name": "stderr",
          "text": [
            "<ipython-input-11-f9e49d76f13e>:29: UserWarning: Ignoring `palette` because no `hue` variable has been assigned.\n",
            "  sns.kdeplot(log_temp, palette='Blues_r', )\n",
            "<ipython-input-11-f9e49d76f13e>:30: UserWarning: Ignoring `palette` because no `hue` variable has been assigned.\n",
            "  sns.kdeplot(log_temp2, palette='Blues_r', )\n"
          ]
        },
        {
          "output_type": "display_data",
          "data": {
            "text/plain": [
              "<Figure size 600x400 with 1 Axes>"
            ],
            "image/png": "[encoded data removed]"
          },
          "metadata": {}
        }
      ]
    },
    {
      "cell_type": "code",
      "source": [
        "np.expm1(3.7)"
      ],
      "metadata": {
        "colab": {
          "base_uri": "https://localhost:8080/"
        },
        "id": "nHOuMtupW2Ta",
        "outputId": "73a53102-8960-4afb-8de6-a992cfc8124f"
      },
      "execution_count": null,
      "outputs": [
        {
          "output_type": "execute_result",
          "data": {
            "text/plain": [
              "39.4473043600674"
            ]
          },
          "metadata": {},
          "execution_count": 14
        }
      ]
    },
    {
      "cell_type": "markdown",
      "source": [
        "## nominalrate_498L\n",
        "\n",
        "- Closed contract의 명목 금리"
      ],
      "metadata": {
        "id": "NPID6CovTyb1"
      }
    },
    {
      "cell_type": "code",
      "source": [
        "x = df_credit_bureau_1_0.nominalrate_498L\n",
        "print(f\"컬럼명: {x.name}\")\n",
        "print(f\"데이터 타입: {x.dtype}\")\n",
        "print(f\"(min, max) = {x.min()}, {x.max()}\")\n",
        "print(f\"NA 값: {any(x.isna())}, {x.isna().sum() / x.shape[0]:.10f}\")\n",
        "print(f\"(null, 0, >0) = {x.isna().sum(), (x == 0.0).sum(), (x > 0.0).sum()}\")\n",
        "# print(f\"평균: {x[x > 0].mean()}\")\n",
        "# print(f\"중간값(0이상): {x[x > 0].median()}\")\n",
        "print(f\"평균: {x.mean()}\")\n",
        "print(f\"중간값: {x.median()}\")"
      ],
      "metadata": {
        "colab": {
          "base_uri": "https://localhost:8080/"
        },
        "id": "TF_oemvTT5-e",
        "outputId": "2f10fb88-f6da-40f6-d73e-b027f5a003cf"
      },
      "execution_count": null,
      "outputs": [
        {
          "output_type": "stream",
          "name": "stdout",
          "text": [
            "컬럼명: nominalrate_498L\n",
            "데이터 타입: float64\n",
            "(min, max) = 0.0, 30341.1\n",
            "NA 값: True, 0.9663094310\n",
            "(null, 0, >0) = (3969804, 3389, 135019)\n",
            "평균: 65.41531197618633\n",
            "중간값: 43.3\n"
          ]
        }
      ]
    },
    {
      "cell_type": "code",
      "source": [
        "print_info(df_credit_bureau_a, 'nominalrate_498L')"
      ],
      "metadata": {
        "colab": {
          "base_uri": "https://localhost:8080/",
          "height": 633
        },
        "id": "Ib2WAQD0XmYD",
        "outputId": "5f0b9492-32f6-4923-a098-769a7d9f3169"
      },
      "execution_count": null,
      "outputs": [
        {
          "output_type": "stream",
          "name": "stdout",
          "text": [
            "========== [nominalrate_498L] ==========\n",
            "데이터 타입: float64\n",
            "NaN값: True, 0.8551098372658337\n",
            "(null, 0, positive) = (13630910, 102639, 2206988)\n",
            "(min, max): (0.0, 59140.9)\n",
            "평균값: 105.40289306022137\n",
            "중간값: 43.0\n",
            "========================================\n"
          ]
        },
        {
          "output_type": "stream",
          "name": "stderr",
          "text": [
            "<ipython-input-11-f9e49d76f13e>:29: UserWarning: Ignoring `palette` because no `hue` variable has been assigned.\n",
            "  sns.kdeplot(log_temp, palette='Blues_r', )\n",
            "<ipython-input-11-f9e49d76f13e>:30: UserWarning: Ignoring `palette` because no `hue` variable has been assigned.\n",
            "  sns.kdeplot(log_temp2, palette='Blues_r', )\n"
          ]
        },
        {
          "output_type": "display_data",
          "data": {
            "text/plain": [
              "<Figure size 600x400 with 1 Axes>"
            ],
            "image/png": "[encoded data removed]"
          },
          "metadata": {}
        }
      ]
    },
    {
      "cell_type": "code",
      "source": [
        "selected_columns_df= df_credit_bureau_1_0[['annualeffectiverate_63L','nominalrate_281L']][df_credit_bureau_1_0.annualeffectiverate_199L == 96.30].notnull().sum()\n",
        "selected_columns_df"
      ],
      "metadata": {
        "colab": {
          "base_uri": "https://localhost:8080/"
        },
        "id": "J3j4sw6LZGgp",
        "outputId": "6a4a12de-f3fe-4ec6-d930-e86c97eb3c99"
      },
      "execution_count": null,
      "outputs": [
        {
          "output_type": "execute_result",
          "data": {
            "text/plain": [
              "annualeffectiverate_63L    33\n",
              "nominalrate_281L           63\n",
              "dtype: int64"
            ]
          },
          "metadata": {},
          "execution_count": 18
        }
      ]
    },
    {
      "cell_type": "code",
      "source": [
        "df_credit_bureau_1_0[['annualeffectiverate_63L','nominalrate_281L']][df_credit_bureau_1_0.index == 311649\t]"
      ],
      "metadata": {
        "colab": {
          "base_uri": "https://localhost:8080/",
          "height": 81
        },
        "id": "MG0Ccok2i9Zm",
        "outputId": "d763b3f1-c2ce-46c5-c36f-9f87da9d1ad6"
      },
      "execution_count": null,
      "outputs": [
        {
          "output_type": "execute_result",
          "data": {
            "text/plain": [
              "        annualeffectiverate_63L  nominalrate_281L\n",
              "311649                     96.3              96.3"
            ],
            "text/html": [
              "\n",
              "  <div id=\"df-73cec814-cb3c-4cf6-b51c-b0f702d90355\" class=\"colab-df-container\">\n",
              "    <div>\n",
              "<style scoped>\n",
              "    .dataframe tbody tr th:only-of-type {\n",
              "        vertical-align: middle;\n",
              "    }\n",
              "\n",
              "    .dataframe tbody tr th {\n",
              "        vertical-align: top;\n",
              "    }\n",
              "\n",
              "    .dataframe thead th {\n",
              "        text-align: right;\n",
              "    }\n",
              "</style>\n",
              "<table border=\"1\" class=\"dataframe\">\n",
              "  <thead>\n",
              "    <tr style=\"text-align: right;\">\n",
              "      <th></th>\n",
              "      <th>annualeffectiverate_63L</th>\n",
              "      <th>nominalrate_281L</th>\n",
              "    </tr>\n",
              "  </thead>\n",
              "  <tbody>\n",
              "    <tr>\n",
              "      <th>311649</th>\n",
              "      <td>96.3</td>\n",
              "      <td>96.3</td>\n",
              "    </tr>\n",
              "  </tbody>\n",
              "</table>\n",
              "</div>\n",
              "    <div class=\"colab-df-buttons\">\n",
              "\n",
              "  <div class=\"colab-df-container\">\n",
              "    <button class=\"colab-df-convert\" onclick=\"convertToInteractive('df-73cec814-cb3c-4cf6-b51c-b0f702d90355')\"\n",
              "            title=\"Convert this dataframe to an interactive table.\"\n",
              "            style=\"display:none;\">\n",
              "\n",
              "  <svg xmlns=\"http://www.w3.org/2000/svg\" height=\"24px\" viewBox=\"0 -960 960 960\">\n",
              "    <path d=\"M120-120v-720h720v720H120Zm60-500h600v-160H180v160Zm220 220h160v-160H400v160Zm0 220h160v-160H400v160ZM180-400h160v-160H180v160Zm440 0h160v-160H620v160ZM180-180h160v-160H180v160Zm440 0h160v-160H620v160Z\"/>\n",
              "  </svg>\n",
              "    </button>\n",
              "\n",
              "  <style>\n",
              "    .colab-df-container {\n",
              "      display:flex;\n",
              "      gap: 12px;\n",
              "    }\n",
              "\n",
              "    .colab-df-convert {\n",
              "      background-color: #E8F0FE;\n",
              "      border: none;\n",
              "      border-radius: 50%;\n",
              "      cursor: pointer;\n",
              "      display: none;\n",
              "      fill: #1967D2;\n",
              "      height: 32px;\n",
              "      padding: 0 0 0 0;\n",
              "      width: 32px;\n",
              "    }\n",
              "\n",
              "    .colab-df-convert:hover {\n",
              "      background-color: #E2EBFA;\n",
              "      box-shadow: 0px 1px 2px rgba(60, 64, 67, 0.3), 0px 1px 3px 1px rgba(60, 64, 67, 0.15);\n",
              "      fill: #174EA6;\n",
              "    }\n",
              "\n",
              "    .colab-df-buttons div {\n",
              "      margin-bottom: 4px;\n",
              "    }\n",
              "\n",
              "    [theme=dark] .colab-df-convert {\n",
              "      background-color: #3B4455;\n",
              "      fill: #D2E3FC;\n",
              "    }\n",
              "\n",
              "    [theme=dark] .colab-df-convert:hover {\n",
              "      background-color: #434B5C;\n",
              "      box-shadow: 0px 1px 3px 1px rgba(0, 0, 0, 0.15);\n",
              "      filter: drop-shadow(0px 1px 2px rgba(0, 0, 0, 0.3));\n",
              "      fill: #FFFFFF;\n",
              "    }\n",
              "  </style>\n",
              "\n",
              "    <script>\n",
              "      const buttonEl =\n",
              "        document.querySelector('#df-73cec814-cb3c-4cf6-b51c-b0f702d90355 button.colab-df-convert');\n",
              "      buttonEl.style.display =\n",
              "        google.colab.kernel.accessAllowed ? 'block' : 'none';\n",
              "\n",
              "      async function convertToInteractive(key) {\n",
              "        const element = document.querySelector('#df-73cec814-cb3c-4cf6-b51c-b0f702d90355');\n",
              "        const dataTable =\n",
              "          await google.colab.kernel.invokeFunction('convertToInteractive',\n",
              "                                                    [key], {});\n",
              "        if (!dataTable) return;\n",
              "\n",
              "        const docLinkHtml = 'Like what you see? Visit the ' +\n",
              "          '<a target=\"_blank\" href=https://colab.research.google.com/notebooks/data_table.ipynb>data table notebook</a>'\n",
              "          + ' to learn more about interactive tables.';\n",
              "        element.innerHTML = '';\n",
              "        dataTable['output_type'] = 'display_data';\n",
              "        await google.colab.output.renderOutput(dataTable, element);\n",
              "        const docLink = document.createElement('div');\n",
              "        docLink.innerHTML = docLinkHtml;\n",
              "        element.appendChild(docLink);\n",
              "      }\n",
              "    </script>\n",
              "  </div>\n",
              "\n",
              "\n",
              "    </div>\n",
              "  </div>\n"
            ]
          },
          "metadata": {},
          "execution_count": 9
        }
      ]
    },
    {
      "cell_type": "code",
      "source": [
        "df_credit_bureau_1_0[['annualeffectiverate_63L','nominalrate_281L']][df_credit_bureau_1_0.index == 578908\t]"
      ],
      "metadata": {
        "colab": {
          "base_uri": "https://localhost:8080/",
          "height": 81
        },
        "id": "FU_P235KjJSa",
        "outputId": "42b74d5c-3732-4c84-fc6c-439a1e8bfba0"
      },
      "execution_count": null,
      "outputs": [
        {
          "output_type": "execute_result",
          "data": {
            "text/plain": [
              "        annualeffectiverate_63L  nominalrate_281L\n",
              "578908                      NaN              45.0"
            ],
            "text/html": [
              "\n",
              "  <div id=\"df-29b270e6-dfb2-4f66-a29a-bc54f4455982\" class=\"colab-df-container\">\n",
              "    <div>\n",
              "<style scoped>\n",
              "    .dataframe tbody tr th:only-of-type {\n",
              "        vertical-align: middle;\n",
              "    }\n",
              "\n",
              "    .dataframe tbody tr th {\n",
              "        vertical-align: top;\n",
              "    }\n",
              "\n",
              "    .dataframe thead th {\n",
              "        text-align: right;\n",
              "    }\n",
              "</style>\n",
              "<table border=\"1\" class=\"dataframe\">\n",
              "  <thead>\n",
              "    <tr style=\"text-align: right;\">\n",
              "      <th></th>\n",
              "      <th>annualeffectiverate_63L</th>\n",
              "      <th>nominalrate_281L</th>\n",
              "    </tr>\n",
              "  </thead>\n",
              "  <tbody>\n",
              "    <tr>\n",
              "      <th>578908</th>\n",
              "      <td>NaN</td>\n",
              "      <td>45.0</td>\n",
              "    </tr>\n",
              "  </tbody>\n",
              "</table>\n",
              "</div>\n",
              "    <div class=\"colab-df-buttons\">\n",
              "\n",
              "  <div class=\"colab-df-container\">\n",
              "    <button class=\"colab-df-convert\" onclick=\"convertToInteractive('df-29b270e6-dfb2-4f66-a29a-bc54f4455982')\"\n",
              "            title=\"Convert this dataframe to an interactive table.\"\n",
              "            style=\"display:none;\">\n",
              "\n",
              "  <svg xmlns=\"http://www.w3.org/2000/svg\" height=\"24px\" viewBox=\"0 -960 960 960\">\n",
              "    <path d=\"M120-120v-720h720v720H120Zm60-500h600v-160H180v160Zm220 220h160v-160H400v160Zm0 220h160v-160H400v160ZM180-400h160v-160H180v160Zm440 0h160v-160H620v160ZM180-180h160v-160H180v160Zm440 0h160v-160H620v160Z\"/>\n",
              "  </svg>\n",
              "    </button>\n",
              "\n",
              "  <style>\n",
              "    .colab-df-container {\n",
              "      display:flex;\n",
              "      gap: 12px;\n",
              "    }\n",
              "\n",
              "    .colab-df-convert {\n",
              "      background-color: #E8F0FE;\n",
              "      border: none;\n",
              "      border-radius: 50%;\n",
              "      cursor: pointer;\n",
              "      display: none;\n",
              "      fill: #1967D2;\n",
              "      height: 32px;\n",
              "      padding: 0 0 0 0;\n",
              "      width: 32px;\n",
              "    }\n",
              "\n",
              "    .colab-df-convert:hover {\n",
              "      background-color: #E2EBFA;\n",
              "      box-shadow: 0px 1px 2px rgba(60, 64, 67, 0.3), 0px 1px 3px 1px rgba(60, 64, 67, 0.15);\n",
              "      fill: #174EA6;\n",
              "    }\n",
              "\n",
              "    .colab-df-buttons div {\n",
              "      margin-bottom: 4px;\n",
              "    }\n",
              "\n",
              "    [theme=dark] .colab-df-convert {\n",
              "      background-color: #3B4455;\n",
              "      fill: #D2E3FC;\n",
              "    }\n",
              "\n",
              "    [theme=dark] .colab-df-convert:hover {\n",
              "      background-color: #434B5C;\n",
              "      box-shadow: 0px 1px 3px 1px rgba(0, 0, 0, 0.15);\n",
              "      filter: drop-shadow(0px 1px 2px rgba(0, 0, 0, 0.3));\n",
              "      fill: #FFFFFF;\n",
              "    }\n",
              "  </style>\n",
              "\n",
              "    <script>\n",
              "      const buttonEl =\n",
              "        document.querySelector('#df-29b270e6-dfb2-4f66-a29a-bc54f4455982 button.colab-df-convert');\n",
              "      buttonEl.style.display =\n",
              "        google.colab.kernel.accessAllowed ? 'block' : 'none';\n",
              "\n",
              "      async function convertToInteractive(key) {\n",
              "        const element = document.querySelector('#df-29b270e6-dfb2-4f66-a29a-bc54f4455982');\n",
              "        const dataTable =\n",
              "          await google.colab.kernel.invokeFunction('convertToInteractive',\n",
              "                                                    [key], {});\n",
              "        if (!dataTable) return;\n",
              "\n",
              "        const docLinkHtml = 'Like what you see? Visit the ' +\n",
              "          '<a target=\"_blank\" href=https://colab.research.google.com/notebooks/data_table.ipynb>data table notebook</a>'\n",
              "          + ' to learn more about interactive tables.';\n",
              "        element.innerHTML = '';\n",
              "        dataTable['output_type'] = 'display_data';\n",
              "        await google.colab.output.renderOutput(dataTable, element);\n",
              "        const docLink = document.createElement('div');\n",
              "        docLink.innerHTML = docLinkHtml;\n",
              "        element.appendChild(docLink);\n",
              "      }\n",
              "    </script>\n",
              "  </div>\n",
              "\n",
              "\n",
              "    </div>\n",
              "  </div>\n"
            ]
          },
          "metadata": {},
          "execution_count": 10
        }
      ]
    },
    {
      "cell_type": "markdown",
      "source": [
        "## contractsum_5085717L\n",
        "- Sum of other contract values.\n",
        "- 해당 계약 외의 계약 가치 합계\n",
        "\n",
        "> **해석**\n",
        "- 해당 sampling file에서는 모든 컬럼이 NaN값"
      ],
      "metadata": {
        "id": "l7Waq2ZNkQB-"
      }
    },
    {
      "cell_type": "code",
      "source": [
        "x = df_credit_bureau_1_0.contractsum_5085717L\n",
        "print(f\"컬럼명: {x.name}\")\n",
        "print(f\"데이터 타입: {x.dtype}\")\n",
        "print(f\"(min, max) = {x.min()}, {x.max()}\")\n",
        "print(f\"NA 값: {any(x.isna())}, {x.isna().sum() / x.shape[0]:.10f}\")\n",
        "print(f\"(null, 0, >0) = {x.isna().sum(), (x == 0.0).sum(), (x > 0.0).sum()}\")"
      ],
      "metadata": {
        "colab": {
          "base_uri": "https://localhost:8080/"
        },
        "id": "uBbSZuE-ZfVn",
        "outputId": "d0a1662c-361e-4ed7-d690-f64f72eed748"
      },
      "execution_count": null,
      "outputs": [
        {
          "output_type": "stream",
          "name": "stdout",
          "text": [
            "컬럼명: contractsum_5085717L\n",
            "데이터 타입: float64\n",
            "(min, max) = nan, nan\n",
            "NA 값: True, 1.0000000000\n",
            "(null, 0, >0) = (4108212, 0, 0)\n",
            "평균: nan\n",
            "중간값: nan\n"
          ]
        },
        {
          "output_type": "stream",
          "name": "stderr",
          "text": [
            "/usr/local/lib/python3.10/dist-packages/numpy/lib/nanfunctions.py:1215: RuntimeWarning: Mean of empty slice\n",
            "  return np.nanmean(a, axis, out=out, keepdims=keepdims)\n"
          ]
        }
      ]
    },
    {
      "cell_type": "markdown",
      "source": [
        "# ------ Masking Categorical Columns --------"
      ],
      "metadata": {
        "id": "dRlEyJl6F3WV"
      }
    },
    {
      "cell_type": "markdown",
      "source": [
        "## classificationofcontr_13M\n",
        "- Active contract 에 대한 분류\n",
        "- Masking categories\n",
        "\n",
        "> **필요 논의**\n",
        "- 관련기관의 내부 코드에 대한 설명 없는 것 같음(저는 못찾았습니다,,)\n",
        "- 인코딩된 값들을 값별로 분류하여 EDA 진행필요"
      ],
      "metadata": {
        "id": "cMd-U0J5Uf7L"
      }
    },
    {
      "cell_type": "code",
      "source": [
        "x = df_credit_bureau_1_0.classificationofcontr_13M\n",
        "print(f\"컬럼명: {x.name}\")\n",
        "print(f\"데이터 타입: {x.dtype}\")\n",
        "print(f\"NA 값: {any(x.isna())}, {x.isna().sum() / x.shape[0]:.10f}\")\n",
        "print(f\"Categories: {len(x.unique())},{ x.unique()}\")\n",
        "print(\"--- Value Counts ---\")\n",
        "x.value_counts()"
      ],
      "metadata": {
        "colab": {
          "base_uri": "https://localhost:8080/"
        },
        "id": "a1dxLqpGVESo",
        "outputId": "160a6b5f-44e9-406e-fe6a-00a2a0965c42"
      },
      "execution_count": null,
      "outputs": [
        {
          "output_type": "stream",
          "name": "stdout",
          "text": [
            "컬럼명: classificationofcontr_13M\n",
            "데이터 타입: object\n",
            "NA 값: False, 0.0000000000\n",
            "Categories: 11,['4408ff0f' 'ea6782cc' 'a55475b1' '01f63ac8' '00135d9c' 'be7b251d'\n",
            " '1cf4e481' '2c070815' '0d95a828' '87bdbcba' '4a5a01e3']\n",
            "--- Value Counts ---\n"
          ]
        },
        {
          "output_type": "execute_result",
          "data": {
            "text/plain": [
              "a55475b1    3450380\n",
              "ea6782cc     573453\n",
              "01f63ac8      50212\n",
              "00135d9c      23276\n",
              "4408ff0f       9503\n",
              "1cf4e481        724\n",
              "be7b251d        461\n",
              "87bdbcba         89\n",
              "2c070815         68\n",
              "4a5a01e3         40\n",
              "0d95a828          6\n",
              "Name: classificationofcontr_13M, dtype: int64"
            ]
          },
          "metadata": {},
          "execution_count": 54
        }
      ]
    },
    {
      "cell_type": "markdown",
      "source": [
        "## classificationofcontr_400M\n",
        "- Closed contract 에 대한 분류\n",
        "- Masking categories\n",
        "\n",
        "> **해석**\n",
        "- active 대비 269개의 분류코드로 개수가 더 많음\n",
        "\n",
        "> **필요 논의**\n",
        "- 인코딩된 값들을 값별로 분류하여 EDA 진행필요"
      ],
      "metadata": {
        "id": "2VXkZ3zBUmEb"
      }
    },
    {
      "cell_type": "code",
      "source": [
        "x = df_credit_bureau_1_0.classificationofcontr_400M\n",
        "print(f\"컬럼명: {x.name}\")\n",
        "print(f\"데이터 타입: {x.dtype}\")\n",
        "print(f\"NA 값: {any(x.isna())}, {x.isna().sum() / x.shape[0]:.10f}\")\n",
        "print(f\"Categories: {len(x.unique())},{ x.unique()}\")\n",
        "print(\"--- Value Counts ---\")\n",
        "x.value_counts()"
      ],
      "metadata": {
        "colab": {
          "base_uri": "https://localhost:8080/"
        },
        "id": "N27GxYggUeRL",
        "outputId": "d29086b4-d86e-4db2-8198-76b630fec016"
      },
      "execution_count": null,
      "outputs": [
        {
          "output_type": "stream",
          "name": "stdout",
          "text": [
            "컬럼명: classificationofcontr_400M\n",
            "데이터 타입: object\n",
            "NA 값: False, 0.0000000000\n",
            "Categories: 269,['a55475b1' '42a42e75' '9158339f' 'ea6782cc' 'ec922b98' '00135d9c'\n",
            " '01f63ac8' '4d2b9cd0' 'e6e56e83' 'e2453741' '601cfe5f' 'abc5878e'\n",
            " 'ca07e0d6' 'f920c170' '62332675' '82965c7a' 'dd6cd7aa' '4408ff0f'\n",
            " '774911f7' 'd7416962' '6bb2b70e' '49855383' '4538d522' '29e648ae'\n",
            " '55eb9d11' '4d2436d9' 'be7b251d' '77c7bdfb' '4bfb5a21' '027d4b28'\n",
            " '63fce35a' '2e5e2bb9' '5f293b85' '1cf4e481' '8908ccad' '1c2f906f'\n",
            " '87bdbcba' '79b97402' '5b8517e9' '6ae7d0e3' '5ad7b811' 'e2c05ae3'\n",
            " 'dbf17744' '9b63302f' '826d5b48' 'fa2a66b3' '230dc470' '8263790e'\n",
            " '4a5a01e3' '8f87c488' 'a4b6a70e' '1e4f28a8' '0ed3eee1' '647099a6'\n",
            " '081682a1' '61cc60d3' '34a4286a' '0493ea83' 'db56c4a9' '062b8e29'\n",
            " 'edc37208' '98dfefeb' '0f47bdf2' '1cb1f521' 'd9c7cde9' '436d55c2'\n",
            " 'bfd4245f' '2c070815' '995ac35a' '8cdad5d5' 'ada1729d' '9cfa69de'\n",
            " '76a58e34' '7f2f3d6e' '011769b0' '4a1b5795' '51590aa9' '091852df'\n",
            " '6c1df6a3' '8b7ee014' '07df5b96' '3afcf88a' '10555ecb' 'e42e02c7'\n",
            " '39a4e1d3' '4d0f6c65' '58135b0f' '95956726' 'c92b8c91' '72e6311c'\n",
            " 'a9032b7a' 'acba4f13' '3bb02907' '1935f62d' '07b11743' '32d8c2b0'\n",
            " 'e5957374' '4be9e9dd' 'd08d0168' 'b321ded3' '942340eb' 'cfdd8b9c'\n",
            " '26a80fbb' 'b46aa032' '0d95a828' 'd2a43f71' '1e4da211' '2064c45a'\n",
            " '216e3ab2' 'fd17005c' '6ffc88ff' 'afc8fa18' '130920c8' 'e69bbbcb'\n",
            " 'f0a30139' '1dcc3d0b' 'a6f21017' 'a13e6227' '5937fdfe' '01938327'\n",
            " 'c2830c2c' '1afa4d6a' 'd9713f37' '8da4489b' 'aae87fd6' 'd4a7e588'\n",
            " '8d1fa93d' '4ade13e4' 'a4c62d3b' '75d71d9d' 'a5ff0535' '8b9a3257'\n",
            " '54427a0c' '7cb43218' 'c7d7bf98' '73b470ab' '1c500e91' '6088ece5'\n",
            " '8d9b141c' '245830f2' 'c69b8ffd' '111c73a1' '4f56891a' 'f0517bc9'\n",
            " 'bdebff11' 'f423c437' 'ec2a5430' '31e96fe4' 'fdfb29c9' '2cc59816'\n",
            " 'fb98f5e4' '73ce304f' '7241344e' 'b13004c4' '7b539665' 'bb5017aa'\n",
            " 'd6782292' '2e3a6494' '90c587b1' 'c4a20432' '94493d6e' '75be0d26'\n",
            " '1ef2f3e6' '4221ac8e' '4d962b17' '161fdffa' 'c8012654' '09204053'\n",
            " '7a688741' '1ce00334' '7ae5b047' '9faefa51' '897b783a' 'e6fe1970'\n",
            " '402dff56' 'fef6ef3e' '8a4464c0' 'd390ec0f' '12a5535b' 'e00ec513'\n",
            " '7172c985' 'cdedf546' '59ec7876' '24fc8dcd' '05fa2c9d' '476b505f'\n",
            " '154cdae1' 'd5e43a1f' '9e8e55cf' '83353680' 'd493f64b' 'd6deaed8'\n",
            " 'c9bc895a' '1b2f153f' '428170de' '1e63e903' 'fb8921dc' '3c53c5bf'\n",
            " '830be8dc' '9843cde0' '08495a6b' '542d0f90' '71867e73' '640b663e'\n",
            " '98fe9c77' '9f490a11' '9d347dd0' '0a953abe' '15abcaa4' 'b6850632'\n",
            " '2ee63b00' 'fac27da4' '84c0761b' '0ed4dbfb' 'ab64a6de' '7bfdc00d'\n",
            " 'fed086e8' 'ec433ade' 'dd48edbf' '00b26588' '6cfd7d59' 'decfed50'\n",
            " '310c3543' 'f276ba7e' '3e4608b3' '6775c3be' 'cc3cffd9' '1e9b1e8c'\n",
            " 'f2d302b1' '011f4cc6' '177464b9' '515f46cb' '557041a3' '08b94ac6'\n",
            " '49f07a42' 'c078e626' '2894c516' 'ffee884a' 'cf2a5973' 'b5d3d5c2'\n",
            " 'af5aaea9' 'e1037af8' 'a4f318ef' 'ce2fe545' '810ab0b0' '448be8ad'\n",
            " '9f3d5521' 'bfb263bd' 'f6c40125' '32446f9f' '694d5a6a' 'fd56b478'\n",
            " 'd0d2f461' '6c424ca2' 'de91ca09' '61b39a79' 'df310bb5' 'c9d07ac5'\n",
            " '03a98212' 'dfdb9bf6' '830bf443' 'a9d4135b' '7c226dcc' '28ec5782'\n",
            " '91783549' 'b919198c' '6f0b2ed3' '9c89b37a' 'cb32ffbb']\n",
            "--- Value Counts ---\n"
          ]
        },
        {
          "output_type": "execute_result",
          "data": {
            "text/plain": [
              "a55475b1    3652298\n",
              "ea6782cc     278136\n",
              "01f63ac8      58625\n",
              "00135d9c      22106\n",
              "42a42e75      13884\n",
              "             ...   \n",
              "515f46cb          1\n",
              "49f07a42          1\n",
              "2894c516          1\n",
              "ffee884a          1\n",
              "cb32ffbb          1\n",
              "Name: classificationofcontr_400M, Length: 269, dtype: int64"
            ]
          },
          "metadata": {},
          "execution_count": 53
        }
      ]
    },
    {
      "cell_type": "code",
      "source": [
        "condition = df_credit_bureau_1_0.classificationofcontr_13M != df_credit_bureau_1_0.classificationofcontr_400M\n",
        "df_credit_bureau_1_0.loc[condition, :]"
      ],
      "metadata": {
        "colab": {
          "base_uri": "https://localhost:8080/",
          "height": 444
        },
        "id": "tIZ_blI1dDqr",
        "outputId": "4584e3e8-813b-4b98-b82d-aea24c791ad5"
      },
      "execution_count": null,
      "outputs": [
        {
          "output_type": "execute_result",
          "data": {
            "text/plain": [
              "         case_id  annualeffectiverate_199L  annualeffectiverate_63L  \\\n",
              "0            388                       NaN                      NaN   \n",
              "1            388                       NaN                      NaN   \n",
              "11           405                       NaN                      NaN   \n",
              "12           405                       NaN                      NaN   \n",
              "22           409                       NaN                      NaN   \n",
              "...          ...                       ...                      ...   \n",
              "4108195  2588480                       NaN                      NaN   \n",
              "4108196  2588480                       NaN                      NaN   \n",
              "4108197  2588480                       NaN                      NaN   \n",
              "4108198  2588480                       NaN                      NaN   \n",
              "4108202  2588481                       NaN                      NaN   \n",
              "\n",
              "        classificationofcontr_13M classificationofcontr_400M contractst_545M  \\\n",
              "0                        4408ff0f                   a55475b1        7241344e   \n",
              "1                        ea6782cc                   a55475b1        7241344e   \n",
              "11                       ea6782cc                   a55475b1        7241344e   \n",
              "12                       4408ff0f                   a55475b1        7241344e   \n",
              "22                       ea6782cc                   a55475b1        7241344e   \n",
              "...                           ...                        ...             ...   \n",
              "4108195                  a55475b1                   00135d9c        a55475b1   \n",
              "4108196                  a55475b1                   00135d9c        a55475b1   \n",
              "4108197                  a55475b1                   00135d9c        a55475b1   \n",
              "4108198                  a55475b1                   00135d9c        a55475b1   \n",
              "4108202                  ea6782cc                   a55475b1        7241344e   \n",
              "\n",
              "        contractst_964M  contractsum_5085717L  credlmt_230A  credlmt_935A  \\\n",
              "0              a55475b1                   NaN           NaN           NaN   \n",
              "1              a55475b1                   NaN           NaN      135806.0   \n",
              "11             a55475b1                   NaN           NaN           0.0   \n",
              "12             a55475b1                   NaN           NaN           NaN   \n",
              "22             a55475b1                   NaN           NaN           NaN   \n",
              "...                 ...                   ...           ...           ...   \n",
              "4108195        7241344e                   NaN           NaN           NaN   \n",
              "4108196        7241344e                   NaN           NaN           NaN   \n",
              "4108197        7241344e                   NaN           NaN           NaN   \n",
              "4108198        7241344e                   NaN           NaN           NaN   \n",
              "4108202        a55475b1                   NaN           NaN           NaN   \n",
              "\n",
              "         ... residualamount_488A residualamount_856A subjectrole_182M  \\\n",
              "0        ...                 NaN                 NaN         ab3c25cf   \n",
              "1        ...                 NaN          114325.805         a55475b1   \n",
              "11       ...                 NaN               0.000         ab3c25cf   \n",
              "12       ...                 NaN                 NaN         a55475b1   \n",
              "22       ...                 NaN                 NaN         ab3c25cf   \n",
              "...      ...                 ...                 ...              ...   \n",
              "4108195  ...                 NaN                 NaN         a55475b1   \n",
              "4108196  ...                 NaN                 NaN         a55475b1   \n",
              "4108197  ...                 NaN                 NaN         a55475b1   \n",
              "4108198  ...                 NaN                 NaN         a55475b1   \n",
              "4108202  ...                 NaN                 NaN         a55475b1   \n",
              "\n",
              "        subjectrole_93M totalamount_6A  totalamount_996A  \\\n",
              "0              ab3c25cf            NaN         268897.62   \n",
              "1              a55475b1            NaN               NaN   \n",
              "11             a55475b1            NaN               NaN   \n",
              "12             a55475b1            NaN         256000.00   \n",
              "22             ab3c25cf            NaN         150000.00   \n",
              "...                 ...            ...               ...   \n",
              "4108195        a55475b1        10000.0               NaN   \n",
              "4108196        a55475b1        32000.0               NaN   \n",
              "4108197        a55475b1        60000.0               NaN   \n",
              "4108198        a55475b1        30000.0               NaN   \n",
              "4108202        a55475b1            NaN          23682.80   \n",
              "\n",
              "         totaldebtoverduevalue_178A totaldebtoverduevalue_718A  \\\n",
              "0                               0.0                        0.0   \n",
              "1                               NaN                        NaN   \n",
              "11                              0.0                        NaN   \n",
              "12                              NaN                        NaN   \n",
              "22                              0.0                        0.0   \n",
              "...                             ...                        ...   \n",
              "4108195                         NaN                        NaN   \n",
              "4108196                         NaN                        NaN   \n",
              "4108197                         NaN                        NaN   \n",
              "4108198                         NaN                        NaN   \n",
              "4108202                         NaN                        NaN   \n",
              "\n",
              "         totaloutstanddebtvalue_39A  totaloutstanddebtvalue_668A  \n",
              "0                        374419.500                          0.0  \n",
              "1                               NaN                          NaN  \n",
              "11                       224467.500                          NaN  \n",
              "12                              NaN                          NaN  \n",
              "22                        52079.754                          0.0  \n",
              "...                             ...                          ...  \n",
              "4108195                         NaN                          NaN  \n",
              "4108196                         NaN                          NaN  \n",
              "4108197                         NaN                          NaN  \n",
              "4108198                         NaN                          NaN  \n",
              "4108202                         NaN                          NaN  \n",
              "\n",
              "[920969 rows x 79 columns]"
            ],
            "text/html": [
              "\n",
              "  <div id=\"df-fd008412-9ac2-4faf-9a22-e77ec7bc6bce\" class=\"colab-df-container\">\n",
              "    <div>\n",
              "<style scoped>\n",
              "    .dataframe tbody tr th:only-of-type {\n",
              "        vertical-align: middle;\n",
              "    }\n",
              "\n",
              "    .dataframe tbody tr th {\n",
              "        vertical-align: top;\n",
              "    }\n",
              "\n",
              "    .dataframe thead th {\n",
              "        text-align: right;\n",
              "    }\n",
              "</style>\n",
              "<table border=\"1\" class=\"dataframe\">\n",
              "  <thead>\n",
              "    <tr style=\"text-align: right;\">\n",
              "      <th></th>\n",
              "      <th>case_id</th>\n",
              "      <th>annualeffectiverate_199L</th>\n",
              "      <th>annualeffectiverate_63L</th>\n",
              "      <th>classificationofcontr_13M</th>\n",
              "      <th>classificationofcontr_400M</th>\n",
              "      <th>contractst_545M</th>\n",
              "      <th>contractst_964M</th>\n",
              "      <th>contractsum_5085717L</th>\n",
              "      <th>credlmt_230A</th>\n",
              "      <th>credlmt_935A</th>\n",
              "      <th>...</th>\n",
              "      <th>residualamount_488A</th>\n",
              "      <th>residualamount_856A</th>\n",
              "      <th>subjectrole_182M</th>\n",
              "      <th>subjectrole_93M</th>\n",
              "      <th>totalamount_6A</th>\n",
              "      <th>totalamount_996A</th>\n",
              "      <th>totaldebtoverduevalue_178A</th>\n",
              "      <th>totaldebtoverduevalue_718A</th>\n",
              "      <th>totaloutstanddebtvalue_39A</th>\n",
              "      <th>totaloutstanddebtvalue_668A</th>\n",
              "    </tr>\n",
              "  </thead>\n",
              "  <tbody>\n",
              "    <tr>\n",
              "      <th>0</th>\n",
              "      <td>388</td>\n",
              "      <td>NaN</td>\n",
              "      <td>NaN</td>\n",
              "      <td>4408ff0f</td>\n",
              "      <td>a55475b1</td>\n",
              "      <td>7241344e</td>\n",
              "      <td>a55475b1</td>\n",
              "      <td>NaN</td>\n",
              "      <td>NaN</td>\n",
              "      <td>NaN</td>\n",
              "      <td>...</td>\n",
              "      <td>NaN</td>\n",
              "      <td>NaN</td>\n",
              "      <td>ab3c25cf</td>\n",
              "      <td>ab3c25cf</td>\n",
              "      <td>NaN</td>\n",
              "      <td>268897.62</td>\n",
              "      <td>0.0</td>\n",
              "      <td>0.0</td>\n",
              "      <td>374419.500</td>\n",
              "      <td>0.0</td>\n",
              "    </tr>\n",
              "    <tr>\n",
              "      <th>1</th>\n",
              "      <td>388</td>\n",
              "      <td>NaN</td>\n",
              "      <td>NaN</td>\n",
              "      <td>ea6782cc</td>\n",
              "      <td>a55475b1</td>\n",
              "      <td>7241344e</td>\n",
              "      <td>a55475b1</td>\n",
              "      <td>NaN</td>\n",
              "      <td>NaN</td>\n",
              "      <td>135806.0</td>\n",
              "      <td>...</td>\n",
              "      <td>NaN</td>\n",
              "      <td>114325.805</td>\n",
              "      <td>a55475b1</td>\n",
              "      <td>a55475b1</td>\n",
              "      <td>NaN</td>\n",
              "      <td>NaN</td>\n",
              "      <td>NaN</td>\n",
              "      <td>NaN</td>\n",
              "      <td>NaN</td>\n",
              "      <td>NaN</td>\n",
              "    </tr>\n",
              "    <tr>\n",
              "      <th>11</th>\n",
              "      <td>405</td>\n",
              "      <td>NaN</td>\n",
              "      <td>NaN</td>\n",
              "      <td>ea6782cc</td>\n",
              "      <td>a55475b1</td>\n",
              "      <td>7241344e</td>\n",
              "      <td>a55475b1</td>\n",
              "      <td>NaN</td>\n",
              "      <td>NaN</td>\n",
              "      <td>0.0</td>\n",
              "      <td>...</td>\n",
              "      <td>NaN</td>\n",
              "      <td>0.000</td>\n",
              "      <td>ab3c25cf</td>\n",
              "      <td>a55475b1</td>\n",
              "      <td>NaN</td>\n",
              "      <td>NaN</td>\n",
              "      <td>0.0</td>\n",
              "      <td>NaN</td>\n",
              "      <td>224467.500</td>\n",
              "      <td>NaN</td>\n",
              "    </tr>\n",
              "    <tr>\n",
              "      <th>12</th>\n",
              "      <td>405</td>\n",
              "      <td>NaN</td>\n",
              "      <td>NaN</td>\n",
              "      <td>4408ff0f</td>\n",
              "      <td>a55475b1</td>\n",
              "      <td>7241344e</td>\n",
              "      <td>a55475b1</td>\n",
              "      <td>NaN</td>\n",
              "      <td>NaN</td>\n",
              "      <td>NaN</td>\n",
              "      <td>...</td>\n",
              "      <td>NaN</td>\n",
              "      <td>NaN</td>\n",
              "      <td>a55475b1</td>\n",
              "      <td>a55475b1</td>\n",
              "      <td>NaN</td>\n",
              "      <td>256000.00</td>\n",
              "      <td>NaN</td>\n",
              "      <td>NaN</td>\n",
              "      <td>NaN</td>\n",
              "      <td>NaN</td>\n",
              "    </tr>\n",
              "    <tr>\n",
              "      <th>22</th>\n",
              "      <td>409</td>\n",
              "      <td>NaN</td>\n",
              "      <td>NaN</td>\n",
              "      <td>ea6782cc</td>\n",
              "      <td>a55475b1</td>\n",
              "      <td>7241344e</td>\n",
              "      <td>a55475b1</td>\n",
              "      <td>NaN</td>\n",
              "      <td>NaN</td>\n",
              "      <td>NaN</td>\n",
              "      <td>...</td>\n",
              "      <td>NaN</td>\n",
              "      <td>NaN</td>\n",
              "      <td>ab3c25cf</td>\n",
              "      <td>ab3c25cf</td>\n",
              "      <td>NaN</td>\n",
              "      <td>150000.00</td>\n",
              "      <td>0.0</td>\n",
              "      <td>0.0</td>\n",
              "      <td>52079.754</td>\n",
              "      <td>0.0</td>\n",
              "    </tr>\n",
              "    <tr>\n",
              "      <th>...</th>\n",
              "      <td>...</td>\n",
              "      <td>...</td>\n",
              "      <td>...</td>\n",
              "      <td>...</td>\n",
              "      <td>...</td>\n",
              "      <td>...</td>\n",
              "      <td>...</td>\n",
              "      <td>...</td>\n",
              "      <td>...</td>\n",
              "      <td>...</td>\n",
              "      <td>...</td>\n",
              "      <td>...</td>\n",
              "      <td>...</td>\n",
              "      <td>...</td>\n",
              "      <td>...</td>\n",
              "      <td>...</td>\n",
              "      <td>...</td>\n",
              "      <td>...</td>\n",
              "      <td>...</td>\n",
              "      <td>...</td>\n",
              "      <td>...</td>\n",
              "    </tr>\n",
              "    <tr>\n",
              "      <th>4108195</th>\n",
              "      <td>2588480</td>\n",
              "      <td>NaN</td>\n",
              "      <td>NaN</td>\n",
              "      <td>a55475b1</td>\n",
              "      <td>00135d9c</td>\n",
              "      <td>a55475b1</td>\n",
              "      <td>7241344e</td>\n",
              "      <td>NaN</td>\n",
              "      <td>NaN</td>\n",
              "      <td>NaN</td>\n",
              "      <td>...</td>\n",
              "      <td>NaN</td>\n",
              "      <td>NaN</td>\n",
              "      <td>a55475b1</td>\n",
              "      <td>a55475b1</td>\n",
              "      <td>10000.0</td>\n",
              "      <td>NaN</td>\n",
              "      <td>NaN</td>\n",
              "      <td>NaN</td>\n",
              "      <td>NaN</td>\n",
              "      <td>NaN</td>\n",
              "    </tr>\n",
              "    <tr>\n",
              "      <th>4108196</th>\n",
              "      <td>2588480</td>\n",
              "      <td>NaN</td>\n",
              "      <td>NaN</td>\n",
              "      <td>a55475b1</td>\n",
              "      <td>00135d9c</td>\n",
              "      <td>a55475b1</td>\n",
              "      <td>7241344e</td>\n",
              "      <td>NaN</td>\n",
              "      <td>NaN</td>\n",
              "      <td>NaN</td>\n",
              "      <td>...</td>\n",
              "      <td>NaN</td>\n",
              "      <td>NaN</td>\n",
              "      <td>a55475b1</td>\n",
              "      <td>a55475b1</td>\n",
              "      <td>32000.0</td>\n",
              "      <td>NaN</td>\n",
              "      <td>NaN</td>\n",
              "      <td>NaN</td>\n",
              "      <td>NaN</td>\n",
              "      <td>NaN</td>\n",
              "    </tr>\n",
              "    <tr>\n",
              "      <th>4108197</th>\n",
              "      <td>2588480</td>\n",
              "      <td>NaN</td>\n",
              "      <td>NaN</td>\n",
              "      <td>a55475b1</td>\n",
              "      <td>00135d9c</td>\n",
              "      <td>a55475b1</td>\n",
              "      <td>7241344e</td>\n",
              "      <td>NaN</td>\n",
              "      <td>NaN</td>\n",
              "      <td>NaN</td>\n",
              "      <td>...</td>\n",
              "      <td>NaN</td>\n",
              "      <td>NaN</td>\n",
              "      <td>a55475b1</td>\n",
              "      <td>a55475b1</td>\n",
              "      <td>60000.0</td>\n",
              "      <td>NaN</td>\n",
              "      <td>NaN</td>\n",
              "      <td>NaN</td>\n",
              "      <td>NaN</td>\n",
              "      <td>NaN</td>\n",
              "    </tr>\n",
              "    <tr>\n",
              "      <th>4108198</th>\n",
              "      <td>2588480</td>\n",
              "      <td>NaN</td>\n",
              "      <td>NaN</td>\n",
              "      <td>a55475b1</td>\n",
              "      <td>00135d9c</td>\n",
              "      <td>a55475b1</td>\n",
              "      <td>7241344e</td>\n",
              "      <td>NaN</td>\n",
              "      <td>NaN</td>\n",
              "      <td>NaN</td>\n",
              "      <td>...</td>\n",
              "      <td>NaN</td>\n",
              "      <td>NaN</td>\n",
              "      <td>a55475b1</td>\n",
              "      <td>a55475b1</td>\n",
              "      <td>30000.0</td>\n",
              "      <td>NaN</td>\n",
              "      <td>NaN</td>\n",
              "      <td>NaN</td>\n",
              "      <td>NaN</td>\n",
              "      <td>NaN</td>\n",
              "    </tr>\n",
              "    <tr>\n",
              "      <th>4108202</th>\n",
              "      <td>2588481</td>\n",
              "      <td>NaN</td>\n",
              "      <td>NaN</td>\n",
              "      <td>ea6782cc</td>\n",
              "      <td>a55475b1</td>\n",
              "      <td>7241344e</td>\n",
              "      <td>a55475b1</td>\n",
              "      <td>NaN</td>\n",
              "      <td>NaN</td>\n",
              "      <td>NaN</td>\n",
              "      <td>...</td>\n",
              "      <td>NaN</td>\n",
              "      <td>NaN</td>\n",
              "      <td>a55475b1</td>\n",
              "      <td>a55475b1</td>\n",
              "      <td>NaN</td>\n",
              "      <td>23682.80</td>\n",
              "      <td>NaN</td>\n",
              "      <td>NaN</td>\n",
              "      <td>NaN</td>\n",
              "      <td>NaN</td>\n",
              "    </tr>\n",
              "  </tbody>\n",
              "</table>\n",
              "<p>920969 rows × 79 columns</p>\n",
              "</div>\n",
              "    <div class=\"colab-df-buttons\">\n",
              "\n",
              "  <div class=\"colab-df-container\">\n",
              "    <button class=\"colab-df-convert\" onclick=\"convertToInteractive('df-fd008412-9ac2-4faf-9a22-e77ec7bc6bce')\"\n",
              "            title=\"Convert this dataframe to an interactive table.\"\n",
              "            style=\"display:none;\">\n",
              "\n",
              "  <svg xmlns=\"http://www.w3.org/2000/svg\" height=\"24px\" viewBox=\"0 -960 960 960\">\n",
              "    <path d=\"M120-120v-720h720v720H120Zm60-500h600v-160H180v160Zm220 220h160v-160H400v160Zm0 220h160v-160H400v160ZM180-400h160v-160H180v160Zm440 0h160v-160H620v160ZM180-180h160v-160H180v160Zm440 0h160v-160H620v160Z\"/>\n",
              "  </svg>\n",
              "    </button>\n",
              "\n",
              "  <style>\n",
              "    .colab-df-container {\n",
              "      display:flex;\n",
              "      gap: 12px;\n",
              "    }\n",
              "\n",
              "    .colab-df-convert {\n",
              "      background-color: #E8F0FE;\n",
              "      border: none;\n",
              "      border-radius: 50%;\n",
              "      cursor: pointer;\n",
              "      display: none;\n",
              "      fill: #1967D2;\n",
              "      height: 32px;\n",
              "      padding: 0 0 0 0;\n",
              "      width: 32px;\n",
              "    }\n",
              "\n",
              "    .colab-df-convert:hover {\n",
              "      background-color: #E2EBFA;\n",
              "      box-shadow: 0px 1px 2px rgba(60, 64, 67, 0.3), 0px 1px 3px 1px rgba(60, 64, 67, 0.15);\n",
              "      fill: #174EA6;\n",
              "    }\n",
              "\n",
              "    .colab-df-buttons div {\n",
              "      margin-bottom: 4px;\n",
              "    }\n",
              "\n",
              "    [theme=dark] .colab-df-convert {\n",
              "      background-color: #3B4455;\n",
              "      fill: #D2E3FC;\n",
              "    }\n",
              "\n",
              "    [theme=dark] .colab-df-convert:hover {\n",
              "      background-color: #434B5C;\n",
              "      box-shadow: 0px 1px 3px 1px rgba(0, 0, 0, 0.15);\n",
              "      filter: drop-shadow(0px 1px 2px rgba(0, 0, 0, 0.3));\n",
              "      fill: #FFFFFF;\n",
              "    }\n",
              "  </style>\n",
              "\n",
              "    <script>\n",
              "      const buttonEl =\n",
              "        document.querySelector('#df-fd008412-9ac2-4faf-9a22-e77ec7bc6bce button.colab-df-convert');\n",
              "      buttonEl.style.display =\n",
              "        google.colab.kernel.accessAllowed ? 'block' : 'none';\n",
              "\n",
              "      async function convertToInteractive(key) {\n",
              "        const element = document.querySelector('#df-fd008412-9ac2-4faf-9a22-e77ec7bc6bce');\n",
              "        const dataTable =\n",
              "          await google.colab.kernel.invokeFunction('convertToInteractive',\n",
              "                                                    [key], {});\n",
              "        if (!dataTable) return;\n",
              "\n",
              "        const docLinkHtml = 'Like what you see? Visit the ' +\n",
              "          '<a target=\"_blank\" href=https://colab.research.google.com/notebooks/data_table.ipynb>data table notebook</a>'\n",
              "          + ' to learn more about interactive tables.';\n",
              "        element.innerHTML = '';\n",
              "        dataTable['output_type'] = 'display_data';\n",
              "        await google.colab.output.renderOutput(dataTable, element);\n",
              "        const docLink = document.createElement('div');\n",
              "        docLink.innerHTML = docLinkHtml;\n",
              "        element.appendChild(docLink);\n",
              "      }\n",
              "    </script>\n",
              "  </div>\n",
              "\n",
              "\n",
              "<div id=\"df-9ac12c06-a836-49c6-9c39-9b77e5c558ce\">\n",
              "  <button class=\"colab-df-quickchart\" onclick=\"quickchart('df-9ac12c06-a836-49c6-9c39-9b77e5c558ce')\"\n",
              "            title=\"Suggest charts\"\n",
              "            style=\"display:none;\">\n",
              "\n",
              "<svg xmlns=\"http://www.w3.org/2000/svg\" height=\"24px\"viewBox=\"0 0 24 24\"\n",
              "     width=\"24px\">\n",
              "    <g>\n",
              "        <path d=\"M19 3H5c-1.1 0-2 .9-2 2v14c0 1.1.9 2 2 2h14c1.1 0 2-.9 2-2V5c0-1.1-.9-2-2-2zM9 17H7v-7h2v7zm4 0h-2V7h2v10zm4 0h-2v-4h2v4z\"/>\n",
              "    </g>\n",
              "</svg>\n",
              "  </button>\n",
              "\n",
              "<style>\n",
              "  .colab-df-quickchart {\n",
              "      --bg-color: #E8F0FE;\n",
              "      --fill-color: #1967D2;\n",
              "      --hover-bg-color: #E2EBFA;\n",
              "      --hover-fill-color: #174EA6;\n",
              "      --disabled-fill-color: #AAA;\n",
              "      --disabled-bg-color: #DDD;\n",
              "  }\n",
              "\n",
              "  [theme=dark] .colab-df-quickchart {\n",
              "      --bg-color: #3B4455;\n",
              "      --fill-color: #D2E3FC;\n",
              "      --hover-bg-color: #434B5C;\n",
              "      --hover-fill-color: #FFFFFF;\n",
              "      --disabled-bg-color: #3B4455;\n",
              "      --disabled-fill-color: #666;\n",
              "  }\n",
              "\n",
              "  .colab-df-quickchart {\n",
              "    background-color: var(--bg-color);\n",
              "    border: none;\n",
              "    border-radius: 50%;\n",
              "    cursor: pointer;\n",
              "    display: none;\n",
              "    fill: var(--fill-color);\n",
              "    height: 32px;\n",
              "    padding: 0;\n",
              "    width: 32px;\n",
              "  }\n",
              "\n",
              "  .colab-df-quickchart:hover {\n",
              "    background-color: var(--hover-bg-color);\n",
              "    box-shadow: 0 1px 2px rgba(60, 64, 67, 0.3), 0 1px 3px 1px rgba(60, 64, 67, 0.15);\n",
              "    fill: var(--button-hover-fill-color);\n",
              "  }\n",
              "\n",
              "  .colab-df-quickchart-complete:disabled,\n",
              "  .colab-df-quickchart-complete:disabled:hover {\n",
              "    background-color: var(--disabled-bg-color);\n",
              "    fill: var(--disabled-fill-color);\n",
              "    box-shadow: none;\n",
              "  }\n",
              "\n",
              "  .colab-df-spinner {\n",
              "    border: 2px solid var(--fill-color);\n",
              "    border-color: transparent;\n",
              "    border-bottom-color: var(--fill-color);\n",
              "    animation:\n",
              "      spin 1s steps(1) infinite;\n",
              "  }\n",
              "\n",
              "  @keyframes spin {\n",
              "    0% {\n",
              "      border-color: transparent;\n",
              "      border-bottom-color: var(--fill-color);\n",
              "      border-left-color: var(--fill-color);\n",
              "    }\n",
              "    20% {\n",
              "      border-color: transparent;\n",
              "      border-left-color: var(--fill-color);\n",
              "      border-top-color: var(--fill-color);\n",
              "    }\n",
              "    30% {\n",
              "      border-color: transparent;\n",
              "      border-left-color: var(--fill-color);\n",
              "      border-top-color: var(--fill-color);\n",
              "      border-right-color: var(--fill-color);\n",
              "    }\n",
              "    40% {\n",
              "      border-color: transparent;\n",
              "      border-right-color: var(--fill-color);\n",
              "      border-top-color: var(--fill-color);\n",
              "    }\n",
              "    60% {\n",
              "      border-color: transparent;\n",
              "      border-right-color: var(--fill-color);\n",
              "    }\n",
              "    80% {\n",
              "      border-color: transparent;\n",
              "      border-right-color: var(--fill-color);\n",
              "      border-bottom-color: var(--fill-color);\n",
              "    }\n",
              "    90% {\n",
              "      border-color: transparent;\n",
              "      border-bottom-color: var(--fill-color);\n",
              "    }\n",
              "  }\n",
              "</style>\n",
              "\n",
              "  <script>\n",
              "    async function quickchart(key) {\n",
              "      const quickchartButtonEl =\n",
              "        document.querySelector('#' + key + ' button');\n",
              "      quickchartButtonEl.disabled = true;  // To prevent multiple clicks.\n",
              "      quickchartButtonEl.classList.add('colab-df-spinner');\n",
              "      try {\n",
              "        const charts = await google.colab.kernel.invokeFunction(\n",
              "            'suggestCharts', [key], {});\n",
              "      } catch (error) {\n",
              "        console.error('Error during call to suggestCharts:', error);\n",
              "      }\n",
              "      quickchartButtonEl.classList.remove('colab-df-spinner');\n",
              "      quickchartButtonEl.classList.add('colab-df-quickchart-complete');\n",
              "    }\n",
              "    (() => {\n",
              "      let quickchartButtonEl =\n",
              "        document.querySelector('#df-9ac12c06-a836-49c6-9c39-9b77e5c558ce button');\n",
              "      quickchartButtonEl.style.display =\n",
              "        google.colab.kernel.accessAllowed ? 'block' : 'none';\n",
              "    })();\n",
              "  </script>\n",
              "</div>\n",
              "\n",
              "    </div>\n",
              "  </div>\n"
            ]
          },
          "metadata": {},
          "execution_count": 81
        }
      ]
    },
    {
      "cell_type": "markdown",
      "source": [
        "## contractst_545M\n",
        "- 계약 상태(contract status)\n",
        "- Masking categories\n",
        "\n",
        "> **해석**\n",
        "- 개념상으로만 보면 active contract\n",
        "\n",
        ">**필요논의**\n",
        "- null x -> 비활성(관련 없음)과 같은 의미를 나타내는 코드를 사용할 것으로 추정(a55475b1 이거지 않을까,,)\n",
        "- 상태 역시 카테고리별로 나눠 eda 진행해볼 필요성 존재"
      ],
      "metadata": {
        "id": "4tK7sQpWY3kH"
      }
    },
    {
      "cell_type": "code",
      "source": [
        "x = df_credit_bureau_1_0.contractst_545M\n",
        "print(f\"컬럼명: {x.name}\")\n",
        "print(f\"데이터 타입: {x.dtype}\")\n",
        "print(f\"NA 값: {any(x.isna())}, {x.isna().sum() / x.shape[0]:.10f}\")\n",
        "print(f\"Categories: {len(x.unique())},{ x.unique()}\")\n",
        "print(\"--- Value Counts ---\")\n",
        "x.value_counts()"
      ],
      "metadata": {
        "colab": {
          "base_uri": "https://localhost:8080/"
        },
        "id": "QNipFMetZU0j",
        "outputId": "4e617114-26b6-4152-ea75-5ef3d54c5b12"
      },
      "execution_count": null,
      "outputs": [
        {
          "output_type": "stream",
          "name": "stdout",
          "text": [
            "컬럼명: contractst_545M\n",
            "데이터 타입: object\n",
            "NA 값: False, 0.0000000000\n",
            "Categories: 43,['7241344e' 'a55475b1' '0dc85f9d' '8f3a197f' 'a52d5641' 'b919198c'\n",
            " '3d18d6ef' '885ce291' '7640edc3' 'e2e7d341' 'dd67cff0' '90d9e529'\n",
            " 'fd624e63' '83931972' '6d2380c9' '9dea9bea' '25c364c5' '432a781c'\n",
            " '54132f86' '53033298' '6974b37f' '38b74d51' 'be389466' 'f7394eb0'\n",
            " 'ba680094' 'ec24545f' '5733d57a' '823dcc3b' '82a92878' '68256a83'\n",
            " '29503771' 'd692b98e' '98492412' 'd7162397' '4462144e' '8456b067'\n",
            " '8889b41c' 'dcde6a37' '5c1a3a82' '5f78510b' 'ba1f9cb6' 'df63fbf8'\n",
            " '02699f0c']\n",
            "--- Value Counts ---\n"
          ]
        },
        {
          "output_type": "execute_result",
          "data": {
            "text/plain": [
              "a55475b1    3451448\n",
              "7241344e     635548\n",
              "8f3a197f       6330\n",
              "0dc85f9d       5667\n",
              "dd67cff0       1935\n",
              "a52d5641       1690\n",
              "b919198c       1652\n",
              "885ce291        970\n",
              "7640edc3        541\n",
              "83931972        458\n",
              "90d9e529        332\n",
              "fd624e63        309\n",
              "e2e7d341        293\n",
              "9dea9bea        140\n",
              "ba680094        110\n",
              "3d18d6ef        107\n",
              "82a92878         99\n",
              "38b74d51         92\n",
              "823dcc3b         81\n",
              "6974b37f         62\n",
              "25c364c5         56\n",
              "f7394eb0         52\n",
              "53033298         49\n",
              "54132f86         46\n",
              "ec24545f         40\n",
              "5733d57a         33\n",
              "6d2380c9         16\n",
              "be389466         10\n",
              "d692b98e         10\n",
              "432a781c          8\n",
              "29503771          7\n",
              "d7162397          6\n",
              "4462144e          2\n",
              "5f78510b          2\n",
              "df63fbf8          2\n",
              "02699f0c          2\n",
              "68256a83          1\n",
              "98492412          1\n",
              "8456b067          1\n",
              "8889b41c          1\n",
              "dcde6a37          1\n",
              "5c1a3a82          1\n",
              "ba1f9cb6          1\n",
              "Name: contractst_545M, dtype: int64"
            ]
          },
          "metadata": {},
          "execution_count": 62
        }
      ]
    },
    {
      "cell_type": "code",
      "source": [
        "df_credit_bureau_1_0[df_credit_bureau_1_0.contractst_545M == '29503771'][['annualeffectiverate_199L', 'annualeffectiverate_63L']]"
      ],
      "metadata": {
        "colab": {
          "base_uri": "https://localhost:8080/",
          "height": 269
        },
        "id": "qVzu35PlkFfQ",
        "outputId": "014732f3-3c8f-44fc-ca90-ef1d024595ab"
      },
      "execution_count": null,
      "outputs": [
        {
          "output_type": "execute_result",
          "data": {
            "text/plain": [
              "         annualeffectiverate_199L  annualeffectiverate_63L\n",
              "1044754                       NaN                    43.90\n",
              "1044755                       NaN                    52.56\n",
              "1044756                       NaN                    53.56\n",
              "1044757                       NaN                    38.98\n",
              "1044758                       NaN                    33.88\n",
              "1044759                       NaN                    38.21\n",
              "1045424                       NaN                    18.29"
            ],
            "text/html": [
              "\n",
              "  <div id=\"df-d884f04d-6f36-4287-95de-656f3864a527\" class=\"colab-df-container\">\n",
              "    <div>\n",
              "<style scoped>\n",
              "    .dataframe tbody tr th:only-of-type {\n",
              "        vertical-align: middle;\n",
              "    }\n",
              "\n",
              "    .dataframe tbody tr th {\n",
              "        vertical-align: top;\n",
              "    }\n",
              "\n",
              "    .dataframe thead th {\n",
              "        text-align: right;\n",
              "    }\n",
              "</style>\n",
              "<table border=\"1\" class=\"dataframe\">\n",
              "  <thead>\n",
              "    <tr style=\"text-align: right;\">\n",
              "      <th></th>\n",
              "      <th>annualeffectiverate_199L</th>\n",
              "      <th>annualeffectiverate_63L</th>\n",
              "    </tr>\n",
              "  </thead>\n",
              "  <tbody>\n",
              "    <tr>\n",
              "      <th>1044754</th>\n",
              "      <td>NaN</td>\n",
              "      <td>43.90</td>\n",
              "    </tr>\n",
              "    <tr>\n",
              "      <th>1044755</th>\n",
              "      <td>NaN</td>\n",
              "      <td>52.56</td>\n",
              "    </tr>\n",
              "    <tr>\n",
              "      <th>1044756</th>\n",
              "      <td>NaN</td>\n",
              "      <td>53.56</td>\n",
              "    </tr>\n",
              "    <tr>\n",
              "      <th>1044757</th>\n",
              "      <td>NaN</td>\n",
              "      <td>38.98</td>\n",
              "    </tr>\n",
              "    <tr>\n",
              "      <th>1044758</th>\n",
              "      <td>NaN</td>\n",
              "      <td>33.88</td>\n",
              "    </tr>\n",
              "    <tr>\n",
              "      <th>1044759</th>\n",
              "      <td>NaN</td>\n",
              "      <td>38.21</td>\n",
              "    </tr>\n",
              "    <tr>\n",
              "      <th>1045424</th>\n",
              "      <td>NaN</td>\n",
              "      <td>18.29</td>\n",
              "    </tr>\n",
              "  </tbody>\n",
              "</table>\n",
              "</div>\n",
              "    <div class=\"colab-df-buttons\">\n",
              "\n",
              "  <div class=\"colab-df-container\">\n",
              "    <button class=\"colab-df-convert\" onclick=\"convertToInteractive('df-d884f04d-6f36-4287-95de-656f3864a527')\"\n",
              "            title=\"Convert this dataframe to an interactive table.\"\n",
              "            style=\"display:none;\">\n",
              "\n",
              "  <svg xmlns=\"http://www.w3.org/2000/svg\" height=\"24px\" viewBox=\"0 -960 960 960\">\n",
              "    <path d=\"M120-120v-720h720v720H120Zm60-500h600v-160H180v160Zm220 220h160v-160H400v160Zm0 220h160v-160H400v160ZM180-400h160v-160H180v160Zm440 0h160v-160H620v160ZM180-180h160v-160H180v160Zm440 0h160v-160H620v160Z\"/>\n",
              "  </svg>\n",
              "    </button>\n",
              "\n",
              "  <style>\n",
              "    .colab-df-container {\n",
              "      display:flex;\n",
              "      gap: 12px;\n",
              "    }\n",
              "\n",
              "    .colab-df-convert {\n",
              "      background-color: #E8F0FE;\n",
              "      border: none;\n",
              "      border-radius: 50%;\n",
              "      cursor: pointer;\n",
              "      display: none;\n",
              "      fill: #1967D2;\n",
              "      height: 32px;\n",
              "      padding: 0 0 0 0;\n",
              "      width: 32px;\n",
              "    }\n",
              "\n",
              "    .colab-df-convert:hover {\n",
              "      background-color: #E2EBFA;\n",
              "      box-shadow: 0px 1px 2px rgba(60, 64, 67, 0.3), 0px 1px 3px 1px rgba(60, 64, 67, 0.15);\n",
              "      fill: #174EA6;\n",
              "    }\n",
              "\n",
              "    .colab-df-buttons div {\n",
              "      margin-bottom: 4px;\n",
              "    }\n",
              "\n",
              "    [theme=dark] .colab-df-convert {\n",
              "      background-color: #3B4455;\n",
              "      fill: #D2E3FC;\n",
              "    }\n",
              "\n",
              "    [theme=dark] .colab-df-convert:hover {\n",
              "      background-color: #434B5C;\n",
              "      box-shadow: 0px 1px 3px 1px rgba(0, 0, 0, 0.15);\n",
              "      filter: drop-shadow(0px 1px 2px rgba(0, 0, 0, 0.3));\n",
              "      fill: #FFFFFF;\n",
              "    }\n",
              "  </style>\n",
              "\n",
              "    <script>\n",
              "      const buttonEl =\n",
              "        document.querySelector('#df-d884f04d-6f36-4287-95de-656f3864a527 button.colab-df-convert');\n",
              "      buttonEl.style.display =\n",
              "        google.colab.kernel.accessAllowed ? 'block' : 'none';\n",
              "\n",
              "      async function convertToInteractive(key) {\n",
              "        const element = document.querySelector('#df-d884f04d-6f36-4287-95de-656f3864a527');\n",
              "        const dataTable =\n",
              "          await google.colab.kernel.invokeFunction('convertToInteractive',\n",
              "                                                    [key], {});\n",
              "        if (!dataTable) return;\n",
              "\n",
              "        const docLinkHtml = 'Like what you see? Visit the ' +\n",
              "          '<a target=\"_blank\" href=https://colab.research.google.com/notebooks/data_table.ipynb>data table notebook</a>'\n",
              "          + ' to learn more about interactive tables.';\n",
              "        element.innerHTML = '';\n",
              "        dataTable['output_type'] = 'display_data';\n",
              "        await google.colab.output.renderOutput(dataTable, element);\n",
              "        const docLink = document.createElement('div');\n",
              "        docLink.innerHTML = docLinkHtml;\n",
              "        element.appendChild(docLink);\n",
              "      }\n",
              "    </script>\n",
              "  </div>\n",
              "\n",
              "\n",
              "<div id=\"df-829099b1-7268-4d0c-abbc-718bcdb62f28\">\n",
              "  <button class=\"colab-df-quickchart\" onclick=\"quickchart('df-829099b1-7268-4d0c-abbc-718bcdb62f28')\"\n",
              "            title=\"Suggest charts\"\n",
              "            style=\"display:none;\">\n",
              "\n",
              "<svg xmlns=\"http://www.w3.org/2000/svg\" height=\"24px\"viewBox=\"0 0 24 24\"\n",
              "     width=\"24px\">\n",
              "    <g>\n",
              "        <path d=\"M19 3H5c-1.1 0-2 .9-2 2v14c0 1.1.9 2 2 2h14c1.1 0 2-.9 2-2V5c0-1.1-.9-2-2-2zM9 17H7v-7h2v7zm4 0h-2V7h2v10zm4 0h-2v-4h2v4z\"/>\n",
              "    </g>\n",
              "</svg>\n",
              "  </button>\n",
              "\n",
              "<style>\n",
              "  .colab-df-quickchart {\n",
              "      --bg-color: #E8F0FE;\n",
              "      --fill-color: #1967D2;\n",
              "      --hover-bg-color: #E2EBFA;\n",
              "      --hover-fill-color: #174EA6;\n",
              "      --disabled-fill-color: #AAA;\n",
              "      --disabled-bg-color: #DDD;\n",
              "  }\n",
              "\n",
              "  [theme=dark] .colab-df-quickchart {\n",
              "      --bg-color: #3B4455;\n",
              "      --fill-color: #D2E3FC;\n",
              "      --hover-bg-color: #434B5C;\n",
              "      --hover-fill-color: #FFFFFF;\n",
              "      --disabled-bg-color: #3B4455;\n",
              "      --disabled-fill-color: #666;\n",
              "  }\n",
              "\n",
              "  .colab-df-quickchart {\n",
              "    background-color: var(--bg-color);\n",
              "    border: none;\n",
              "    border-radius: 50%;\n",
              "    cursor: pointer;\n",
              "    display: none;\n",
              "    fill: var(--fill-color);\n",
              "    height: 32px;\n",
              "    padding: 0;\n",
              "    width: 32px;\n",
              "  }\n",
              "\n",
              "  .colab-df-quickchart:hover {\n",
              "    background-color: var(--hover-bg-color);\n",
              "    box-shadow: 0 1px 2px rgba(60, 64, 67, 0.3), 0 1px 3px 1px rgba(60, 64, 67, 0.15);\n",
              "    fill: var(--button-hover-fill-color);\n",
              "  }\n",
              "\n",
              "  .colab-df-quickchart-complete:disabled,\n",
              "  .colab-df-quickchart-complete:disabled:hover {\n",
              "    background-color: var(--disabled-bg-color);\n",
              "    fill: var(--disabled-fill-color);\n",
              "    box-shadow: none;\n",
              "  }\n",
              "\n",
              "  .colab-df-spinner {\n",
              "    border: 2px solid var(--fill-color);\n",
              "    border-color: transparent;\n",
              "    border-bottom-color: var(--fill-color);\n",
              "    animation:\n",
              "      spin 1s steps(1) infinite;\n",
              "  }\n",
              "\n",
              "  @keyframes spin {\n",
              "    0% {\n",
              "      border-color: transparent;\n",
              "      border-bottom-color: var(--fill-color);\n",
              "      border-left-color: var(--fill-color);\n",
              "    }\n",
              "    20% {\n",
              "      border-color: transparent;\n",
              "      border-left-color: var(--fill-color);\n",
              "      border-top-color: var(--fill-color);\n",
              "    }\n",
              "    30% {\n",
              "      border-color: transparent;\n",
              "      border-left-color: var(--fill-color);\n",
              "      border-top-color: var(--fill-color);\n",
              "      border-right-color: var(--fill-color);\n",
              "    }\n",
              "    40% {\n",
              "      border-color: transparent;\n",
              "      border-right-color: var(--fill-color);\n",
              "      border-top-color: var(--fill-color);\n",
              "    }\n",
              "    60% {\n",
              "      border-color: transparent;\n",
              "      border-right-color: var(--fill-color);\n",
              "    }\n",
              "    80% {\n",
              "      border-color: transparent;\n",
              "      border-right-color: var(--fill-color);\n",
              "      border-bottom-color: var(--fill-color);\n",
              "    }\n",
              "    90% {\n",
              "      border-color: transparent;\n",
              "      border-bottom-color: var(--fill-color);\n",
              "    }\n",
              "  }\n",
              "</style>\n",
              "\n",
              "  <script>\n",
              "    async function quickchart(key) {\n",
              "      const quickchartButtonEl =\n",
              "        document.querySelector('#' + key + ' button');\n",
              "      quickchartButtonEl.disabled = true;  // To prevent multiple clicks.\n",
              "      quickchartButtonEl.classList.add('colab-df-spinner');\n",
              "      try {\n",
              "        const charts = await google.colab.kernel.invokeFunction(\n",
              "            'suggestCharts', [key], {});\n",
              "      } catch (error) {\n",
              "        console.error('Error during call to suggestCharts:', error);\n",
              "      }\n",
              "      quickchartButtonEl.classList.remove('colab-df-spinner');\n",
              "      quickchartButtonEl.classList.add('colab-df-quickchart-complete');\n",
              "    }\n",
              "    (() => {\n",
              "      let quickchartButtonEl =\n",
              "        document.querySelector('#df-829099b1-7268-4d0c-abbc-718bcdb62f28 button');\n",
              "      quickchartButtonEl.style.display =\n",
              "        google.colab.kernel.accessAllowed ? 'block' : 'none';\n",
              "    })();\n",
              "  </script>\n",
              "</div>\n",
              "\n",
              "    </div>\n",
              "  </div>\n"
            ]
          },
          "metadata": {},
          "execution_count": 89
        }
      ]
    },
    {
      "cell_type": "code",
      "source": [
        "df_credit_bureau_1_0[df_credit_bureau_1_0.contractst_545M == '5f78510b'][['annualeffectiverate_199L', 'annualeffectiverate_63L']]"
      ],
      "metadata": {
        "colab": {
          "base_uri": "https://localhost:8080/",
          "height": 112
        },
        "id": "0CLlXdtWaWDb",
        "outputId": "bef35033-e2e1-4544-8c96-7db2121b37a2"
      },
      "execution_count": null,
      "outputs": [
        {
          "output_type": "execute_result",
          "data": {
            "text/plain": [
              "         annualeffectiverate_199L  annualeffectiverate_63L\n",
              "2835002                       NaN                      NaN\n",
              "2835003                       NaN                      NaN"
            ],
            "text/html": [
              "\n",
              "  <div id=\"df-9cd010cb-6639-4789-bf76-d3fe3e6c3d35\" class=\"colab-df-container\">\n",
              "    <div>\n",
              "<style scoped>\n",
              "    .dataframe tbody tr th:only-of-type {\n",
              "        vertical-align: middle;\n",
              "    }\n",
              "\n",
              "    .dataframe tbody tr th {\n",
              "        vertical-align: top;\n",
              "    }\n",
              "\n",
              "    .dataframe thead th {\n",
              "        text-align: right;\n",
              "    }\n",
              "</style>\n",
              "<table border=\"1\" class=\"dataframe\">\n",
              "  <thead>\n",
              "    <tr style=\"text-align: right;\">\n",
              "      <th></th>\n",
              "      <th>annualeffectiverate_199L</th>\n",
              "      <th>annualeffectiverate_63L</th>\n",
              "    </tr>\n",
              "  </thead>\n",
              "  <tbody>\n",
              "    <tr>\n",
              "      <th>2835002</th>\n",
              "      <td>NaN</td>\n",
              "      <td>NaN</td>\n",
              "    </tr>\n",
              "    <tr>\n",
              "      <th>2835003</th>\n",
              "      <td>NaN</td>\n",
              "      <td>NaN</td>\n",
              "    </tr>\n",
              "  </tbody>\n",
              "</table>\n",
              "</div>\n",
              "    <div class=\"colab-df-buttons\">\n",
              "\n",
              "  <div class=\"colab-df-container\">\n",
              "    <button class=\"colab-df-convert\" onclick=\"convertToInteractive('df-9cd010cb-6639-4789-bf76-d3fe3e6c3d35')\"\n",
              "            title=\"Convert this dataframe to an interactive table.\"\n",
              "            style=\"display:none;\">\n",
              "\n",
              "  <svg xmlns=\"http://www.w3.org/2000/svg\" height=\"24px\" viewBox=\"0 -960 960 960\">\n",
              "    <path d=\"M120-120v-720h720v720H120Zm60-500h600v-160H180v160Zm220 220h160v-160H400v160Zm0 220h160v-160H400v160ZM180-400h160v-160H180v160Zm440 0h160v-160H620v160ZM180-180h160v-160H180v160Zm440 0h160v-160H620v160Z\"/>\n",
              "  </svg>\n",
              "    </button>\n",
              "\n",
              "  <style>\n",
              "    .colab-df-container {\n",
              "      display:flex;\n",
              "      gap: 12px;\n",
              "    }\n",
              "\n",
              "    .colab-df-convert {\n",
              "      background-color: #E8F0FE;\n",
              "      border: none;\n",
              "      border-radius: 50%;\n",
              "      cursor: pointer;\n",
              "      display: none;\n",
              "      fill: #1967D2;\n",
              "      height: 32px;\n",
              "      padding: 0 0 0 0;\n",
              "      width: 32px;\n",
              "    }\n",
              "\n",
              "    .colab-df-convert:hover {\n",
              "      background-color: #E2EBFA;\n",
              "      box-shadow: 0px 1px 2px rgba(60, 64, 67, 0.3), 0px 1px 3px 1px rgba(60, 64, 67, 0.15);\n",
              "      fill: #174EA6;\n",
              "    }\n",
              "\n",
              "    .colab-df-buttons div {\n",
              "      margin-bottom: 4px;\n",
              "    }\n",
              "\n",
              "    [theme=dark] .colab-df-convert {\n",
              "      background-color: #3B4455;\n",
              "      fill: #D2E3FC;\n",
              "    }\n",
              "\n",
              "    [theme=dark] .colab-df-convert:hover {\n",
              "      background-color: #434B5C;\n",
              "      box-shadow: 0px 1px 3px 1px rgba(0, 0, 0, 0.15);\n",
              "      filter: drop-shadow(0px 1px 2px rgba(0, 0, 0, 0.3));\n",
              "      fill: #FFFFFF;\n",
              "    }\n",
              "  </style>\n",
              "\n",
              "    <script>\n",
              "      const buttonEl =\n",
              "        document.querySelector('#df-9cd010cb-6639-4789-bf76-d3fe3e6c3d35 button.colab-df-convert');\n",
              "      buttonEl.style.display =\n",
              "        google.colab.kernel.accessAllowed ? 'block' : 'none';\n",
              "\n",
              "      async function convertToInteractive(key) {\n",
              "        const element = document.querySelector('#df-9cd010cb-6639-4789-bf76-d3fe3e6c3d35');\n",
              "        const dataTable =\n",
              "          await google.colab.kernel.invokeFunction('convertToInteractive',\n",
              "                                                    [key], {});\n",
              "        if (!dataTable) return;\n",
              "\n",
              "        const docLinkHtml = 'Like what you see? Visit the ' +\n",
              "          '<a target=\"_blank\" href=https://colab.research.google.com/notebooks/data_table.ipynb>data table notebook</a>'\n",
              "          + ' to learn more about interactive tables.';\n",
              "        element.innerHTML = '';\n",
              "        dataTable['output_type'] = 'display_data';\n",
              "        await google.colab.output.renderOutput(dataTable, element);\n",
              "        const docLink = document.createElement('div');\n",
              "        docLink.innerHTML = docLinkHtml;\n",
              "        element.appendChild(docLink);\n",
              "      }\n",
              "    </script>\n",
              "  </div>\n",
              "\n",
              "\n",
              "<div id=\"df-71726aa1-beda-4f53-b9dc-09590d0a0610\">\n",
              "  <button class=\"colab-df-quickchart\" onclick=\"quickchart('df-71726aa1-beda-4f53-b9dc-09590d0a0610')\"\n",
              "            title=\"Suggest charts\"\n",
              "            style=\"display:none;\">\n",
              "\n",
              "<svg xmlns=\"http://www.w3.org/2000/svg\" height=\"24px\"viewBox=\"0 0 24 24\"\n",
              "     width=\"24px\">\n",
              "    <g>\n",
              "        <path d=\"M19 3H5c-1.1 0-2 .9-2 2v14c0 1.1.9 2 2 2h14c1.1 0 2-.9 2-2V5c0-1.1-.9-2-2-2zM9 17H7v-7h2v7zm4 0h-2V7h2v10zm4 0h-2v-4h2v4z\"/>\n",
              "    </g>\n",
              "</svg>\n",
              "  </button>\n",
              "\n",
              "<style>\n",
              "  .colab-df-quickchart {\n",
              "      --bg-color: #E8F0FE;\n",
              "      --fill-color: #1967D2;\n",
              "      --hover-bg-color: #E2EBFA;\n",
              "      --hover-fill-color: #174EA6;\n",
              "      --disabled-fill-color: #AAA;\n",
              "      --disabled-bg-color: #DDD;\n",
              "  }\n",
              "\n",
              "  [theme=dark] .colab-df-quickchart {\n",
              "      --bg-color: #3B4455;\n",
              "      --fill-color: #D2E3FC;\n",
              "      --hover-bg-color: #434B5C;\n",
              "      --hover-fill-color: #FFFFFF;\n",
              "      --disabled-bg-color: #3B4455;\n",
              "      --disabled-fill-color: #666;\n",
              "  }\n",
              "\n",
              "  .colab-df-quickchart {\n",
              "    background-color: var(--bg-color);\n",
              "    border: none;\n",
              "    border-radius: 50%;\n",
              "    cursor: pointer;\n",
              "    display: none;\n",
              "    fill: var(--fill-color);\n",
              "    height: 32px;\n",
              "    padding: 0;\n",
              "    width: 32px;\n",
              "  }\n",
              "\n",
              "  .colab-df-quickchart:hover {\n",
              "    background-color: var(--hover-bg-color);\n",
              "    box-shadow: 0 1px 2px rgba(60, 64, 67, 0.3), 0 1px 3px 1px rgba(60, 64, 67, 0.15);\n",
              "    fill: var(--button-hover-fill-color);\n",
              "  }\n",
              "\n",
              "  .colab-df-quickchart-complete:disabled,\n",
              "  .colab-df-quickchart-complete:disabled:hover {\n",
              "    background-color: var(--disabled-bg-color);\n",
              "    fill: var(--disabled-fill-color);\n",
              "    box-shadow: none;\n",
              "  }\n",
              "\n",
              "  .colab-df-spinner {\n",
              "    border: 2px solid var(--fill-color);\n",
              "    border-color: transparent;\n",
              "    border-bottom-color: var(--fill-color);\n",
              "    animation:\n",
              "      spin 1s steps(1) infinite;\n",
              "  }\n",
              "\n",
              "  @keyframes spin {\n",
              "    0% {\n",
              "      border-color: transparent;\n",
              "      border-bottom-color: var(--fill-color);\n",
              "      border-left-color: var(--fill-color);\n",
              "    }\n",
              "    20% {\n",
              "      border-color: transparent;\n",
              "      border-left-color: var(--fill-color);\n",
              "      border-top-color: var(--fill-color);\n",
              "    }\n",
              "    30% {\n",
              "      border-color: transparent;\n",
              "      border-left-color: var(--fill-color);\n",
              "      border-top-color: var(--fill-color);\n",
              "      border-right-color: var(--fill-color);\n",
              "    }\n",
              "    40% {\n",
              "      border-color: transparent;\n",
              "      border-right-color: var(--fill-color);\n",
              "      border-top-color: var(--fill-color);\n",
              "    }\n",
              "    60% {\n",
              "      border-color: transparent;\n",
              "      border-right-color: var(--fill-color);\n",
              "    }\n",
              "    80% {\n",
              "      border-color: transparent;\n",
              "      border-right-color: var(--fill-color);\n",
              "      border-bottom-color: var(--fill-color);\n",
              "    }\n",
              "    90% {\n",
              "      border-color: transparent;\n",
              "      border-bottom-color: var(--fill-color);\n",
              "    }\n",
              "  }\n",
              "</style>\n",
              "\n",
              "  <script>\n",
              "    async function quickchart(key) {\n",
              "      const quickchartButtonEl =\n",
              "        document.querySelector('#' + key + ' button');\n",
              "      quickchartButtonEl.disabled = true;  // To prevent multiple clicks.\n",
              "      quickchartButtonEl.classList.add('colab-df-spinner');\n",
              "      try {\n",
              "        const charts = await google.colab.kernel.invokeFunction(\n",
              "            'suggestCharts', [key], {});\n",
              "      } catch (error) {\n",
              "        console.error('Error during call to suggestCharts:', error);\n",
              "      }\n",
              "      quickchartButtonEl.classList.remove('colab-df-spinner');\n",
              "      quickchartButtonEl.classList.add('colab-df-quickchart-complete');\n",
              "    }\n",
              "    (() => {\n",
              "      let quickchartButtonEl =\n",
              "        document.querySelector('#df-71726aa1-beda-4f53-b9dc-09590d0a0610 button');\n",
              "      quickchartButtonEl.style.display =\n",
              "        google.colab.kernel.accessAllowed ? 'block' : 'none';\n",
              "    })();\n",
              "  </script>\n",
              "</div>\n",
              "\n",
              "    </div>\n",
              "  </div>\n"
            ]
          },
          "metadata": {},
          "execution_count": 64
        }
      ]
    },
    {
      "cell_type": "markdown",
      "source": [
        "## contractst_964M\n",
        "- Contract status of terminated credit contract.\n",
        "- 종료된 신용 계약 상태\n",
        "- Masking categories\n",
        "\n",
        "> **해석**\n",
        "- 개념상 closed contract에 한정\n",
        "\n",
        "> **필요논의**\n",
        "- null x -> 비활성(관련 없음)과 같은 의미를 나타내는 코드를 사용할 것으로 추정(a55475b1 이거지 않을까,,)\n",
        "- 상태 역시 카테고리별로 나눠 eda 진행해볼 필요성 존재\n"
      ],
      "metadata": {
        "id": "GmzmfmUtY-jq"
      }
    },
    {
      "cell_type": "code",
      "source": [
        "x = df_credit_bureau_1_0.contractst_964M\n",
        "print(f\"컬럼명: {x.name}\")\n",
        "print(f\"데이터 타입: {x.dtype}\")\n",
        "print(f\"NA 값: {any(x.isna())}, {x.isna().sum() / x.shape[0]:.10f}\")\n",
        "print(f\"Categories: {len(x.unique())},{ x.unique()}\")\n",
        "print(\"--- Value Counts ---\")\n",
        "x.value_counts()"
      ],
      "metadata": {
        "colab": {
          "base_uri": "https://localhost:8080/"
        },
        "id": "bm_1CdtZmHfo",
        "outputId": "4b7632c3-09e6-454a-f640-28723573a294"
      },
      "execution_count": null,
      "outputs": [
        {
          "output_type": "stream",
          "name": "stdout",
          "text": [
            "컬럼명: contractst_964M\n",
            "데이터 타입: object\n",
            "NA 값: False, 0.0000000000\n",
            "Categories: 156,['a55475b1' '7241344e' '4476359f' '9c5b185b' '88c858bd' 'b83056f9'\n",
            " '8f3a197f' 'fec76166' 'ec24545f' 'd7416962' '99b37d4f' 'dc23998c'\n",
            " '45c45f3e' 'fc4d11b5' '3dc5f434' 'a3386307' '70affaa7' '89721976'\n",
            " '823dcc3b' '6fec7e5a' 'b3d257d6' '0e5ef3a9' '8af2607b' '41694615'\n",
            " 'fb5bb537' '06d8f033' '7640edc3' '4aa8e9a9' '0dc85f9d' 'f42e087b'\n",
            " 'fd624e63' '866fd1ca' 'f7149e7d' 'a1eaca09' 'c288ac5d' '40f2a89d'\n",
            " 'b919198c' 'a72cf06d' 'e57b442b' 'b2f1bf5c' 'ac175213' '9dd1e8a8'\n",
            " 'aa0592d0' '06bb8bb0' '20de729b' '70e97c43' 'ba680094' '6c4189f0'\n",
            " '8260bab9' '0bc37630' 'a13b3828' '04bf6e27' '8ff23ce1' 'a52d5641'\n",
            " '7dae3286' '9dea9bea' '0976db55' '89c856d6' 'cae5106c' 'd25ebcc6'\n",
            " '1ba77602' '885ce291' 'c9a96633' '25c364c5' '6d2380c9' '3d18d6ef'\n",
            " 'f1e73b19' '4462144e' '53033298' 'a04ef3dc' 'f7394eb0' 'b6c22a8c'\n",
            " '90d9e529' '1f494995' 'be9e15dc' 'ed8c6655' 'ef4b2e3c' '7be8d958'\n",
            " 'd7162397' 'c0187f17' '02699f0c' '98d87078' '8456b067' '96f91efb'\n",
            " '83931972' '342de3a1' 'ed83b8b7' '4ba507fb' '642495b0' '88098bd3'\n",
            " '109c0241' 'ad6778a7' 'c98a5e22' 'be389466' '3007e0e7' 'e6f25047'\n",
            " '6c4d2377' '63ebcc42' '8f35d1aa' 'e16cd716' 'c9b445db' '5f78510b'\n",
            " 'eaf5464c' 'ccfa4a87' '953042e4' '731da4bd' '6260fc99' '8cbee058'\n",
            " 'fc918d85' 'ba1f9cb6' '84d34b94' '54132f86' 'e626f221' '25704c4a'\n",
            " 'b5aee7a5' 'd692b98e' 'b467764d' '7c956d77' 'ec535951' 'fc8b6663'\n",
            " 'c44754ae' '6c327ded' 'ce70bd69' '8813d57e' '888fa774' '7c3a4583'\n",
            " 'a8b84c0b' 'e06c54e4' 'ac6dce3c' 'e6697cc1' 'dd67cff0' '80fac3c6'\n",
            " '17deba71' 'e51c6000' '38b74d51' '3a4d5b4f' '68eb25a8' '6901079a'\n",
            " 'b0a06c3d' '51de5a59' 'f82a22bc' 'f3f3567a' '6dd32533' 'f171a879'\n",
            " '3124308f' 'c9a8ffff' 'ad725f07' 'ac49f7e1' '51bcf402' 'fb43439d'\n",
            " 'bc131ccb' 'a1531290' '97c1f9a3' 'c45a5983' '53365381' '12d3446b']\n",
            "--- Value Counts ---\n"
          ]
        },
        {
          "output_type": "execute_result",
          "data": {
            "text/plain": [
              "a55475b1    3651620\n",
              "7241344e     424070\n",
              "8f3a197f       8369\n",
              "a3386307       4866\n",
              "8260bab9       3278\n",
              "             ...   \n",
              "ed83b8b7          1\n",
              "fb5bb537          1\n",
              "dd67cff0          1\n",
              "80fac3c6          1\n",
              "12d3446b          1\n",
              "Name: contractst_964M, Length: 156, dtype: int64"
            ]
          },
          "metadata": {},
          "execution_count": 88
        }
      ]
    },
    {
      "cell_type": "markdown",
      "source": [
        "## -------- 여기서 부턴 credit contract 도 포함 -----------"
      ],
      "metadata": {
        "id": "cCrcAkySoW5o"
      }
    },
    {
      "cell_type": "markdown",
      "source": [
        "## credlmt_230A\n",
        "- credit bureau에서의 종료된 `신용` 계약의 신용 한도 금액\n",
        "\n",
        "> **해석**\n",
        "- 신용한도가 높을수록, 고객의 신용도(신용력)이 높을 가능성"
      ],
      "metadata": {
        "id": "Shs5S10llFwZ"
      }
    },
    {
      "cell_type": "code",
      "source": [
        "x = df_credit_bureau_1_0.credlmt_230A\n",
        "print(f\"컬럼명: {x.name}\")\n",
        "print(f\"데이터 타입: {x.dtype}\")\n",
        "print(f\"(min, max) = {x.min()}, {x.max()}\")\n",
        "print(f\"NA 값: {any(x.isna())}, {x.isna().sum() / x.shape[0]:.10f}\")\n",
        "print(f\"(null, 0, >0) = {x.isna().sum(), (x == 0.0).sum(), (x > 0.0).sum()}\")\n",
        "# print(f\"평균: {x[x > 0].mean()}\")\n",
        "# print(f\"중간값(0이상): {x[x > 0].median()}\")\n",
        "print(f\"평균: {x.mean()}\")\n",
        "print(f\"중간값: {x.median()}\")"
      ],
      "metadata": {
        "colab": {
          "base_uri": "https://localhost:8080/"
        },
        "id": "ls0tJ4a1ksYN",
        "outputId": "fc8bc788-4b06-4d99-f22d-79ba364127f0"
      },
      "execution_count": null,
      "outputs": [
        {
          "output_type": "stream",
          "name": "stdout",
          "text": [
            "컬럼명: credlmt_230A\n",
            "데이터 타입: float64\n",
            "(min, max) = 0.0, 100000000.0\n",
            "NA 값: True, 0.9843498826\n",
            "(null, 0, >0) = (4043918, 23584, 40710)\n",
            "평균: 35626.14771547791\n",
            "중간값: 12785.9\n"
          ]
        }
      ]
    },
    {
      "cell_type": "markdown",
      "source": [
        "## credlmt_935A\n",
        "- 현재 고객이 가지고 있는 진행 중인 대출 신용 한도 금액\n",
        "\n"
      ],
      "metadata": {
        "id": "Y4isVZqGnhJa"
      }
    },
    {
      "cell_type": "code",
      "source": [
        "x = df_credit_bureau_1_0.credlmt_935A\n",
        "print(f\"컬럼명: {x.name}\")\n",
        "print(f\"데이터 타입: {x.dtype}\")\n",
        "print(f\"(min, max) = {x.min()}, {x.max()}\")\n",
        "print(f\"NA 값: {any(x.isna())}, {x.isna().sum() / x.shape[0]:.10f}\")\n",
        "print(f\"(null, 0, >0) = {x.isna().sum(), (x == 0.0).sum(), (x > 0.0).sum()}\")\n",
        "# print(f\"평균: {x[x > 0].mean()}\")\n",
        "# print(f\"중간값(0이상): {x[x > 0].median()}\")\n",
        "print(f\"평균: {x.mean()}\")\n",
        "print(f\"중간값: {x.median()}\")"
      ],
      "metadata": {
        "colab": {
          "base_uri": "https://localhost:8080/"
        },
        "id": "IzxE1QFwk0wx",
        "outputId": "4c3a78b3-ca2a-42cb-92a7-8a904cc70cf2"
      },
      "execution_count": null,
      "outputs": [
        {
          "output_type": "stream",
          "name": "stdout",
          "text": [
            "컬럼명: credlmt_935A\n",
            "데이터 타입: float64\n",
            "(min, max) = 0.0, 1848000100.0\n",
            "NA 값: True, 0.9274494598\n",
            "(null, 0, >0) = (3810159, 93496, 204557)\n",
            "평균: 99771.4078400808\n",
            "중간값: 20000.0\n"
          ]
        }
      ]
    },
    {
      "cell_type": "markdown",
      "source": [
        "## description_351M\n",
        "- Categorization of clients by credit bureau.\n",
        "- 신용 평가 기관에 의한 고객 분류\n",
        "\n",
        "> **필요논의**\n",
        "- 고객분류에도 a55475b1 해당 항목 가장 많음 --> null 값의 인코딩된 값일 가능성"
      ],
      "metadata": {
        "id": "ZbHllJAa8Icn"
      }
    },
    {
      "cell_type": "code",
      "source": [
        "x = df_credit_bureau_1_0.description_351M\n",
        "print(f\"컬럼명: {x.name}\")\n",
        "print(f\"데이터 타입: {x.dtype}\")\n",
        "print(f\"NA 값: {any(x.isna())}, {x.isna().sum() / x.shape[0]:.10f}\")\n",
        "print(f\"Categories: {len(x.unique())},{ x.unique()}\")\n",
        "print(\"--- Value Counts ---\")\n",
        "x.value_counts()"
      ],
      "metadata": {
        "colab": {
          "base_uri": "https://localhost:8080/"
        },
        "id": "aWJfzaLe7n9K",
        "outputId": "b345f15c-9fa3-461f-cbcb-f6c25a1d8ad6"
      },
      "execution_count": null,
      "outputs": [
        {
          "output_type": "stream",
          "name": "stdout",
          "text": [
            "컬럼명: description_351M\n",
            "데이터 타입: object\n",
            "NA 값: False, 0.0000000000\n",
            "Categories: 12,['a55475b1' 'f8e51f8d' '53179c19' '8a7423d5' '18e98e64' '1d89fa48'\n",
            " '95decc86' '6da7c7ed' '0349102c' '0cb4d552' '0bfbf8f5' '153cfa61']\n",
            "--- Value Counts ---\n"
          ]
        },
        {
          "output_type": "execute_result",
          "data": {
            "text/plain": [
              "a55475b1    4090814\n",
              "6da7c7ed       4102\n",
              "95decc86       2545\n",
              "f8e51f8d       2068\n",
              "0349102c       2039\n",
              "53179c19       1982\n",
              "1d89fa48       1587\n",
              "18e98e64       1553\n",
              "8a7423d5        781\n",
              "0cb4d552        517\n",
              "0bfbf8f5        214\n",
              "153cfa61         10\n",
              "Name: description_351M, dtype: int64"
            ]
          },
          "metadata": {},
          "execution_count": 127
        }
      ]
    },
    {
      "cell_type": "markdown",
      "source": [
        "## --------- 날짜 계산 필요 가능성 컬럼들 -------------\n",
        "\n",
        "- date dtype로 데이터 파이프로 일괄변환 필요성(pandas, df로 eda 진행할 경우)\n",
        "- base file의 date_decision과 날짜 일수로 계산?"
      ],
      "metadata": {
        "id": "aSdcO38t0nOQ"
      }
    },
    {
      "cell_type": "markdown",
      "source": [
        "## dateofcredend_289D\n",
        "- End date of an active credit contract.\n",
        "- active 신용 계약의 종료 날짜\n",
        "- date로 변환"
      ],
      "metadata": {
        "id": "4VGYtHbBoMpI"
      }
    },
    {
      "cell_type": "code",
      "source": [
        "x = df_credit_bureau_1_0.dateofcredend_289D\n",
        "x_dt = pd.to_datetime(x)\n",
        "print(f\"데이터 타입은? {x_dt.dtype}\")\n",
        "print(f\"(min, max) = {x_dt.min().date()}, {x_dt.max().date()}\")\n",
        "print(f\"NA 값이 있나요? {any(x.isna())}, {x.isna().sum()/len(x) * 100}\")\n",
        "print(f\"dayofweek 종류: \\n{x_dt.dt.dayofweek.value_counts().sort_values(ascending=False)}\")"
      ],
      "metadata": {
        "colab": {
          "base_uri": "https://localhost:8080/"
        },
        "id": "5U0cgZK4oLvr",
        "outputId": "a4045a82-d799-4e49-8e0f-4a7d2e5d3795"
      },
      "execution_count": null,
      "outputs": [
        {
          "output_type": "stream",
          "name": "stdout",
          "text": [
            "데이터 타입은? datetime64[ns]\n",
            "(min, max) = 2004-05-29, 2098-01-15\n",
            "NA 값이 있나요? True, 83.97363621935772\n",
            "dayofweek 종류: \n",
            "0.0    105172\n",
            "1.0     98115\n",
            "4.0     92903\n",
            "6.0     92373\n",
            "5.0     90882\n",
            "3.0     90139\n",
            "2.0     88813\n",
            "Name: dateofcredend_289D, dtype: int64\n"
          ]
        }
      ]
    },
    {
      "cell_type": "markdown",
      "source": [
        "## dateofcredend_353D\n",
        "- End date of a closed credit contract.\n",
        "- closed 신용 계약의 종료 날짜\n",
        "- date로 변환"
      ],
      "metadata": {
        "id": "9r4KyrwYvZFr"
      }
    },
    {
      "cell_type": "code",
      "source": [
        "x = df_credit_bureau_1_0.dateofcredend_353D\n",
        "x_dt = pd.to_datetime(x)\n",
        "print(f\"데이터 타입은? {x_dt.dtype}\")\n",
        "print(f\"(min, max) = {x_dt.min().date()}, {x_dt.max().date()}\")\n",
        "print(f\"NA 값이 있나요? {any(x.isna())}, {x.isna().sum()/len(x) * 100}\")\n",
        "print(f\"dayofweek 종류: \\n{x_dt.dt.dayofweek.value_counts().sort_values(ascending=False)}\")"
      ],
      "metadata": {
        "colab": {
          "base_uri": "https://localhost:8080/"
        },
        "id": "VMX6RdCpmCOu",
        "outputId": "320ad745-465c-4fe4-d883-7f27562140f0"
      },
      "execution_count": null,
      "outputs": [
        {
          "output_type": "stream",
          "name": "stdout",
          "text": [
            "데이터 타입은? datetime64[ns]\n",
            "(min, max) = 1900-01-15, 2098-01-15\n",
            "NA 값이 있나요? True, 88.88280351646897\n",
            "dayofweek 종류: \n",
            "4.0    76035\n",
            "0.0    73113\n",
            "3.0    65316\n",
            "2.0    64533\n",
            "1.0    64239\n",
            "5.0    57476\n",
            "6.0    56006\n",
            "Name: dateofcredend_353D, dtype: int64\n"
          ]
        }
      ]
    },
    {
      "cell_type": "markdown",
      "source": [
        "## dateofcredstart_181D\n",
        "- Date when the credit contract was closed.\n",
        "- 특정 실적(신용) 계약이 정식으로 종료된 날짜\n",
        "\n",
        "> **해석**\n",
        "- closed contract가 시작된 날짜(active -> closed로 전환된 날짜)\n",
        "- 아래의 _739D와의 차이는 해당 날짜는 전환된 것만 포함, 아래는 closed 로 바로 시작된 것도 포함으로 예상"
      ],
      "metadata": {
        "id": "VxRRDsy2vtgt"
      }
    },
    {
      "cell_type": "code",
      "source": [
        "x = df_credit_bureau_1_0.dateofcredstart_181D\n",
        "x_dt = pd.to_datetime(x)\n",
        "print(f\"데이터 타입은? {x_dt.dtype}\")\n",
        "print(f\"(min, max) = {x_dt.min().date()}, {x_dt.max().date()}\")\n",
        "print(f\"NA 값이 있나요? {any(x.isna())}, {x.isna().sum()/len(x) * 100}\")\n",
        "print(f\"dayofweek 종류: \\n{x_dt.dt.dayofweek.value_counts().sort_values(ascending=False)}\")"
      ],
      "metadata": {
        "colab": {
          "base_uri": "https://localhost:8080/"
        },
        "id": "KnaLtFn2vsb7",
        "outputId": "f3c1284c-d2fb-4ef5-d72c-cab0f9a5b3a1"
      },
      "execution_count": null,
      "outputs": [
        {
          "output_type": "stream",
          "name": "stdout",
          "text": [
            "데이터 타입은? datetime64[ns]\n",
            "(min, max) = 1999-09-15, 2019-07-05\n",
            "NA 값이 있나요? True, 88.88273049199992\n",
            "dayofweek 종류: \n",
            "0.0    75712\n",
            "4.0    75479\n",
            "2.0    75038\n",
            "3.0    74646\n",
            "1.0    74034\n",
            "5.0    44383\n",
            "6.0    37429\n",
            "Name: dateofcredstart_181D, dtype: int64\n"
          ]
        }
      ]
    },
    {
      "cell_type": "markdown",
      "source": [
        "## dateofcredstart_739D\n",
        "- Start date of a closed credit contract.\n",
        "- closed 신용 계약의 시작 날짜\n",
        "- 과거에 특정 closed 신용 계약이 시작된 시점을 의미"
      ],
      "metadata": {
        "id": "THRjV9S6zbL0"
      }
    },
    {
      "cell_type": "code",
      "source": [
        "x = df_credit_bureau_1_0.dateofcredstart_739D\n",
        "x_dt = pd.to_datetime(x)\n",
        "print(f\"데이터 타입은? {x_dt.dtype}\")\n",
        "print(f\"(min, max) = {x_dt.min().date()}, {x_dt.max().date()}\")\n",
        "print(f\"NA 값이 있나요? {any(x.isna())}, {x.isna().sum()/len(x) * 100}\")\n",
        "print(f\"dayofweek 종류: \\n{x_dt.dt.dayofweek.value_counts().sort_values(ascending=False)}\")"
      ],
      "metadata": {
        "colab": {
          "base_uri": "https://localhost:8080/"
        },
        "id": "ThZxbq-PvnqR",
        "outputId": "a8457a0b-870e-434b-e0de-147cd17b393f"
      },
      "execution_count": null,
      "outputs": [
        {
          "output_type": "stream",
          "name": "stdout",
          "text": [
            "데이터 타입은? datetime64[ns]\n",
            "(min, max) = 1999-09-15, 2019-07-06\n",
            "NA 값이 있나요? True, 83.97363621935772\n",
            "dayofweek 종류: \n",
            "4.0    108004\n",
            "0.0    105442\n",
            "2.0    103868\n",
            "1.0    102241\n",
            "3.0    100329\n",
            "5.0     76206\n",
            "6.0     62307\n",
            "Name: dateofcredstart_739D, dtype: int64\n"
          ]
        }
      ]
    },
    {
      "cell_type": "markdown",
      "source": [
        "## dateofrealrepmt_138D\n",
        "- Date of credit's closure (contract termination date).\n",
        "- 신용의 종료 날짜\n",
        "\n",
        "> **해설**\n",
        "- 닫힌 신용 계약(Closed credit contract): 대출 모두 상환하여 계약 종료\n",
        "- 닫힌 신용 계약이 종료되었다고해서, 모든 측면에서 완전히 종료되지 않고 추가적인 사항 남아있을 수 있음\n",
        "  - 보증,담보 반환: 해당 계약과 관련된 보증이나 담보물이 아직 해지되지 않은 상태일 수 있음\n",
        "  - 소송 및 손해배상: 계약 위반에 따른 손해배상 청구가 진행 중인 경우\n",
        "  - 기타 의무: 계약 종료 후에도 일부 의무가 남아있을 수 있음"
      ],
      "metadata": {
        "id": "W_NLcdao11aM"
      }
    },
    {
      "cell_type": "code",
      "source": [
        "x = df_credit_bureau_1_0.dateofrealrepmt_138D\n",
        "x_dt = pd.to_datetime(x)\n",
        "print(f\"데이터 타입은? {x_dt.dtype}\")\n",
        "print(f\"(min, max) = {x_dt.min().date()}, {x_dt.max().date()}\")\n",
        "print(f\"NA 값이 있나요? {any(x.isna())}, {x.isna().sum()/len(x) * 100}\")\n",
        "print(f\"dayofweek 종류: \\n{x_dt.dt.dayofweek.value_counts().sort_values(ascending=False)}\")"
      ],
      "metadata": {
        "colab": {
          "base_uri": "https://localhost:8080/"
        },
        "id": "Xxk7JN2cvgT7",
        "outputId": "94c5abfb-7626-4604-f8db-5b77322d83c2"
      },
      "execution_count": null,
      "outputs": [
        {
          "output_type": "stream",
          "name": "stdout",
          "text": [
            "데이터 타입은? datetime64[ns]\n",
            "(min, max) = 1900-01-15, 2032-03-23\n",
            "NA 값이 있나요? True, 88.95271227482905\n",
            "dayofweek 종류: \n",
            "0.0    84940\n",
            "4.0    84051\n",
            "1.0    77721\n",
            "2.0    74769\n",
            "3.0    74163\n",
            "5.0    33153\n",
            "6.0    25049\n",
            "Name: dateofrealrepmt_138D, dtype: int64\n"
          ]
        }
      ]
    },
    {
      "cell_type": "markdown",
      "source": [
        "## numberofoverdueinstlmaxdat_148D\n",
        "- Date of maximum number of past due instalments for the closed contract.\n",
        "- closed 계약의 최대 연체 할부금 날짜"
      ],
      "metadata": {
        "id": "yYXNjojrxlZJ"
      }
    },
    {
      "cell_type": "code",
      "source": [
        "x = df_credit_bureau_1_0.numberofoverdueinstlmaxdat_148D\n",
        "x_dt = pd.to_datetime(x)\n",
        "print(f\"데이터 타입은? {x_dt.dtype}\")\n",
        "print(f\"(min, max) = {x_dt.min().date()}, {x_dt.max().date()}\")\n",
        "print(f\"NA 값이 있나요? {any(x.isna())}, {x.isna().sum()/len(x) * 100}\")\n",
        "print(f\"dayofweek 종류: \\n{x_dt.dt.dayofweek.value_counts().sort_values(ascending=False)}\")"
      ],
      "metadata": {
        "colab": {
          "base_uri": "https://localhost:8080/"
        },
        "id": "C4nKfLMPxlZJ",
        "outputId": "f21180dd-3eda-489a-b19e-a0bdb87b2e7e"
      },
      "execution_count": null,
      "outputs": [
        {
          "output_type": "stream",
          "name": "stdout",
          "text": [
            "데이터 타입은? datetime64[ns]\n",
            "(min, max) = 2004-04-12, 2019-07-03\n",
            "NA 값이 있나요? True, 96.66721191603548\n",
            "dayofweek 종류: \n",
            "1.0    31963\n",
            "3.0    27109\n",
            "2.0    21573\n",
            "0.0    17919\n",
            "4.0    15308\n",
            "5.0    11851\n",
            "6.0    11195\n",
            "Name: numberofoverdueinstlmaxdat_148D, dtype: int64\n"
          ]
        }
      ]
    },
    {
      "cell_type": "markdown",
      "source": [
        "## numberofoverdueinstlmaxdat_641D\n",
        "- Date of maximum number of past due instalments for the active contract.\n",
        "- active 계약의 최대 연체 할부금 날짜"
      ],
      "metadata": {
        "id": "FKAXtjJJxlrx"
      }
    },
    {
      "cell_type": "code",
      "source": [
        "x = df_credit_bureau_1_0.numberofoverdueinstlmaxdat_641D\n",
        "x_dt = pd.to_datetime(x)\n",
        "print(f\"데이터 타입은? {x_dt.dtype}\")\n",
        "print(f\"(min, max) = {x_dt.min().date()}, {x_dt.max().date()}\")\n",
        "print(f\"NA 값이 있나요? {any(x.isna())}, {x.isna().sum()/len(x) * 100}\")\n",
        "print(f\"dayofweek 종류: \\n{x_dt.dt.dayofweek.value_counts().sort_values(ascending=False)}\")"
      ],
      "metadata": {
        "colab": {
          "base_uri": "https://localhost:8080/"
        },
        "id": "GOnO_MT5xlry",
        "outputId": "9329bf75-342c-41ba-ace8-f3bcb8a39c4c"
      },
      "execution_count": null,
      "outputs": [
        {
          "output_type": "stream",
          "name": "stdout",
          "text": [
            "데이터 타입은? datetime64[ns]\n",
            "(min, max) = 2007-07-15, 2019-07-08\n",
            "NA 값이 있나요? True, 95.91162773488807\n",
            "dayofweek 종류: \n",
            "1.0    39590\n",
            "3.0    34671\n",
            "5.0    32821\n",
            "2.0    20536\n",
            "4.0    17229\n",
            "0.0    13666\n",
            "6.0     9446\n",
            "Name: numberofoverdueinstlmaxdat_641D, dtype: int64\n"
          ]
        }
      ]
    },
    {
      "cell_type": "markdown",
      "source": [
        "## overdueamountmax2date_1142D\n",
        "- Date of maximal past due amount for an active contract.\n",
        "- active 계약에서 발생한 최대 지연된 금액의 날짜"
      ],
      "metadata": {
        "id": "TiJOm43f6F0q"
      }
    },
    {
      "cell_type": "code",
      "source": [
        "x = df_credit_bureau_1_0.overdueamountmax2date_1142D\n",
        "x_dt = pd.to_datetime(x)\n",
        "print(f\"데이터 타입은? {x_dt.dtype}\")\n",
        "print(f\"(min, max) = {x_dt.min().date()}, {x_dt.max().date()}\")\n",
        "print(f\"NA 값이 있나요? {any(x.isna())}, {x.isna().sum()/len(x) * 100}\")\n",
        "print(f\"dayofweek 종류: \\n{x_dt.dt.dayofweek.value_counts().sort_values(ascending=False)}\")"
      ],
      "metadata": {
        "colab": {
          "base_uri": "https://localhost:8080/"
        },
        "id": "IrnTZ5GB6FlR",
        "outputId": "e28d2703-91d2-4d77-fe05-46dfbdb7ffe5"
      },
      "execution_count": null,
      "outputs": [
        {
          "output_type": "stream",
          "name": "stdout",
          "text": [
            "데이터 타입은? datetime64[ns]\n",
            "(min, max) = 2007-04-30, 2019-07-08\n",
            "NA 값이 있나요? True, 95.87143993542689\n",
            "dayofweek 종류: \n",
            "1.0    40313\n",
            "3.0    34814\n",
            "5.0    34330\n",
            "2.0    20169\n",
            "4.0    17161\n",
            "0.0    14022\n",
            "6.0     8801\n",
            "Name: overdueamountmax2date_1142D, dtype: int64\n"
          ]
        }
      ]
    },
    {
      "cell_type": "markdown",
      "source": [
        "## overdueamountmax2date_1002D\n",
        "- Date of maximal past due amount for a closed contract\n",
        "- closed 계약에서 발생한 최대 지연된 금액의 날짜"
      ],
      "metadata": {
        "id": "l9LyvQDu6CB4"
      }
    },
    {
      "cell_type": "code",
      "source": [
        "x = df_credit_bureau_1_0.overdueamountmax2date_1002D\n",
        "x_dt = pd.to_datetime(x)\n",
        "print(f\"데이터 타입은? {x_dt.dtype}\")\n",
        "print(f\"(min, max) = {x_dt.min().date()}, {x_dt.max().date()}\")\n",
        "print(f\"NA 값이 있나요? {any(x.isna())}, {x.isna().sum()/len(x) * 100}\")\n",
        "print(f\"dayofweek 종류: \\n{x_dt.dt.dayofweek.value_counts().sort_values(ascending=False)}\")"
      ],
      "metadata": {
        "colab": {
          "base_uri": "https://localhost:8080/"
        },
        "id": "ZDNJ3G986LJ4",
        "outputId": "10160341-ae14-4654-cf5a-7a14dd83842d"
      },
      "execution_count": null,
      "outputs": [
        {
          "output_type": "stream",
          "name": "stdout",
          "text": [
            "데이터 타입은? datetime64[ns]\n",
            "(min, max) = 2004-10-01, 2019-07-03\n",
            "NA 값이 있나요? True, 96.70277483245752\n",
            "dayofweek 종류: \n",
            "3.0    28607\n",
            "1.0    27943\n",
            "2.0    21111\n",
            "0.0    19634\n",
            "4.0    15065\n",
            "5.0    13050\n",
            "6.0    10047\n",
            "Name: overdueamountmax2date_1002D, dtype: int64\n"
          ]
        }
      ]
    },
    {
      "cell_type": "markdown",
      "source": [
        "## overdueamountmaxdatemonth_284T\n",
        "- Month when the maximum past due amount occurred for a closed contract.\n",
        "- closed 계약에서 최대 지연된 금액이 발생한 월"
      ],
      "metadata": {
        "id": "8u5DNocn6OKX"
      }
    },
    {
      "cell_type": "code",
      "source": [
        "x = df_credit_bureau_1_0.overdueamountmaxdatemonth_284T\n",
        "\n",
        "print(f\"컬럼명: {x.name}\")\n",
        "print(f\"데이터 타입: {x.dtype}\")\n",
        "print(f\"(min, max) = {x.min()}, {x.max()}\")\n",
        "print(f\"NA 값: {any(x.isna())}, {x.isna().sum() / x.shape[0]:.10f}\")\n",
        "print(f\"(null, 0, >0) = {x.isna().sum(), (x == 0.0).sum(), (x > 0.0).sum()}\")\n",
        "#print(f\"평균: {x.mean()}\")\n",
        "#print(f\"중간값: {x.median()}\")\n",
        "print(f\"----- Value_count ------ \\n{x.value_counts()}\")"
      ],
      "metadata": {
        "colab": {
          "base_uri": "https://localhost:8080/"
        },
        "id": "5ojN2NSF6VWs",
        "outputId": "912d09ae-f07b-40ec-92a1-afb090a3b19b"
      },
      "execution_count": null,
      "outputs": [
        {
          "output_type": "stream",
          "name": "stdout",
          "text": [
            "컬럼명: overdueamountmaxdatemonth_284T\n",
            "데이터 타입: float64\n",
            "(min, max) = 1.0, 12.0\n",
            "NA 값: True, 0.8927105028\n",
            "(null, 0, >0) = (3667444, 0, 440768)\n",
            "----- Value_count ------ \n",
            "11.0    40773\n",
            "1.0     40344\n",
            "6.0     39766\n",
            "7.0     37426\n",
            "8.0     37032\n",
            "9.0     36933\n",
            "10.0    36091\n",
            "2.0     35345\n",
            "12.0    35224\n",
            "5.0     34824\n",
            "4.0     33658\n",
            "3.0     33352\n",
            "Name: overdueamountmaxdatemonth_284T, dtype: int64\n"
          ]
        }
      ]
    },
    {
      "cell_type": "markdown",
      "source": [
        "## overdueamountmaxdatemonth_365T\n",
        "- Month when maximum past due amount occurred for an active contract.\n",
        "- active 계약에서 최대 지연된 금액이 발생한 월"
      ],
      "metadata": {
        "id": "7EjmfyXR6UZi"
      }
    },
    {
      "cell_type": "code",
      "source": [
        "x = df_credit_bureau_1_0.overdueamountmaxdatemonth_365T\n",
        "\n",
        "print(f\"컬럼명: {x.name}\")\n",
        "print(f\"데이터 타입: {x.dtype}\")\n",
        "print(f\"(min, max) = {x.min()}, {x.max()}\")\n",
        "print(f\"NA 값: {any(x.isna())}, {x.isna().sum() / x.shape[0]:.10f}\")\n",
        "print(f\"(null, 0, >0) = {x.isna().sum(), (x == 0.0).sum(), (x > 0.0).sum()}\")\n",
        "#print(f\"평균: {x.mean()}\")\n",
        "#print(f\"중간값: {x.median()}\")\n",
        "print(f\"----- Value_count ------ \\n{x.value_counts()}\")"
      ],
      "metadata": {
        "colab": {
          "base_uri": "https://localhost:8080/"
        },
        "id": "ci-b1k7x7Xda",
        "outputId": "fcfcdebc-c5ce-4d0f-b906-7f137d209d20"
      },
      "execution_count": null,
      "outputs": [
        {
          "output_type": "stream",
          "name": "stdout",
          "text": [
            "컬럼명: overdueamountmaxdatemonth_365T\n",
            "데이터 타입: float64\n",
            "(min, max) = 1.0, 12.0\n",
            "NA 값: True, 0.8397363622\n",
            "(null, 0, >0) = (3449815, 0, 658397)\n",
            "----- Value_count ------ \n",
            "6.0     63956\n",
            "1.0     61658\n",
            "5.0     60303\n",
            "7.0     59992\n",
            "4.0     58327\n",
            "2.0     55159\n",
            "3.0     54766\n",
            "8.0     52365\n",
            "12.0    52045\n",
            "10.0    51586\n",
            "11.0    46721\n",
            "9.0     41519\n",
            "Name: overdueamountmaxdatemonth_365T, dtype: int64\n"
          ]
        }
      ]
    },
    {
      "cell_type": "markdown",
      "source": [
        "## overdueamountmaxdateyear_2T\n",
        "- Year when the maximum past due amount occurred for active contracts.\n",
        "- active 계약에서 최대 지연된 금액이 발생한 연도"
      ],
      "metadata": {
        "id": "sYoR_lPk7X4O"
      }
    },
    {
      "cell_type": "code",
      "source": [
        "x = df_credit_bureau_1_0.overdueamountmaxdateyear_2T\n",
        "print(f\"컬럼명: {x.name}\")\n",
        "print(f\"데이터 타입: {x.dtype}\")\n",
        "print(f\"(min, max) = {x.min()}, {x.max()}\")\n",
        "print(f\"NA 값: {any(x.isna())}, {x.isna().sum() / x.shape[0]:.10f}\")\n",
        "print(f\"(null, 0, >0) = {x.isna().sum(), (x == 0.0).sum(), (x > 0.0).sum()}\")\n",
        "#print(f\"평균: {x.mean()}\")\n",
        "#print(f\"중간값: {x.median()}\")\n",
        "print(f\"----- Value_count ------ \\n{x.value_counts()}\")"
      ],
      "metadata": {
        "colab": {
          "base_uri": "https://localhost:8080/"
        },
        "id": "oN437dlC7b4B",
        "outputId": "6d005945-1602-4af0-ed03-474d0e3f562e"
      },
      "execution_count": null,
      "outputs": [
        {
          "output_type": "stream",
          "name": "stdout",
          "text": [
            "컬럼명: overdueamountmaxdateyear_2T\n",
            "데이터 타입: float64\n",
            "(min, max) = 2015.0, 2019.0\n",
            "NA 값: True, 0.8397363622\n",
            "(null, 0, >0) = (3449815, 0, 658397)\n",
            "----- Value_count ------ \n",
            "2018.0    301881\n",
            "2017.0    185839\n",
            "2019.0    170570\n",
            "2016.0        89\n",
            "2015.0        18\n",
            "Name: overdueamountmaxdateyear_2T, dtype: int64\n"
          ]
        }
      ]
    },
    {
      "cell_type": "markdown",
      "source": [
        "## overdueamountmaxdateyear_994T\n",
        "- Year when maximum past due amount occurred for closed contract.\n",
        "- closed 계약에서 최대 지연된 금액이 발생한 연도"
      ],
      "metadata": {
        "id": "XMLz-r6u7eBj"
      }
    },
    {
      "cell_type": "code",
      "source": [
        "x = df_credit_bureau_1_0.overdueamountmaxdateyear_994T\n",
        "\n",
        "print(f\"컬럼명: {x.name}\")\n",
        "print(f\"데이터 타입: {x.dtype}\")\n",
        "print(f\"(min, max) = {x.min()}, {x.max()}\")\n",
        "print(f\"NA 값: {any(x.isna())}, {x.isna().sum() / x.shape[0]:.10f}\")\n",
        "print(f\"(null, 0, >0) = {x.isna().sum(), (x == 0.0).sum(), (x > 0.0).sum()}\")\n",
        "#print(f\"평균: {x.mean()}\")\n",
        "#print(f\"중간값: {x.median()}\")\n",
        "print(f\"----- Value_count ------ \\n{x.value_counts()}\")"
      ],
      "metadata": {
        "colab": {
          "base_uri": "https://localhost:8080/"
        },
        "id": "SFA7Q1ZU--HK",
        "outputId": "23e9ef54-2466-4184-d095-0ac35e857ac6"
      },
      "execution_count": null,
      "outputs": [
        {
          "output_type": "stream",
          "name": "stdout",
          "text": [
            "컬럼명: overdueamountmaxdateyear_994T\n",
            "데이터 타입: float64\n",
            "(min, max) = 2003.0, 2019.0\n",
            "NA 값: True, 0.8927105028\n",
            "(null, 0, >0) = (3667444, 0, 440768)\n",
            "----- Value_count ------ \n",
            "2018.0    72373\n",
            "2017.0    62531\n",
            "2016.0    45628\n",
            "2015.0    40580\n",
            "2014.0    35967\n",
            "2013.0    31783\n",
            "2012.0    25249\n",
            "2011.0    21754\n",
            "2007.0    20067\n",
            "2010.0    18949\n",
            "2008.0    17495\n",
            "2009.0    17017\n",
            "2019.0    15735\n",
            "2006.0    11999\n",
            "2005.0     3493\n",
            "2004.0      147\n",
            "2003.0        1\n",
            "Name: overdueamountmaxdateyear_994T, dtype: int64\n"
          ]
        }
      ]
    },
    {
      "cell_type": "markdown",
      "source": [
        "## lastupdate_1112D\n",
        "- Date of last update for an active contract from credit bureau.\n",
        "- 신용기관에 기록된 active 계약의 최근 업데이트 날짜"
      ],
      "metadata": {
        "id": "Pe2h8Q2lQ2u4"
      }
    },
    {
      "cell_type": "code",
      "source": [
        "x = df_credit_bureau_1_0.lastupdate_1112D\n",
        "x_dt = pd.to_datetime(x)\n",
        "print(f\"데이터 타입은? {x_dt.dtype}\")\n",
        "print(f\"(min, max) = {x_dt.min().date()}, {x_dt.max().date()}\")\n",
        "print(f\"NA 값이 있나요? {any(x.isna())}, {x.isna().sum()/len(x) * 100}\")\n",
        "print(f\"dayofweek 종류: \\n{x_dt.dt.dayofweek.value_counts().sort_values(ascending=False)}\")"
      ],
      "metadata": {
        "colab": {
          "base_uri": "https://localhost:8080/"
        },
        "id": "4raePH2QQy4a",
        "outputId": "2420b38b-7093-4e17-f61b-c10ab2d2c2d5"
      },
      "execution_count": null,
      "outputs": [
        {
          "output_type": "stream",
          "name": "stdout",
          "text": [
            "데이터 타입은? datetime64[ns]\n",
            "(min, max) = 2017-09-22, 2019-07-08\n",
            "NA 값이 있나요? True, 83.97363621935772\n",
            "dayofweek 종류: \n",
            "1.0    284622\n",
            "3.0    131684\n",
            "2.0    104162\n",
            "4.0     60610\n",
            "0.0     58536\n",
            "6.0      9405\n",
            "5.0      9378\n",
            "Name: lastupdate_1112D, dtype: int64\n"
          ]
        }
      ]
    },
    {
      "cell_type": "markdown",
      "source": [
        "## lastupdate_388D\n",
        "- Date of last update for an a closed contract from credit bureau.\n",
        "- 신용기관에 기록된 closed 계약의 최근 업데이트 날짜"
      ],
      "metadata": {
        "id": "drFGvJkaQ_it"
      }
    },
    {
      "cell_type": "code",
      "source": [
        "x = df_credit_bureau_1_0.lastupdate_388D\n",
        "x_dt = pd.to_datetime(x)\n",
        "print(f\"데이터 타입은? {x_dt.dtype}\")\n",
        "print(f\"(min, max) = {x_dt.min().date()}, {x_dt.max().date()}\")\n",
        "print(f\"NA 값이 있나요? {any(x.isna())}, {x.isna().sum()/len(x) * 100}\")\n",
        "print(f\"dayofweek 종류: \\n{x_dt.dt.dayofweek.value_counts().sort_values(ascending=False)}\")"
      ],
      "metadata": {
        "colab": {
          "base_uri": "https://localhost:8080/"
        },
        "id": "Mbt1llsrQ_i2",
        "outputId": "7cf492eb-f3b7-47c2-a514-822285dfbc91"
      },
      "execution_count": null,
      "outputs": [
        {
          "output_type": "stream",
          "name": "stdout",
          "text": [
            "데이터 타입은? datetime64[ns]\n",
            "(min, max) = 2004-08-30, 2019-07-08\n",
            "NA 값이 있나요? True, 88.88309561434512\n",
            "dayofweek 종류: \n",
            "1.0    85827\n",
            "3.0    75711\n",
            "4.0    73431\n",
            "2.0    65326\n",
            "0.0    56508\n",
            "5.0    54171\n",
            "6.0    45732\n",
            "Name: lastupdate_388D, dtype: int64\n"
          ]
        }
      ]
    },
    {
      "cell_type": "markdown",
      "source": [
        "## ----------- 연체, 미지급 관련 ----------------\n",
        "- outstanding(미납) vs. overdue(연체)\n",
        "  - outstanding: 원래 예정된 지불 기한을 넘어서 미지급된 금액\n",
        "  - overdue: 대출의 만기일을 이미 지난 채 지불되지 않은 금액. 즉, 기한 내에 지불되지 않은 연체된 금액 --> outstanding 금액이 지불 기한을 초과하여 미지불 상태로 남아 있으면 이후에는 overdue amount로 간주\n",
        "  > cf) 대출 약정에서 overdue 금액이 적용되는 기준은 일반적으로 대출 계약서에 명시, 대부분의 경우, 지불 기한을 넘긴 경우 발생하는 overdue 금액에 대한 세부 내용은 대출 약정서에 기재되어 있으며, 그 안에는 연체 이자율, 유예 기간, overdue 금액이 발생하는 상황 등이 포함\n",
        "  -> 지불 기한을 넘긴 후부터 overdue interest(연체이자) 역시 발생하게 됨\n",
        "\n",
        "- residual\n",
        "\n",
        "\n",
        "> 궁금증\n",
        "- outstanding의 범위:\n",
        "  - 1) the total amount that is currently due and has not been paid. (past due + current due)\n",
        "  - 2) Just past due"
      ],
      "metadata": {
        "id": "NvIQkWHH98qP"
      }
    },
    {
      "cell_type": "markdown",
      "source": [
        "## debtoutstand_525A\n",
        "- Outstanding amount of existing contract.\n",
        "- 현재 존재하는 계약의 미지급 금액\n",
        "\n",
        "> **필요논의**\n",
        "- 미지급 금액이 높은 고객은 대출 불이행 가능성이 높을 것"
      ],
      "metadata": {
        "id": "9uNaZdOR6xCF"
      }
    },
    {
      "cell_type": "code",
      "source": [
        "x = df_credit_bureau_1_0.debtoutstand_525A\n",
        "print(f\"컬럼명: {x.name}\")\n",
        "print(f\"데이터 타입: {x.dtype}\")\n",
        "print(f\"(min, max) = {x.min()}, {x.max()}\")\n",
        "print(f\"NA 값: {any(x.isna())}, {x.isna().sum() / x.shape[0]:.10f}\")\n",
        "print(f\"(null, 0, >0) = {x.isna().sum(), (x == 0.0).sum(), (x > 0.0).sum()}\")\n",
        "# print(f\"평균: {x[x > 0].mean()}\")\n",
        "# print(f\"중간값(0이상): {x[x > 0].median()}\")\n",
        "print(f\"평균: {x.mean()}\")\n",
        "print(f\"중간값: {x.median()}\")"
      ],
      "metadata": {
        "colab": {
          "base_uri": "https://localhost:8080/"
        },
        "id": "lC1NnSMl2eDJ",
        "outputId": "b9854280-67c1-4738-fa73-f94a2185eec3"
      },
      "execution_count": null,
      "outputs": [
        {
          "output_type": "stream",
          "name": "stdout",
          "text": [
            "컬럼명: debtoutstand_525A\n",
            "데이터 타입: float64\n",
            "(min, max) = 0.0, 1688617600.0\n",
            "NA 값: True, 0.9185010413\n",
            "(null, 0, >0) = (3773397, 46802, 288013)\n",
            "평균: 198169.0395671471\n",
            "중간값: 54350.105\n"
          ]
        }
      ]
    },
    {
      "cell_type": "markdown",
      "source": [
        "## debtoverdue_47A\n",
        "- Amount that is currently past due on a client's existing credit contract.\n",
        "- 현재 연체중인 금액\n",
        "\n",
        "> **필요논의**\n",
        "- 연체 중인 금액이 높은 고객은 대출 불이행 가능성이 높을 것\n"
      ],
      "metadata": {
        "id": "rZUAfzSb7hPG"
      }
    },
    {
      "cell_type": "code",
      "source": [
        "x = df_credit_bureau_1_0.debtoverdue_47A\n",
        "print(f\"컬럼명: {x.name}\")\n",
        "print(f\"데이터 타입: {x.dtype}\")\n",
        "print(f\"(min, max) = {x.min()}, {x.max()}\")\n",
        "print(f\"NA 값: {any(x.isna())}, {x.isna().sum() / x.shape[0]:.10f}\")\n",
        "print(f\"(null, 0, >0) = {x.isna().sum(), (x == 0.0).sum(), (x > 0.0).sum()}\")\n",
        "# print(f\"평균: {x[x > 0].mean()}\")\n",
        "# print(f\"중간값(0이상): {x[x > 0].median()}\")\n",
        "print(f\"평균: {x.mean()}\")\n",
        "print(f\"중간값: {x.median()}\")"
      ],
      "metadata": {
        "colab": {
          "base_uri": "https://localhost:8080/"
        },
        "id": "qLf8hidh7I2j",
        "outputId": "93f0221c-2d25-4604-a6dd-d80196823087"
      },
      "execution_count": null,
      "outputs": [
        {
          "output_type": "stream",
          "name": "stdout",
          "text": [
            "컬럼명: debtoverdue_47A\n",
            "데이터 타입: float64\n",
            "(min, max) = 0.0, 49005736.0\n",
            "NA 값: True, 0.9185010413\n",
            "(null, 0, >0) = (3773397, 317743, 17072)\n",
            "평균: 1819.2730378064991\n",
            "중간값: 0.0\n"
          ]
        }
      ]
    },
    {
      "cell_type": "markdown",
      "source": [
        "## residualamount_488A\n",
        "- Residual amount of a closed contract.\n",
        "- closed 계약에서 남은 지불 금액\n",
        "\n",
        ">**해설**\n",
        "- 1개의 row만 53555.54 값 존재\n",
        "\n",
        ">**필요논의**\n",
        "- 해당 컬럼의 필요유무\n",
        "- 종료된 금액에서의 residual amount?(연체 혹은 미납이 아닌 단지 남은 금액이라는 의미에서 해당 1개의 값의 의미?)"
      ],
      "metadata": {
        "id": "Ixcxd8ya1oqa"
      }
    },
    {
      "cell_type": "code",
      "source": [
        "x = df_credit_bureau_1_0.residualamount_488A\n",
        "print(f\"컬럼명: {x.name}\")\n",
        "print(f\"데이터 타입: {x.dtype}\")\n",
        "print(f\"(min, max) = {x.min()}, {x.max()}\")\n",
        "print(f\"NA 값: {any(x.isna())}, {x.isna().sum() / x.shape[0]:.10f}\")\n",
        "print(f\"(null, 0, >0) = {x.isna().sum(), (x == 0.0).sum(), (x > 0.0).sum()}\")\n",
        "# print(f\"평균: {x[x > 0].mean()}\")\n",
        "# print(f\"중간값(0이상): {x[x > 0].median()}\")\n",
        "print(f\"평균: {x.mean()}\")\n",
        "print(f\"중간값: {x.median()}\")"
      ],
      "metadata": {
        "colab": {
          "base_uri": "https://localhost:8080/"
        },
        "id": "OIFnnKmF1uF2",
        "outputId": "a3132299-2dd0-4c3d-9a09-1fc63f976dfe"
      },
      "execution_count": null,
      "outputs": [
        {
          "output_type": "stream",
          "name": "stdout",
          "text": [
            "컬럼명: residualamount_488A\n",
            "데이터 타입: float64\n",
            "(min, max) = 0.0, 53555.54\n",
            "NA 값: True, 0.9844798662\n",
            "(null, 0, >0) = (4044452, 63759, 1)\n",
            "평균: 0.8399551442910916\n",
            "중간값: 0.0\n"
          ]
        }
      ]
    },
    {
      "cell_type": "code",
      "source": [
        "x[x>0]"
      ],
      "metadata": {
        "colab": {
          "base_uri": "https://localhost:8080/"
        },
        "id": "igO1kpog6Gpg",
        "outputId": "1933dfae-654e-4a88-d5e9-508473b7bc45"
      },
      "execution_count": null,
      "outputs": [
        {
          "output_type": "execute_result",
          "data": {
            "text/plain": [
              "1550189    53555.54\n",
              "Name: residualamount_488A, dtype: float64"
            ]
          },
          "metadata": {},
          "execution_count": 46
        }
      ]
    },
    {
      "cell_type": "markdown",
      "source": [
        "## residualamount_856A\n",
        "- Residual amount of the active contract\n",
        "- active 계약에서 남은 지불 금액\n",
        "\n",
        ">**해석**\n",
        "- 지불 기한을 넘기지 않은 범위에서 상환해야 하는 금액\n",
        "- 일반적으로 debt outstanding amount에 포함되는 값이나, residual 이 outstading amount보다 더 큰경우에 대한 해석은..?\n",
        "\n",
        ">**필요논의**\n",
        "- residual > outstanding 의 경우 해석?"
      ],
      "metadata": {
        "id": "A9j8WYHk1urc"
      }
    },
    {
      "cell_type": "code",
      "source": [
        "x = df_credit_bureau_1_0.residualamount_856A\n",
        "print(f\"컬럼명: {x.name}\")\n",
        "print(f\"데이터 타입: {x.dtype}\")\n",
        "print(f\"(min, max) = {x.min()}, {x.max()}\")\n",
        "print(f\"NA 값: {any(x.isna())}, {x.isna().sum() / x.shape[0]:.10f}\")\n",
        "print(f\"(null, 0, >0) = {x.isna().sum(), (x == 0.0).sum(), (x > 0.0).sum()}\")\n",
        "# print(f\"평균: {x[x > 0].mean()}\")\n",
        "# print(f\"중간값(0이상): {x[x > 0].median()}\")\n",
        "print(f\"평균: {x.mean()}\")\n",
        "print(f\"중간값: {x.median()}\")"
      ],
      "metadata": {
        "colab": {
          "base_uri": "https://localhost:8080/"
        },
        "id": "B8VwphT11209",
        "outputId": "1cbc3d0f-8457-49be-8642-e4001db0ab6c"
      },
      "execution_count": null,
      "outputs": [
        {
          "output_type": "stream",
          "name": "stdout",
          "text": [
            "컬럼명: residualamount_856A\n",
            "데이터 타입: float64\n",
            "(min, max) = 0.0, 40000000.0\n",
            "NA 값: True, 0.9281587708\n",
            "(null, 0, >0) = (3813073, 122406, 172733)\n",
            "평균: 29451.451270096994\n",
            "중간값: 5040.0\n"
          ]
        }
      ]
    },
    {
      "cell_type": "code",
      "source": [
        "df_credit_bureau_1_0.loc[x >=0, ['residualamount_856A','debtoutstand_525A', 'debtoverdue_47A']]\n",
        "df_credit_bureau_1_0.loc[(x >=0) & x > df_credit_bureau_1_0['debtoutstand_525A'], ['residualamount_856A','debtoutstand_525A', 'debtoverdue_47A']]\n"
      ],
      "metadata": {
        "colab": {
          "base_uri": "https://localhost:8080/",
          "height": 551
        },
        "id": "5P5D1cwv7adf",
        "outputId": "ca53c53b-c73f-4fc8-d038-f5dded00f92b"
      },
      "execution_count": null,
      "outputs": [
        {
          "output_type": "execute_result",
          "data": {
            "text/plain": [
              "         residualamount_856A  debtoutstand_525A  debtoverdue_47A\n",
              "294983               0.02200              0.022            0.000\n",
              "600665          801447.20000              0.000            0.000\n",
              "633035          164882.23000              0.000            0.000\n",
              "903428               0.01800              0.018            1.112\n",
              "942656               0.88400              0.884            0.000\n",
              "1020500         297833.00000              0.000            0.000\n",
              "1646156              0.55600              0.556            0.000\n",
              "1825693              0.01800              0.018            0.000\n",
              "2046618            266.48203              0.000            0.000\n",
              "2178754          37461.40000              0.000            0.000\n",
              "2179609         274990.28000              0.000            0.000\n",
              "2602121           1055.47400              0.000            0.000\n",
              "2689495              0.30000              0.300            0.000\n",
              "2784057            494.82797              0.000            0.000\n",
              "2929102          26665.20100              0.000            0.000\n",
              "3508571              0.05000              0.050           19.950"
            ],
            "text/html": [
              "\n",
              "  <div id=\"df-bef35b12-1664-41bc-8c72-6046ed9cefe6\" class=\"colab-df-container\">\n",
              "    <div>\n",
              "<style scoped>\n",
              "    .dataframe tbody tr th:only-of-type {\n",
              "        vertical-align: middle;\n",
              "    }\n",
              "\n",
              "    .dataframe tbody tr th {\n",
              "        vertical-align: top;\n",
              "    }\n",
              "\n",
              "    .dataframe thead th {\n",
              "        text-align: right;\n",
              "    }\n",
              "</style>\n",
              "<table border=\"1\" class=\"dataframe\">\n",
              "  <thead>\n",
              "    <tr style=\"text-align: right;\">\n",
              "      <th></th>\n",
              "      <th>residualamount_856A</th>\n",
              "      <th>debtoutstand_525A</th>\n",
              "      <th>debtoverdue_47A</th>\n",
              "    </tr>\n",
              "  </thead>\n",
              "  <tbody>\n",
              "    <tr>\n",
              "      <th>294983</th>\n",
              "      <td>0.02200</td>\n",
              "      <td>0.022</td>\n",
              "      <td>0.000</td>\n",
              "    </tr>\n",
              "    <tr>\n",
              "      <th>600665</th>\n",
              "      <td>801447.20000</td>\n",
              "      <td>0.000</td>\n",
              "      <td>0.000</td>\n",
              "    </tr>\n",
              "    <tr>\n",
              "      <th>633035</th>\n",
              "      <td>164882.23000</td>\n",
              "      <td>0.000</td>\n",
              "      <td>0.000</td>\n",
              "    </tr>\n",
              "    <tr>\n",
              "      <th>903428</th>\n",
              "      <td>0.01800</td>\n",
              "      <td>0.018</td>\n",
              "      <td>1.112</td>\n",
              "    </tr>\n",
              "    <tr>\n",
              "      <th>942656</th>\n",
              "      <td>0.88400</td>\n",
              "      <td>0.884</td>\n",
              "      <td>0.000</td>\n",
              "    </tr>\n",
              "    <tr>\n",
              "      <th>1020500</th>\n",
              "      <td>297833.00000</td>\n",
              "      <td>0.000</td>\n",
              "      <td>0.000</td>\n",
              "    </tr>\n",
              "    <tr>\n",
              "      <th>1646156</th>\n",
              "      <td>0.55600</td>\n",
              "      <td>0.556</td>\n",
              "      <td>0.000</td>\n",
              "    </tr>\n",
              "    <tr>\n",
              "      <th>1825693</th>\n",
              "      <td>0.01800</td>\n",
              "      <td>0.018</td>\n",
              "      <td>0.000</td>\n",
              "    </tr>\n",
              "    <tr>\n",
              "      <th>2046618</th>\n",
              "      <td>266.48203</td>\n",
              "      <td>0.000</td>\n",
              "      <td>0.000</td>\n",
              "    </tr>\n",
              "    <tr>\n",
              "      <th>2178754</th>\n",
              "      <td>37461.40000</td>\n",
              "      <td>0.000</td>\n",
              "      <td>0.000</td>\n",
              "    </tr>\n",
              "    <tr>\n",
              "      <th>2179609</th>\n",
              "      <td>274990.28000</td>\n",
              "      <td>0.000</td>\n",
              "      <td>0.000</td>\n",
              "    </tr>\n",
              "    <tr>\n",
              "      <th>2602121</th>\n",
              "      <td>1055.47400</td>\n",
              "      <td>0.000</td>\n",
              "      <td>0.000</td>\n",
              "    </tr>\n",
              "    <tr>\n",
              "      <th>2689495</th>\n",
              "      <td>0.30000</td>\n",
              "      <td>0.300</td>\n",
              "      <td>0.000</td>\n",
              "    </tr>\n",
              "    <tr>\n",
              "      <th>2784057</th>\n",
              "      <td>494.82797</td>\n",
              "      <td>0.000</td>\n",
              "      <td>0.000</td>\n",
              "    </tr>\n",
              "    <tr>\n",
              "      <th>2929102</th>\n",
              "      <td>26665.20100</td>\n",
              "      <td>0.000</td>\n",
              "      <td>0.000</td>\n",
              "    </tr>\n",
              "    <tr>\n",
              "      <th>3508571</th>\n",
              "      <td>0.05000</td>\n",
              "      <td>0.050</td>\n",
              "      <td>19.950</td>\n",
              "    </tr>\n",
              "  </tbody>\n",
              "</table>\n",
              "</div>\n",
              "    <div class=\"colab-df-buttons\">\n",
              "\n",
              "  <div class=\"colab-df-container\">\n",
              "    <button class=\"colab-df-convert\" onclick=\"convertToInteractive('df-bef35b12-1664-41bc-8c72-6046ed9cefe6')\"\n",
              "            title=\"Convert this dataframe to an interactive table.\"\n",
              "            style=\"display:none;\">\n",
              "\n",
              "  <svg xmlns=\"http://www.w3.org/2000/svg\" height=\"24px\" viewBox=\"0 -960 960 960\">\n",
              "    <path d=\"M120-120v-720h720v720H120Zm60-500h600v-160H180v160Zm220 220h160v-160H400v160Zm0 220h160v-160H400v160ZM180-400h160v-160H180v160Zm440 0h160v-160H620v160ZM180-180h160v-160H180v160Zm440 0h160v-160H620v160Z\"/>\n",
              "  </svg>\n",
              "    </button>\n",
              "\n",
              "  <style>\n",
              "    .colab-df-container {\n",
              "      display:flex;\n",
              "      gap: 12px;\n",
              "    }\n",
              "\n",
              "    .colab-df-convert {\n",
              "      background-color: #E8F0FE;\n",
              "      border: none;\n",
              "      border-radius: 50%;\n",
              "      cursor: pointer;\n",
              "      display: none;\n",
              "      fill: #1967D2;\n",
              "      height: 32px;\n",
              "      padding: 0 0 0 0;\n",
              "      width: 32px;\n",
              "    }\n",
              "\n",
              "    .colab-df-convert:hover {\n",
              "      background-color: #E2EBFA;\n",
              "      box-shadow: 0px 1px 2px rgba(60, 64, 67, 0.3), 0px 1px 3px 1px rgba(60, 64, 67, 0.15);\n",
              "      fill: #174EA6;\n",
              "    }\n",
              "\n",
              "    .colab-df-buttons div {\n",
              "      margin-bottom: 4px;\n",
              "    }\n",
              "\n",
              "    [theme=dark] .colab-df-convert {\n",
              "      background-color: #3B4455;\n",
              "      fill: #D2E3FC;\n",
              "    }\n",
              "\n",
              "    [theme=dark] .colab-df-convert:hover {\n",
              "      background-color: #434B5C;\n",
              "      box-shadow: 0px 1px 3px 1px rgba(0, 0, 0, 0.15);\n",
              "      filter: drop-shadow(0px 1px 2px rgba(0, 0, 0, 0.3));\n",
              "      fill: #FFFFFF;\n",
              "    }\n",
              "  </style>\n",
              "\n",
              "    <script>\n",
              "      const buttonEl =\n",
              "        document.querySelector('#df-bef35b12-1664-41bc-8c72-6046ed9cefe6 button.colab-df-convert');\n",
              "      buttonEl.style.display =\n",
              "        google.colab.kernel.accessAllowed ? 'block' : 'none';\n",
              "\n",
              "      async function convertToInteractive(key) {\n",
              "        const element = document.querySelector('#df-bef35b12-1664-41bc-8c72-6046ed9cefe6');\n",
              "        const dataTable =\n",
              "          await google.colab.kernel.invokeFunction('convertToInteractive',\n",
              "                                                    [key], {});\n",
              "        if (!dataTable) return;\n",
              "\n",
              "        const docLinkHtml = 'Like what you see? Visit the ' +\n",
              "          '<a target=\"_blank\" href=https://colab.research.google.com/notebooks/data_table.ipynb>data table notebook</a>'\n",
              "          + ' to learn more about interactive tables.';\n",
              "        element.innerHTML = '';\n",
              "        dataTable['output_type'] = 'display_data';\n",
              "        await google.colab.output.renderOutput(dataTable, element);\n",
              "        const docLink = document.createElement('div');\n",
              "        docLink.innerHTML = docLinkHtml;\n",
              "        element.appendChild(docLink);\n",
              "      }\n",
              "    </script>\n",
              "  </div>\n",
              "\n",
              "\n",
              "<div id=\"df-af2fcd4d-8dd7-4459-a766-9e4640d9e952\">\n",
              "  <button class=\"colab-df-quickchart\" onclick=\"quickchart('df-af2fcd4d-8dd7-4459-a766-9e4640d9e952')\"\n",
              "            title=\"Suggest charts\"\n",
              "            style=\"display:none;\">\n",
              "\n",
              "<svg xmlns=\"http://www.w3.org/2000/svg\" height=\"24px\"viewBox=\"0 0 24 24\"\n",
              "     width=\"24px\">\n",
              "    <g>\n",
              "        <path d=\"M19 3H5c-1.1 0-2 .9-2 2v14c0 1.1.9 2 2 2h14c1.1 0 2-.9 2-2V5c0-1.1-.9-2-2-2zM9 17H7v-7h2v7zm4 0h-2V7h2v10zm4 0h-2v-4h2v4z\"/>\n",
              "    </g>\n",
              "</svg>\n",
              "  </button>\n",
              "\n",
              "<style>\n",
              "  .colab-df-quickchart {\n",
              "      --bg-color: #E8F0FE;\n",
              "      --fill-color: #1967D2;\n",
              "      --hover-bg-color: #E2EBFA;\n",
              "      --hover-fill-color: #174EA6;\n",
              "      --disabled-fill-color: #AAA;\n",
              "      --disabled-bg-color: #DDD;\n",
              "  }\n",
              "\n",
              "  [theme=dark] .colab-df-quickchart {\n",
              "      --bg-color: #3B4455;\n",
              "      --fill-color: #D2E3FC;\n",
              "      --hover-bg-color: #434B5C;\n",
              "      --hover-fill-color: #FFFFFF;\n",
              "      --disabled-bg-color: #3B4455;\n",
              "      --disabled-fill-color: #666;\n",
              "  }\n",
              "\n",
              "  .colab-df-quickchart {\n",
              "    background-color: var(--bg-color);\n",
              "    border: none;\n",
              "    border-radius: 50%;\n",
              "    cursor: pointer;\n",
              "    display: none;\n",
              "    fill: var(--fill-color);\n",
              "    height: 32px;\n",
              "    padding: 0;\n",
              "    width: 32px;\n",
              "  }\n",
              "\n",
              "  .colab-df-quickchart:hover {\n",
              "    background-color: var(--hover-bg-color);\n",
              "    box-shadow: 0 1px 2px rgba(60, 64, 67, 0.3), 0 1px 3px 1px rgba(60, 64, 67, 0.15);\n",
              "    fill: var(--button-hover-fill-color);\n",
              "  }\n",
              "\n",
              "  .colab-df-quickchart-complete:disabled,\n",
              "  .colab-df-quickchart-complete:disabled:hover {\n",
              "    background-color: var(--disabled-bg-color);\n",
              "    fill: var(--disabled-fill-color);\n",
              "    box-shadow: none;\n",
              "  }\n",
              "\n",
              "  .colab-df-spinner {\n",
              "    border: 2px solid var(--fill-color);\n",
              "    border-color: transparent;\n",
              "    border-bottom-color: var(--fill-color);\n",
              "    animation:\n",
              "      spin 1s steps(1) infinite;\n",
              "  }\n",
              "\n",
              "  @keyframes spin {\n",
              "    0% {\n",
              "      border-color: transparent;\n",
              "      border-bottom-color: var(--fill-color);\n",
              "      border-left-color: var(--fill-color);\n",
              "    }\n",
              "    20% {\n",
              "      border-color: transparent;\n",
              "      border-left-color: var(--fill-color);\n",
              "      border-top-color: var(--fill-color);\n",
              "    }\n",
              "    30% {\n",
              "      border-color: transparent;\n",
              "      border-left-color: var(--fill-color);\n",
              "      border-top-color: var(--fill-color);\n",
              "      border-right-color: var(--fill-color);\n",
              "    }\n",
              "    40% {\n",
              "      border-color: transparent;\n",
              "      border-right-color: var(--fill-color);\n",
              "      border-top-color: var(--fill-color);\n",
              "    }\n",
              "    60% {\n",
              "      border-color: transparent;\n",
              "      border-right-color: var(--fill-color);\n",
              "    }\n",
              "    80% {\n",
              "      border-color: transparent;\n",
              "      border-right-color: var(--fill-color);\n",
              "      border-bottom-color: var(--fill-color);\n",
              "    }\n",
              "    90% {\n",
              "      border-color: transparent;\n",
              "      border-bottom-color: var(--fill-color);\n",
              "    }\n",
              "  }\n",
              "</style>\n",
              "\n",
              "  <script>\n",
              "    async function quickchart(key) {\n",
              "      const quickchartButtonEl =\n",
              "        document.querySelector('#' + key + ' button');\n",
              "      quickchartButtonEl.disabled = true;  // To prevent multiple clicks.\n",
              "      quickchartButtonEl.classList.add('colab-df-spinner');\n",
              "      try {\n",
              "        const charts = await google.colab.kernel.invokeFunction(\n",
              "            'suggestCharts', [key], {});\n",
              "      } catch (error) {\n",
              "        console.error('Error during call to suggestCharts:', error);\n",
              "      }\n",
              "      quickchartButtonEl.classList.remove('colab-df-spinner');\n",
              "      quickchartButtonEl.classList.add('colab-df-quickchart-complete');\n",
              "    }\n",
              "    (() => {\n",
              "      let quickchartButtonEl =\n",
              "        document.querySelector('#df-af2fcd4d-8dd7-4459-a766-9e4640d9e952 button');\n",
              "      quickchartButtonEl.style.display =\n",
              "        google.colab.kernel.accessAllowed ? 'block' : 'none';\n",
              "    })();\n",
              "  </script>\n",
              "</div>\n",
              "\n",
              "    </div>\n",
              "  </div>\n"
            ]
          },
          "metadata": {},
          "execution_count": 57
        }
      ]
    },
    {
      "cell_type": "markdown",
      "source": [
        "## outstandingamount_362A\n",
        "- Active contract's outstanding amount.\n",
        "- active 계약의 미납 금액"
      ],
      "metadata": {
        "id": "uvOQfs49yLG3"
      }
    },
    {
      "cell_type": "code",
      "source": [
        "x = df_credit_bureau_1_0.outstandingamount_362A\n",
        "print(f\"컬럼명: {x.name}\")\n",
        "print(f\"데이터 타입: {x.dtype}\")\n",
        "print(f\"(min, max) = {x.min()}, {x.max()}\")\n",
        "print(f\"NA 값: {any(x.isna())}, {x.isna().sum() / x.shape[0]:.10f}\")\n",
        "print(f\"(null, 0, >0) = {x.isna().sum(), (x == 0.0).sum(), (x > 0.0).sum()}\")\n",
        "# print(f\"평균: {x[x > 0].mean()}\")\n",
        "# print(f\"중간값(0이상): {x[x > 0].median()}\")\n",
        "print(f\"평균: {x.mean()}\")\n",
        "print(f\"중간값: {x.median()}\")"
      ],
      "metadata": {
        "colab": {
          "base_uri": "https://localhost:8080/"
        },
        "id": "yXs2xmEFyLG3",
        "outputId": "a6a4237b-a713-474f-d41b-f2146dbfc059"
      },
      "execution_count": null,
      "outputs": [
        {
          "output_type": "stream",
          "name": "stdout",
          "text": [
            "컬럼명: outstandingamount_362A\n",
            "데이터 타입: float64\n",
            "(min, max) = 0.0, 1688617600.0\n",
            "NA 값: True, 0.9122900668\n",
            "(null, 0, >0) = (3747881, 3366, 356965)\n",
            "평균: 160062.05014365292\n",
            "중간값: 37362.926\n"
          ]
        }
      ]
    },
    {
      "cell_type": "markdown",
      "source": [
        "## outstandingamount_354A\n",
        "- Outstanding amount for closed credit contract in credit bureau.\n",
        "- 신용기관에 기록된 closed 계약에 대한 미납 잔액"
      ],
      "metadata": {
        "id": "VeffaTOtyKev"
      }
    },
    {
      "cell_type": "code",
      "source": [
        "x = df_credit_bureau_1_0.outstandingamount_354A\n",
        "print(f\"컬럼명: {x.name}\")\n",
        "print(f\"데이터 타입: {x.dtype}\")\n",
        "print(f\"(min, max) = {x.min()}, {x.max()}\")\n",
        "print(f\"NA 값: {any(x.isna())}, {x.isna().sum() / x.shape[0]:.10f}\")\n",
        "print(f\"(null, 0, >0) = {x.isna().sum(), (x == 0.0).sum(), (x > 0.0).sum()}\")\n",
        "# print(f\"평균: {x[x > 0].mean()}\")\n",
        "# print(f\"중간값(0이상): {x[x > 0].median()}\")\n",
        "print(f\"평균: {x.mean()}\")\n",
        "print(f\"중간값: {x.median()}\")"
      ],
      "metadata": {
        "colab": {
          "base_uri": "https://localhost:8080/"
        },
        "id": "qKaINv9iyKew",
        "outputId": "0ca7eda3-4e93-4bf4-c657-2e92a1d75065"
      },
      "execution_count": null,
      "outputs": [
        {
          "output_type": "stream",
          "name": "stdout",
          "text": [
            "컬럼명: outstandingamount_354A\n",
            "데이터 타입: float64\n",
            "(min, max) = 0.0, 351940.3\n",
            "NA 값: True, 0.9044165686\n",
            "(null, 0, >0) = (3715535, 392566, 111)\n",
            "평균: 4.065994421915213\n",
            "중간값: 0.0\n"
          ]
        }
      ]
    },
    {
      "cell_type": "markdown",
      "source": [
        "## overdueamount_659A\n",
        "- Past due amount for active contract.\n",
        "- 현재 진행 중인 active 한 계약에 대한 연체 금액"
      ],
      "metadata": {
        "id": "g6kpGZFb5cIA"
      }
    },
    {
      "cell_type": "code",
      "source": [
        "x = df_credit_bureau_1_0.overdueamount_659A\n",
        "print(f\"컬럼명: {x.name}\")\n",
        "print(f\"데이터 타입: {x.dtype}\")\n",
        "print(f\"(min, max) = {x.min()}, {x.max()}\")\n",
        "print(f\"NA 값: {any(x.isna())}, {x.isna().sum() / x.shape[0]:.10f}\")\n",
        "print(f\"(null, 0, >0) = {x.isna().sum(), (x == 0.0).sum(), (x > 0.0).sum()}\")\n",
        "# print(f\"평균: {x[x > 0].mean()}\")\n",
        "# print(f\"중간값(0이상): {x[x > 0].median()}\")\n",
        "print(f\"평균: {x.mean()}\")\n",
        "print(f\"중간값: {x.median()}\")"
      ],
      "metadata": {
        "colab": {
          "base_uri": "https://localhost:8080/"
        },
        "id": "IDB0naTEErKi",
        "outputId": "a8f35ce9-8ae4-4c3e-fa6c-68435279f814"
      },
      "execution_count": null,
      "outputs": [
        {
          "output_type": "stream",
          "name": "stdout",
          "text": [
            "컬럼명: overdueamount_659A\n",
            "데이터 타입: float64\n",
            "(min, max) = 0.0, 49005736.0\n",
            "NA 값: True, 0.8404339893\n",
            "(null, 0, >0) = (3452681, 636362, 19169)\n",
            "평균: 932.6235510966981\n",
            "중간값: 0.0\n"
          ]
        }
      ]
    },
    {
      "cell_type": "markdown",
      "source": [
        "## overdueamount_31A\n",
        "- Past due amount for a closed contract.\n",
        "- closed 된 계약에 대한 연체 금액\n",
        "- 지불기한 넘긴 금액"
      ],
      "metadata": {
        "id": "mvC2ARo-5TOb"
      }
    },
    {
      "cell_type": "code",
      "source": [
        "x = df_credit_bureau_1_0.overdueamount_31A\n",
        "print(f\"컬럼명: {x.name}\")\n",
        "print(f\"데이터 타입: {x.dtype}\")\n",
        "print(f\"(min, max) = {x.min()}, {x.max()}\")\n",
        "print(f\"NA 값: {any(x.isna())}, {x.isna().sum() / x.shape[0]:.10f}\")\n",
        "print(f\"(null, 0, >0) = {x.isna().sum(), (x == 0.0).sum(), (x > 0.0).sum()}\")\n",
        "# print(f\"평균: {x[x > 0].mean()}\")\n",
        "# print(f\"중간값(0이상): {x[x > 0].median()}\")\n",
        "print(f\"평균: {x.mean()}\")\n",
        "print(f\"중간값: {x.median()}\")"
      ],
      "metadata": {
        "colab": {
          "base_uri": "https://localhost:8080/"
        },
        "id": "cQG7B_3Q1c1h",
        "outputId": "c4d9b2fa-ff30-4959-98b3-3aecb4d73bf7"
      },
      "execution_count": null,
      "outputs": [
        {
          "output_type": "stream",
          "name": "stdout",
          "text": [
            "컬럼명: overdueamount_31A\n",
            "데이터 타입: float64\n",
            "(min, max) = 0.0, 421656.6\n",
            "NA 값: True, 0.8889266182\n",
            "(null, 0, >0) = (3651899, 456195, 118)\n",
            "평균: 17.798351960417516\n",
            "중간값: 0.0\n"
          ]
        }
      ]
    },
    {
      "cell_type": "markdown",
      "source": [
        "## overdueamountmax_155A\n",
        "- Maximal past due amount for active contract.\n",
        "- active 계약에서 발생한 최대 연체 금액"
      ],
      "metadata": {
        "id": "w18thFTX5h8-"
      }
    },
    {
      "cell_type": "code",
      "source": [
        "x = df_credit_bureau_1_0.overdueamountmax_155A\n",
        "print(f\"컬럼명: {x.name}\")\n",
        "print(f\"데이터 타입: {x.dtype}\")\n",
        "print(f\"(min, max) = {x.min()}, {x.max()}\")\n",
        "print(f\"NA 값: {any(x.isna())}, {x.isna().sum() / x.shape[0]:.10f}\")\n",
        "print(f\"(null, 0, >0) = {x.isna().sum(), (x == 0.0).sum(), (x > 0.0).sum()}\")\n",
        "# print(f\"평균: {x[x > 0].mean()}\")\n",
        "# print(f\"중간값(0이상): {x[x > 0].median()}\")\n",
        "print(f\"평균: {x.mean()}\")\n",
        "print(f\"중간값: {x.median()}\")"
      ],
      "metadata": {
        "colab": {
          "base_uri": "https://localhost:8080/"
        },
        "id": "cyyKn7FI5hVc",
        "outputId": "7f60d004-ac54-47cf-a766-e0520624e610"
      },
      "execution_count": null,
      "outputs": [
        {
          "output_type": "stream",
          "name": "stdout",
          "text": [
            "컬럼명: overdueamountmax_155A\n",
            "데이터 타입: float64\n",
            "(min, max) = 0.0, 49261336.0\n",
            "NA 값: True, 0.8397363622\n",
            "(null, 0, >0) = (3449815, 521121, 137276)\n",
            "평균: 2432.906218653892\n",
            "중간값: 0.0\n"
          ]
        }
      ]
    },
    {
      "cell_type": "markdown",
      "source": [
        "## overdueamountmax2_14A\n",
        "- Maximal past due amount for an active contract.\n",
        "- active 계약에서 발생한 `또 다른` 최대 연체 금액\n",
        "\n",
        ">**해석**\n",
        "- 항상 그냥 max 컬럼보다 크거나 같음"
      ],
      "metadata": {
        "id": "plx6JLhc5t5C"
      }
    },
    {
      "cell_type": "code",
      "source": [
        "x = df_credit_bureau_1_0.overdueamountmax2_14A\n",
        "print(f\"컬럼명: {x.name}\")\n",
        "print(f\"데이터 타입: {x.dtype}\")\n",
        "print(f\"(min, max) = {x.min()}, {x.max()}\")\n",
        "print(f\"NA 값: {any(x.isna())}, {x.isna().sum() / x.shape[0]:.10f}\")\n",
        "print(f\"(null, 0, >0) = {x.isna().sum(), (x == 0.0).sum(), (x > 0.0).sum()}\")\n",
        "# print(f\"평균: {x[x > 0].mean()}\")\n",
        "# print(f\"중간값(0이상): {x[x > 0].median()}\")\n",
        "print(f\"평균: {x.mean()}\")\n",
        "print(f\"중간값: {x.median()}\")"
      ],
      "metadata": {
        "colab": {
          "base_uri": "https://localhost:8080/"
        },
        "id": "Vod_QGhw50TO",
        "outputId": "645c3531-ce76-4491-9f1b-c8fe6949c123"
      },
      "execution_count": null,
      "outputs": [
        {
          "output_type": "stream",
          "name": "stdout",
          "text": [
            "컬럼명: overdueamountmax2_14A\n",
            "데이터 타입: float64\n",
            "(min, max) = 0.0, 49261336.0\n",
            "NA 값: True, 0.8397363622\n",
            "(null, 0, >0) = (3449815, 488787, 169610)\n",
            "평균: 3275.3281124857826\n",
            "중간값: 0.0\n"
          ]
        }
      ]
    },
    {
      "cell_type": "code",
      "source": [
        "x1 = df_credit_bureau_1_0.overdueamountmax_155A\n",
        "x2 = df_credit_bureau_1_0.overdueamountmax2_14A\n",
        "\n",
        "df_credit_bureau_1_0.loc[ (x1 != x2) & x1.notnull(), ['overdueamountmax_155A', 'overdueamountmax2_14A']]"
      ],
      "metadata": {
        "colab": {
          "base_uri": "https://localhost:8080/",
          "height": 424
        },
        "id": "oWTT5wrSGTeb",
        "outputId": "8064f8af-155e-4cc3-fc44-0bc197fb761c"
      },
      "execution_count": null,
      "outputs": [
        {
          "output_type": "execute_result",
          "data": {
            "text/plain": [
              "         overdueamountmax_155A  overdueamountmax2_14A\n",
              "44                     0.00000              3738.8699\n",
              "173                 1485.69410              2858.2200\n",
              "206                24527.42800             33508.2300\n",
              "261                 6218.96630              9444.9160\n",
              "294                    0.00000               917.2000\n",
              "...                        ...                    ...\n",
              "4107622                0.00000              1199.3480\n",
              "4107720                0.00000              2222.0000\n",
              "4107730                0.00000              3981.4421\n",
              "4107840              309.43402              3821.7020\n",
              "4108066                0.00000                 3.3280\n",
              "\n",
              "[55201 rows x 2 columns]"
            ],
            "text/html": [
              "\n",
              "  <div id=\"df-05aa90a2-25ef-4192-a062-ef25806f5c17\" class=\"colab-df-container\">\n",
              "    <div>\n",
              "<style scoped>\n",
              "    .dataframe tbody tr th:only-of-type {\n",
              "        vertical-align: middle;\n",
              "    }\n",
              "\n",
              "    .dataframe tbody tr th {\n",
              "        vertical-align: top;\n",
              "    }\n",
              "\n",
              "    .dataframe thead th {\n",
              "        text-align: right;\n",
              "    }\n",
              "</style>\n",
              "<table border=\"1\" class=\"dataframe\">\n",
              "  <thead>\n",
              "    <tr style=\"text-align: right;\">\n",
              "      <th></th>\n",
              "      <th>overdueamountmax_155A</th>\n",
              "      <th>overdueamountmax2_14A</th>\n",
              "    </tr>\n",
              "  </thead>\n",
              "  <tbody>\n",
              "    <tr>\n",
              "      <th>44</th>\n",
              "      <td>0.00000</td>\n",
              "      <td>3738.8699</td>\n",
              "    </tr>\n",
              "    <tr>\n",
              "      <th>173</th>\n",
              "      <td>1485.69410</td>\n",
              "      <td>2858.2200</td>\n",
              "    </tr>\n",
              "    <tr>\n",
              "      <th>206</th>\n",
              "      <td>24527.42800</td>\n",
              "      <td>33508.2300</td>\n",
              "    </tr>\n",
              "    <tr>\n",
              "      <th>261</th>\n",
              "      <td>6218.96630</td>\n",
              "      <td>9444.9160</td>\n",
              "    </tr>\n",
              "    <tr>\n",
              "      <th>294</th>\n",
              "      <td>0.00000</td>\n",
              "      <td>917.2000</td>\n",
              "    </tr>\n",
              "    <tr>\n",
              "      <th>...</th>\n",
              "      <td>...</td>\n",
              "      <td>...</td>\n",
              "    </tr>\n",
              "    <tr>\n",
              "      <th>4107622</th>\n",
              "      <td>0.00000</td>\n",
              "      <td>1199.3480</td>\n",
              "    </tr>\n",
              "    <tr>\n",
              "      <th>4107720</th>\n",
              "      <td>0.00000</td>\n",
              "      <td>2222.0000</td>\n",
              "    </tr>\n",
              "    <tr>\n",
              "      <th>4107730</th>\n",
              "      <td>0.00000</td>\n",
              "      <td>3981.4421</td>\n",
              "    </tr>\n",
              "    <tr>\n",
              "      <th>4107840</th>\n",
              "      <td>309.43402</td>\n",
              "      <td>3821.7020</td>\n",
              "    </tr>\n",
              "    <tr>\n",
              "      <th>4108066</th>\n",
              "      <td>0.00000</td>\n",
              "      <td>3.3280</td>\n",
              "    </tr>\n",
              "  </tbody>\n",
              "</table>\n",
              "<p>55201 rows × 2 columns</p>\n",
              "</div>\n",
              "    <div class=\"colab-df-buttons\">\n",
              "\n",
              "  <div class=\"colab-df-container\">\n",
              "    <button class=\"colab-df-convert\" onclick=\"convertToInteractive('df-05aa90a2-25ef-4192-a062-ef25806f5c17')\"\n",
              "            title=\"Convert this dataframe to an interactive table.\"\n",
              "            style=\"display:none;\">\n",
              "\n",
              "  <svg xmlns=\"http://www.w3.org/2000/svg\" height=\"24px\" viewBox=\"0 -960 960 960\">\n",
              "    <path d=\"M120-120v-720h720v720H120Zm60-500h600v-160H180v160Zm220 220h160v-160H400v160Zm0 220h160v-160H400v160ZM180-400h160v-160H180v160Zm440 0h160v-160H620v160ZM180-180h160v-160H180v160Zm440 0h160v-160H620v160Z\"/>\n",
              "  </svg>\n",
              "    </button>\n",
              "\n",
              "  <style>\n",
              "    .colab-df-container {\n",
              "      display:flex;\n",
              "      gap: 12px;\n",
              "    }\n",
              "\n",
              "    .colab-df-convert {\n",
              "      background-color: #E8F0FE;\n",
              "      border: none;\n",
              "      border-radius: 50%;\n",
              "      cursor: pointer;\n",
              "      display: none;\n",
              "      fill: #1967D2;\n",
              "      height: 32px;\n",
              "      padding: 0 0 0 0;\n",
              "      width: 32px;\n",
              "    }\n",
              "\n",
              "    .colab-df-convert:hover {\n",
              "      background-color: #E2EBFA;\n",
              "      box-shadow: 0px 1px 2px rgba(60, 64, 67, 0.3), 0px 1px 3px 1px rgba(60, 64, 67, 0.15);\n",
              "      fill: #174EA6;\n",
              "    }\n",
              "\n",
              "    .colab-df-buttons div {\n",
              "      margin-bottom: 4px;\n",
              "    }\n",
              "\n",
              "    [theme=dark] .colab-df-convert {\n",
              "      background-color: #3B4455;\n",
              "      fill: #D2E3FC;\n",
              "    }\n",
              "\n",
              "    [theme=dark] .colab-df-convert:hover {\n",
              "      background-color: #434B5C;\n",
              "      box-shadow: 0px 1px 3px 1px rgba(0, 0, 0, 0.15);\n",
              "      filter: drop-shadow(0px 1px 2px rgba(0, 0, 0, 0.3));\n",
              "      fill: #FFFFFF;\n",
              "    }\n",
              "  </style>\n",
              "\n",
              "    <script>\n",
              "      const buttonEl =\n",
              "        document.querySelector('#df-05aa90a2-25ef-4192-a062-ef25806f5c17 button.colab-df-convert');\n",
              "      buttonEl.style.display =\n",
              "        google.colab.kernel.accessAllowed ? 'block' : 'none';\n",
              "\n",
              "      async function convertToInteractive(key) {\n",
              "        const element = document.querySelector('#df-05aa90a2-25ef-4192-a062-ef25806f5c17');\n",
              "        const dataTable =\n",
              "          await google.colab.kernel.invokeFunction('convertToInteractive',\n",
              "                                                    [key], {});\n",
              "        if (!dataTable) return;\n",
              "\n",
              "        const docLinkHtml = 'Like what you see? Visit the ' +\n",
              "          '<a target=\"_blank\" href=https://colab.research.google.com/notebooks/data_table.ipynb>data table notebook</a>'\n",
              "          + ' to learn more about interactive tables.';\n",
              "        element.innerHTML = '';\n",
              "        dataTable['output_type'] = 'display_data';\n",
              "        await google.colab.output.renderOutput(dataTable, element);\n",
              "        const docLink = document.createElement('div');\n",
              "        docLink.innerHTML = docLinkHtml;\n",
              "        element.appendChild(docLink);\n",
              "      }\n",
              "    </script>\n",
              "  </div>\n",
              "\n",
              "\n",
              "<div id=\"df-ef12966d-8ead-40aa-a5a8-3e0c5f61c396\">\n",
              "  <button class=\"colab-df-quickchart\" onclick=\"quickchart('df-ef12966d-8ead-40aa-a5a8-3e0c5f61c396')\"\n",
              "            title=\"Suggest charts\"\n",
              "            style=\"display:none;\">\n",
              "\n",
              "<svg xmlns=\"http://www.w3.org/2000/svg\" height=\"24px\"viewBox=\"0 0 24 24\"\n",
              "     width=\"24px\">\n",
              "    <g>\n",
              "        <path d=\"M19 3H5c-1.1 0-2 .9-2 2v14c0 1.1.9 2 2 2h14c1.1 0 2-.9 2-2V5c0-1.1-.9-2-2-2zM9 17H7v-7h2v7zm4 0h-2V7h2v10zm4 0h-2v-4h2v4z\"/>\n",
              "    </g>\n",
              "</svg>\n",
              "  </button>\n",
              "\n",
              "<style>\n",
              "  .colab-df-quickchart {\n",
              "      --bg-color: #E8F0FE;\n",
              "      --fill-color: #1967D2;\n",
              "      --hover-bg-color: #E2EBFA;\n",
              "      --hover-fill-color: #174EA6;\n",
              "      --disabled-fill-color: #AAA;\n",
              "      --disabled-bg-color: #DDD;\n",
              "  }\n",
              "\n",
              "  [theme=dark] .colab-df-quickchart {\n",
              "      --bg-color: #3B4455;\n",
              "      --fill-color: #D2E3FC;\n",
              "      --hover-bg-color: #434B5C;\n",
              "      --hover-fill-color: #FFFFFF;\n",
              "      --disabled-bg-color: #3B4455;\n",
              "      --disabled-fill-color: #666;\n",
              "  }\n",
              "\n",
              "  .colab-df-quickchart {\n",
              "    background-color: var(--bg-color);\n",
              "    border: none;\n",
              "    border-radius: 50%;\n",
              "    cursor: pointer;\n",
              "    display: none;\n",
              "    fill: var(--fill-color);\n",
              "    height: 32px;\n",
              "    padding: 0;\n",
              "    width: 32px;\n",
              "  }\n",
              "\n",
              "  .colab-df-quickchart:hover {\n",
              "    background-color: var(--hover-bg-color);\n",
              "    box-shadow: 0 1px 2px rgba(60, 64, 67, 0.3), 0 1px 3px 1px rgba(60, 64, 67, 0.15);\n",
              "    fill: var(--button-hover-fill-color);\n",
              "  }\n",
              "\n",
              "  .colab-df-quickchart-complete:disabled,\n",
              "  .colab-df-quickchart-complete:disabled:hover {\n",
              "    background-color: var(--disabled-bg-color);\n",
              "    fill: var(--disabled-fill-color);\n",
              "    box-shadow: none;\n",
              "  }\n",
              "\n",
              "  .colab-df-spinner {\n",
              "    border: 2px solid var(--fill-color);\n",
              "    border-color: transparent;\n",
              "    border-bottom-color: var(--fill-color);\n",
              "    animation:\n",
              "      spin 1s steps(1) infinite;\n",
              "  }\n",
              "\n",
              "  @keyframes spin {\n",
              "    0% {\n",
              "      border-color: transparent;\n",
              "      border-bottom-color: var(--fill-color);\n",
              "      border-left-color: var(--fill-color);\n",
              "    }\n",
              "    20% {\n",
              "      border-color: transparent;\n",
              "      border-left-color: var(--fill-color);\n",
              "      border-top-color: var(--fill-color);\n",
              "    }\n",
              "    30% {\n",
              "      border-color: transparent;\n",
              "      border-left-color: var(--fill-color);\n",
              "      border-top-color: var(--fill-color);\n",
              "      border-right-color: var(--fill-color);\n",
              "    }\n",
              "    40% {\n",
              "      border-color: transparent;\n",
              "      border-right-color: var(--fill-color);\n",
              "      border-top-color: var(--fill-color);\n",
              "    }\n",
              "    60% {\n",
              "      border-color: transparent;\n",
              "      border-right-color: var(--fill-color);\n",
              "    }\n",
              "    80% {\n",
              "      border-color: transparent;\n",
              "      border-right-color: var(--fill-color);\n",
              "      border-bottom-color: var(--fill-color);\n",
              "    }\n",
              "    90% {\n",
              "      border-color: transparent;\n",
              "      border-bottom-color: var(--fill-color);\n",
              "    }\n",
              "  }\n",
              "</style>\n",
              "\n",
              "  <script>\n",
              "    async function quickchart(key) {\n",
              "      const quickchartButtonEl =\n",
              "        document.querySelector('#' + key + ' button');\n",
              "      quickchartButtonEl.disabled = true;  // To prevent multiple clicks.\n",
              "      quickchartButtonEl.classList.add('colab-df-spinner');\n",
              "      try {\n",
              "        const charts = await google.colab.kernel.invokeFunction(\n",
              "            'suggestCharts', [key], {});\n",
              "      } catch (error) {\n",
              "        console.error('Error during call to suggestCharts:', error);\n",
              "      }\n",
              "      quickchartButtonEl.classList.remove('colab-df-spinner');\n",
              "      quickchartButtonEl.classList.add('colab-df-quickchart-complete');\n",
              "    }\n",
              "    (() => {\n",
              "      let quickchartButtonEl =\n",
              "        document.querySelector('#df-ef12966d-8ead-40aa-a5a8-3e0c5f61c396 button');\n",
              "      quickchartButtonEl.style.display =\n",
              "        google.colab.kernel.accessAllowed ? 'block' : 'none';\n",
              "    })();\n",
              "  </script>\n",
              "</div>\n",
              "\n",
              "    </div>\n",
              "  </div>\n"
            ]
          },
          "metadata": {},
          "execution_count": 16
        }
      ]
    },
    {
      "cell_type": "code",
      "source": [
        "df_credit_bureau_1_0.loc[ (x1 > x2), ['overdueamountmax_155A', 'overdueamountmax2_14A']] #0\n",
        "df_credit_bureau_1_0.loc[ (x1 <= x2), ['overdueamountmax_155A', 'overdueamountmax2_14A']]  #488787 + 169610"
      ],
      "metadata": {
        "colab": {
          "base_uri": "https://localhost:8080/",
          "height": 424
        },
        "id": "HRsfK3dAvlln",
        "outputId": "8867a3e6-16e5-4aa2-9379-88492ae16d98"
      },
      "execution_count": null,
      "outputs": [
        {
          "output_type": "execute_result",
          "data": {
            "text/plain": [
              "         overdueamountmax_155A  overdueamountmax2_14A\n",
              "0                      0.00000                0.00000\n",
              "1                      0.00000                0.00000\n",
              "11                     0.00000                0.00000\n",
              "12                     0.00000                0.00000\n",
              "22                     0.00000                0.00000\n",
              "...                        ...                    ...\n",
              "4108156              913.60004              913.60004\n",
              "4108189                0.00000                0.00000\n",
              "4108190                0.00000                0.00000\n",
              "4108201                0.00000                0.00000\n",
              "4108202                4.00000                4.00000\n",
              "\n",
              "[658397 rows x 2 columns]"
            ],
            "text/html": [
              "\n",
              "  <div id=\"df-10d52528-c12f-4ad7-8e1d-7f6a8e922498\" class=\"colab-df-container\">\n",
              "    <div>\n",
              "<style scoped>\n",
              "    .dataframe tbody tr th:only-of-type {\n",
              "        vertical-align: middle;\n",
              "    }\n",
              "\n",
              "    .dataframe tbody tr th {\n",
              "        vertical-align: top;\n",
              "    }\n",
              "\n",
              "    .dataframe thead th {\n",
              "        text-align: right;\n",
              "    }\n",
              "</style>\n",
              "<table border=\"1\" class=\"dataframe\">\n",
              "  <thead>\n",
              "    <tr style=\"text-align: right;\">\n",
              "      <th></th>\n",
              "      <th>overdueamountmax_155A</th>\n",
              "      <th>overdueamountmax2_14A</th>\n",
              "    </tr>\n",
              "  </thead>\n",
              "  <tbody>\n",
              "    <tr>\n",
              "      <th>0</th>\n",
              "      <td>0.00000</td>\n",
              "      <td>0.00000</td>\n",
              "    </tr>\n",
              "    <tr>\n",
              "      <th>1</th>\n",
              "      <td>0.00000</td>\n",
              "      <td>0.00000</td>\n",
              "    </tr>\n",
              "    <tr>\n",
              "      <th>11</th>\n",
              "      <td>0.00000</td>\n",
              "      <td>0.00000</td>\n",
              "    </tr>\n",
              "    <tr>\n",
              "      <th>12</th>\n",
              "      <td>0.00000</td>\n",
              "      <td>0.00000</td>\n",
              "    </tr>\n",
              "    <tr>\n",
              "      <th>22</th>\n",
              "      <td>0.00000</td>\n",
              "      <td>0.00000</td>\n",
              "    </tr>\n",
              "    <tr>\n",
              "      <th>...</th>\n",
              "      <td>...</td>\n",
              "      <td>...</td>\n",
              "    </tr>\n",
              "    <tr>\n",
              "      <th>4108156</th>\n",
              "      <td>913.60004</td>\n",
              "      <td>913.60004</td>\n",
              "    </tr>\n",
              "    <tr>\n",
              "      <th>4108189</th>\n",
              "      <td>0.00000</td>\n",
              "      <td>0.00000</td>\n",
              "    </tr>\n",
              "    <tr>\n",
              "      <th>4108190</th>\n",
              "      <td>0.00000</td>\n",
              "      <td>0.00000</td>\n",
              "    </tr>\n",
              "    <tr>\n",
              "      <th>4108201</th>\n",
              "      <td>0.00000</td>\n",
              "      <td>0.00000</td>\n",
              "    </tr>\n",
              "    <tr>\n",
              "      <th>4108202</th>\n",
              "      <td>4.00000</td>\n",
              "      <td>4.00000</td>\n",
              "    </tr>\n",
              "  </tbody>\n",
              "</table>\n",
              "<p>658397 rows × 2 columns</p>\n",
              "</div>\n",
              "    <div class=\"colab-df-buttons\">\n",
              "\n",
              "  <div class=\"colab-df-container\">\n",
              "    <button class=\"colab-df-convert\" onclick=\"convertToInteractive('df-10d52528-c12f-4ad7-8e1d-7f6a8e922498')\"\n",
              "            title=\"Convert this dataframe to an interactive table.\"\n",
              "            style=\"display:none;\">\n",
              "\n",
              "  <svg xmlns=\"http://www.w3.org/2000/svg\" height=\"24px\" viewBox=\"0 -960 960 960\">\n",
              "    <path d=\"M120-120v-720h720v720H120Zm60-500h600v-160H180v160Zm220 220h160v-160H400v160Zm0 220h160v-160H400v160ZM180-400h160v-160H180v160Zm440 0h160v-160H620v160ZM180-180h160v-160H180v160Zm440 0h160v-160H620v160Z\"/>\n",
              "  </svg>\n",
              "    </button>\n",
              "\n",
              "  <style>\n",
              "    .colab-df-container {\n",
              "      display:flex;\n",
              "      gap: 12px;\n",
              "    }\n",
              "\n",
              "    .colab-df-convert {\n",
              "      background-color: #E8F0FE;\n",
              "      border: none;\n",
              "      border-radius: 50%;\n",
              "      cursor: pointer;\n",
              "      display: none;\n",
              "      fill: #1967D2;\n",
              "      height: 32px;\n",
              "      padding: 0 0 0 0;\n",
              "      width: 32px;\n",
              "    }\n",
              "\n",
              "    .colab-df-convert:hover {\n",
              "      background-color: #E2EBFA;\n",
              "      box-shadow: 0px 1px 2px rgba(60, 64, 67, 0.3), 0px 1px 3px 1px rgba(60, 64, 67, 0.15);\n",
              "      fill: #174EA6;\n",
              "    }\n",
              "\n",
              "    .colab-df-buttons div {\n",
              "      margin-bottom: 4px;\n",
              "    }\n",
              "\n",
              "    [theme=dark] .colab-df-convert {\n",
              "      background-color: #3B4455;\n",
              "      fill: #D2E3FC;\n",
              "    }\n",
              "\n",
              "    [theme=dark] .colab-df-convert:hover {\n",
              "      background-color: #434B5C;\n",
              "      box-shadow: 0px 1px 3px 1px rgba(0, 0, 0, 0.15);\n",
              "      filter: drop-shadow(0px 1px 2px rgba(0, 0, 0, 0.3));\n",
              "      fill: #FFFFFF;\n",
              "    }\n",
              "  </style>\n",
              "\n",
              "    <script>\n",
              "      const buttonEl =\n",
              "        document.querySelector('#df-10d52528-c12f-4ad7-8e1d-7f6a8e922498 button.colab-df-convert');\n",
              "      buttonEl.style.display =\n",
              "        google.colab.kernel.accessAllowed ? 'block' : 'none';\n",
              "\n",
              "      async function convertToInteractive(key) {\n",
              "        const element = document.querySelector('#df-10d52528-c12f-4ad7-8e1d-7f6a8e922498');\n",
              "        const dataTable =\n",
              "          await google.colab.kernel.invokeFunction('convertToInteractive',\n",
              "                                                    [key], {});\n",
              "        if (!dataTable) return;\n",
              "\n",
              "        const docLinkHtml = 'Like what you see? Visit the ' +\n",
              "          '<a target=\"_blank\" href=https://colab.research.google.com/notebooks/data_table.ipynb>data table notebook</a>'\n",
              "          + ' to learn more about interactive tables.';\n",
              "        element.innerHTML = '';\n",
              "        dataTable['output_type'] = 'display_data';\n",
              "        await google.colab.output.renderOutput(dataTable, element);\n",
              "        const docLink = document.createElement('div');\n",
              "        docLink.innerHTML = docLinkHtml;\n",
              "        element.appendChild(docLink);\n",
              "      }\n",
              "    </script>\n",
              "  </div>\n",
              "\n",
              "\n",
              "<div id=\"df-816a381c-c595-4323-9b4d-d904c7f35259\">\n",
              "  <button class=\"colab-df-quickchart\" onclick=\"quickchart('df-816a381c-c595-4323-9b4d-d904c7f35259')\"\n",
              "            title=\"Suggest charts\"\n",
              "            style=\"display:none;\">\n",
              "\n",
              "<svg xmlns=\"http://www.w3.org/2000/svg\" height=\"24px\"viewBox=\"0 0 24 24\"\n",
              "     width=\"24px\">\n",
              "    <g>\n",
              "        <path d=\"M19 3H5c-1.1 0-2 .9-2 2v14c0 1.1.9 2 2 2h14c1.1 0 2-.9 2-2V5c0-1.1-.9-2-2-2zM9 17H7v-7h2v7zm4 0h-2V7h2v10zm4 0h-2v-4h2v4z\"/>\n",
              "    </g>\n",
              "</svg>\n",
              "  </button>\n",
              "\n",
              "<style>\n",
              "  .colab-df-quickchart {\n",
              "      --bg-color: #E8F0FE;\n",
              "      --fill-color: #1967D2;\n",
              "      --hover-bg-color: #E2EBFA;\n",
              "      --hover-fill-color: #174EA6;\n",
              "      --disabled-fill-color: #AAA;\n",
              "      --disabled-bg-color: #DDD;\n",
              "  }\n",
              "\n",
              "  [theme=dark] .colab-df-quickchart {\n",
              "      --bg-color: #3B4455;\n",
              "      --fill-color: #D2E3FC;\n",
              "      --hover-bg-color: #434B5C;\n",
              "      --hover-fill-color: #FFFFFF;\n",
              "      --disabled-bg-color: #3B4455;\n",
              "      --disabled-fill-color: #666;\n",
              "  }\n",
              "\n",
              "  .colab-df-quickchart {\n",
              "    background-color: var(--bg-color);\n",
              "    border: none;\n",
              "    border-radius: 50%;\n",
              "    cursor: pointer;\n",
              "    display: none;\n",
              "    fill: var(--fill-color);\n",
              "    height: 32px;\n",
              "    padding: 0;\n",
              "    width: 32px;\n",
              "  }\n",
              "\n",
              "  .colab-df-quickchart:hover {\n",
              "    background-color: var(--hover-bg-color);\n",
              "    box-shadow: 0 1px 2px rgba(60, 64, 67, 0.3), 0 1px 3px 1px rgba(60, 64, 67, 0.15);\n",
              "    fill: var(--button-hover-fill-color);\n",
              "  }\n",
              "\n",
              "  .colab-df-quickchart-complete:disabled,\n",
              "  .colab-df-quickchart-complete:disabled:hover {\n",
              "    background-color: var(--disabled-bg-color);\n",
              "    fill: var(--disabled-fill-color);\n",
              "    box-shadow: none;\n",
              "  }\n",
              "\n",
              "  .colab-df-spinner {\n",
              "    border: 2px solid var(--fill-color);\n",
              "    border-color: transparent;\n",
              "    border-bottom-color: var(--fill-color);\n",
              "    animation:\n",
              "      spin 1s steps(1) infinite;\n",
              "  }\n",
              "\n",
              "  @keyframes spin {\n",
              "    0% {\n",
              "      border-color: transparent;\n",
              "      border-bottom-color: var(--fill-color);\n",
              "      border-left-color: var(--fill-color);\n",
              "    }\n",
              "    20% {\n",
              "      border-color: transparent;\n",
              "      border-left-color: var(--fill-color);\n",
              "      border-top-color: var(--fill-color);\n",
              "    }\n",
              "    30% {\n",
              "      border-color: transparent;\n",
              "      border-left-color: var(--fill-color);\n",
              "      border-top-color: var(--fill-color);\n",
              "      border-right-color: var(--fill-color);\n",
              "    }\n",
              "    40% {\n",
              "      border-color: transparent;\n",
              "      border-right-color: var(--fill-color);\n",
              "      border-top-color: var(--fill-color);\n",
              "    }\n",
              "    60% {\n",
              "      border-color: transparent;\n",
              "      border-right-color: var(--fill-color);\n",
              "    }\n",
              "    80% {\n",
              "      border-color: transparent;\n",
              "      border-right-color: var(--fill-color);\n",
              "      border-bottom-color: var(--fill-color);\n",
              "    }\n",
              "    90% {\n",
              "      border-color: transparent;\n",
              "      border-bottom-color: var(--fill-color);\n",
              "    }\n",
              "  }\n",
              "</style>\n",
              "\n",
              "  <script>\n",
              "    async function quickchart(key) {\n",
              "      const quickchartButtonEl =\n",
              "        document.querySelector('#' + key + ' button');\n",
              "      quickchartButtonEl.disabled = true;  // To prevent multiple clicks.\n",
              "      quickchartButtonEl.classList.add('colab-df-spinner');\n",
              "      try {\n",
              "        const charts = await google.colab.kernel.invokeFunction(\n",
              "            'suggestCharts', [key], {});\n",
              "      } catch (error) {\n",
              "        console.error('Error during call to suggestCharts:', error);\n",
              "      }\n",
              "      quickchartButtonEl.classList.remove('colab-df-spinner');\n",
              "      quickchartButtonEl.classList.add('colab-df-quickchart-complete');\n",
              "    }\n",
              "    (() => {\n",
              "      let quickchartButtonEl =\n",
              "        document.querySelector('#df-816a381c-c595-4323-9b4d-d904c7f35259 button');\n",
              "      quickchartButtonEl.style.display =\n",
              "        google.colab.kernel.accessAllowed ? 'block' : 'none';\n",
              "    })();\n",
              "  </script>\n",
              "</div>\n",
              "\n",
              "    </div>\n",
              "  </div>\n"
            ]
          },
          "metadata": {},
          "execution_count": 22
        }
      ]
    },
    {
      "cell_type": "markdown",
      "source": [
        "## overdueamountmax_35A\n",
        "- Maximal past due amount for a closed contract.\n",
        "- closed 된 계약에서 발생한 최대 연체 금액"
      ],
      "metadata": {
        "id": "NGkZDm_85nrG"
      }
    },
    {
      "cell_type": "code",
      "source": [
        "x = df_credit_bureau_1_0.overdueamountmax_35A\n",
        "print(f\"컬럼명: {x.name}\")\n",
        "print(f\"데이터 타입: {x.dtype}\")\n",
        "print(f\"(min, max) = {x.min()}, {x.max()}\")\n",
        "print(f\"NA 값: {any(x.isna())}, {x.isna().sum() / x.shape[0]:.10f}\")\n",
        "print(f\"(null, 0, >0) = {x.isna().sum(), (x == 0.0).sum(), (x > 0.0).sum()}\")\n",
        "# print(f\"평균: {x[x > 0].mean()}\")\n",
        "# print(f\"중간값(0이상): {x[x > 0].median()}\")\n",
        "print(f\"평균: {x.mean()}\")\n",
        "print(f\"중간값: {x.median()}\")"
      ],
      "metadata": {
        "colab": {
          "base_uri": "https://localhost:8080/"
        },
        "id": "cmUDHcGT5tQl",
        "outputId": "6ba62682-57d8-4afc-c508-a3c1cb8be5fe"
      },
      "execution_count": null,
      "outputs": [
        {
          "output_type": "stream",
          "name": "stdout",
          "text": [
            "컬럼명: overdueamountmax_35A\n",
            "데이터 타입: float64\n",
            "(min, max) = 0.0, 38038588.0\n",
            "NA 값: True, 0.8927105028\n",
            "(null, 0, >0) = (3667444, 311547, 129221)\n",
            "평균: 4512.766136795612\n",
            "중간값: 0.0\n"
          ]
        }
      ]
    },
    {
      "cell_type": "markdown",
      "source": [
        "## overdueamountmax2_398A\n",
        "- Maximal overdue amount for a closed contract.\n",
        "- closed 계약에서 발생한 또 다른 최대 연체 금액"
      ],
      "metadata": {
        "id": "JKB_fPlY503b"
      }
    },
    {
      "cell_type": "code",
      "source": [
        "x = df_credit_bureau_1_0.overdueamountmax2_398A\n",
        "print(f\"데이터 타입: {x.dtype}\")\n",
        "print(f\"(min, max) = {x.min()}, {x.max()}\")\n",
        "print(f\"NA 값: {any(x.isna())}, {x.isna().sum() / x.shape[0]:.10f}\")\n",
        "print(f\"(null, 0, >0) = {x.isna().sum(), (x == 0.0).sum(), (x > 0.0).sum()}\")\n",
        "# print(f\"평균: {x[x > 0].mean()}\")\n",
        "# print(f\"중간값(0이상): {x[x > 0].median()}\")\n",
        "print(f\"평균: {x.mean()}\")\n",
        "print(f\"중간값: {x.median()}\")"
      ],
      "metadata": {
        "colab": {
          "base_uri": "https://localhost:8080/"
        },
        "id": "3-4yrQlF5-ur",
        "outputId": "dbb9b9b9-5648-4b9c-80db-b57f3d8ef83e"
      },
      "execution_count": null,
      "outputs": [
        {
          "output_type": "stream",
          "name": "stdout",
          "text": [
            "데이터 타입: float64\n",
            "(min, max) = 0.0, 60940892.0\n",
            "NA 값: True, 0.8888273049\n",
            "(null, 0, >0) = (3651491, 321264, 135457)\n",
            "평균: 5635.9606048007045\n",
            "중간값: 0.0\n"
          ]
        }
      ]
    },
    {
      "cell_type": "code",
      "source": [
        "x1 = df_credit_bureau_1_0.overdueamountmax_35A\n",
        "x2 = df_credit_bureau_1_0.overdueamountmax2_398A\n",
        "\n",
        "df_credit_bureau_1_0.loc[ (x1 > x2), ['overdueamountmax_35A', 'overdueamountmax2_398A']] #0\n",
        "df_credit_bureau_1_0.loc[ (x1 <= x2) , ['overdueamountmax_35A', 'overdueamountmax2_398A']] #321264+135457"
      ],
      "metadata": {
        "colab": {
          "base_uri": "https://localhost:8080/",
          "height": 424
        },
        "id": "wnXad9P4xWZW",
        "outputId": "74d32872-50a2-4a86-a9e6-1886ea6b3f53"
      },
      "execution_count": null,
      "outputs": [
        {
          "output_type": "execute_result",
          "data": {
            "text/plain": [
              "         overdueamountmax_35A  overdueamountmax2_398A\n",
              "51613                   0.000                   0.000\n",
              "51614                   0.000                   0.000\n",
              "51615                   0.000                   0.000\n",
              "51616               22305.773               22305.773\n",
              "51617                   0.000                   0.000\n",
              "...                       ...                     ...\n",
              "4108195                 0.000                   0.000\n",
              "4108196                 0.000                   0.000\n",
              "4108197                 0.000                   0.000\n",
              "4108198                 0.000                   0.000\n",
              "4108201                 0.000                   0.000\n",
              "\n",
              "[440768 rows x 2 columns]"
            ],
            "text/html": [
              "\n",
              "  <div id=\"df-368125c7-bf58-4d59-b315-f6c705fc13be\" class=\"colab-df-container\">\n",
              "    <div>\n",
              "<style scoped>\n",
              "    .dataframe tbody tr th:only-of-type {\n",
              "        vertical-align: middle;\n",
              "    }\n",
              "\n",
              "    .dataframe tbody tr th {\n",
              "        vertical-align: top;\n",
              "    }\n",
              "\n",
              "    .dataframe thead th {\n",
              "        text-align: right;\n",
              "    }\n",
              "</style>\n",
              "<table border=\"1\" class=\"dataframe\">\n",
              "  <thead>\n",
              "    <tr style=\"text-align: right;\">\n",
              "      <th></th>\n",
              "      <th>overdueamountmax_35A</th>\n",
              "      <th>overdueamountmax2_398A</th>\n",
              "    </tr>\n",
              "  </thead>\n",
              "  <tbody>\n",
              "    <tr>\n",
              "      <th>51613</th>\n",
              "      <td>0.000</td>\n",
              "      <td>0.000</td>\n",
              "    </tr>\n",
              "    <tr>\n",
              "      <th>51614</th>\n",
              "      <td>0.000</td>\n",
              "      <td>0.000</td>\n",
              "    </tr>\n",
              "    <tr>\n",
              "      <th>51615</th>\n",
              "      <td>0.000</td>\n",
              "      <td>0.000</td>\n",
              "    </tr>\n",
              "    <tr>\n",
              "      <th>51616</th>\n",
              "      <td>22305.773</td>\n",
              "      <td>22305.773</td>\n",
              "    </tr>\n",
              "    <tr>\n",
              "      <th>51617</th>\n",
              "      <td>0.000</td>\n",
              "      <td>0.000</td>\n",
              "    </tr>\n",
              "    <tr>\n",
              "      <th>...</th>\n",
              "      <td>...</td>\n",
              "      <td>...</td>\n",
              "    </tr>\n",
              "    <tr>\n",
              "      <th>4108195</th>\n",
              "      <td>0.000</td>\n",
              "      <td>0.000</td>\n",
              "    </tr>\n",
              "    <tr>\n",
              "      <th>4108196</th>\n",
              "      <td>0.000</td>\n",
              "      <td>0.000</td>\n",
              "    </tr>\n",
              "    <tr>\n",
              "      <th>4108197</th>\n",
              "      <td>0.000</td>\n",
              "      <td>0.000</td>\n",
              "    </tr>\n",
              "    <tr>\n",
              "      <th>4108198</th>\n",
              "      <td>0.000</td>\n",
              "      <td>0.000</td>\n",
              "    </tr>\n",
              "    <tr>\n",
              "      <th>4108201</th>\n",
              "      <td>0.000</td>\n",
              "      <td>0.000</td>\n",
              "    </tr>\n",
              "  </tbody>\n",
              "</table>\n",
              "<p>440768 rows × 2 columns</p>\n",
              "</div>\n",
              "    <div class=\"colab-df-buttons\">\n",
              "\n",
              "  <div class=\"colab-df-container\">\n",
              "    <button class=\"colab-df-convert\" onclick=\"convertToInteractive('df-368125c7-bf58-4d59-b315-f6c705fc13be')\"\n",
              "            title=\"Convert this dataframe to an interactive table.\"\n",
              "            style=\"display:none;\">\n",
              "\n",
              "  <svg xmlns=\"http://www.w3.org/2000/svg\" height=\"24px\" viewBox=\"0 -960 960 960\">\n",
              "    <path d=\"M120-120v-720h720v720H120Zm60-500h600v-160H180v160Zm220 220h160v-160H400v160Zm0 220h160v-160H400v160ZM180-400h160v-160H180v160Zm440 0h160v-160H620v160ZM180-180h160v-160H180v160Zm440 0h160v-160H620v160Z\"/>\n",
              "  </svg>\n",
              "    </button>\n",
              "\n",
              "  <style>\n",
              "    .colab-df-container {\n",
              "      display:flex;\n",
              "      gap: 12px;\n",
              "    }\n",
              "\n",
              "    .colab-df-convert {\n",
              "      background-color: #E8F0FE;\n",
              "      border: none;\n",
              "      border-radius: 50%;\n",
              "      cursor: pointer;\n",
              "      display: none;\n",
              "      fill: #1967D2;\n",
              "      height: 32px;\n",
              "      padding: 0 0 0 0;\n",
              "      width: 32px;\n",
              "    }\n",
              "\n",
              "    .colab-df-convert:hover {\n",
              "      background-color: #E2EBFA;\n",
              "      box-shadow: 0px 1px 2px rgba(60, 64, 67, 0.3), 0px 1px 3px 1px rgba(60, 64, 67, 0.15);\n",
              "      fill: #174EA6;\n",
              "    }\n",
              "\n",
              "    .colab-df-buttons div {\n",
              "      margin-bottom: 4px;\n",
              "    }\n",
              "\n",
              "    [theme=dark] .colab-df-convert {\n",
              "      background-color: #3B4455;\n",
              "      fill: #D2E3FC;\n",
              "    }\n",
              "\n",
              "    [theme=dark] .colab-df-convert:hover {\n",
              "      background-color: #434B5C;\n",
              "      box-shadow: 0px 1px 3px 1px rgba(0, 0, 0, 0.15);\n",
              "      filter: drop-shadow(0px 1px 2px rgba(0, 0, 0, 0.3));\n",
              "      fill: #FFFFFF;\n",
              "    }\n",
              "  </style>\n",
              "\n",
              "    <script>\n",
              "      const buttonEl =\n",
              "        document.querySelector('#df-368125c7-bf58-4d59-b315-f6c705fc13be button.colab-df-convert');\n",
              "      buttonEl.style.display =\n",
              "        google.colab.kernel.accessAllowed ? 'block' : 'none';\n",
              "\n",
              "      async function convertToInteractive(key) {\n",
              "        const element = document.querySelector('#df-368125c7-bf58-4d59-b315-f6c705fc13be');\n",
              "        const dataTable =\n",
              "          await google.colab.kernel.invokeFunction('convertToInteractive',\n",
              "                                                    [key], {});\n",
              "        if (!dataTable) return;\n",
              "\n",
              "        const docLinkHtml = 'Like what you see? Visit the ' +\n",
              "          '<a target=\"_blank\" href=https://colab.research.google.com/notebooks/data_table.ipynb>data table notebook</a>'\n",
              "          + ' to learn more about interactive tables.';\n",
              "        element.innerHTML = '';\n",
              "        dataTable['output_type'] = 'display_data';\n",
              "        await google.colab.output.renderOutput(dataTable, element);\n",
              "        const docLink = document.createElement('div');\n",
              "        docLink.innerHTML = docLinkHtml;\n",
              "        element.appendChild(docLink);\n",
              "      }\n",
              "    </script>\n",
              "  </div>\n",
              "\n",
              "\n",
              "<div id=\"df-e66a5f37-fa5f-4e64-8ffb-f135e0906578\">\n",
              "  <button class=\"colab-df-quickchart\" onclick=\"quickchart('df-e66a5f37-fa5f-4e64-8ffb-f135e0906578')\"\n",
              "            title=\"Suggest charts\"\n",
              "            style=\"display:none;\">\n",
              "\n",
              "<svg xmlns=\"http://www.w3.org/2000/svg\" height=\"24px\"viewBox=\"0 0 24 24\"\n",
              "     width=\"24px\">\n",
              "    <g>\n",
              "        <path d=\"M19 3H5c-1.1 0-2 .9-2 2v14c0 1.1.9 2 2 2h14c1.1 0 2-.9 2-2V5c0-1.1-.9-2-2-2zM9 17H7v-7h2v7zm4 0h-2V7h2v10zm4 0h-2v-4h2v4z\"/>\n",
              "    </g>\n",
              "</svg>\n",
              "  </button>\n",
              "\n",
              "<style>\n",
              "  .colab-df-quickchart {\n",
              "      --bg-color: #E8F0FE;\n",
              "      --fill-color: #1967D2;\n",
              "      --hover-bg-color: #E2EBFA;\n",
              "      --hover-fill-color: #174EA6;\n",
              "      --disabled-fill-color: #AAA;\n",
              "      --disabled-bg-color: #DDD;\n",
              "  }\n",
              "\n",
              "  [theme=dark] .colab-df-quickchart {\n",
              "      --bg-color: #3B4455;\n",
              "      --fill-color: #D2E3FC;\n",
              "      --hover-bg-color: #434B5C;\n",
              "      --hover-fill-color: #FFFFFF;\n",
              "      --disabled-bg-color: #3B4455;\n",
              "      --disabled-fill-color: #666;\n",
              "  }\n",
              "\n",
              "  .colab-df-quickchart {\n",
              "    background-color: var(--bg-color);\n",
              "    border: none;\n",
              "    border-radius: 50%;\n",
              "    cursor: pointer;\n",
              "    display: none;\n",
              "    fill: var(--fill-color);\n",
              "    height: 32px;\n",
              "    padding: 0;\n",
              "    width: 32px;\n",
              "  }\n",
              "\n",
              "  .colab-df-quickchart:hover {\n",
              "    background-color: var(--hover-bg-color);\n",
              "    box-shadow: 0 1px 2px rgba(60, 64, 67, 0.3), 0 1px 3px 1px rgba(60, 64, 67, 0.15);\n",
              "    fill: var(--button-hover-fill-color);\n",
              "  }\n",
              "\n",
              "  .colab-df-quickchart-complete:disabled,\n",
              "  .colab-df-quickchart-complete:disabled:hover {\n",
              "    background-color: var(--disabled-bg-color);\n",
              "    fill: var(--disabled-fill-color);\n",
              "    box-shadow: none;\n",
              "  }\n",
              "\n",
              "  .colab-df-spinner {\n",
              "    border: 2px solid var(--fill-color);\n",
              "    border-color: transparent;\n",
              "    border-bottom-color: var(--fill-color);\n",
              "    animation:\n",
              "      spin 1s steps(1) infinite;\n",
              "  }\n",
              "\n",
              "  @keyframes spin {\n",
              "    0% {\n",
              "      border-color: transparent;\n",
              "      border-bottom-color: var(--fill-color);\n",
              "      border-left-color: var(--fill-color);\n",
              "    }\n",
              "    20% {\n",
              "      border-color: transparent;\n",
              "      border-left-color: var(--fill-color);\n",
              "      border-top-color: var(--fill-color);\n",
              "    }\n",
              "    30% {\n",
              "      border-color: transparent;\n",
              "      border-left-color: var(--fill-color);\n",
              "      border-top-color: var(--fill-color);\n",
              "      border-right-color: var(--fill-color);\n",
              "    }\n",
              "    40% {\n",
              "      border-color: transparent;\n",
              "      border-right-color: var(--fill-color);\n",
              "      border-top-color: var(--fill-color);\n",
              "    }\n",
              "    60% {\n",
              "      border-color: transparent;\n",
              "      border-right-color: var(--fill-color);\n",
              "    }\n",
              "    80% {\n",
              "      border-color: transparent;\n",
              "      border-right-color: var(--fill-color);\n",
              "      border-bottom-color: var(--fill-color);\n",
              "    }\n",
              "    90% {\n",
              "      border-color: transparent;\n",
              "      border-bottom-color: var(--fill-color);\n",
              "    }\n",
              "  }\n",
              "</style>\n",
              "\n",
              "  <script>\n",
              "    async function quickchart(key) {\n",
              "      const quickchartButtonEl =\n",
              "        document.querySelector('#' + key + ' button');\n",
              "      quickchartButtonEl.disabled = true;  // To prevent multiple clicks.\n",
              "      quickchartButtonEl.classList.add('colab-df-spinner');\n",
              "      try {\n",
              "        const charts = await google.colab.kernel.invokeFunction(\n",
              "            'suggestCharts', [key], {});\n",
              "      } catch (error) {\n",
              "        console.error('Error during call to suggestCharts:', error);\n",
              "      }\n",
              "      quickchartButtonEl.classList.remove('colab-df-spinner');\n",
              "      quickchartButtonEl.classList.add('colab-df-quickchart-complete');\n",
              "    }\n",
              "    (() => {\n",
              "      let quickchartButtonEl =\n",
              "        document.querySelector('#df-e66a5f37-fa5f-4e64-8ffb-f135e0906578 button');\n",
              "      quickchartButtonEl.style.display =\n",
              "        google.colab.kernel.accessAllowed ? 'block' : 'none';\n",
              "    })();\n",
              "  </script>\n",
              "</div>\n",
              "\n",
              "    </div>\n",
              "  </div>\n"
            ]
          },
          "metadata": {},
          "execution_count": 26
        }
      ]
    },
    {
      "cell_type": "markdown",
      "source": [
        "## dpdmax_139P\n",
        "- Maximal days past due for active contract.\n",
        "- active 신용 계약의 최대 연체 기간\n",
        "\n",
        "> **필요논의**\n",
        "- 이 값이 높을수록 대출 불이행 가능성 높을 가능\n",
        "- outlier(즉, 특정 값이 높은 대상을 기준으로 특징 뽑아낼 수 있지 않을까..)"
      ],
      "metadata": {
        "id": "f06ceRw08Kqk"
      }
    },
    {
      "cell_type": "code",
      "source": [
        "x = df_credit_bureau_1_0.dpdmax_139P\n",
        "print(f\"컬럼명: {x.name}\")\n",
        "print(f\"데이터 타입: {x.dtype}\")\n",
        "print(f\"(min, max) = {x.min()}, {x.max()}\")\n",
        "print(f\"NA 값: {any(x.isna())}, {x.isna().sum() / x.shape[0]:.10f}\")\n",
        "print(f\"(null, 0, >0) = {x.isna().sum(), (x == 0.0).sum(), (x > 0.0).sum()}\")\n",
        "# print(f\"평균: {x[x > 0].mean()}\")\n",
        "# print(f\"중간값(0이상): {x[x > 0].median()}\")\n",
        "print(f\"평균: {x.mean()}\")\n",
        "print(f\"중간값: {x.median()}\")"
      ],
      "metadata": {
        "colab": {
          "base_uri": "https://localhost:8080/"
        },
        "id": "qV8-krJ0-E-g",
        "outputId": "71bd2238-855b-470f-89f2-9d545e460db7"
      },
      "execution_count": null,
      "outputs": [
        {
          "output_type": "stream",
          "name": "stdout",
          "text": [
            "컬럼명: dpdmax_139P\n",
            "데이터 타입: float64\n",
            "(min, max) = 0.0, 4877.0\n",
            "NA 값: True, 0.8404198712\n",
            "(null, 0, >0) = (3452623, 520988, 134601)\n",
            "평균: 12.863290872787676\n",
            "중간값: 0.0\n"
          ]
        }
      ]
    },
    {
      "cell_type": "code",
      "source": [
        "plt.figure(figsize=(10, 6))\n",
        "sns.kdeplot(x.loc[x>0], shade=True)\n",
        "plt.show()"
      ],
      "metadata": {
        "colab": {
          "base_uri": "https://localhost:8080/",
          "height": 673
        },
        "id": "dso1uinYBAik",
        "outputId": "0a0789b1-464a-4510-f34f-e53364cb76f2"
      },
      "execution_count": null,
      "outputs": [
        {
          "output_type": "stream",
          "name": "stderr",
          "text": [
            "<ipython-input-140-e3b11f8d4c0a>:2: FutureWarning: \n",
            "\n",
            "`shade` is now deprecated in favor of `fill`; setting `fill=True`.\n",
            "This will become an error in seaborn v0.14.0; please update your code.\n",
            "\n",
            "  sns.kdeplot(x.loc[x>0], shade=True)\n"
          ]
        },
        {
          "output_type": "display_data",
          "data": {
            "text/plain": [
              "<Figure size 1000x600 with 1 Axes>"
            ],
            "image/png": "[encoded data removed]"
          },
          "metadata": {}
        }
      ]
    },
    {
      "cell_type": "markdown",
      "source": [
        "## dpdmax_757P\n",
        "- Maximum days past due for a closed contract.\n",
        "- closed 신용 계약의 최대 연체 기간\n",
        "- 과거의 신용 상태를 반영 -> 대출 불이행 가능성을 평가\n",
        "\n",
        "> **필요논의**\n",
        "- 음수값 존재(81개) -> 연체 X"
      ],
      "metadata": {
        "id": "Ek1xCz4g8cA6"
      }
    },
    {
      "cell_type": "code",
      "source": [
        "x = df_credit_bureau_1_0.dpdmax_757P\n",
        "print(f\"컬럼명: {x.name}\")\n",
        "print(f\"데이터 타입: {x.dtype}\")\n",
        "print(f\"(min, max) = {x.min()}, {x.max()}\")\n",
        "print(f\"NA 값: {any(x.isna())}, {x.isna().sum() / x.shape[0]:.10f}\")\n",
        "print(f\"(null, 0, >0) = {x.isna().sum(), (x == 0.0).sum(), (x > 0.0).sum()}\")\n",
        "# print(f\"평균: {x[x > 0].mean()}\")\n",
        "# print(f\"중간값(0이상): {x[x > 0].median()}\")\n",
        "print(f\"평균: {x.mean()}\")\n",
        "print(f\"중간값: {x.median()}\")"
      ],
      "metadata": {
        "colab": {
          "base_uri": "https://localhost:8080/"
        },
        "id": "Eb8lHNGa8bWp",
        "outputId": "1837a663-6c08-4a02-b324-cd53cf019647"
      },
      "execution_count": null,
      "outputs": [
        {
          "output_type": "stream",
          "name": "stdout",
          "text": [
            "컬럼명: dpdmax_757P\n",
            "데이터 타입: float64\n",
            "(min, max) = -9.0, 117000.0\n",
            "NA 값: True, 0.8928261248\n",
            "(null, 0, >0) = (3667919, 312253, 127959)\n",
            "평균: 44.05819306688955\n",
            "중간값: 0.0\n"
          ]
        }
      ]
    },
    {
      "cell_type": "code",
      "source": [
        "x[x < 0.0]"
      ],
      "metadata": {
        "colab": {
          "base_uri": "https://localhost:8080/"
        },
        "id": "AgxJfT6uTt1e",
        "outputId": "7e300127-e5f4-4c17-80ae-f1dd53f491c0"
      },
      "execution_count": null,
      "outputs": [
        {
          "output_type": "execute_result",
          "data": {
            "text/plain": [
              "62441     -1.0\n",
              "318083    -2.0\n",
              "321583    -3.0\n",
              "520163    -1.0\n",
              "522287    -2.0\n",
              "          ... \n",
              "4036516   -1.0\n",
              "4080946   -1.0\n",
              "4081884   -3.0\n",
              "4093774   -1.0\n",
              "4101728   -2.0\n",
              "Name: dpdmax_757P, Length: 81, dtype: float64"
            ]
          },
          "metadata": {},
          "execution_count": 163
        }
      ]
    },
    {
      "cell_type": "markdown",
      "source": [
        "## dpdmaxdatemonth_442T\n",
        "- Max DPD occurrence month for terminated contracts from credit bureau data.\n",
        "- 신용 평가 기관 데이터에서 종료된 계약에서 최대 연체가 발생한 월\n",
        "\n",
        "- **DPD (Days Past Due)**: 대출 상환 기간 내에 지불 기한을 넘긴 일수를 나타내는 지표\n",
        "\n",
        "> **필요논의**\n",
        "- month > float 으로 그대로 표기 or object로 변환(categorical value)\n",
        "- 굳이 float으로 표기할 필요가 있을까,,? 다른 수학적인 계산 필요없을 것 같은데 categorical로 변환? 그럼 encoding은 어떻게? one-hot? x"
      ],
      "metadata": {
        "id": "R3QU5Bao-HRz"
      }
    },
    {
      "cell_type": "code",
      "source": [
        "x = df_credit_bureau_1_0.dpdmaxdatemonth_442T\n",
        "\n",
        "print(f\"컬럼명: {x.name}\")\n",
        "print(f\"데이터 타입: {x.dtype}\")\n",
        "print(f\"(min, max) = {x.min()}, {x.max()}\")\n",
        "print(f\"NA 값: {any(x.isna())}, {x.isna().sum() / x.shape[0]:.10f}\")\n",
        "print(f\"(null, 0, >0) = {x.isna().sum(), (x == 0.0).sum(), (x > 0.0).sum()}\")\n",
        "#print(f\"평균: {x.mean()}\")\n",
        "#print(f\"중간값: {x.median()}\")\n",
        "print(f\"----- Value_count ------ \\n{x.value_counts()}\")"
      ],
      "metadata": {
        "colab": {
          "base_uri": "https://localhost:8080/"
        },
        "id": "l8tJk4cv-HSB",
        "outputId": "300e55ca-4ae1-448c-ad99-cf45bf5d89c9"
      },
      "execution_count": null,
      "outputs": [
        {
          "output_type": "stream",
          "name": "stdout",
          "text": [
            "컬럼명: dpdmaxdatemonth_442T\n",
            "데이터 타입: float64\n",
            "(min, max) = 1.0, 12.0\n",
            "NA 값: True, 0.8928261248\n",
            "(null, 0, >0) = (3667919, 0, 440293)\n",
            "평균: 6.49804789083633\n",
            "중간값: 7.0\n",
            "----- Value_count ------ \n",
            "8.0     40851\n",
            "1.0     40488\n",
            "6.0     38947\n",
            "7.0     38561\n",
            "11.0    38120\n",
            "9.0     36206\n",
            "10.0    35753\n",
            "3.0     34987\n",
            "2.0     34826\n",
            "5.0     34663\n",
            "12.0    33993\n",
            "4.0     32898\n",
            "Name: dpdmaxdatemonth_442T, dtype: int64\n"
          ]
        }
      ]
    },
    {
      "cell_type": "markdown",
      "source": [
        "## dpdmaxdatemonth_89T\n",
        "- Month when maximum days past due occurred on the active contract with the credit bureau.\n",
        "- 신용 평가 기관 데이터에서 active 신용 계약에서 최대 연체가 발생한 월\n",
        "\n",
        "> **필요논의**\n",
        "- float or categorical value"
      ],
      "metadata": {
        "id": "D1U69IvJ-HuB"
      }
    },
    {
      "cell_type": "code",
      "source": [
        "x = df_credit_bureau_1_0.dpdmaxdatemonth_89T\n",
        "\n",
        "print(f\"컬럼명: {x.name}\")\n",
        "print(f\"데이터 타입: {x.dtype}\")\n",
        "print(f\"(min, max) = {x.min()}, {x.max()}\")\n",
        "print(f\"NA 값: {any(x.isna())}, {x.isna().sum() / x.shape[0]:.10f}\")\n",
        "print(f\"(null, 0, >0) = {x.isna().sum(), (x == 0.0).sum(), (x > 0.0).sum()}\")\n",
        "#print(f\"평균: {x.mean()}\")\n",
        "#print(f\"중간값: {x.median()}\")\n",
        "print(f\"----- Value_count ------ \\n{x.value_counts()}\")"
      ],
      "metadata": {
        "colab": {
          "base_uri": "https://localhost:8080/"
        },
        "id": "0HijZoXA-gX4",
        "outputId": "893d1644-227e-40f1-de06-050113ef212a"
      },
      "execution_count": null,
      "outputs": [
        {
          "output_type": "stream",
          "name": "stdout",
          "text": [
            "컬럼명: dpdmaxdatemonth_89T\n",
            "데이터 타입: float64\n",
            "(min, max) = 1.0, 12.0\n",
            "NA 값: True, 0.8404198712\n",
            "(null, 0, >0) = (3452623, 0, 655589)\n",
            "----- Value_count ------ \n",
            "6.0     63929\n",
            "1.0     61572\n",
            "5.0     60904\n",
            "7.0     60089\n",
            "4.0     57285\n",
            "2.0     55733\n",
            "3.0     55446\n",
            "8.0     51443\n",
            "10.0    50952\n",
            "12.0    50012\n",
            "11.0    46905\n",
            "9.0     41319\n",
            "Name: dpdmaxdatemonth_89T, dtype: int64\n"
          ]
        }
      ]
    },
    {
      "cell_type": "markdown",
      "source": [
        "## dpdmaxdateyear_596T\n",
        "- Year when maximum Days Past Due (DPD) occurred for the active contract.\n",
        "- active 신용 계약에서 최대 연체가 발생한 연도\n",
        "\n",
        "> **필요논의**\n",
        "- 특정 연도에 대한 논의 필요! > 해당 연도에 어떤 경제적인 사건이 있었는지?"
      ],
      "metadata": {
        "id": "HHJcUK8k-H_t"
      }
    },
    {
      "cell_type": "code",
      "source": [
        "x = df_credit_bureau_1_0.dpdmaxdateyear_596T\n",
        "print(f\"컬럼명: {x.name}\")\n",
        "print(f\"데이터 타입: {x.dtype}\")\n",
        "print(f\"(min, max) = {x.min()}, {x.max()}\")\n",
        "print(f\"NA 값: {any(x.isna())}, {x.isna().sum() / x.shape[0]:.10f}\")\n",
        "print(f\"(null, 0, >0) = {x.isna().sum(), (x == 0.0).sum(), (x > 0.0).sum()}\")\n",
        "#print(f\"평균: {x.mean()}\")\n",
        "#print(f\"중간값: {x.median()}\")\n",
        "print(f\"----- Value_count ------ \\n{x.value_counts()}\")"
      ],
      "metadata": {
        "colab": {
          "base_uri": "https://localhost:8080/"
        },
        "id": "qe6r0tS7-H_u",
        "outputId": "f6ba45d8-b592-4843-cfe2-591463fc440d"
      },
      "execution_count": null,
      "outputs": [
        {
          "output_type": "stream",
          "name": "stdout",
          "text": [
            "컬럼명: dpdmaxdateyear_596T\n",
            "데이터 타입: float64\n",
            "(min, max) = 2015.0, 2019.0\n",
            "NA 값: True, 0.8404198712\n",
            "(null, 0, >0) = (3452623, 0, 655589)\n",
            "----- Value_count ------ \n",
            "2018.0    297600\n",
            "2017.0    182548\n",
            "2019.0    175361\n",
            "2016.0        64\n",
            "2015.0        16\n",
            "Name: dpdmaxdateyear_596T, dtype: int64\n"
          ]
        }
      ]
    },
    {
      "cell_type": "markdown",
      "source": [
        "## dpdmaxdateyear_896T\n",
        "- Year of maximum Days Past Due of closed contract obtained from Credit Bureau.\n",
        "- 신용 평가 기관 데이터에서 closed 신용 계약에서 최대 연체가 발생한 연도\n",
        "\n"
      ],
      "metadata": {
        "id": "usaprlFs-IIi"
      }
    },
    {
      "cell_type": "code",
      "source": [
        "x = df_credit_bureau_1_0.dpdmaxdateyear_896T\n",
        "print(f\"컬럼명: {x.name}\")\n",
        "print(f\"데이터 타입: {x.dtype}\")\n",
        "print(f\"(min, max) = {x.min()}, {x.max()}\")\n",
        "print(f\"NA 값: {any(x.isna())}, {x.isna().sum() / x.shape[0]:.10f}\")\n",
        "print(f\"(null, 0, >0) = {x.isna().sum(), (x == 0.0).sum(), (x > 0.0).sum()}\")\n",
        "#print(f\"평균: {x.mean()}\")\n",
        "#print(f\"중간값: {x.median()}\")\n",
        "print(f\"----- Value_count ------ \\n{x.value_counts()}\")"
      ],
      "metadata": {
        "colab": {
          "base_uri": "https://localhost:8080/"
        },
        "id": "wGK-LKEv-IIj",
        "outputId": "3b3ace3c-f464-4c49-be59-3309980e6a3b"
      },
      "execution_count": null,
      "outputs": [
        {
          "output_type": "stream",
          "name": "stdout",
          "text": [
            "컬럼명: dpdmaxdateyear_896T\n",
            "데이터 타입: float64\n",
            "(min, max) = 2003.0, 2019.0\n",
            "NA 값: True, 0.8928261248\n",
            "(null, 0, >0) = (3667919, 0, 440293)\n",
            "----- Value_count ------ \n",
            "2018.0    74615\n",
            "2017.0    62742\n",
            "2016.0    44484\n",
            "2015.0    39753\n",
            "2014.0    35178\n",
            "2013.0    30525\n",
            "2012.0    25667\n",
            "2011.0    23221\n",
            "2007.0    23134\n",
            "2019.0    17641\n",
            "2010.0    17251\n",
            "2008.0    15959\n",
            "2009.0    14962\n",
            "2006.0    11789\n",
            "2005.0     3224\n",
            "2004.0      147\n",
            "2003.0        1\n",
            "Name: dpdmaxdateyear_896T, dtype: int64\n"
          ]
        }
      ]
    },
    {
      "cell_type": "markdown",
      "source": [
        "## totalamount_996A\n",
        "- Total amount of active contracts in the credit bureau.\n",
        "- 신용기관과 관련하여 active 계약의 총 금액"
      ],
      "metadata": {
        "id": "IHeQxZaq2U28"
      }
    },
    {
      "cell_type": "code",
      "source": [
        "x = df_credit_bureau_1_0.totalamount_996A\n",
        "print(f\"컬럼명: {x.name}\")\n",
        "print(f\"데이터 타입: {x.dtype}\")\n",
        "print(f\"(min, max) = {x.min()}, {x.max()}\")\n",
        "print(f\"NA 값: {any(x.isna())}, {x.isna().sum() / x.shape[0]:.10f}\")\n",
        "print(f\"(null, 0, >0) = {x.isna().sum(), (x == 0.0).sum(), (x > 0.0).sum()}\")\n",
        "# print(f\"평균: {x[x > 0].mean()}\")\n",
        "# print(f\"중간값(0이상): {x[x > 0].median()}\")\n",
        "print(f\"평균: {x.mean()}\")\n",
        "print(f\"중간값: {x.median()}\")"
      ],
      "metadata": {
        "colab": {
          "base_uri": "https://localhost:8080/"
        },
        "id": "KKFWx5662ZGV",
        "outputId": "cb88701c-4b06-4c49-8404-cd63bcda4a1c"
      },
      "execution_count": null,
      "outputs": [
        {
          "output_type": "stream",
          "name": "stdout",
          "text": [
            "컬럼명: totalamount_996A\n",
            "데이터 타입: float64\n",
            "(min, max) = 5.0, 1391240100.0\n",
            "NA 값: True, 0.9122869024\n",
            "(null, 0, >0) = (3747868, 0, 360344)\n",
            "평균: 205977.31620524003\n",
            "중간값: 61076.0\n"
          ]
        }
      ]
    },
    {
      "cell_type": "markdown",
      "source": [
        "## totalamount_6A\n",
        "- Total amount of closed contracts.\n",
        "- 종료된 계약의 총 대출액"
      ],
      "metadata": {
        "id": "723UlI932OvT"
      }
    },
    {
      "cell_type": "code",
      "source": [
        "x = df_credit_bureau_1_0.totalamount_6A\n",
        "print(f\"컬럼명: {x.name}\")\n",
        "print(f\"데이터 타입: {x.dtype}\")\n",
        "print(f\"(min, max) = {x.min()}, {x.max()}\")\n",
        "print(f\"NA 값: {any(x.isna())}, {x.isna().sum() / x.shape[0]:.10f}\")\n",
        "print(f\"(null, 0, >0) = {x.isna().sum(), (x == 0.0).sum(), (x > 0.0).sum()}\")\n",
        "# print(f\"평균: {x[x > 0].mean()}\")\n",
        "# print(f\"중간값(0이상): {x[x > 0].median()}\")\n",
        "print(f\"평균: {x.mean()}\")\n",
        "print(f\"중간값: {x.median()}\")"
      ],
      "metadata": {
        "colab": {
          "base_uri": "https://localhost:8080/"
        },
        "id": "7W9yvZhK2TyB",
        "outputId": "e4e3c76b-0065-4a73-8a79-2ef0045ad108"
      },
      "execution_count": null,
      "outputs": [
        {
          "output_type": "stream",
          "name": "stdout",
          "text": [
            "컬럼명: totalamount_6A\n",
            "데이터 타입: float64\n",
            "(min, max) = 0.0, 159574000.0\n",
            "NA 값: True, 0.9043888193\n",
            "(null, 0, >0) = (3715421, 658, 392133)\n",
            "평균: 79191.42813471069\n",
            "중간값: 27547.201\n"
          ]
        }
      ]
    },
    {
      "cell_type": "markdown",
      "source": [
        "## totaldebtoverduevalue_178A\n",
        "- Total amount of past due debt on active contracts.\n",
        "- active 계약에 대한 연체된 총 부채 금액"
      ],
      "metadata": {
        "id": "-Pvf2Y3b2Z_A"
      }
    },
    {
      "cell_type": "code",
      "source": [
        "x = df_credit_bureau_1_0.totaldebtoverduevalue_178A\n",
        "print(f\"컬럼명: {x.name}\")\n",
        "print(f\"데이터 타입: {x.dtype}\")\n",
        "print(f\"(min, max) = {x.min()}, {x.max()}\")\n",
        "print(f\"NA 값: {any(x.isna())}, {x.isna().sum() / x.shape[0]:.10f}\")\n",
        "print(f\"(null, 0, >0) = {x.isna().sum(), (x == 0.0).sum(), (x > 0.0).sum()}\")\n",
        "# print(f\"평균: {x[x > 0].mean()}\")\n",
        "# print(f\"중간값(0이상): {x[x > 0].median()}\")\n",
        "print(f\"평균: {x.mean()}\")\n",
        "print(f\"중간값: {x.median()}\")"
      ],
      "metadata": {
        "colab": {
          "base_uri": "https://localhost:8080/"
        },
        "id": "nhd2YdsR2ebR",
        "outputId": "ffd8ea29-0273-406d-8bf6-0657a7813a18"
      },
      "execution_count": null,
      "outputs": [
        {
          "output_type": "stream",
          "name": "stdout",
          "text": [
            "컬럼명: totaldebtoverduevalue_178A\n",
            "데이터 타입: float64\n",
            "(min, max) = 0.0, 49005736.0\n",
            "NA 값: True, 0.9178294596\n",
            "(null, 0, >0) = (3770638, 320411, 17163)\n",
            "평균: 1807.5122580590125\n",
            "중간값: 0.0\n"
          ]
        }
      ]
    },
    {
      "cell_type": "markdown",
      "source": [
        "## totaldebtoverduevalue_718A\n",
        "- Total overdue debt amount for closed credit contracts.\n",
        "- 종료된 계약에 대한 연체된 총 부채 금액"
      ],
      "metadata": {
        "id": "JSOz8CdI2e1D"
      }
    },
    {
      "cell_type": "code",
      "source": [
        "x = df_credit_bureau_1_0.totaldebtoverduevalue_718A\n",
        "print(f\"컬럼명: {x.name}\")\n",
        "print(f\"데이터 타입: {x.dtype}\")\n",
        "print(f\"(min, max) = {x.min()}, {x.max()}\")\n",
        "print(f\"NA 값: {any(x.isna())}, {x.isna().sum() / x.shape[0]:.10f}\")\n",
        "print(f\"(null, 0, >0) = {x.isna().sum(), (x == 0.0).sum(), (x > 0.0).sum()}\")\n",
        "# print(f\"평균: {x[x > 0].mean()}\")\n",
        "# print(f\"중간값(0이상): {x[x > 0].median()}\")\n",
        "print(f\"평균: {x.mean()}\")\n",
        "print(f\"중간값: {x.median()}\")"
      ],
      "metadata": {
        "colab": {
          "base_uri": "https://localhost:8080/"
        },
        "id": "Hno5cEco2kCl",
        "outputId": "e1f4dfb0-c1ec-4f5f-bdb9-4adf7beaf51d"
      },
      "execution_count": null,
      "outputs": [
        {
          "output_type": "stream",
          "name": "stdout",
          "text": [
            "컬럼명: totaldebtoverduevalue_718A\n",
            "데이터 타입: float64\n",
            "(min, max) = 0.0, 433225.0\n",
            "NA 값: True, 0.9273158250\n",
            "(null, 0, >0) = (3809610, 298208, 394)\n",
            "평균: 104.79311905289185\n",
            "중간값: 0.0\n"
          ]
        }
      ]
    },
    {
      "cell_type": "markdown",
      "source": [
        "## totaloutstanddebtvalue_39A\n",
        "- Total outstanding debt for active contracts in the credit bureau.\n",
        "- 신용기관에 기록된 active 계약에 대한 미지급된 총 부채 금액"
      ],
      "metadata": {
        "id": "MM8LnOOC2kU3"
      }
    },
    {
      "cell_type": "code",
      "source": [
        "x = df_credit_bureau_1_0.totaloutstanddebtvalue_39A\n",
        "print(f\"컬럼명: {x.name}\")\n",
        "print(f\"데이터 타입: {x.dtype}\")\n",
        "print(f\"(min, max) = {x.min()}, {x.max()}\")\n",
        "print(f\"NA 값: {any(x.isna())}, {x.isna().sum() / x.shape[0]:.10f}\")\n",
        "print(f\"(null, 0, >0) = {x.isna().sum(), (x == 0.0).sum(), (x > 0.0).sum()}\")\n",
        "# print(f\"평균: {x[x > 0].mean()}\")\n",
        "# print(f\"중간값(0이상): {x[x > 0].median()}\")\n",
        "print(f\"평균: {x.mean()}\")\n",
        "print(f\"중간값: {x.median()}\")"
      ],
      "metadata": {
        "colab": {
          "base_uri": "https://localhost:8080/"
        },
        "id": "PPl_zjag2qRm",
        "outputId": "8057b9f7-0d69-460c-a07b-783ac0252c49"
      },
      "execution_count": null,
      "outputs": [
        {
          "output_type": "stream",
          "name": "stdout",
          "text": [
            "컬럼명: totaloutstanddebtvalue_39A\n",
            "데이터 타입: float64\n",
            "(min, max) = 0.0, 1688617600.0\n",
            "NA 값: True, 0.9178294596\n",
            "(null, 0, >0) = (3770638, 39062, 298512)\n",
            "평균: 196536.96902275702\n",
            "중간값: 57493.941999999995\n"
          ]
        }
      ]
    },
    {
      "cell_type": "markdown",
      "source": [
        "## totaloutstanddebtvalue_668A\n",
        "- Total outstanding debt for the closed contracts in the credit bureau.\n",
        "- 신용기관에 기록된 closed 계약에 대한 미지급된 총 부채 금액"
      ],
      "metadata": {
        "id": "HrETRYhM2sPB"
      }
    },
    {
      "cell_type": "code",
      "source": [
        "x = df_credit_bureau_1_0.totaloutstanddebtvalue_668A\n",
        "print(f\"컬럼명: {x.name}\")\n",
        "print(f\"데이터 타입: {x.dtype}\")\n",
        "print(f\"(min, max) = {x.min()}, {x.max()}\")\n",
        "print(f\"NA 값: {any(x.isna())}, {x.isna().sum() / x.shape[0]:.10f}\")\n",
        "print(f\"(null, 0, >0) = {x.isna().sum(), (x == 0.0).sum(), (x > 0.0).sum()}\")\n",
        "# print(f\"평균: {x[x > 0].mean()}\")\n",
        "# print(f\"중간값(0이상): {x[x > 0].median()}\")\n",
        "print(f\"평균: {x.mean()}\")\n",
        "print(f\"중간값: {x.median()}\")"
      ],
      "metadata": {
        "colab": {
          "base_uri": "https://localhost:8080/"
        },
        "id": "edgl7T7v2vGu",
        "outputId": "9cd5924a-c9f7-4ac0-e288-dfc7095b5fb1"
      },
      "execution_count": null,
      "outputs": [
        {
          "output_type": "stream",
          "name": "stdout",
          "text": [
            "컬럼명: totaloutstanddebtvalue_668A\n",
            "데이터 타입: float64\n",
            "(min, max) = 0.0, 16952312.0\n",
            "NA 값: True, 0.9273158250\n",
            "(null, 0, >0) = (3809610, 298175, 427)\n",
            "평균: 107.90455299037211\n",
            "중간값: 0.0\n"
          ]
        }
      ]
    },
    {
      "cell_type": "markdown",
      "source": [
        "## -------- 거래금융기관, Credit Bureau에 기록된 정보 --------"
      ],
      "metadata": {
        "id": "xZO4T2WMSStb"
      }
    },
    {
      "cell_type": "markdown",
      "source": [
        "## refreshdate_3813885D\n",
        "- Date when the credit bureau's public sources have been last updated.\n",
        "- 신용 기관의 공개 소스가 마지막으로 업데이트된 날짜"
      ],
      "metadata": {
        "id": "DIBBpThg1jfg"
      }
    },
    {
      "cell_type": "code",
      "source": [
        "x = df_credit_bureau_1_0.refreshdate_3813885D\n",
        "x_dt = pd.to_datetime(x)\n",
        "print(f\"데이터 타입은? {x_dt.dtype}\")\n",
        "print(f\"(min, max) = {x_dt.min().date()}, {x_dt.max().date()}\")\n",
        "print(f\"NA 값이 있나요? {any(x.isna())}, {x.isna().sum()/len(x) * 100}\")\n",
        "print(f\"dayofweek 종류: \\n{x_dt.dt.dayofweek.value_counts().sort_values(ascending=False)}\")"
      ],
      "metadata": {
        "colab": {
          "base_uri": "https://localhost:8080/"
        },
        "id": "5nQGh_rw1oWH",
        "outputId": "77886eab-28d4-4c1e-d6a3-d50761cc079a"
      },
      "execution_count": null,
      "outputs": [
        {
          "output_type": "stream",
          "name": "stdout",
          "text": [
            "데이터 타입은? datetime64[ns]\n",
            "(min, max) = 2018-11-02, 2019-07-08\n",
            "NA 값이 있나요? True, 34.8073078993976\n",
            "dayofweek 종류: \n",
            "2.0    591639\n",
            "3.0    505679\n",
            "0.0    377515\n",
            "6.0    377269\n",
            "4.0    319479\n",
            "5.0    284081\n",
            "1.0    222592\n",
            "Name: refreshdate_3813885D, dtype: int64\n"
          ]
        }
      ]
    },
    {
      "cell_type": "markdown",
      "source": [
        "## financialinstitution_382M\n",
        "- Name of financial institution that is linked to a closed contract.\n",
        "- Closed 계약과 연결된 금융 기관 이름\n",
        "- Masking Category\n",
        "\n",
        "> **필요논의**\n",
        "\n",
        "- 각 금융기관별로 분석해볼 수 있음\n",
        "- `Home Credit` 항목?\n",
        "- 다른 항목과 달라보이는 이름의 존재(`P133_127_114 P150_136_157`\n"
      ],
      "metadata": {
        "id": "8UgqbMQhIHV_"
      }
    },
    {
      "cell_type": "code",
      "source": [
        "x = df_credit_bureau_1_0.financialinstitution_382M\n",
        "print(f\"컬럼명: {x.name}\")\n",
        "print(f\"데이터 타입: {x.dtype}\")\n",
        "print(f\"NA 값: {any(x.isna())}, {x.isna().sum() / x.shape[0]:.10f}\")\n",
        "print(f\"Categories: {len(x.unique())},{ x.unique()}\")\n",
        "print(\"--- Value Counts ---\")\n",
        "x.value_counts()"
      ],
      "metadata": {
        "colab": {
          "base_uri": "https://localhost:8080/"
        },
        "outputId": "1c4db64e-52ca-4269-b54e-49413602d662",
        "id": "MOtQW9x8IHWG"
      },
      "execution_count": null,
      "outputs": [
        {
          "output_type": "stream",
          "name": "stdout",
          "text": [
            "컬럼명: financialinstitution_382M\n",
            "데이터 타입: object\n",
            "NA 값: False, 0.0000000000\n",
            "Categories: 211,['a55475b1' 'b619fa46' 'P40_52_135' 'P133_127_114' '9a93e20f' 'P20_84_65'\n",
            " '9325d851' 'P204_66_73' 'P150_136_157' 'P51_123_23' '16e9971f' '1f5ab063'\n",
            " '51684633' 'd6a7d943' 'P193_154_60' 'Home Credit' '84d62c22' '8fc70d27'\n",
            " '50babcd4' 'a4f0ab55' 'd4e7a843' '952e9882' 'P8_56_129' '7e4feb1b'\n",
            " '67c9a35b' '0d39f5db' 'P102_97_118' '6cfcdd0c' 'd35b8336' 'a0fa072e'\n",
            " 'f4b22787' '528d7cef' 'b0c676ae' 'dcb42d2c' '435e3f52' 'cc8de998'\n",
            " '0a20fa9e' 'c1525162' '79598c5d' 'P40_25_35' '58e10f35' 'cc2c2610'\n",
            " '55b002a9' '5dd97ba4' '01595096' '8da66b4b' '92ed9984' '7df02535'\n",
            " '6ac884b8' '3629ef14' 'e9bfdb5c' '8997b931' '358c9fe2' 'd3279774'\n",
            " 'a9d35603' '5566a43a' 'acc27a10' 'fd828f59' 'dcf5a604' '6d9af8c5'\n",
            " 'a97f66ac' 'a24a91cd' '8be4e516' 'P190_77_138' '41bb1335' '3783337d'\n",
            " 'cb830fec' '56fc0e7c' '230bbe1d' '6d53485a' '56b2d0da' 'b2145224'\n",
            " '05ccb162' 'db36d360' '7df45473' 'f0a813a9' 'a365816f' '461a69bc'\n",
            " '5f6f27be' '360a478c' '73c01aa2' '09df6179' '1e7e72b0' 'ee9c55a2'\n",
            " 'af6f3698' '5471571a' '001f4b0b' 'ab7b0f68' '1ffbefb9' 'dbddb6bb'\n",
            " '2d02cbc6' '250473ce' '889c1f9d' 'a5a197bb' 'e916f140' 'a7f63d22'\n",
            " 'ffc154eb' '0c2ca28d' '35c2d954' 'dcd48f0a' '816c714c' '0a9eeec4'\n",
            " 'a0904c48' '4622abb2' 'f27ed340' 'f4518152' '6da01529' 'a8468729'\n",
            " '51cabcca' 'a518deff' '44e50dcc' '78b3a91f' '0799a4eb' '57af39b9'\n",
            " '75d37901' '4a62a318' 'e2a39b1a' '98bdccc4' 'aec84c88' 'a5145fc8'\n",
            " 'eb725dc9' '47f9fc8a' 'e1b596cd' 'ec7f1260' 'c4c55897' '10340b4b'\n",
            " 'dd48faeb' '32b80dd4' '71de340a' '35f7f062' 'b60714db' '2fe4eede'\n",
            " '5c6bebf0' 'P146_73_101' 'bba7bb91' 'aa82a7b9' '8bbfb3ae' 'd31f6c4d'\n",
            " 'c278975a' 'fd524fdd' '7c24cfb7' 'c6b2d6a3' '057b761c' '4b58108f'\n",
            " '63722708' '37716077' '9466693f' 'e7b2248f' 'ee913009' '92c9f61f'\n",
            " '28dfc080' 'P125_111_128' '4c703dfd' '6a62c41c' '759fdd2c' '8f500b42'\n",
            " '11f1298d' '090eb0c2' 'edc70773' '70fc3a82' 'c0edbb2e' 'edd4a280'\n",
            " '1834a65d' '3b0f9cfa' '57573fe3' 'eb77f8bf' 'ffafd794' '31a44ce0'\n",
            " 'c183e3d7' '5c1e19af' '53ff8352' '3e1805f5' 'd7907c49' '60215687'\n",
            " '04d45dcc' '6cfa633d' 'a517c0a1' 'efa1d381' '66296562' 'a7b6e9df'\n",
            " 'a69c8898' '421445ca' '245b5907' 'f43b5c1d' '07b0eeea' 'fd087c0f'\n",
            " 'ef973dcd' '0fbad57d' '1d3bc552' 'b73034ed' 'bbef8ee7' 'ed1b653a'\n",
            " 'ec92ab0d' '5cc7ffe3' 'bf7a9f55' '3be8369a' '9d25f82e' 'b68009a7'\n",
            " '3b40297c' 'eeea8313' '3e4cabb9' '1afc9a5f' 'c79c3b45' '89405e67'\n",
            " '0fa3ae7c' 'e9bcbab2' 'dcbb62d1' '231d2fa2' 'a7156135' 'f439ce51'\n",
            " '5467828d']\n",
            "--- Value Counts ---\n"
          ]
        },
        {
          "output_type": "execute_result",
          "data": {
            "text/plain": [
              "a55475b1        3651491\n",
              "Home Credit      142353\n",
              "P133_127_114      50358\n",
              "P150_136_157      42631\n",
              "b619fa46          36699\n",
              "                 ...   \n",
              "f43b5c1d              1\n",
              "a69c8898              1\n",
              "a7b6e9df              1\n",
              "eb77f8bf              1\n",
              "5467828d              1\n",
              "Name: financialinstitution_382M, Length: 211, dtype: int64"
            ]
          },
          "metadata": {},
          "execution_count": 151
        }
      ]
    },
    {
      "cell_type": "markdown",
      "source": [
        "## financialinstitution_591M\n",
        "- Financial institution name of the active contract.\n",
        "- active하게 진행중인 대출이나 신용 계약과 연결된 금융 기관의 이름\n"
      ],
      "metadata": {
        "id": "NVVoqCXUIH3m"
      }
    },
    {
      "cell_type": "code",
      "source": [
        "x = df_credit_bureau_1_0.financialinstitution_591M\n",
        "print(f\"컬럼명: {x.name}\")\n",
        "print(f\"데이터 타입: {x.dtype}\")\n",
        "print(f\"NA 값: {any(x.isna())}, {x.isna().sum() / x.shape[0]:.10f}\")\n",
        "print(f\"Categories: {len(x.unique())},{ x.unique()}\")\n",
        "print(\"--- Value Counts ---\")\n",
        "x.value_counts()"
      ],
      "metadata": {
        "colab": {
          "base_uri": "https://localhost:8080/"
        },
        "outputId": "b51492f9-82d8-4539-88d1-7801d166e21e",
        "id": "zpud_qJKIH3n"
      },
      "execution_count": null,
      "outputs": [
        {
          "output_type": "stream",
          "name": "stdout",
          "text": [
            "컬럼명: financialinstitution_591M\n",
            "데이터 타입: object\n",
            "NA 값: False, 0.0000000000\n",
            "Categories: 137,['55b002a9' 'P204_66_73' 'a55475b1' 'P150_136_157' 'P133_127_114'\n",
            " '50babcd4' 'd6a7d943' '84d62c22' 'd35b8336' 'P51_123_23' 'f4518152'\n",
            " '8fc70d27' 'P102_97_118' 'dcf5a604' '05ccb162' '9a93e20f' '2d02cbc6'\n",
            " '230bbe1d' 'a24a91cd' '7e4feb1b' '1f5ab063' 'Home Credit' '7df02535'\n",
            " '8997b931' '0d39f5db' '56fc0e7c' '92ed9984' '57573fe3' 'P193_154_60'\n",
            " '71de340a' 'a0fa072e' 'fd828f59' 'c1525162' '11f1298d' 'a0904c48'\n",
            " '358c9fe2' '3b0f9cfa' 'a97f66ac' 'f27ed340' '16e9971f' '51684633'\n",
            " 'e9bfdb5c' '8f705762' '47f9fc8a' '98bdccc4' 'f4b22787' 'a365816f'\n",
            " 'd3279774' '6da01529' 'a5145fc8' '3783337d' '2b72f3fa' 'bbef8ee7'\n",
            " 'acc27a10' '6a62c41c' '28dfc080' '56b2d0da' 'f0606fbf' '4622abb2'\n",
            " 'e2a39b1a' 'c278975a' 'a56a8ba1' 'dbddb6bb' '759fdd2c' 'dcd48f0a'\n",
            " '44e50dcc' 'f0a813a9' '090eb0c2' '0a20fa9e' '360a478c' '889c1f9d'\n",
            " '31a44ce0' '37599a5c' '09df6179' '6cfa633d' '5467828d' 'e7b2248f'\n",
            " '73c01aa2' 'b60714db' '7acab29c' 'cc8de998' '32b80dd4' 'db36d360'\n",
            " 'ee9c55a2' '3b40297c' '75d37901' '5471571a' '0fbad57d' '7afec4b0'\n",
            " 'a7f63d22' '5f6f27be' '1834a65d' '9466693f' '59892256' 'bf7a9f55'\n",
            " 'e916f140' 'eeea8313' '41bb1335' '3629ef14' '5c1e19af' '57af39b9'\n",
            " '92c9f61f' '231d2fa2' '1afc9a5f' 'bfc7b0d5' '7c24cfb7' 'f43b5c1d'\n",
            " 'b73034ed' '738ef90b' '2ab3d62d' '7fe08d3a' '421445ca' '3e1805f5'\n",
            " '60215687' 'cda47c70' 'db73c5b4' '35f7f062' '0799a4eb' 'edc70773'\n",
            " 'c183e3d7' 'eb77f8bf' '37716077' 'e9bcbab2' '04d45dcc' '53ff8352'\n",
            " 'd4e7a843' '2a0f05ab' 'ee913009' 'a4e504c7' '1e6bc649' '66296562'\n",
            " '60e8301c' 'a7b6e9df' 'cad704d3' '8babbbe7' '867ef69f' '3c0e22c9']\n",
            "--- Value Counts ---\n"
          ]
        },
        {
          "output_type": "execute_result",
          "data": {
            "text/plain": [
              "a55475b1        3449815\n",
              "P204_66_73       254397\n",
              "Home Credit      172605\n",
              "P133_127_114      62452\n",
              "P150_136_157      59528\n",
              "                 ...   \n",
              "ee913009              1\n",
              "2a0f05ab              1\n",
              "d4e7a843              1\n",
              "e9bcbab2              1\n",
              "3c0e22c9              1\n",
              "Name: financialinstitution_591M, Length: 137, dtype: int64"
            ]
          },
          "metadata": {},
          "execution_count": 153
        }
      ]
    },
    {
      "cell_type": "markdown",
      "source": [
        "\n",
        "## instlamount_768A\n",
        "- Instalment amount for the active contract in credit bureau.\n",
        "-  신용 기관에 기록된 active 신용 계약의 분납금(분할금)\n",
        "- 일정한 기간 동안 대출을 상환하는 데 필요한 매월 또는 주기적으로 지불해야 하는 금액\n",
        "- 원금과 이자를 모두 포함하여 계산"
      ],
      "metadata": {
        "id": "tQ7eZSTmLXrg"
      }
    },
    {
      "cell_type": "code",
      "source": [
        "x = df_credit_bureau_1_0.instlamount_768A\n",
        "print(f\"컬럼명: {x.name}\")\n",
        "print(f\"데이터 타입: {x.dtype}\")\n",
        "print(f\"(min, max) = {x.min()}, {x.max()}\")\n",
        "print(f\"NA 값: {any(x.isna())}, {x.isna().sum() / x.shape[0]:.10f}\")\n",
        "print(f\"(null, 0, >0) = {x.isna().sum(), (x == 0.0).sum(), (x > 0.0).sum()}\")\n",
        "# print(f\"평균: {x[x > 0].mean()}\")\n",
        "# print(f\"중간값(0이상): {x[x > 0].median()}\")\n",
        "print(f\"평균: {x.mean()}\")\n",
        "print(f\"중간값: {x.median()}\")"
      ],
      "metadata": {
        "colab": {
          "base_uri": "https://localhost:8080/"
        },
        "outputId": "61d53226-391d-4175-d824-37485cdd2b59",
        "id": "lrVyCN7XLXrn"
      },
      "execution_count": null,
      "outputs": [
        {
          "output_type": "stream",
          "name": "stdout",
          "text": [
            "컬럼명: instlamount_768A\n",
            "데이터 타입: float64\n",
            "(min, max) = 0.0, 376510.5\n",
            "NA 값: True, 0.9281587708\n",
            "(null, 0, >0) = (3813073, 117602, 177537)\n",
            "평균: 3259.7673505801467\n",
            "중간값: 1131.0\n"
          ]
        }
      ]
    },
    {
      "cell_type": "markdown",
      "source": [
        "## instlamount_852A\n",
        "- Instalment amount for closed contract.\n",
        "- closed 계약의 분납금(분할금)\n"
      ],
      "metadata": {
        "id": "TOcs3DHoLX9g"
      }
    },
    {
      "cell_type": "code",
      "source": [
        "x = df_credit_bureau_1_0.instlamount_852A\n",
        "print(f\"컬럼명: {x.name}\")\n",
        "print(f\"데이터 타입: {x.dtype}\")\n",
        "print(f\"(min, max) = {x.min()}, {x.max()}\")\n",
        "print(f\"NA 값: {any(x.isna())}, {x.isna().sum() / x.shape[0]:.10f}\")\n",
        "print(f\"(null, 0, >0) = {x.isna().sum(), (x == 0.0).sum(), (x > 0.0).sum()}\")\n",
        "# print(f\"평균: {x[x > 0].mean()}\")\n",
        "# print(f\"중간값(0이상): {x[x > 0].median()}\")\n",
        "print(f\"평균: {x.mean()}\")\n",
        "print(f\"중간값: {x.median()}\")"
      ],
      "metadata": {
        "colab": {
          "base_uri": "https://localhost:8080/"
        },
        "outputId": "1ce618e8-50e5-4e11-f4ce-273f22cdd477",
        "id": "L6tXkCvALX9g"
      },
      "execution_count": null,
      "outputs": [
        {
          "output_type": "stream",
          "name": "stdout",
          "text": [
            "컬럼명: instlamount_852A\n",
            "데이터 타입: float64\n",
            "(min, max) = 0.0, 139346.98\n",
            "NA 값: True, 0.9900063580\n",
            "(null, 0, >0) = (4067156, 26836, 14220)\n",
            "평균: 575.6078158871306\n",
            "중간값: 0.0\n"
          ]
        }
      ]
    },
    {
      "cell_type": "markdown",
      "source": [
        "## monthlyinstlamount_332A\n",
        "- Monthly instalment amount for active contract.\n",
        "- active 계약의 매월 분납금\n",
        "\n",
        ">**해석**\n",
        "- `instlamount_768A`과의 차이는 x > monthlyinstlamount 부분적으로 포함"
      ],
      "metadata": {
        "id": "fCVGbKA8WVg0"
      }
    },
    {
      "cell_type": "code",
      "source": [
        "x = df_credit_bureau_1_0.monthlyinstlamount_332A\n",
        "print(f\"컬럼명: {x.name}\")\n",
        "print(f\"데이터 타입: {x.dtype}\")\n",
        "print(f\"(min, max) = {x.min()}, {x.max()}\")\n",
        "print(f\"NA 값: {any(x.isna())}, {x.isna().sum() / x.shape[0]:.10f}\")\n",
        "print(f\"(null, 0, >0) = {x.isna().sum(), (x == 0.0).sum(), (x > 0.0).sum()}\")\n",
        "# print(f\"평균: {x[x > 0].mean()}\")\n",
        "# print(f\"중간값(0이상): {x[x > 0].median()}\")\n",
        "print(f\"평균: {x.mean()}\")\n",
        "print(f\"중간값: {x.median()}\")"
      ],
      "metadata": {
        "id": "A-NCxTK9_cq_",
        "colab": {
          "base_uri": "https://localhost:8080/"
        },
        "outputId": "8a32dc74-49f1-4be0-bb90-8e3cc4775472"
      },
      "execution_count": null,
      "outputs": [
        {
          "output_type": "stream",
          "name": "stdout",
          "text": [
            "컬럼명: monthlyinstlamount_332A\n",
            "데이터 타입: float64\n",
            "(min, max) = 0.0, 20000000.0\n",
            "NA 값: True, 0.8404928957\n",
            "(null, 0, >0) = (3452923, 118642, 536647)\n",
            "평균: 5226.822745331264\n",
            "중간값: 3167.2\n"
          ]
        }
      ]
    },
    {
      "cell_type": "markdown",
      "source": [
        "## monthlyinstlamount_674A\n",
        "- Monthly amount of instalment payment on a closed contract.\n",
        "- closed 계약의 매월 분납금"
      ],
      "metadata": {
        "id": "poEDO-BiWdCR"
      }
    },
    {
      "cell_type": "code",
      "source": [
        "x = df_credit_bureau_1_0.monthlyinstlamount_674A\n",
        "print(f\"컬럼명: {x.name}\")\n",
        "print(f\"데이터 타입: {x.dtype}\")\n",
        "print(f\"(min, max) = {x.min()}, {x.max()}\")\n",
        "print(f\"NA 값: {any(x.isna())}, {x.isna().sum() / x.shape[0]:.10f}\")\n",
        "print(f\"(null, 0, >0) = {x.isna().sum(), (x == 0.0).sum(), (x > 0.0).sum()}\")\n",
        "# print(f\"평균: {x[x > 0].mean()}\")\n",
        "# print(f\"중간값(0이상): {x[x > 0].median()}\")\n",
        "print(f\"평균: {x.mean()}\")\n",
        "print(f\"중간값: {x.median()}\")"
      ],
      "metadata": {
        "id": "WvwfUg9fWdCY",
        "colab": {
          "base_uri": "https://localhost:8080/"
        },
        "outputId": "e8a3bd0b-f455-4da7-c889-644f02d24aa2"
      },
      "execution_count": null,
      "outputs": [
        {
          "output_type": "stream",
          "name": "stdout",
          "text": [
            "컬럼명: monthlyinstlamount_674A\n",
            "데이터 타입: float64\n",
            "(min, max) = 0.0, 59077588.0\n",
            "NA 값: True, 0.8975522685\n",
            "(null, 0, >0) = (3687335, 219375, 201502)\n",
            "평균: 5896.002702272428\n",
            "중간값: 0.0\n"
          ]
        }
      ]
    },
    {
      "cell_type": "code",
      "source": [
        "x1 = df_credit_bureau_1_0.instlamount_768A\n",
        "x2 = df_credit_bureau_1_0.monthlyinstlamount_332A\n",
        "\n",
        "print(df_credit_bureau_1_0[['instlamount_768A', 'monthlyinstlamount_332A']][x1 == 1131.0 ])\n",
        "print(\"------------\")\n",
        "print(df_credit_bureau_1_0[['instlamount_768A', 'monthlyinstlamount_332A']][x1 == 376510.5 ])\n",
        "print(\"------------\")\n",
        "print(df_credit_bureau_1_0[['instlamount_768A', 'monthlyinstlamount_332A']][x2 == 20000000.0])\n",
        "print(\"------------\")\n",
        "print(df_credit_bureau_1_0[['instlamount_768A', 'monthlyinstlamount_332A']][x2 > 376510.5 ])\n"
      ],
      "metadata": {
        "colab": {
          "base_uri": "https://localhost:8080/"
        },
        "id": "H5z-lHFhaFxK",
        "outputId": "cad5b52d-9886-42bc-af13-2955ef619549"
      },
      "execution_count": null,
      "outputs": [
        {
          "output_type": "stream",
          "name": "stdout",
          "text": [
            "         instlamount_768A  monthlyinstlamount_332A\n",
            "491537             1131.0                   1131.0\n",
            "618379             1131.0                   1131.0\n",
            "1041594            1131.0                   1131.0\n",
            "1923625            1131.0                   1131.0\n",
            "2353247            1131.0                   1131.0\n",
            "2461592            1131.0                   1131.0\n",
            "3012021            1131.0                   1131.0\n",
            "3086145            1131.0                   1131.0\n",
            "3211700            1131.0                   1131.0\n",
            "3255410            1131.0                   1131.0\n",
            "------------\n",
            "         instlamount_768A  monthlyinstlamount_332A\n",
            "2148186          376510.5                 376510.5\n",
            "------------\n",
            "        instlamount_768A  monthlyinstlamount_332A\n",
            "602634               NaN               20000000.0\n",
            "------------\n",
            "         instlamount_768A  monthlyinstlamount_332A\n",
            "6230                  NaN                438404.84\n",
            "122565                NaN                840000.00\n",
            "122567                NaN                420000.00\n",
            "250367                NaN                601288.10\n",
            "355528                NaN                537397.70\n",
            "...                   ...                      ...\n",
            "3976611               NaN                510078.16\n",
            "4027364               NaN               1244208.90\n",
            "4033285               NaN                814904.10\n",
            "4084713               NaN               1866313.20\n",
            "4096333               NaN                462332.34\n",
            "\n",
            "[122 rows x 2 columns]\n"
          ]
        }
      ]
    },
    {
      "cell_type": "code",
      "source": [
        "print(df_credit_bureau_1_0[['instlamount_768A', 'monthlyinstlamount_332A']][(x1 != x2) & x2])\n",
        "print(df_credit_bureau_1_0[['instlamount_768A', 'monthlyinstlamount_332A']][(x1 != x2) & x1])"
      ],
      "metadata": {
        "colab": {
          "base_uri": "https://localhost:8080/"
        },
        "id": "IXRUIMOBcG-C",
        "outputId": "18e36dcb-b9d2-4f37-ef86-27938d7e49f7"
      },
      "execution_count": null,
      "outputs": [
        {
          "output_type": "stream",
          "name": "stdout",
          "text": [
            "         instlamount_768A  monthlyinstlamount_332A\n",
            "0                     NaN                7811.4463\n",
            "12                    NaN                6972.1885\n",
            "22                    NaN                5767.6220\n",
            "23                    NaN                2238.0000\n",
            "24                    NaN                1487.4000\n",
            "...                   ...                      ...\n",
            "4108112               NaN                1814.6000\n",
            "4108134               NaN                4585.6000\n",
            "4108145               NaN                3102.3699\n",
            "4108190               NaN                2799.8000\n",
            "4108202               NaN                2451.0000\n",
            "\n",
            "[359110 rows x 2 columns]\n",
            "Empty DataFrame\n",
            "Columns: [instlamount_768A, monthlyinstlamount_332A]\n",
            "Index: []\n"
          ]
        }
      ]
    },
    {
      "cell_type": "markdown",
      "source": [
        "## interestrate_508L\n",
        "- Interest rate for a closed contract in the credit bureau.\n",
        "- 신용 기관에 기록된 closed 계약의 이자율"
      ],
      "metadata": {
        "id": "jLQU9AQnQzrZ"
      }
    },
    {
      "cell_type": "code",
      "source": [
        "x = df_credit_bureau_1_0.interestrate_508L\n",
        "print(f\"컬럼명: {x.name}\")\n",
        "print(f\"데이터 타입: {x.dtype}\")\n",
        "print(f\"(min, max) = {x.min()}, {x.max()}\")\n",
        "print(f\"NA 값: {any(x.isna())}, {x.isna().sum() / x.shape[0]:.10f}\")\n",
        "print(f\"(null, 0, >0) = {x.isna().sum(), (x == 0.0).sum(), (x > 0.0).sum()}\")\n",
        "# print(f\"평균: {x[x > 0].mean()}\")\n",
        "# print(f\"중간값(0이상): {x[x > 0].median()}\")\n",
        "print(f\"평균: {x.mean()}\")\n",
        "print(f\"중간값: {x.median()}\")"
      ],
      "metadata": {
        "colab": {
          "base_uri": "https://localhost:8080/"
        },
        "id": "Oyej7LhHRUdp",
        "outputId": "7c1d5fcb-fd39-404c-9c38-a9db31441b70"
      },
      "execution_count": null,
      "outputs": [
        {
          "output_type": "stream",
          "name": "stdout",
          "text": [
            "컬럼명: interestrate_508L\n",
            "데이터 타입: float64\n",
            "(min, max) = 0.0, 32917.0\n",
            "NA 값: True, 0.9987252362\n",
            "(null, 0, >0) = (4102975, 55, 5182)\n",
            "평균: 66.49442428871492\n",
            "중간값: 20.0\n"
          ]
        }
      ]
    },
    {
      "cell_type": "markdown",
      "source": [
        "## numberofcontrsvalue_258L\n",
        "- Number of active contracts in credit bureau.\n",
        "- 신용 기관에 기록된 active 계약수\n",
        "\n",
        ">**해석**\n",
        "- 평균 < 중앙값 --> left skewed? --> 큰 차이도 없을 뿐더러, float dtype이라서..?"
      ],
      "metadata": {
        "id": "hQsyUO-AdsMn"
      }
    },
    {
      "cell_type": "code",
      "source": [
        "x = df_credit_bureau_1_0.numberofcontrsvalue_258L\n",
        "x_int = x.dropna().astype(int)\n",
        "print(f\"컬럼명: {x.name}\")\n",
        "print(f\"데이터 타입: {x.dtype}\")\n",
        "print(f\"(min, max) = {x.min()}, {x.max()}\")\n",
        "print(f\"NA 값: {any(x.isna())}, {x.isna().sum() / x.shape[0]:.10f}\")\n",
        "print(f\"(null, 0, >0) = {x.isna().sum(), (x == 0.0).sum(), (x > 0.0).sum()}\")\n",
        "# print(f\"평균: {x[x > 0].mean()}\")\n",
        "# print(f\"중간값(0이상): {x[x > 0].median()}\")\n",
        "print(f\"평균: {x.mean()}, {x_int.mean()}\")\n",
        "print(f\"중간값: {x.median()}, {x_int.median()}\")"
      ],
      "metadata": {
        "colab": {
          "base_uri": "https://localhost:8080/"
        },
        "id": "8ghDKIDqeGws",
        "outputId": "92195299-4953-4361-fa27-c7b4d2430d2f"
      },
      "execution_count": null,
      "outputs": [
        {
          "output_type": "stream",
          "name": "stdout",
          "text": [
            "컬럼명: numberofcontrsvalue_258L\n",
            "데이터 타입: float64\n",
            "(min, max) = 0.0, 46.0\n",
            "NA 값: True, 0.9178294596\n",
            "(null, 0, >0) = (3770638, 804, 336770)\n",
            "평균: 1.9417401814120756, 1.9417401814120756\n",
            "중간값: 2.0, 2.0\n"
          ]
        }
      ]
    },
    {
      "cell_type": "code",
      "source": [
        "plt.figure(figsize=(10, 6))\n",
        "#sns.kdeplot(np.log(x))\n",
        "sns.barplot(x_int, color='red') # timeout\n",
        "plt.show()"
      ],
      "metadata": {
        "colab": {
          "base_uri": "https://localhost:8080/",
          "height": 839
        },
        "id": "pzJyhd1vgVhO",
        "outputId": "d67b063b-4c62-4e97-db6c-302281a8b8f0"
      },
      "execution_count": null,
      "outputs": [
        {
          "output_type": "error",
          "ename": "KeyboardInterrupt",
          "evalue": "",
          "traceback": [
            "\u001b[0;31m---------------------------------------------------------------------------\u001b[0m",
            "\u001b[0;31mKeyboardInterrupt\u001b[0m                         Traceback (most recent call last)",
            "\u001b[0;32m<ipython-input-9-9a184fd1e087>\u001b[0m in \u001b[0;36m<cell line: 3>\u001b[0;34m()\u001b[0m\n\u001b[1;32m      1\u001b[0m \u001b[0mplt\u001b[0m\u001b[0;34m.\u001b[0m\u001b[0mfigure\u001b[0m\u001b[0;34m(\u001b[0m\u001b[0mfigsize\u001b[0m\u001b[0;34m=\u001b[0m\u001b[0;34m(\u001b[0m\u001b[0;36m10\u001b[0m\u001b[0;34m,\u001b[0m \u001b[0;36m6\u001b[0m\u001b[0;34m)\u001b[0m\u001b[0;34m)\u001b[0m\u001b[0;34m\u001b[0m\u001b[0;34m\u001b[0m\u001b[0m\n\u001b[1;32m      2\u001b[0m \u001b[0;31m#sns.kdeplot(np.log(x))\u001b[0m\u001b[0;34m\u001b[0m\u001b[0;34m\u001b[0m\u001b[0m\n\u001b[0;32m----> 3\u001b[0;31m \u001b[0msns\u001b[0m\u001b[0;34m.\u001b[0m\u001b[0mbarplot\u001b[0m\u001b[0;34m(\u001b[0m\u001b[0mx_int\u001b[0m\u001b[0;34m,\u001b[0m \u001b[0mcolor\u001b[0m\u001b[0;34m=\u001b[0m\u001b[0;34m'red'\u001b[0m\u001b[0;34m)\u001b[0m\u001b[0;34m\u001b[0m\u001b[0;34m\u001b[0m\u001b[0m\n\u001b[0m\u001b[1;32m      4\u001b[0m \u001b[0mplt\u001b[0m\u001b[0;34m.\u001b[0m\u001b[0mshow\u001b[0m\u001b[0;34m(\u001b[0m\u001b[0;34m)\u001b[0m\u001b[0;34m\u001b[0m\u001b[0;34m\u001b[0m\u001b[0m\n",
            "\u001b[0;32m/usr/local/lib/python3.10/dist-packages/seaborn/categorical.py\u001b[0m in \u001b[0;36mbarplot\u001b[0;34m(data, x, y, hue, order, hue_order, estimator, errorbar, n_boot, seed, units, weights, orient, color, palette, saturation, fill, hue_norm, width, dodge, gap, log_scale, native_scale, formatter, legend, capsize, err_kws, ci, errcolor, errwidth, ax, **kwargs)\u001b[0m\n\u001b[1;32m   2377\u001b[0m     \u001b[0merr_kws\u001b[0m\u001b[0;34m,\u001b[0m \u001b[0mcapsize\u001b[0m \u001b[0;34m=\u001b[0m \u001b[0mp\u001b[0m\u001b[0;34m.\u001b[0m\u001b[0m_err_kws_backcompat\u001b[0m\u001b[0;34m(\u001b[0m\u001b[0merr_kws\u001b[0m\u001b[0;34m,\u001b[0m \u001b[0merrcolor\u001b[0m\u001b[0;34m,\u001b[0m \u001b[0merrwidth\u001b[0m\u001b[0;34m,\u001b[0m \u001b[0mcapsize\u001b[0m\u001b[0;34m)\u001b[0m\u001b[0;34m\u001b[0m\u001b[0;34m\u001b[0m\u001b[0m\n\u001b[1;32m   2378\u001b[0m \u001b[0;34m\u001b[0m\u001b[0m\n\u001b[0;32m-> 2379\u001b[0;31m     p.plot_bars(\n\u001b[0m\u001b[1;32m   2380\u001b[0m         \u001b[0maggregator\u001b[0m\u001b[0;34m=\u001b[0m\u001b[0maggregator\u001b[0m\u001b[0;34m,\u001b[0m\u001b[0;34m\u001b[0m\u001b[0;34m\u001b[0m\u001b[0m\n\u001b[1;32m   2381\u001b[0m         \u001b[0mdodge\u001b[0m\u001b[0;34m=\u001b[0m\u001b[0mdodge\u001b[0m\u001b[0;34m,\u001b[0m\u001b[0;34m\u001b[0m\u001b[0;34m\u001b[0m\u001b[0m\n",
            "\u001b[0;32m/usr/local/lib/python3.10/dist-packages/seaborn/categorical.py\u001b[0m in \u001b[0;36mplot_bars\u001b[0;34m(self, aggregator, dodge, gap, width, fill, color, capsize, err_kws, plot_kws)\u001b[0m\n\u001b[1;32m   1279\u001b[0m                 \u001b[0msub_data\u001b[0m\u001b[0;34m\u001b[0m\u001b[0;34m\u001b[0m\u001b[0m\n\u001b[1;32m   1280\u001b[0m                 \u001b[0;34m.\u001b[0m\u001b[0mgroupby\u001b[0m\u001b[0;34m(\u001b[0m\u001b[0mself\u001b[0m\u001b[0;34m.\u001b[0m\u001b[0morient\u001b[0m\u001b[0;34m)\u001b[0m\u001b[0;34m\u001b[0m\u001b[0;34m\u001b[0m\u001b[0m\n\u001b[0;32m-> 1281\u001b[0;31m                 \u001b[0;34m.\u001b[0m\u001b[0mapply\u001b[0m\u001b[0;34m(\u001b[0m\u001b[0maggregator\u001b[0m\u001b[0;34m,\u001b[0m \u001b[0magg_var\u001b[0m\u001b[0;34m)\u001b[0m\u001b[0;34m\u001b[0m\u001b[0;34m\u001b[0m\u001b[0m\n\u001b[0m\u001b[1;32m   1282\u001b[0m                 \u001b[0;34m.\u001b[0m\u001b[0mreset_index\u001b[0m\u001b[0;34m(\u001b[0m\u001b[0;34m)\u001b[0m\u001b[0;34m\u001b[0m\u001b[0;34m\u001b[0m\u001b[0m\n\u001b[1;32m   1283\u001b[0m             )\n",
            "\u001b[0;32m/usr/local/lib/python3.10/dist-packages/pandas/core/groupby/groupby.py\u001b[0m in \u001b[0;36mapply\u001b[0;34m(self, func, *args, **kwargs)\u001b[0m\n\u001b[1;32m   1565\u001b[0m                     \u001b[0mold_msg\u001b[0m\u001b[0;34m,\u001b[0m \u001b[0mFutureWarning\u001b[0m\u001b[0;34m,\u001b[0m \u001b[0mnew_msg\u001b[0m\u001b[0;34m\u001b[0m\u001b[0;34m\u001b[0m\u001b[0m\n\u001b[1;32m   1566\u001b[0m                 ) if is_np_func else nullcontext():\n\u001b[0;32m-> 1567\u001b[0;31m                     \u001b[0mresult\u001b[0m \u001b[0;34m=\u001b[0m \u001b[0mself\u001b[0m\u001b[0;34m.\u001b[0m\u001b[0m_python_apply_general\u001b[0m\u001b[0;34m(\u001b[0m\u001b[0mf\u001b[0m\u001b[0;34m,\u001b[0m \u001b[0mself\u001b[0m\u001b[0;34m.\u001b[0m\u001b[0m_selected_obj\u001b[0m\u001b[0;34m)\u001b[0m\u001b[0;34m\u001b[0m\u001b[0;34m\u001b[0m\u001b[0m\n\u001b[0m\u001b[1;32m   1568\u001b[0m             \u001b[0;32mexcept\u001b[0m \u001b[0mTypeError\u001b[0m\u001b[0;34m:\u001b[0m\u001b[0;34m\u001b[0m\u001b[0;34m\u001b[0m\u001b[0m\n\u001b[1;32m   1569\u001b[0m                 \u001b[0;31m# gh-20949\u001b[0m\u001b[0;34m\u001b[0m\u001b[0;34m\u001b[0m\u001b[0m\n",
            "\u001b[0;32m/usr/local/lib/python3.10/dist-packages/pandas/core/groupby/groupby.py\u001b[0m in \u001b[0;36m_python_apply_general\u001b[0;34m(self, f, data, not_indexed_same, is_transform, is_agg)\u001b[0m\n\u001b[1;32m   1627\u001b[0m             \u001b[0mdata\u001b[0m \u001b[0mafter\u001b[0m \u001b[0mapplying\u001b[0m \u001b[0mf\u001b[0m\u001b[0;34m\u001b[0m\u001b[0;34m\u001b[0m\u001b[0m\n\u001b[1;32m   1628\u001b[0m         \"\"\"\n\u001b[0;32m-> 1629\u001b[0;31m         \u001b[0mvalues\u001b[0m\u001b[0;34m,\u001b[0m \u001b[0mmutated\u001b[0m \u001b[0;34m=\u001b[0m \u001b[0mself\u001b[0m\u001b[0;34m.\u001b[0m\u001b[0mgrouper\u001b[0m\u001b[0;34m.\u001b[0m\u001b[0mapply\u001b[0m\u001b[0;34m(\u001b[0m\u001b[0mf\u001b[0m\u001b[0;34m,\u001b[0m \u001b[0mdata\u001b[0m\u001b[0;34m,\u001b[0m \u001b[0mself\u001b[0m\u001b[0;34m.\u001b[0m\u001b[0maxis\u001b[0m\u001b[0;34m)\u001b[0m\u001b[0;34m\u001b[0m\u001b[0;34m\u001b[0m\u001b[0m\n\u001b[0m\u001b[1;32m   1630\u001b[0m         \u001b[0;32mif\u001b[0m \u001b[0mnot_indexed_same\u001b[0m \u001b[0;32mis\u001b[0m \u001b[0;32mNone\u001b[0m\u001b[0;34m:\u001b[0m\u001b[0;34m\u001b[0m\u001b[0;34m\u001b[0m\u001b[0m\n\u001b[1;32m   1631\u001b[0m             \u001b[0mnot_indexed_same\u001b[0m \u001b[0;34m=\u001b[0m \u001b[0mmutated\u001b[0m \u001b[0;32mor\u001b[0m \u001b[0mself\u001b[0m\u001b[0;34m.\u001b[0m\u001b[0mmutated\u001b[0m\u001b[0;34m\u001b[0m\u001b[0;34m\u001b[0m\u001b[0m\n",
            "\u001b[0;32m/usr/local/lib/python3.10/dist-packages/pandas/core/groupby/ops.py\u001b[0m in \u001b[0;36mapply\u001b[0;34m(self, f, data, axis)\u001b[0m\n\u001b[1;32m    837\u001b[0m             \u001b[0;31m# group might be modified\u001b[0m\u001b[0;34m\u001b[0m\u001b[0;34m\u001b[0m\u001b[0m\n\u001b[1;32m    838\u001b[0m             \u001b[0mgroup_axes\u001b[0m \u001b[0;34m=\u001b[0m \u001b[0mgroup\u001b[0m\u001b[0;34m.\u001b[0m\u001b[0maxes\u001b[0m\u001b[0;34m\u001b[0m\u001b[0;34m\u001b[0m\u001b[0m\n\u001b[0;32m--> 839\u001b[0;31m             \u001b[0mres\u001b[0m \u001b[0;34m=\u001b[0m \u001b[0mf\u001b[0m\u001b[0;34m(\u001b[0m\u001b[0mgroup\u001b[0m\u001b[0;34m)\u001b[0m\u001b[0;34m\u001b[0m\u001b[0;34m\u001b[0m\u001b[0m\n\u001b[0m\u001b[1;32m    840\u001b[0m             \u001b[0;32mif\u001b[0m \u001b[0;32mnot\u001b[0m \u001b[0mmutated\u001b[0m \u001b[0;32mand\u001b[0m \u001b[0;32mnot\u001b[0m \u001b[0m_is_indexed_like\u001b[0m\u001b[0;34m(\u001b[0m\u001b[0mres\u001b[0m\u001b[0;34m,\u001b[0m \u001b[0mgroup_axes\u001b[0m\u001b[0;34m,\u001b[0m \u001b[0maxis\u001b[0m\u001b[0;34m)\u001b[0m\u001b[0;34m:\u001b[0m\u001b[0;34m\u001b[0m\u001b[0;34m\u001b[0m\u001b[0m\n\u001b[1;32m    841\u001b[0m                 \u001b[0mmutated\u001b[0m \u001b[0;34m=\u001b[0m \u001b[0;32mTrue\u001b[0m\u001b[0;34m\u001b[0m\u001b[0;34m\u001b[0m\u001b[0m\n",
            "\u001b[0;32m/usr/local/lib/python3.10/dist-packages/pandas/core/groupby/groupby.py\u001b[0m in \u001b[0;36mf\u001b[0;34m(g)\u001b[0m\n\u001b[1;32m   1538\u001b[0m                 \u001b[0;32mdef\u001b[0m \u001b[0mf\u001b[0m\u001b[0;34m(\u001b[0m\u001b[0mg\u001b[0m\u001b[0;34m)\u001b[0m\u001b[0;34m:\u001b[0m\u001b[0;34m\u001b[0m\u001b[0;34m\u001b[0m\u001b[0m\n\u001b[1;32m   1539\u001b[0m                     \u001b[0;32mwith\u001b[0m \u001b[0mnp\u001b[0m\u001b[0;34m.\u001b[0m\u001b[0merrstate\u001b[0m\u001b[0;34m(\u001b[0m\u001b[0mall\u001b[0m\u001b[0;34m=\u001b[0m\u001b[0;34m\"ignore\"\u001b[0m\u001b[0;34m)\u001b[0m\u001b[0;34m:\u001b[0m\u001b[0;34m\u001b[0m\u001b[0;34m\u001b[0m\u001b[0m\n\u001b[0;32m-> 1540\u001b[0;31m                         \u001b[0;32mreturn\u001b[0m \u001b[0mfunc\u001b[0m\u001b[0;34m(\u001b[0m\u001b[0mg\u001b[0m\u001b[0;34m,\u001b[0m \u001b[0;34m*\u001b[0m\u001b[0margs\u001b[0m\u001b[0;34m,\u001b[0m \u001b[0;34m**\u001b[0m\u001b[0mkwargs\u001b[0m\u001b[0;34m)\u001b[0m\u001b[0;34m\u001b[0m\u001b[0;34m\u001b[0m\u001b[0m\n\u001b[0m\u001b[1;32m   1541\u001b[0m \u001b[0;34m\u001b[0m\u001b[0m\n\u001b[1;32m   1542\u001b[0m             \u001b[0;32melif\u001b[0m \u001b[0mhasattr\u001b[0m\u001b[0;34m(\u001b[0m\u001b[0mnanops\u001b[0m\u001b[0;34m,\u001b[0m \u001b[0;34m\"nan\"\u001b[0m \u001b[0;34m+\u001b[0m \u001b[0mfunc\u001b[0m\u001b[0;34m)\u001b[0m\u001b[0;34m:\u001b[0m\u001b[0;34m\u001b[0m\u001b[0;34m\u001b[0m\u001b[0m\n",
            "\u001b[0;32m/usr/local/lib/python3.10/dist-packages/seaborn/_statistics.py\u001b[0m in \u001b[0;36m__call__\u001b[0;34m(self, data, var)\u001b[0m\n\u001b[1;32m    518\u001b[0m             \u001b[0merr_min\u001b[0m\u001b[0;34m,\u001b[0m \u001b[0merr_max\u001b[0m \u001b[0;34m=\u001b[0m \u001b[0m_percentile_interval\u001b[0m\u001b[0;34m(\u001b[0m\u001b[0mboots\u001b[0m\u001b[0;34m,\u001b[0m \u001b[0mself\u001b[0m\u001b[0;34m.\u001b[0m\u001b[0merror_level\u001b[0m\u001b[0;34m)\u001b[0m\u001b[0;34m\u001b[0m\u001b[0;34m\u001b[0m\u001b[0m\n\u001b[1;32m    519\u001b[0m \u001b[0;34m\u001b[0m\u001b[0m\n\u001b[0;32m--> 520\u001b[0;31m         \u001b[0;32mreturn\u001b[0m \u001b[0mpd\u001b[0m\u001b[0;34m.\u001b[0m\u001b[0mSeries\u001b[0m\u001b[0;34m(\u001b[0m\u001b[0;34m{\u001b[0m\u001b[0mvar\u001b[0m\u001b[0;34m:\u001b[0m \u001b[0mestimate\u001b[0m\u001b[0;34m,\u001b[0m \u001b[0;34mf\"{var}min\"\u001b[0m\u001b[0;34m:\u001b[0m \u001b[0merr_min\u001b[0m\u001b[0;34m,\u001b[0m \u001b[0;34mf\"{var}max\"\u001b[0m\u001b[0;34m:\u001b[0m \u001b[0merr_max\u001b[0m\u001b[0;34m}\u001b[0m\u001b[0;34m)\u001b[0m\u001b[0;34m\u001b[0m\u001b[0;34m\u001b[0m\u001b[0m\n\u001b[0m\u001b[1;32m    521\u001b[0m \u001b[0;34m\u001b[0m\u001b[0m\n\u001b[1;32m    522\u001b[0m \u001b[0;34m\u001b[0m\u001b[0m\n",
            "\u001b[0;32m/usr/local/lib/python3.10/dist-packages/pandas/core/series.py\u001b[0m in \u001b[0;36m__init__\u001b[0;34m(self, data, index, dtype, name, copy, fastpath)\u001b[0m\n\u001b[1;32m    434\u001b[0m                 \u001b[0mdata\u001b[0m \u001b[0;34m=\u001b[0m \u001b[0mdata\u001b[0m\u001b[0;34m.\u001b[0m\u001b[0m_mgr\u001b[0m\u001b[0;34m\u001b[0m\u001b[0;34m\u001b[0m\u001b[0m\n\u001b[1;32m    435\u001b[0m             \u001b[0;32melif\u001b[0m \u001b[0mis_dict_like\u001b[0m\u001b[0;34m(\u001b[0m\u001b[0mdata\u001b[0m\u001b[0;34m)\u001b[0m\u001b[0;34m:\u001b[0m\u001b[0;34m\u001b[0m\u001b[0;34m\u001b[0m\u001b[0m\n\u001b[0;32m--> 436\u001b[0;31m                 \u001b[0mdata\u001b[0m\u001b[0;34m,\u001b[0m \u001b[0mindex\u001b[0m \u001b[0;34m=\u001b[0m \u001b[0mself\u001b[0m\u001b[0;34m.\u001b[0m\u001b[0m_init_dict\u001b[0m\u001b[0;34m(\u001b[0m\u001b[0mdata\u001b[0m\u001b[0;34m,\u001b[0m \u001b[0mindex\u001b[0m\u001b[0;34m,\u001b[0m \u001b[0mdtype\u001b[0m\u001b[0;34m)\u001b[0m\u001b[0;34m\u001b[0m\u001b[0;34m\u001b[0m\u001b[0m\n\u001b[0m\u001b[1;32m    437\u001b[0m                 \u001b[0mdtype\u001b[0m \u001b[0;34m=\u001b[0m \u001b[0;32mNone\u001b[0m\u001b[0;34m\u001b[0m\u001b[0;34m\u001b[0m\u001b[0m\n\u001b[1;32m    438\u001b[0m                 \u001b[0mcopy\u001b[0m \u001b[0;34m=\u001b[0m \u001b[0;32mFalse\u001b[0m\u001b[0;34m\u001b[0m\u001b[0;34m\u001b[0m\u001b[0m\n",
            "\u001b[0;32m/usr/local/lib/python3.10/dist-packages/pandas/core/series.py\u001b[0m in \u001b[0;36m_init_dict\u001b[0;34m(self, data, index, dtype)\u001b[0m\n\u001b[1;32m    527\u001b[0m \u001b[0;34m\u001b[0m\u001b[0m\n\u001b[1;32m    528\u001b[0m         \u001b[0;31m# TODO: passing np.float64 to not break anything yet. See GH-17261\u001b[0m\u001b[0;34m\u001b[0m\u001b[0;34m\u001b[0m\u001b[0m\n\u001b[0;32m--> 529\u001b[0;31m         s = create_series_with_explicit_dtype(\n\u001b[0m\u001b[1;32m    530\u001b[0m             \u001b[0;31m# error: Argument \"index\" to \"create_series_with_explicit_dtype\" has\u001b[0m\u001b[0;34m\u001b[0m\u001b[0;34m\u001b[0m\u001b[0m\n\u001b[1;32m    531\u001b[0m             \u001b[0;31m# incompatible type \"Tuple[Any, ...]\"; expected \"Union[ExtensionArray,\u001b[0m\u001b[0;34m\u001b[0m\u001b[0;34m\u001b[0m\u001b[0m\n",
            "\u001b[0;32m/usr/local/lib/python3.10/dist-packages/pandas/core/construction.py\u001b[0m in \u001b[0;36mcreate_series_with_explicit_dtype\u001b[0;34m(data, index, dtype, name, copy, fastpath, dtype_if_empty)\u001b[0m\n\u001b[1;32m    913\u001b[0m     \u001b[0;32mif\u001b[0m \u001b[0mis_empty_data\u001b[0m\u001b[0;34m(\u001b[0m\u001b[0mdata\u001b[0m\u001b[0;34m)\u001b[0m \u001b[0;32mand\u001b[0m \u001b[0mdtype\u001b[0m \u001b[0;32mis\u001b[0m \u001b[0;32mNone\u001b[0m\u001b[0;34m:\u001b[0m\u001b[0;34m\u001b[0m\u001b[0;34m\u001b[0m\u001b[0m\n\u001b[1;32m    914\u001b[0m         \u001b[0mdtype\u001b[0m \u001b[0;34m=\u001b[0m \u001b[0mdtype_if_empty\u001b[0m\u001b[0;34m\u001b[0m\u001b[0;34m\u001b[0m\u001b[0m\n\u001b[0;32m--> 915\u001b[0;31m     return Series(\n\u001b[0m\u001b[1;32m    916\u001b[0m         \u001b[0mdata\u001b[0m\u001b[0;34m=\u001b[0m\u001b[0mdata\u001b[0m\u001b[0;34m,\u001b[0m \u001b[0mindex\u001b[0m\u001b[0;34m=\u001b[0m\u001b[0mindex\u001b[0m\u001b[0;34m,\u001b[0m \u001b[0mdtype\u001b[0m\u001b[0;34m=\u001b[0m\u001b[0mdtype\u001b[0m\u001b[0;34m,\u001b[0m \u001b[0mname\u001b[0m\u001b[0;34m=\u001b[0m\u001b[0mname\u001b[0m\u001b[0;34m,\u001b[0m \u001b[0mcopy\u001b[0m\u001b[0;34m=\u001b[0m\u001b[0mcopy\u001b[0m\u001b[0;34m,\u001b[0m \u001b[0mfastpath\u001b[0m\u001b[0;34m=\u001b[0m\u001b[0mfastpath\u001b[0m\u001b[0;34m\u001b[0m\u001b[0;34m\u001b[0m\u001b[0m\n\u001b[1;32m    917\u001b[0m     )\n",
            "\u001b[0;31mKeyboardInterrupt\u001b[0m: "
          ]
        },
        {
          "output_type": "display_data",
          "data": {
            "text/plain": [
              "<Figure size 1000x600 with 1 Axes>"
            ],
            "image/png": "[encoded data removed]"
          },
          "metadata": {}
        }
      ]
    },
    {
      "cell_type": "markdown",
      "source": [
        "## numberofcontrsvalue_358L\n",
        "- Number of closed credit contracts.\n",
        "- closed 계약 수"
      ],
      "metadata": {
        "id": "FEvmD2vCer6O"
      }
    },
    {
      "cell_type": "code",
      "source": [
        "x = df_credit_bureau_1_0.numberofcontrsvalue_358L\n",
        "print(f\"컬럼명: {x.name}\")\n",
        "print(f\"데이터 타입: {x.dtype}\")\n",
        "print(f\"(min, max) = {x.min()}, {x.max()}\")\n",
        "print(f\"NA 값: {any(x.isna())}, {x.isna().sum() / x.shape[0]:.10f}\")\n",
        "print(f\"(null, 0, >0) = {x.isna().sum(), (x == 0.0).sum(), (x > 0.0).sum()}\")\n",
        "# print(f\"평균: {x[x > 0].mean()}\")\n",
        "# print(f\"중간값(0이상): {x[x > 0].median()}\")\n",
        "print(f\"평균: {x.mean()}\")\n",
        "print(f\"중간값: {x.median()}\")"
      ],
      "metadata": {
        "colab": {
          "base_uri": "https://localhost:8080/"
        },
        "id": "7YjDA5jYhTqx",
        "outputId": "d0bcd69c-7391-4d7c-e32f-6b8d976eb434"
      },
      "execution_count": null,
      "outputs": [
        {
          "output_type": "stream",
          "name": "stdout",
          "text": [
            "컬럼명: numberofcontrsvalue_358L\n",
            "데이터 타입: float64\n",
            "(min, max) = 0.0, 280.0\n",
            "NA 값: True, 0.9273158250\n",
            "(null, 0, >0) = (3809610, 24, 298578)\n",
            "평균: 5.973958647296401\n",
            "중간값: 4.0\n"
          ]
        }
      ]
    },
    {
      "cell_type": "markdown",
      "source": [
        "## numberofinstls_320L\n",
        "- Number of instalments of the active contract.\n",
        "- active 계약의 분할 납부 횟수"
      ],
      "metadata": {
        "id": "YWR4lGTdhemA"
      }
    },
    {
      "cell_type": "code",
      "source": [
        "x = df_credit_bureau_1_0.numberofinstls_320L\n",
        "print(f\"컬럼명: {x.name}\")\n",
        "print(f\"데이터 타입: {x.dtype}\")\n",
        "print(f\"(min, max) = {x.min()}, {x.max()}\")\n",
        "print(f\"NA 값: {any(x.isna())}, {x.isna().sum() / x.shape[0]:.10f}\")\n",
        "print(f\"(null, 0, >0) = {x.isna().sum(), (x == 0.0).sum(), (x > 0.0).sum()}\")\n",
        "# print(f\"평균: {x[x > 0].mean()}\")\n",
        "# print(f\"중간값(0이상): {x[x > 0].median()}\")\n",
        "print(f\"평균: {x.mean()}\")\n",
        "print(f\"중간값: {x.median()}\")"
      ],
      "metadata": {
        "colab": {
          "base_uri": "https://localhost:8080/"
        },
        "id": "8fBUnHz2hpzW",
        "outputId": "886c03a3-ff8b-4396-83d0-288ffc3cf978"
      },
      "execution_count": null,
      "outputs": [
        {
          "output_type": "stream",
          "name": "stdout",
          "text": [
            "컬럼명: numberofinstls_320L\n",
            "데이터 타입: float64\n",
            "(min, max) = 0.0, 479.0\n",
            "NA 값: True, 0.9123129478\n",
            "(null, 0, >0) = (3747975, 119, 360118)\n",
            "평균: 30.627409177846808\n",
            "중간값: 24.0\n"
          ]
        }
      ]
    },
    {
      "cell_type": "markdown",
      "source": [
        "## numberofinstls_229L\n",
        "- Number of instalments on closed contract.\n",
        "- closed 계약의 분납(분할)금 수\n",
        "- 해당 고객이 가지고 있던 closed 된 계약에서 지불해야 했던 분할 납부 수"
      ],
      "metadata": {
        "id": "H8ObQTQyeJG_"
      }
    },
    {
      "cell_type": "code",
      "source": [
        "x = df_credit_bureau_1_0.numberofinstls_229L\n",
        "print(f\"컬럼명: {x.name}\")\n",
        "print(f\"데이터 타입: {x.dtype}\")\n",
        "print(f\"(min, max) = {x.min()}, {x.max()}\")\n",
        "print(f\"NA 값: {any(x.isna())}, {x.isna().sum() / x.shape[0]:.10f}\")\n",
        "print(f\"(null, 0, >0) = {x.isna().sum(), (x == 0.0).sum(), (x > 0.0).sum()}\")\n",
        "# print(f\"평균: {x[x > 0].mean()}\")\n",
        "# print(f\"중간값(0이상): {x[x > 0].median()}\")\n",
        "print(f\"평균: {x.mean()}\")\n",
        "print(f\"중간값: {x.median()}\")"
      ],
      "metadata": {
        "colab": {
          "base_uri": "https://localhost:8080/"
        },
        "id": "CfmgDL6ghvHh",
        "outputId": "7765dca5-770c-4c02-9b47-73878ec502f8"
      },
      "execution_count": null,
      "outputs": [
        {
          "output_type": "stream",
          "name": "stdout",
          "text": [
            "컬럼명: numberofinstls_229L\n",
            "데이터 타입: float64\n",
            "(min, max) = 0.0, 600.0\n",
            "NA 값: True, 0.9045234277\n",
            "(null, 0, >0) = (3715974, 88926, 303312)\n",
            "평균: 12.57407747337076\n",
            "중간값: 6.0\n"
          ]
        }
      ]
    },
    {
      "cell_type": "markdown",
      "source": [
        "## numberofoutstandinstls_59L\n",
        "- Number of outstanding instalments for `the` active contracts.\n",
        "- 한 active 계약의 미납 할부 수\n",
        "- 현재 진행 중인 계약에서 아직 지불하지 않은 할부 수\n",
        "\n",
        "> **필요논의**\n",
        "- numberofoverdueinstlmax_1039L와 the 차이 -> 각 계약의 할부 횟수를 뜻하는것일까? max 최대를 뜻?\n",
        "  - --> Maximum number of past due installments for a active contract.은 `numberofoverdueinstls_725L` 컬럼에서 설명\n",
        "- 해당 컬럼의 범위가 좀 더 작음\n"
      ],
      "metadata": {
        "id": "zqulR7Wmhv-q"
      }
    },
    {
      "cell_type": "code",
      "source": [
        "x = df_credit_bureau_1_0.numberofoutstandinstls_59L\n",
        "print(f\"컬럼명: {x.name}\")\n",
        "print(f\"데이터 타입: {x.dtype}\")\n",
        "print(f\"(min, max) = {x.min()}, {x.max()}\")\n",
        "print(f\"NA 값: {any(x.isna())}, {x.isna().sum() / x.shape[0]:.10f}\")\n",
        "print(f\"(null, 0, >0) = {x.isna().sum(), (x == 0.0).sum(), (x > 0.0).sum()}\")\n",
        "# print(f\"평균: {x[x > 0].mean()}\")\n",
        "# print(f\"중간값(0이상): {x[x > 0].median()}\")\n",
        "print(f\"평균: {x.mean()}\")\n",
        "print(f\"중간값: {x.median()}\")"
      ],
      "metadata": {
        "colab": {
          "base_uri": "https://localhost:8080/"
        },
        "id": "r0sI2M7XeJHV",
        "outputId": "5f6ac9d0-f8fb-4e92-ee47-35fcdd81482e"
      },
      "execution_count": null,
      "outputs": [
        {
          "output_type": "stream",
          "name": "stdout",
          "text": [
            "컬럼명: numberofoutstandinstls_59L\n",
            "데이터 타입: float64\n",
            "(min, max) = 0.0, 318.0\n",
            "NA 값: True, 0.9123173293\n",
            "(null, 0, >0) = (3747993, 3116, 357103)\n",
            "평균: 20.66127827793648\n",
            "중간값: 12.0\n"
          ]
        }
      ]
    },
    {
      "cell_type": "markdown",
      "source": [
        "## numberofoverdueinstlmax_1039L\n",
        "- Number of outstanding instalments for active contracts.\n",
        "  --> Maximum number of past due installments for a active contract.(?): `numberofoverdueinstls_725L` 해당 컬럼에서 설명\n",
        "- 해당 고객의 active contracts에서의 미납 할부 횟수"
      ],
      "metadata": {
        "id": "Sl3SLtzziMnS"
      }
    },
    {
      "cell_type": "code",
      "source": [
        "x = df_credit_bureau_1_0.numberofoverdueinstlmax_1039L\n",
        "print(f\"컬럼명: {x.name}\")\n",
        "print(f\"데이터 타입: {x.dtype}\")\n",
        "print(f\"(min, max) = {x.min()}, {x.max()}\")\n",
        "print(f\"NA 값: {any(x.isna())}, {x.isna().sum() / x.shape[0]:.10f}\")\n",
        "print(f\"(null, 0, >0) = {x.isna().sum(), (x == 0.0).sum(), (x > 0.0).sum()}\")\n",
        "# print(f\"평균: {x[x > 0].mean()}\")\n",
        "# print(f\"중간값(0이상): {x[x > 0].median()}\")\n",
        "print(f\"평균: {x.mean()}\")\n",
        "print(f\"중간값: {x.median()}\")"
      ],
      "metadata": {
        "colab": {
          "base_uri": "https://localhost:8080/"
        },
        "id": "hEjQa2CniSEa",
        "outputId": "c900e6b6-144f-4921-ba10-41d77197f509"
      },
      "execution_count": null,
      "outputs": [
        {
          "output_type": "stream",
          "name": "stdout",
          "text": [
            "컬럼명: numberofoverdueinstlmax_1039L\n",
            "데이터 타입: float64\n",
            "(min, max) = 0.0, 61133.0\n",
            "NA 값: True, 0.8397363622\n",
            "(null, 0, >0) = (3449815, 490438, 167959)\n",
            "평균: 16.546135538284652\n",
            "중간값: 0.0\n"
          ]
        }
      ]
    },
    {
      "cell_type": "markdown",
      "source": [
        "## numberofoutstandinstls_520L\n",
        "- Number of outstanding instalment for closed contract.\n",
        "- closed 계약의 미납 할부금 수"
      ],
      "metadata": {
        "id": "OAIduGm8h8v6"
      }
    },
    {
      "cell_type": "code",
      "source": [
        "x = df_credit_bureau_1_0.numberofoutstandinstls_520L\n",
        "print(f\"컬럼명: {x.name}\")\n",
        "print(f\"데이터 타입: {x.dtype}\")\n",
        "print(f\"(min, max) = {x.min()}, {x.max()}\")\n",
        "print(f\"NA 값: {any(x.isna())}, {x.isna().sum() / x.shape[0]:.10f}\")\n",
        "print(f\"(null, 0, >0) = {x.isna().sum(), (x == 0.0).sum(), (x > 0.0).sum()}\")\n",
        "# print(f\"평균: {x[x > 0].mean()}\")\n",
        "# print(f\"중간값(0이상): {x[x > 0].median()}\")\n",
        "print(f\"평균: {x.mean()}\")\n",
        "print(f\"중간값: {x.median()}\")"
      ],
      "metadata": {
        "colab": {
          "base_uri": "https://localhost:8080/"
        },
        "id": "w3HY5urxh77B",
        "outputId": "d9fc2307-8b95-4e8d-f166-21bd7f9be8bf"
      },
      "execution_count": null,
      "outputs": [
        {
          "output_type": "stream",
          "name": "stdout",
          "text": [
            "컬럼명: numberofoutstandinstls_520L\n",
            "데이터 타입: float64\n",
            "(min, max) = 0.0, 525.0\n",
            "NA 값: True, 0.9044477257\n",
            "(null, 0, >0) = (3715663, 391852, 697)\n",
            "평균: 0.08181399010059891\n",
            "중간값: 0.0\n"
          ]
        }
      ]
    },
    {
      "cell_type": "markdown",
      "source": [
        "## numberofoverdueinstlmax_1151L\n",
        "- Maximum number of past due installments for a closed contract.\n",
        "- closed 계약의 최대 연체 할부금 수\n",
        "\n",
        ">**해석**\n",
        "- 높은 값은 고객의 대출 불이행 위험도 가능성 높아짐"
      ],
      "metadata": {
        "id": "sWOz6s3-iS9s"
      }
    },
    {
      "cell_type": "code",
      "source": [
        "x = df_credit_bureau_1_0.numberofoverdueinstlmax_1151L\n",
        "print(f\"컬럼명: {x.name}\")\n",
        "print(f\"데이터 타입: {x.dtype}\")\n",
        "print(f\"(min, max) = {x.min()}, {x.max()}\")\n",
        "print(f\"NA 값: {any(x.isna())}, {x.isna().sum() / x.shape[0]:.10f}\")\n",
        "print(f\"(null, 0, >0) = {x.isna().sum(), (x == 0.0).sum(), (x > 0.0).sum()}\")\n",
        "# print(f\"평균: {x[x > 0].mean()}\")\n",
        "# print(f\"중간값(0이상): {x[x > 0].median()}\")\n",
        "print(f\"평균: {x.mean()}\")\n",
        "print(f\"중간값: {x.median()}\")"
      ],
      "metadata": {
        "colab": {
          "base_uri": "https://localhost:8080/"
        },
        "id": "_QCnNsgWxiRE",
        "outputId": "013ca83f-0950-447d-83e6-9357b96550ec"
      },
      "execution_count": null,
      "outputs": [
        {
          "output_type": "stream",
          "name": "stdout",
          "text": [
            "컬럼명: numberofoverdueinstlmax_1151L\n",
            "데이터 타입: float64\n",
            "(min, max) = 0.0, 260000.0\n",
            "NA 값: True, 0.8888273049\n",
            "(null, 0, >0) = (3651491, 319803, 136918)\n",
            "평균: 51.78596780091128\n",
            "중간값: 0.0\n"
          ]
        }
      ]
    },
    {
      "cell_type": "markdown",
      "source": [
        "## numberofoverdueinstls_725L\n",
        "- Maximum number of past due instalments for an active contract.\n",
        "- active 계약의 최대 연체 할부금 수"
      ],
      "metadata": {
        "id": "CF6QIk4txl73"
      }
    },
    {
      "cell_type": "code",
      "source": [
        "x = df_credit_bureau_1_0.numberofoverdueinstls_725L\n",
        "print(f\"컬럼명: {x.name}\")\n",
        "print(f\"데이터 타입: {x.dtype}\")\n",
        "print(f\"(min, max) = {x.min()}, {x.max()}\")\n",
        "print(f\"NA 값: {any(x.isna())}, {x.isna().sum() / x.shape[0]:.10f}\")\n",
        "print(f\"(null, 0, >0) = {x.isna().sum(), (x == 0.0).sum(), (x > 0.0).sum()}\")\n",
        "# print(f\"평균: {x[x > 0].mean()}\")\n",
        "# print(f\"중간값(0이상): {x[x > 0].median()}\")\n",
        "print(f\"평균: {x.mean()}\")\n",
        "print(f\"중간값: {x.median()}\")"
      ],
      "metadata": {
        "colab": {
          "base_uri": "https://localhost:8080/"
        },
        "id": "3UA8JcRbxl74",
        "outputId": "147df974-b46a-4a75-967b-6f5c43aec1e7"
      },
      "execution_count": null,
      "outputs": [
        {
          "output_type": "stream",
          "name": "stdout",
          "text": [
            "컬럼명: numberofoverdueinstls_725L\n",
            "데이터 타입: float64\n",
            "(min, max) = 0.0, 5419.0\n",
            "NA 값: True, 0.8404347195\n",
            "(null, 0, >0) = (3452684, 636359, 19169)\n",
            "평균: 8.684010446540803\n",
            "중간값: 0.0\n"
          ]
        }
      ]
    },
    {
      "cell_type": "markdown",
      "source": [
        "## numberofoverdueinstls_834L\n",
        "- Number of past due instalments for a closed contract.\n",
        "- closed 계약의 연체 할부금 수\n",
        "\n"
      ],
      "metadata": {
        "id": "3vp__PtoyJtZ"
      }
    },
    {
      "cell_type": "code",
      "source": [
        "x = df_credit_bureau_1_0.numberofoverdueinstls_834L\n",
        "print(f\"컬럼명: {x.name}\")\n",
        "print(f\"데이터 타입: {x.dtype}\")\n",
        "print(f\"(min, max) = {x.min()}, {x.max()}\")\n",
        "print(f\"NA 값: {any(x.isna())}, {x.isna().sum() / x.shape[0]:.10f}\")\n",
        "print(f\"(null, 0, >0) = {x.isna().sum(), (x == 0.0).sum(), (x > 0.0).sum()}\")\n",
        "# print(f\"평균: {x[x > 0].mean()}\")\n",
        "# print(f\"중간값(0이상): {x[x > 0].median()}\")\n",
        "print(f\"평균: {x.mean()}\")\n",
        "print(f\"중간값: {x.median()}\")"
      ],
      "metadata": {
        "colab": {
          "base_uri": "https://localhost:8080/"
        },
        "id": "q-HL2-1TyJtl",
        "outputId": "b0e08ca7-6e0b-4840-e822-6a531b469eff"
      },
      "execution_count": null,
      "outputs": [
        {
          "output_type": "stream",
          "name": "stdout",
          "text": [
            "컬럼명: numberofoverdueinstls_834L\n",
            "데이터 타입: float64\n",
            "(min, max) = 0.0, 868.0\n",
            "NA 값: True, 0.8889546109\n",
            "(null, 0, >0) = (3652014, 455861, 337)\n",
            "평균: 0.05372886334442501\n",
            "중간값: 0.0\n"
          ]
        }
      ]
    },
    {
      "cell_type": "markdown",
      "source": [
        "## periodicityofpmts_837L\n",
        "- Frequency of instalments for an active contract.\n",
        "- active 계약의 할부 지불 빈도\n",
        "\n",
        ">**해석**\n",
        "- 단위가 1일, 30일(1달), 90일(2달), 180일(3달), 360(1년) 기준"
      ],
      "metadata": {
        "id": "6oJVRPkzEKcL"
      }
    },
    {
      "cell_type": "code",
      "source": [
        "x = df_credit_bureau_1_0.periodicityofpmts_837L\n",
        "print(f\"컬럼명: {x.name}\")\n",
        "print(f\"데이터 타입: {x.dtype}\")\n",
        "print(f\"(min, max) = {x.min()}, {x.max()}\")\n",
        "print(f\"NA 값: {any(x.isna())}, {x.isna().sum() / x.shape[0]:.10f}\")\n",
        "print(f\"(null, 0, >0) = {x.isna().sum(), (x == 0.0).sum(), (x > 0.0).sum()}\")\n",
        "# print(f\"평균: {x[x > 0].mean()}\")\n",
        "# print(f\"중간값(0이상): {x[x > 0].median()}\")\n",
        "print(f\"평균: {x.mean()}\")\n",
        "print(f\"중간값: {x.median()}\")\n",
        "print(f\"----- Value_count ------ \\n{x.value_counts()}\")"
      ],
      "metadata": {
        "colab": {
          "base_uri": "https://localhost:8080/"
        },
        "id": "4g9TvxGSEPoK",
        "outputId": "b57b2965-279d-4c8b-c9f5-16072422b520"
      },
      "execution_count": null,
      "outputs": [
        {
          "output_type": "stream",
          "name": "stdout",
          "text": [
            "컬럼명: periodicityofpmts_837L\n",
            "데이터 타입: float64\n",
            "(min, max) = 1.0, 360.0\n",
            "NA 값: True, 0.9141329610\n",
            "(null, 0, >0) = (3755452, 0, 352760)\n",
            "평균: 30.31703991382243\n",
            "중간값: 30.0\n",
            "----- Value_count ------ \n",
            "30.0     351861\n",
            "180.0       633\n",
            "90.0        224\n",
            "1.0          29\n",
            "360.0        13\n",
            "Name: periodicityofpmts_837L, dtype: int64\n"
          ]
        }
      ]
    },
    {
      "cell_type": "markdown",
      "source": [
        "## periodicityofpmts_1102L\n",
        " - Frequency of instalments for a closed contract.\n",
        " - closed 계약의 할부 지불 빈도\n",
        "\n",
        ">**해석**\n",
        "- 단위가 1일, 30일(1달), 90일(2달), 180일(3달), 360(1년) 기준"
      ],
      "metadata": {
        "id": "9tT8RrH7D_eM"
      }
    },
    {
      "cell_type": "code",
      "source": [
        "x = df_credit_bureau_1_0.periodicityofpmts_1102L\n",
        "print(f\"컬럼명: {x.name}\")\n",
        "print(f\"데이터 타입: {x.dtype}\")\n",
        "print(f\"(min, max) = {x.min()}, {x.max()}\")\n",
        "print(f\"NA 값: {any(x.isna())}, {x.isna().sum() / x.shape[0]:.10f}\")\n",
        "print(f\"(null, 0, >0) = {x.isna().sum(), (x == 0.0).sum(), (x > 0.0).sum()}\")\n",
        "# print(f\"평균: {x[x > 0].mean()}\")\n",
        "# print(f\"중간값(0이상): {x[x > 0].median()}\")\n",
        "print(f\"평균: {x.mean()}\")\n",
        "print(f\"중간값: {x.median()}\")\n",
        "print(f\"----- Value_count ------ \\n{x.value_counts()}\")"
      ],
      "metadata": {
        "colab": {
          "base_uri": "https://localhost:8080/"
        },
        "id": "nNIjin_l7h1h",
        "outputId": "173dd92e-35ea-4bd5-cd4e-b7b077f7b906"
      },
      "execution_count": null,
      "outputs": [
        {
          "output_type": "stream",
          "name": "stdout",
          "text": [
            "컬럼명: periodicityofpmts_1102L\n",
            "데이터 타입: float64\n",
            "(min, max) = 1.0, 360.0\n",
            "NA 값: True, 0.9124519377\n",
            "(null, 0, >0) = (3748546, 0, 359666)\n",
            "평균: 30.11575461678335\n",
            "중간값: 30.0\n",
            "----- Value_count ------ \n",
            "30.0     359153\n",
            "1.0         233\n",
            "180.0       180\n",
            "360.0        57\n",
            "90.0         43\n",
            "Name: periodicityofpmts_1102L, dtype: int64\n"
          ]
        }
      ]
    },
    {
      "cell_type": "markdown",
      "source": [
        "## purposeofcred_426M\n",
        "- Purpose of credit for active contract.\n",
        "- active 계약의 대출 목적"
      ],
      "metadata": {
        "id": "-wRO2tzB1X9k"
      }
    },
    {
      "cell_type": "code",
      "source": [
        "x = df_credit_bureau_1_0.purposeofcred_426M\n",
        "print(f\"컬럼명: {x.name}\")\n",
        "print(f\"데이터 타입: {x.dtype}\")\n",
        "print(f\"NA 값: {any(x.isna())}, {x.isna().sum() / x.shape[0]:.10f}\")\n",
        "print(f\"Categories: {len(x.unique())},{ x.unique()}\")\n",
        "print(\"--- Value Counts ---\")\n",
        "x.value_counts()"
      ],
      "metadata": {
        "colab": {
          "base_uri": "https://localhost:8080/"
        },
        "id": "E-Mrsk1t1drJ",
        "outputId": "b1ed188a-1319-4799-daf5-864e450d266f"
      },
      "execution_count": null,
      "outputs": [
        {
          "output_type": "stream",
          "name": "stdout",
          "text": [
            "컬럼명: purposeofcred_426M\n",
            "데이터 타입: object\n",
            "NA 값: False, 0.0000000000\n",
            "Categories: 12,['96a8fdfe' '60c73645' 'a55475b1' 'e19fdece' '7a7d6960' '9e302002'\n",
            " 'P188_162_121' '28bfa260' 'e8f3b178' '44164129' '5065c2b8' '8193a6ce']\n",
            "--- Value Counts ---\n"
          ]
        },
        {
          "output_type": "execute_result",
          "data": {
            "text/plain": [
              "a55475b1        3449815\n",
              "60c73645         504371\n",
              "96a8fdfe         147626\n",
              "e19fdece           3478\n",
              "9e302002           1668\n",
              "7a7d6960            642\n",
              "44164129            266\n",
              "e8f3b178            116\n",
              "28bfa260            102\n",
              "8193a6ce             62\n",
              "P188_162_121         60\n",
              "5065c2b8              6\n",
              "Name: purposeofcred_426M, dtype: int64"
            ]
          },
          "metadata": {},
          "execution_count": 39
        }
      ]
    },
    {
      "cell_type": "markdown",
      "source": [
        "## purposeofcred_874M\n",
        "- Purpose of credit on a closed contract.\n",
        "- closed 계약의 대출 목적"
      ],
      "metadata": {
        "id": "lFVnDkdj1edM"
      }
    },
    {
      "cell_type": "code",
      "source": [
        "x = df_credit_bureau_1_0.purposeofcred_874M\n",
        "print(f\"컬럼명: {x.name}\")\n",
        "print(f\"데이터 타입: {x.dtype}\")\n",
        "print(f\"NA 값: {any(x.isna())}, {x.isna().sum() / x.shape[0]:.10f}\")\n",
        "print(f\"Categories: {len(x.unique())},{ x.unique()}\")\n",
        "print(\"--- Value Counts ---\")\n",
        "x.value_counts()"
      ],
      "metadata": {
        "colab": {
          "base_uri": "https://localhost:8080/"
        },
        "id": "fGorM0Hs1jF4",
        "outputId": "6494ddff-e80c-4581-800d-4242d8aa08cd"
      },
      "execution_count": null,
      "outputs": [
        {
          "output_type": "stream",
          "name": "stdout",
          "text": [
            "컬럼명: purposeofcred_874M\n",
            "데이터 타입: object\n",
            "NA 값: False, 0.0000000000\n",
            "Categories: 18,['a55475b1' '5065c2b8' 'e19fdece' '96a8fdfe' '60c73645' 'd9ae1a0e'\n",
            " '27b6de28' '89ccf2a3' 'ee7d1eb8' '5d1b0cdd' 'd11871e7' '7a7d6960'\n",
            " 'P188_162_121' 'e8f3b178' '7ff464db' '44164129' '8193a6ce' '28bfa260']\n",
            "--- Value Counts ---\n"
          ]
        },
        {
          "output_type": "execute_result",
          "data": {
            "text/plain": [
              "a55475b1        3651541\n",
              "60c73645         208624\n",
              "5065c2b8         125894\n",
              "96a8fdfe         101951\n",
              "e19fdece           8652\n",
              "d9ae1a0e           5635\n",
              "27b6de28           2021\n",
              "5d1b0cdd           1088\n",
              "d11871e7            736\n",
              "89ccf2a3            665\n",
              "7a7d6960            322\n",
              "P188_162_121        317\n",
              "ee7d1eb8            281\n",
              "44164129            209\n",
              "7ff464db            129\n",
              "e8f3b178             96\n",
              "8193a6ce             31\n",
              "28bfa260             20\n",
              "Name: purposeofcred_874M, dtype: int64"
            ]
          },
          "metadata": {},
          "execution_count": 40
        }
      ]
    },
    {
      "cell_type": "markdown",
      "source": [
        "## prolongationcount_1120L\n",
        "- Count of prolongations on terminated contract according to credit bureau.\n",
        "- 신용 기관에 따라 종료된 계약이 몇 번 연장되었는지 나타냄\n"
      ],
      "metadata": {
        "id": "H_toNBCT1Jm5"
      }
    },
    {
      "cell_type": "code",
      "source": [
        "x = df_credit_bureau_1_0.prolongationcount_1120L\n",
        "print(f\"컬럼명: {x.name}\")\n",
        "print(f\"데이터 타입: {x.dtype}\")\n",
        "print(f\"(min, max) = {x.min()}, {x.max()}\")\n",
        "print(f\"NA 값: {any(x.isna())}, {x.isna().sum() / x.shape[0]:.10f}\")\n",
        "print(f\"(null, 0, >0) = {x.isna().sum(), (x == 0.0).sum(), (x > 0.0).sum()}\")\n",
        "# print(f\"평균: {x[x > 0].mean()}\")\n",
        "# print(f\"중간값(0이상): {x[x > 0].median()}\")\n",
        "print(f\"평균: {x.mean()}\")\n",
        "print(f\"중간값: {x.median()}\")\n",
        "print(f\"----- Value_count ------ \\n{x.value_counts()}\")"
      ],
      "metadata": {
        "colab": {
          "base_uri": "https://localhost:8080/"
        },
        "id": "B45dBuaI0u_8",
        "outputId": "d25a9712-37a6-4c7e-8cb7-5b5238e13d55"
      },
      "execution_count": null,
      "outputs": [
        {
          "output_type": "stream",
          "name": "stdout",
          "text": [
            "컬럼명: prolongationcount_1120L\n",
            "데이터 타입: float64\n",
            "(min, max) = 0.0, 96.0\n",
            "NA 값: True, 0.9935604589\n",
            "(null, 0, >0) = (4081757, 20649, 5806)\n",
            "평균: 0.5801549801549801\n",
            "중간값: 0.0\n",
            "----- Value_count ------ \n",
            "0.0     20649\n",
            "1.0      3127\n",
            "2.0      1124\n",
            "3.0       538\n",
            "4.0       293\n",
            "5.0       202\n",
            "6.0       118\n",
            "7.0        84\n",
            "8.0        61\n",
            "9.0        40\n",
            "10.0       39\n",
            "12.0       26\n",
            "11.0       23\n",
            "13.0       16\n",
            "14.0       14\n",
            "15.0       13\n",
            "18.0        7\n",
            "19.0        7\n",
            "17.0        7\n",
            "20.0        6\n",
            "24.0        6\n",
            "21.0        6\n",
            "16.0        5\n",
            "23.0        5\n",
            "26.0        4\n",
            "33.0        3\n",
            "28.0        3\n",
            "41.0        3\n",
            "44.0        3\n",
            "29.0        2\n",
            "31.0        2\n",
            "27.0        2\n",
            "43.0        2\n",
            "35.0        2\n",
            "40.0        1\n",
            "30.0        1\n",
            "22.0        1\n",
            "34.0        1\n",
            "56.0        1\n",
            "47.0        1\n",
            "66.0        1\n",
            "54.0        1\n",
            "96.0        1\n",
            "55.0        1\n",
            "80.0        1\n",
            "39.0        1\n",
            "25.0        1\n",
            "Name: prolongationcount_1120L, dtype: int64\n"
          ]
        }
      ]
    },
    {
      "cell_type": "markdown",
      "source": [
        "## prolongationcount_599L\n",
        "- Count of active contract prolongations.\n",
        "- active 계약이 연장된 횟수"
      ],
      "metadata": {
        "id": "8jLLIL5N1SD6"
      }
    },
    {
      "cell_type": "code",
      "source": [
        "x = df_credit_bureau_1_0.prolongationcount_599L\n",
        "print(f\"컬럼명: {x.name}\")\n",
        "print(f\"데이터 타입: {x.dtype}\")\n",
        "print(f\"(min, max) = {x.min()}, {x.max()}\")\n",
        "print(f\"NA 값: {any(x.isna())}, {x.isna().sum() / x.shape[0]:.10f}\")\n",
        "print(f\"(null, 0, >0) = {x.isna().sum(), (x == 0.0).sum(), (x > 0.0).sum()}\")\n",
        "# print(f\"평균: {x[x > 0].mean()}\")\n",
        "# print(f\"중간값(0이상): {x[x > 0].median()}\")\n",
        "print(f\"평균: {x.mean()}\")\n",
        "print(f\"중간값: {x.median()}\")\n",
        "print(f\"----- Value_count ------ \\n{x.value_counts()}\")"
      ],
      "metadata": {
        "colab": {
          "base_uri": "https://localhost:8080/"
        },
        "id": "y1KMVZiS1XrW",
        "outputId": "dc7498dd-3807-4aae-f075-7e6f3d0eb4cb"
      },
      "execution_count": null,
      "outputs": [
        {
          "output_type": "stream",
          "name": "stdout",
          "text": [
            "컬럼명: prolongationcount_599L\n",
            "데이터 타입: float64\n",
            "(min, max) = 0.0, 63.0\n",
            "NA 값: True, 0.9985414579\n",
            "(null, 0, >0) = (4102220, 3978, 2014)\n",
            "평균: 1.0272029372496663\n",
            "중간값: 0.0\n",
            "----- Value_count ------ \n",
            "0.0     3978\n",
            "1.0     1042\n",
            "2.0      350\n",
            "3.0      207\n",
            "4.0      124\n",
            "5.0       64\n",
            "7.0       37\n",
            "6.0       35\n",
            "9.0       25\n",
            "8.0       21\n",
            "11.0      17\n",
            "10.0      15\n",
            "12.0      13\n",
            "14.0       8\n",
            "16.0       6\n",
            "13.0       6\n",
            "15.0       5\n",
            "17.0       3\n",
            "22.0       3\n",
            "21.0       3\n",
            "23.0       3\n",
            "18.0       3\n",
            "54.0       2\n",
            "27.0       2\n",
            "28.0       2\n",
            "55.0       2\n",
            "36.0       2\n",
            "51.0       2\n",
            "50.0       2\n",
            "33.0       1\n",
            "40.0       1\n",
            "20.0       1\n",
            "63.0       1\n",
            "39.0       1\n",
            "48.0       1\n",
            "19.0       1\n",
            "26.0       1\n",
            "38.0       1\n",
            "29.0       1\n",
            "Name: prolongationcount_599L, dtype: int64\n"
          ]
        }
      ]
    },
    {
      "cell_type": "markdown",
      "source": [
        "## subjectrole_182M\n",
        "- Subject role in active credit contract.\n",
        "- active 계약에서 주체의 역할\n",
        "\n",
        "> **참고**\n",
        "- 대출자 (Borrower):대출을 받는 개인 또는 기업\n",
        "대출금을 받고, 대출 상환 의무를 갖음.\n",
        "\n",
        "> - 대출 신청자 (Loan Applicant): 대출을 받기 위해 대출을 신청한 개인 또는 기업. 대출 승인을 받은 후에는 대출자가 됨.\n",
        "\n",
        ">- 대출 제공자 (Lender):대출을 제공하는 금융 기관.\n",
        "대출을 제공하고, 대출금을 회수하는 권리를 갖습니다.\n",
        "\n",
        ">- 보증인 (Guarantor):대출 상환을 보증하는 개인 또는 기업\n",
        "대출자가 상환을 못 할 경우 보증인이 대출금을 대신 상환해야 할 수 있음.\n",
        "\n",
        "등"
      ],
      "metadata": {
        "id": "jsp1Zp6R19js"
      }
    },
    {
      "cell_type": "code",
      "source": [
        "x = df_credit_bureau_1_0.subjectrole_182M\n",
        "print(f\"컬럼명: {x.name}\")\n",
        "print(f\"데이터 타입: {x.dtype}\")\n",
        "print(f\"NA 값: {any(x.isna())}, {x.isna().sum() / x.shape[0]:.10f}\")\n",
        "print(f\"Categories: {len(x.unique())},{ x.unique()}\")\n",
        "print(\"--- Value Counts ---\")\n",
        "x.value_counts()"
      ],
      "metadata": {
        "colab": {
          "base_uri": "https://localhost:8080/"
        },
        "id": "N12iXmrV2DA9",
        "outputId": "2c522395-6ed4-44b1-f79a-28ebefa04af6"
      },
      "execution_count": null,
      "outputs": [
        {
          "output_type": "stream",
          "name": "stdout",
          "text": [
            "컬럼명: subjectrole_182M\n",
            "데이터 타입: object\n",
            "NA 값: False, 0.0000000000\n",
            "Categories: 7,['ab3c25cf' 'a55475b1' 'be4fd70b' 'daf49a8a' 'P28_48_88' '15f04f45'\n",
            " '0c42a10e']\n",
            "--- Value Counts ---\n"
          ]
        },
        {
          "output_type": "execute_result",
          "data": {
            "text/plain": [
              "a55475b1     3770638\n",
              "ab3c25cf      323758\n",
              "be4fd70b        8394\n",
              "daf49a8a        4087\n",
              "P28_48_88       1006\n",
              "15f04f45         328\n",
              "0c42a10e           1\n",
              "Name: subjectrole_182M, dtype: int64"
            ]
          },
          "metadata": {},
          "execution_count": 68
        }
      ]
    },
    {
      "cell_type": "markdown",
      "source": [
        "## subjectrole_93M\n",
        "- Subject role in closed credit contract."
      ],
      "metadata": {
        "id": "1iLLCIub2DU3"
      }
    },
    {
      "cell_type": "code",
      "source": [
        "x = df_credit_bureau_1_0.subjectrole_93M\n",
        "print(f\"컬럼명: {x.name}\")\n",
        "print(f\"데이터 타입: {x.dtype}\")\n",
        "print(f\"NA 값: {any(x.isna())}, {x.isna().sum() / x.shape[0]:.10f}\")\n",
        "print(f\"Categories: {len(x.unique())},{ x.unique()}\")\n",
        "print(\"--- Value Counts ---\")\n",
        "x.value_counts()"
      ],
      "metadata": {
        "colab": {
          "base_uri": "https://localhost:8080/"
        },
        "id": "dxtbkbiK2IVW",
        "outputId": "6204bb23-87f1-4363-bf6f-82d198d7b642"
      },
      "execution_count": null,
      "outputs": [
        {
          "output_type": "stream",
          "name": "stdout",
          "text": [
            "컬럼명: subjectrole_93M\n",
            "데이터 타입: object\n",
            "NA 값: False, 0.0000000000\n",
            "Categories: 7,['ab3c25cf' 'a55475b1' 'daf49a8a' 'be4fd70b' '15f04f45' '0c42a10e'\n",
            " '71ddaa88']\n",
            "--- Value Counts ---\n"
          ]
        },
        {
          "output_type": "execute_result",
          "data": {
            "text/plain": [
              "a55475b1    3809610\n",
              "ab3c25cf     288101\n",
              "be4fd70b       4601\n",
              "daf49a8a       4340\n",
              "15f04f45       1533\n",
              "71ddaa88         24\n",
              "0c42a10e          3\n",
              "Name: subjectrole_93M, dtype: int64"
            ]
          },
          "metadata": {},
          "execution_count": 69
        }
      ]
    },
    {
      "cell_type": "code",
      "source": [],
      "metadata": {
        "id": "UsRFAU7SGuCI"
      },
      "execution_count": null,
      "outputs": []
    }
  ]
}
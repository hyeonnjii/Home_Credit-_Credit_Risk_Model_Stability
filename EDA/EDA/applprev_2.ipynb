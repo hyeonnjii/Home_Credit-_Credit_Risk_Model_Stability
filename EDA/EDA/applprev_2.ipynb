{
 "cells": [
  {
   "cell_type": "markdown",
   "metadata": {},
   "source": [
    "## <b>[Home Credit - Credit Risk Model Stability]</b>\n",
    "### Ⅰ. Given Data Information in Kaggle\n",
    "#### 01\\. Overview<br>\n",
    "> 이 대회의 목표는 <b>대출을 제때 생환하지 못할 가능성이 높은 고객군을 예측하는 것</b>입니다. 시간이 지나도 안정적인 솔루션이 더 높이 평가받을 것입니다. 여러분의 참여로 소비자금융사들은 잠재 고객의 채무 불이행 위험을 보다 안정적·장기적으로 평가할 수 있게 됩니다.\n",
    "> <details><summary>원문</summary>The goal of this competition is to predict which clients are more likely to default on their loans. The evaluation will favor solutions that are stable over time. Your participation may offer consumer finance providers a more reliable and longer-lasting way to assess a potential client’s default risk.</details><br>"
   ]
  },
  {
   "cell_type": "markdown",
   "metadata": {},
   "source": [
    "#### 02\\. Description\n",
    "> 신용 기록이 없다는 것은 여러 가지<span style=\"font-size:16px;\">(e.g. 나이 어림, 현금 선호 등)</span>를 의미할 수 있습니다. 신용 기록이 거의, 또는 전혀 없는 사람은 대출이 거절될 가능성이 높습니다. 소비자 금융 제공업체는 대출 상환이 가능한 고객과 불가능한 고객을 정확하게 판단해야 하며, 이를 위해서는 데이터가 핵심입니다. 만약 데이터 사이언스가 개인의 상환 능력을 보다 잘 예측하는 데 있어 도움이 된다면 대출의 혜택을 가장 많이 받을 수 있는 사람들이 더 쉽게 대출을 받을 수 있게 될 것입니다.<br><br>\n",
    "현재 소비자금융사들은 다양한 통계적, 머신러닝 방법을 고객의 대출 리스크 예측에 활용하고 있습니다. 이러한 모델을 통칭 <b>'스코어카드<span style=\"font-size:16px;\">(Scorecard)</span>'</b><span style=\"color:orange; font-size:16px;\">(※ e.g. <a href=\"https://www.ibm.com/docs/ko/odm/8.5.1?topic=overview-introducing-rule-designer-scorecard-modeler\">Rule Designer Scorecard Modeler 소개</a>)</span>라고 합니다. 스코어카드의 예측 성능 급락은 상환 가능성이 낮은 고객에게 대출이 제공될 가능성을 높일 수 있으므로 스코어카드의 미래 안정성은 매우 중요합니다. 따라서 수시로 업데이트되는 것이 가장 이상적이나 그 작업은 많은 시간과 비용을 소모하며 고객의 행동 양식도 시시각각 변하므로 현실적으로 어렵습니다. 문제의 핵심은 금융사가 대출의 첫 번째 만기일이 되기 전에 잠재적인 문제를 조기에 발견할 수 없다는 데 있습니다. 고로, 스코어카드 개발 시 성능 못지 않게 안정성도 고려해야 합니다. 모델의 안정성과 성능 사이에는 상충 관계가 있으므로 배포 전에 균형을 맞춰야 합니다.<br><br>\n",
    "1997년에 설립된 대회 주최사 <b>Home Credit</b>은 주로 신용 기록이 거의, 또는 전혀 없는 사람들에게 책임감 있는 대출을 제공하는 국제 소비자 금융 제공업체입니다. Home Credit은 긍정적이고 안전한 대출 경험을 제공함으로써 은행 서비스를 이용하지 못하는 사람들을 위한 금융 포용성을 확대합니다. 이전에 Kaggle과 Competition을 개최한 적이 있는데, <a href=\"https://www.kaggle.com/competitions/home-credit-default-risk\">여기</a>서 확인할 수 있습니다.<br><br>\n",
    "잠재 고객의 채무 불이행 위험을 평가하는 데 도움을 주면 소비자 금융 제공업체는 더 많은 대출 신청을 수락할 수 있습니다. 이는 그동안 신용 기록이 부족하다는 이유로 대출을 거절당했던 사람들의 삶을 개선할 수 있습니다.<br>\n",
    "> <details><summary>원문</summary>The absence of a credit history might mean a lot of things, including young age or a preference for cash. Without traditional data, someone with little to no credit history is likely to be denied. Consumer finance providers must accurately determine which clients can repay a loan and which cannot and data is key. If data science could help better predict one’s repayment capabilities, loans might become more accessible to those who may benefit from them the most.<br><br>Currently, consumer finance providers use various statistical and machine learning methods to predict loan risk. These models are generally called scorecards. In the real world, clients' behaviors change constantly, so every scorecard must be updated regularly, which takes time. The scorecard's stability in the future is critical, as a sudden drop in performance means that loans will be issued to worse clients on average. The core of the issue is that loan providers aren't able to spot potential problems any sooner than the first due dates of those loans are observable. Given the time it takes to redevelop, validate, and implement the scorecard, stability is highly desirable. There is a trade-off between the stability of the model and its performance, and a balance must be reached before deployment.<br><br>Founded in 1997, competition host Home Credit is an international consumer finance provider focusing on responsible lending primarily to people with little or no credit history. Home Credit broadens financial inclusion for the unbanked population by creating a positive and safe borrowing experience. We previously ran a competition with Kaggle that you can see <a href=\"https://www.kaggle.com/competitions/home-credit-default-risk\">here</a>.<br><br>Your work in helping to assess potential clients' default risks will enable consumer finance providers to accept more loan applications. This may improve the lives of people who have historically been denied due to lack of credit history.</details><br>"
   ]
  },
  {
   "cell_type": "markdown",
   "metadata": {},
   "source": [
    "#### 03\\. Evaluation\n"
   ]
  },
  {
   "cell_type": "code",
   "execution_count": 6,
   "metadata": {},
   "outputs": [
    {
     "data": {
      "text/html": [
       "<div>\n",
       "<style scoped>\n",
       "    .dataframe tbody tr th:only-of-type {\n",
       "        vertical-align: middle;\n",
       "    }\n",
       "\n",
       "    .dataframe tbody tr th {\n",
       "        vertical-align: top;\n",
       "    }\n",
       "\n",
       "    .dataframe thead th {\n",
       "        text-align: right;\n",
       "    }\n",
       "</style>\n",
       "<table border=\"1\" class=\"dataframe\">\n",
       "  <thead>\n",
       "    <tr style=\"text-align: right;\">\n",
       "      <th></th>\n",
       "      <th>Variable</th>\n",
       "      <th>Description</th>\n",
       "    </tr>\n",
       "  </thead>\n",
       "  <tbody>\n",
       "    <tr>\n",
       "      <th>0</th>\n",
       "      <td>actualdpd_943P</td>\n",
       "      <td>Days Past Due (DPD) of previous contract (actual).</td>\n",
       "    </tr>\n",
       "    <tr>\n",
       "      <th>1</th>\n",
       "      <td>actualdpdtolerance_344P</td>\n",
       "      <td>DPD of client with tolerance.</td>\n",
       "    </tr>\n",
       "    <tr>\n",
       "      <th>2</th>\n",
       "      <td>addres_district_368M</td>\n",
       "      <td>District of the person's address.</td>\n",
       "    </tr>\n",
       "    <tr>\n",
       "      <th>3</th>\n",
       "      <td>addres_role_871L</td>\n",
       "      <td>Role of person's address.</td>\n",
       "    </tr>\n",
       "    <tr>\n",
       "      <th>4</th>\n",
       "      <td>addres_zip_823M</td>\n",
       "      <td>Zip code of the address.</td>\n",
       "    </tr>\n",
       "    <tr>\n",
       "      <th>...</th>\n",
       "      <td>...</td>\n",
       "      <td>...</td>\n",
       "    </tr>\n",
       "    <tr>\n",
       "      <th>460</th>\n",
       "      <td>totinstallast1m_4525188A</td>\n",
       "      <td>Total amount of monthly instalments paid in the previous month.</td>\n",
       "    </tr>\n",
       "    <tr>\n",
       "      <th>461</th>\n",
       "      <td>twobodfilling_608L</td>\n",
       "      <td>Type of application process.</td>\n",
       "    </tr>\n",
       "    <tr>\n",
       "      <th>462</th>\n",
       "      <td>type_25L</td>\n",
       "      <td>Contact type of a person.</td>\n",
       "    </tr>\n",
       "    <tr>\n",
       "      <th>463</th>\n",
       "      <td>typesuite_864L</td>\n",
       "      <td>Persons accompanying the client during the loan application process.</td>\n",
       "    </tr>\n",
       "    <tr>\n",
       "      <th>464</th>\n",
       "      <td>validfrom_1069D</td>\n",
       "      <td>Date since the client has an active campaign.</td>\n",
       "    </tr>\n",
       "  </tbody>\n",
       "</table>\n",
       "<p>465 rows × 2 columns</p>\n",
       "</div>"
      ],
      "text/plain": [
       "                     Variable  \\\n",
       "0              actualdpd_943P   \n",
       "1     actualdpdtolerance_344P   \n",
       "2        addres_district_368M   \n",
       "3            addres_role_871L   \n",
       "4             addres_zip_823M   \n",
       "..                        ...   \n",
       "460  totinstallast1m_4525188A   \n",
       "461        twobodfilling_608L   \n",
       "462                  type_25L   \n",
       "463            typesuite_864L   \n",
       "464           validfrom_1069D   \n",
       "\n",
       "                                                              Description  \n",
       "0                      Days Past Due (DPD) of previous contract (actual).  \n",
       "1                                           DPD of client with tolerance.  \n",
       "2                                       District of the person's address.  \n",
       "3                                               Role of person's address.  \n",
       "4                                                Zip code of the address.  \n",
       "..                                                                    ...  \n",
       "460       Total amount of monthly instalments paid in the previous month.  \n",
       "461                                          Type of application process.  \n",
       "462                                             Contact type of a person.  \n",
       "463  Persons accompanying the client during the loan application process.  \n",
       "464                         Date since the client has an active campaign.  \n",
       "\n",
       "[465 rows x 2 columns]"
      ]
     },
     "execution_count": 6,
     "metadata": {},
     "output_type": "execute_result"
    }
   ],
   "source": [
    "import numpy as np\n",
    "import pandas as pd\n",
    "import matplotlib.pyplot as plt\n",
    "import seaborn as sns\n",
    "\n",
    "import polars as pl\n",
    "\n",
    "from warnings import filterwarnings\n",
    "\n",
    "pd.options.display.max_colwidth = None\n",
    "pd.options.display.max_columns = None\n",
    "\n",
    "pl.Config.set_fmt_str_lengths(9999)\n",
    "\n",
    "filterwarnings(\"ignore\")\n",
    "\n",
    "df = pd.read_csv(\"Datas/feature_definitions.csv\")\n",
    "df"
   ]
  },
  {
   "cell_type": "markdown",
   "metadata": {},
   "source": [
    "### Ⅱ. Data Exploration<br>"
   ]
  },
  {
   "cell_type": "code",
   "execution_count": 7,
   "metadata": {},
   "outputs": [],
   "source": [
    "# DataFrame 정보 확인\n",
    "def info_df(df):\n",
    "    temp_df = pd.DataFrame()\n",
    "    temp_df['col_name'] = df.columns\n",
    "    temp_df['feat_group'] = temp_df['col_name'].str[-1]\n",
    "    \n",
    "    for i in range(len(df.columns)):\n",
    "        x = df.iloc[:, i]\n",
    "        temp_df.loc[i, 'data_type'] = x.dtype\n",
    "        temp_df.loc[i, 'have_null'] = any(x.isna())\n",
    "        temp_df.loc[i, 'null_count'] = x.isna().sum()\n",
    "        temp_df.loc[i, 'null_ratio'] = x.isna().sum() / x.shape[0]\n",
    "        temp_df.loc[i, 'nunique'] = x.nunique()\n",
    "    return temp_df"
   ]
  },
  {
   "cell_type": "markdown",
   "metadata": {},
   "source": [
    "#### 01\\. applprev_2<br>"
   ]
  },
  {
   "cell_type": "markdown",
   "metadata": {},
   "source": [
    "&nbsp;&nbsp;1\\) Column별 내용<span style=\"font-size:16px;\">(추정)</span><br>\n",
    "&nbsp;(1) <b>cacccardblochreas_147M</b>: 카드 정지 사유<span style=\"font-size:16px\" title=\"Card blocking reason\">(원문)</span><br>\n",
    "&nbsp;(2) <b>conts_type_509L</b>: 이전 대출 신청서에 작성된 고객의 연락처 정보<span style=\"font-size:16px\" title=\"Person contact type in previous application\">(원문)</span><br>\n",
    "&nbsp;(3) <b>credacc_cards_status_52L</b>: 이전 신용 계좌의 카드 상태<span style=\"font-size:16px\" title=\"Card status of the previous credit account\">(원문)</span>"
   ]
  },
  {
   "cell_type": "code",
   "execution_count": 8,
   "metadata": {},
   "outputs": [
    {
     "data": {
      "text/html": [
       "<div>\n",
       "<style scoped>\n",
       "    .dataframe tbody tr th:only-of-type {\n",
       "        vertical-align: middle;\n",
       "    }\n",
       "\n",
       "    .dataframe tbody tr th {\n",
       "        vertical-align: top;\n",
       "    }\n",
       "\n",
       "    .dataframe thead th {\n",
       "        text-align: right;\n",
       "    }\n",
       "</style>\n",
       "<table border=\"1\" class=\"dataframe\">\n",
       "  <thead>\n",
       "    <tr style=\"text-align: right;\">\n",
       "      <th></th>\n",
       "      <th>case_id</th>\n",
       "      <th>cacccardblochreas_147M</th>\n",
       "      <th>conts_type_509L</th>\n",
       "      <th>credacc_cards_status_52L</th>\n",
       "      <th>num_group1</th>\n",
       "      <th>num_group2</th>\n",
       "    </tr>\n",
       "  </thead>\n",
       "  <tbody>\n",
       "    <tr>\n",
       "      <th>0</th>\n",
       "      <td>2</td>\n",
       "      <td>None</td>\n",
       "      <td>EMPLOYMENT_PHONE</td>\n",
       "      <td>None</td>\n",
       "      <td>1</td>\n",
       "      <td>1</td>\n",
       "    </tr>\n",
       "    <tr>\n",
       "      <th>1</th>\n",
       "      <td>2</td>\n",
       "      <td>None</td>\n",
       "      <td>EMPLOYMENT_PHONE</td>\n",
       "      <td>None</td>\n",
       "      <td>0</td>\n",
       "      <td>1</td>\n",
       "    </tr>\n",
       "    <tr>\n",
       "      <th>2</th>\n",
       "      <td>2</td>\n",
       "      <td>None</td>\n",
       "      <td>PRIMARY_MOBILE</td>\n",
       "      <td>None</td>\n",
       "      <td>0</td>\n",
       "      <td>0</td>\n",
       "    </tr>\n",
       "    <tr>\n",
       "      <th>3</th>\n",
       "      <td>2</td>\n",
       "      <td>None</td>\n",
       "      <td>PRIMARY_MOBILE</td>\n",
       "      <td>None</td>\n",
       "      <td>1</td>\n",
       "      <td>0</td>\n",
       "    </tr>\n",
       "    <tr>\n",
       "      <th>4</th>\n",
       "      <td>3</td>\n",
       "      <td>None</td>\n",
       "      <td>PRIMARY_MOBILE</td>\n",
       "      <td>None</td>\n",
       "      <td>0</td>\n",
       "      <td>1</td>\n",
       "    </tr>\n",
       "    <tr>\n",
       "      <th>...</th>\n",
       "      <td>...</td>\n",
       "      <td>...</td>\n",
       "      <td>...</td>\n",
       "      <td>...</td>\n",
       "      <td>...</td>\n",
       "      <td>...</td>\n",
       "    </tr>\n",
       "    <tr>\n",
       "      <th>14075482</th>\n",
       "      <td>2703454</td>\n",
       "      <td>a55475b1</td>\n",
       "      <td>PRIMARY_MOBILE</td>\n",
       "      <td>None</td>\n",
       "      <td>0</td>\n",
       "      <td>0</td>\n",
       "    </tr>\n",
       "    <tr>\n",
       "      <th>14075483</th>\n",
       "      <td>2703454</td>\n",
       "      <td>a55475b1</td>\n",
       "      <td>None</td>\n",
       "      <td>None</td>\n",
       "      <td>1</td>\n",
       "      <td>3</td>\n",
       "    </tr>\n",
       "    <tr>\n",
       "      <th>14075484</th>\n",
       "      <td>2703454</td>\n",
       "      <td>a55475b1</td>\n",
       "      <td>None</td>\n",
       "      <td>None</td>\n",
       "      <td>0</td>\n",
       "      <td>1</td>\n",
       "    </tr>\n",
       "    <tr>\n",
       "      <th>14075485</th>\n",
       "      <td>2703454</td>\n",
       "      <td>a55475b1</td>\n",
       "      <td>PRIMARY_MOBILE</td>\n",
       "      <td>None</td>\n",
       "      <td>1</td>\n",
       "      <td>0</td>\n",
       "    </tr>\n",
       "    <tr>\n",
       "      <th>14075486</th>\n",
       "      <td>2703454</td>\n",
       "      <td>a55475b1</td>\n",
       "      <td>HOME_PHONE</td>\n",
       "      <td>None</td>\n",
       "      <td>1</td>\n",
       "      <td>1</td>\n",
       "    </tr>\n",
       "  </tbody>\n",
       "</table>\n",
       "<p>14075487 rows × 6 columns</p>\n",
       "</div>"
      ],
      "text/plain": [
       "          case_id cacccardblochreas_147M   conts_type_509L  \\\n",
       "0               2                   None  EMPLOYMENT_PHONE   \n",
       "1               2                   None  EMPLOYMENT_PHONE   \n",
       "2               2                   None    PRIMARY_MOBILE   \n",
       "3               2                   None    PRIMARY_MOBILE   \n",
       "4               3                   None    PRIMARY_MOBILE   \n",
       "...           ...                    ...               ...   \n",
       "14075482  2703454               a55475b1    PRIMARY_MOBILE   \n",
       "14075483  2703454               a55475b1              None   \n",
       "14075484  2703454               a55475b1              None   \n",
       "14075485  2703454               a55475b1    PRIMARY_MOBILE   \n",
       "14075486  2703454               a55475b1        HOME_PHONE   \n",
       "\n",
       "         credacc_cards_status_52L  num_group1  num_group2  \n",
       "0                            None           1           1  \n",
       "1                            None           0           1  \n",
       "2                            None           0           0  \n",
       "3                            None           1           0  \n",
       "4                            None           0           1  \n",
       "...                           ...         ...         ...  \n",
       "14075482                     None           0           0  \n",
       "14075483                     None           1           3  \n",
       "14075484                     None           0           1  \n",
       "14075485                     None           1           0  \n",
       "14075486                     None           1           1  \n",
       "\n",
       "[14075487 rows x 6 columns]"
      ]
     },
     "execution_count": 8,
     "metadata": {},
     "output_type": "execute_result"
    }
   ],
   "source": [
    "applprev_2 = pd.read_parquet(\"Datas/parquet_files/train/train_applprev_2.parquet\")\n",
    "applprev_2"
   ]
  },
  {
   "cell_type": "markdown",
   "metadata": {},
   "source": [
    "&nbsp;&nbsp;2\\) 파일 전체에서 관찰되는 특징<br>\n",
    "&nbsp;(1) cacccardblochreas_147M 컬럼은 Masking된 데이터이며, 약 99.9% 이상의 데이터가 <b>a55475b1</b>을 가짐<br>\n",
    "&nbsp;&nbsp;&nbsp;&nbsp;&nbsp;&nbsp;<span style=\"color:orange;\">→ 이걸 뺀 나머지 약 0.1% 확인 결과, 특이한 점은 못 찾음</span><br>\n",
    "&nbsp;(2) 모든 주요 컬럼에 null 값이 존재하며, credacc_cards_status_52L 컬럼이 null 값 빈도가 가장 높음<br>\n",
    "&nbsp;&nbsp;&nbsp;&nbsp;&nbsp;&nbsp;<span style=\"color:orange;\">→ credacc_cards_status_52L 컬럼의 non-null만 따로 빼서 확인 결과, 특이한 점은 못 찾음</span><br>\n",
    "&nbsp;(3) cacccardblochreas_147M 컬럼은 고객의 상환 능력을 예측하는 데 도움이 될 것으로 생각됨<br>\n",
    "&nbsp;&nbsp;&nbsp;&nbsp;&nbsp;&nbsp;<span style=\"color:orange;\">→ encoding을 진행할 수 있는가? 진행할 수 있다면 어떤 방법을 사용해야 하는가?</span><br>\n",
    "&nbsp;(4) 각 Column별 null ratio 도식화<span style=\"font-size:16px;\">(하단 셀 참조)</span>"
   ]
  },
  {
   "cell_type": "code",
   "execution_count": 4,
   "metadata": {},
   "outputs": [
    {
     "name": "stdout",
     "output_type": "stream",
     "text": [
      "<class 'pandas.core.frame.DataFrame'>\n",
      "RangeIndex: 14075487 entries, 0 to 14075486\n",
      "Data columns (total 6 columns):\n",
      " #   Column                    Non-Null Count     Dtype \n",
      "---  ------                    --------------     ----- \n",
      " 0   case_id                   14075487 non-null  int64 \n",
      " 1   cacccardblochreas_147M    13966238 non-null  object\n",
      " 2   conts_type_509L           11681431 non-null  object\n",
      " 3   credacc_cards_status_52L  342083 non-null    object\n",
      " 4   num_group1                14075487 non-null  int64 \n",
      " 5   num_group2                14075487 non-null  int64 \n",
      "dtypes: int64(3), object(3)\n",
      "memory usage: 2.3 GB\n"
     ]
    }
   ],
   "source": [
    "applprev_2.info(memory_usage=\"deep\", show_counts=True)"
   ]
  },
  {
   "cell_type": "code",
   "execution_count": 5,
   "metadata": {},
   "outputs": [
    {
     "data": {
      "text/html": [
       "<div>\n",
       "<style scoped>\n",
       "    .dataframe tbody tr th:only-of-type {\n",
       "        vertical-align: middle;\n",
       "    }\n",
       "\n",
       "    .dataframe tbody tr th {\n",
       "        vertical-align: top;\n",
       "    }\n",
       "\n",
       "    .dataframe thead th {\n",
       "        text-align: right;\n",
       "    }\n",
       "</style>\n",
       "<table border=\"1\" class=\"dataframe\">\n",
       "  <thead>\n",
       "    <tr style=\"text-align: right;\">\n",
       "      <th></th>\n",
       "      <th>case_id</th>\n",
       "      <th>cacccardblochreas_147M</th>\n",
       "      <th>conts_type_509L</th>\n",
       "      <th>credacc_cards_status_52L</th>\n",
       "      <th>num_group1</th>\n",
       "      <th>num_group2</th>\n",
       "    </tr>\n",
       "  </thead>\n",
       "  <tbody>\n",
       "    <tr>\n",
       "      <th>0</th>\n",
       "      <td>2</td>\n",
       "      <td>None</td>\n",
       "      <td>EMPLOYMENT_PHONE</td>\n",
       "      <td>None</td>\n",
       "      <td>1</td>\n",
       "      <td>1</td>\n",
       "    </tr>\n",
       "    <tr>\n",
       "      <th>1</th>\n",
       "      <td>2</td>\n",
       "      <td>None</td>\n",
       "      <td>EMPLOYMENT_PHONE</td>\n",
       "      <td>None</td>\n",
       "      <td>0</td>\n",
       "      <td>1</td>\n",
       "    </tr>\n",
       "    <tr>\n",
       "      <th>2</th>\n",
       "      <td>2</td>\n",
       "      <td>None</td>\n",
       "      <td>PRIMARY_MOBILE</td>\n",
       "      <td>None</td>\n",
       "      <td>0</td>\n",
       "      <td>0</td>\n",
       "    </tr>\n",
       "    <tr>\n",
       "      <th>3</th>\n",
       "      <td>2</td>\n",
       "      <td>None</td>\n",
       "      <td>PRIMARY_MOBILE</td>\n",
       "      <td>None</td>\n",
       "      <td>1</td>\n",
       "      <td>0</td>\n",
       "    </tr>\n",
       "    <tr>\n",
       "      <th>4</th>\n",
       "      <td>3</td>\n",
       "      <td>None</td>\n",
       "      <td>PRIMARY_MOBILE</td>\n",
       "      <td>None</td>\n",
       "      <td>0</td>\n",
       "      <td>1</td>\n",
       "    </tr>\n",
       "    <tr>\n",
       "      <th>...</th>\n",
       "      <td>...</td>\n",
       "      <td>...</td>\n",
       "      <td>...</td>\n",
       "      <td>...</td>\n",
       "      <td>...</td>\n",
       "      <td>...</td>\n",
       "    </tr>\n",
       "    <tr>\n",
       "      <th>14071229</th>\n",
       "      <td>2703147</td>\n",
       "      <td>P201_63_60</td>\n",
       "      <td>PRIMARY_MOBILE</td>\n",
       "      <td>BLOCKED</td>\n",
       "      <td>0</td>\n",
       "      <td>0</td>\n",
       "    </tr>\n",
       "    <tr>\n",
       "      <th>14072539</th>\n",
       "      <td>2703249</td>\n",
       "      <td>P201_63_60</td>\n",
       "      <td>PRIMARY_MOBILE</td>\n",
       "      <td>BLOCKED</td>\n",
       "      <td>1</td>\n",
       "      <td>0</td>\n",
       "    </tr>\n",
       "    <tr>\n",
       "      <th>14073901</th>\n",
       "      <td>2703347</td>\n",
       "      <td>P33_145_161</td>\n",
       "      <td>PRIMARY_MOBILE</td>\n",
       "      <td>CANCELLED</td>\n",
       "      <td>3</td>\n",
       "      <td>0</td>\n",
       "    </tr>\n",
       "    <tr>\n",
       "      <th>14073905</th>\n",
       "      <td>2703347</td>\n",
       "      <td>P33_145_161</td>\n",
       "      <td>None</td>\n",
       "      <td>BLOCKED</td>\n",
       "      <td>3</td>\n",
       "      <td>1</td>\n",
       "    </tr>\n",
       "    <tr>\n",
       "      <th>14075110</th>\n",
       "      <td>2703430</td>\n",
       "      <td>P33_145_161</td>\n",
       "      <td>HOME_PHONE</td>\n",
       "      <td>CANCELLED</td>\n",
       "      <td>10</td>\n",
       "      <td>0</td>\n",
       "    </tr>\n",
       "  </tbody>\n",
       "</table>\n",
       "<p>117044 rows × 6 columns</p>\n",
       "</div>"
      ],
      "text/plain": [
       "          case_id cacccardblochreas_147M   conts_type_509L  \\\n",
       "0               2                   None  EMPLOYMENT_PHONE   \n",
       "1               2                   None  EMPLOYMENT_PHONE   \n",
       "2               2                   None    PRIMARY_MOBILE   \n",
       "3               2                   None    PRIMARY_MOBILE   \n",
       "4               3                   None    PRIMARY_MOBILE   \n",
       "...           ...                    ...               ...   \n",
       "14071229  2703147             P201_63_60    PRIMARY_MOBILE   \n",
       "14072539  2703249             P201_63_60    PRIMARY_MOBILE   \n",
       "14073901  2703347            P33_145_161    PRIMARY_MOBILE   \n",
       "14073905  2703347            P33_145_161              None   \n",
       "14075110  2703430            P33_145_161        HOME_PHONE   \n",
       "\n",
       "         credacc_cards_status_52L  num_group1  num_group2  \n",
       "0                            None           1           1  \n",
       "1                            None           0           1  \n",
       "2                            None           0           0  \n",
       "3                            None           1           0  \n",
       "4                            None           0           1  \n",
       "...                           ...         ...         ...  \n",
       "14071229                  BLOCKED           0           0  \n",
       "14072539                  BLOCKED           1           0  \n",
       "14073901                CANCELLED           3           0  \n",
       "14073905                  BLOCKED           3           1  \n",
       "14075110                CANCELLED          10           0  \n",
       "\n",
       "[117044 rows x 6 columns]"
      ]
     },
     "execution_count": 5,
     "metadata": {},
     "output_type": "execute_result"
    }
   ],
   "source": [
    "## cacccardblochreas_147M의 a55475b1 외 데이터 확인\n",
    "applprev_2[applprev_2[\"cacccardblochreas_147M\"] != \"a55475b1\"]"
   ]
  },
  {
   "cell_type": "code",
   "execution_count": 6,
   "metadata": {},
   "outputs": [
    {
     "data": {
      "text/html": [
       "<div>\n",
       "<style scoped>\n",
       "    .dataframe tbody tr th:only-of-type {\n",
       "        vertical-align: middle;\n",
       "    }\n",
       "\n",
       "    .dataframe tbody tr th {\n",
       "        vertical-align: top;\n",
       "    }\n",
       "\n",
       "    .dataframe thead th {\n",
       "        text-align: right;\n",
       "    }\n",
       "</style>\n",
       "<table border=\"1\" class=\"dataframe\">\n",
       "  <thead>\n",
       "    <tr style=\"text-align: right;\">\n",
       "      <th></th>\n",
       "      <th>case_id</th>\n",
       "      <th>cacccardblochreas_147M</th>\n",
       "      <th>conts_type_509L</th>\n",
       "      <th>credacc_cards_status_52L</th>\n",
       "      <th>num_group1</th>\n",
       "      <th>num_group2</th>\n",
       "    </tr>\n",
       "  </thead>\n",
       "  <tbody>\n",
       "    <tr>\n",
       "      <th>71</th>\n",
       "      <td>38</td>\n",
       "      <td>None</td>\n",
       "      <td>PRIMARY_MOBILE</td>\n",
       "      <td>CANCELLED</td>\n",
       "      <td>0</td>\n",
       "      <td>0</td>\n",
       "    </tr>\n",
       "    <tr>\n",
       "      <th>1520</th>\n",
       "      <td>936</td>\n",
       "      <td>None</td>\n",
       "      <td>PHONE</td>\n",
       "      <td>CANCELLED</td>\n",
       "      <td>1</td>\n",
       "      <td>0</td>\n",
       "    </tr>\n",
       "    <tr>\n",
       "      <th>1668</th>\n",
       "      <td>1029</td>\n",
       "      <td>None</td>\n",
       "      <td>PRIMARY_MOBILE</td>\n",
       "      <td>CANCELLED</td>\n",
       "      <td>0</td>\n",
       "      <td>0</td>\n",
       "    </tr>\n",
       "    <tr>\n",
       "      <th>4049</th>\n",
       "      <td>2419</td>\n",
       "      <td>None</td>\n",
       "      <td>HOME_PHONE</td>\n",
       "      <td>CANCELLED</td>\n",
       "      <td>0</td>\n",
       "      <td>0</td>\n",
       "    </tr>\n",
       "    <tr>\n",
       "      <th>4365</th>\n",
       "      <td>2591</td>\n",
       "      <td>None</td>\n",
       "      <td>PRIMARY_MOBILE</td>\n",
       "      <td>INACTIVE</td>\n",
       "      <td>1</td>\n",
       "      <td>0</td>\n",
       "    </tr>\n",
       "    <tr>\n",
       "      <th>...</th>\n",
       "      <td>...</td>\n",
       "      <td>...</td>\n",
       "      <td>...</td>\n",
       "      <td>...</td>\n",
       "      <td>...</td>\n",
       "      <td>...</td>\n",
       "    </tr>\n",
       "    <tr>\n",
       "      <th>14075331</th>\n",
       "      <td>2703443</td>\n",
       "      <td>a55475b1</td>\n",
       "      <td>HOME_PHONE</td>\n",
       "      <td>ACTIVE</td>\n",
       "      <td>6</td>\n",
       "      <td>0</td>\n",
       "    </tr>\n",
       "    <tr>\n",
       "      <th>14075409</th>\n",
       "      <td>2703450</td>\n",
       "      <td>a55475b1</td>\n",
       "      <td>EMPLOYMENT_PHONE</td>\n",
       "      <td>INACTIVE</td>\n",
       "      <td>11</td>\n",
       "      <td>1</td>\n",
       "    </tr>\n",
       "    <tr>\n",
       "      <th>14075433</th>\n",
       "      <td>2703450</td>\n",
       "      <td>a55475b1</td>\n",
       "      <td>PRIMARY_MOBILE</td>\n",
       "      <td>CANCELLED</td>\n",
       "      <td>11</td>\n",
       "      <td>0</td>\n",
       "    </tr>\n",
       "    <tr>\n",
       "      <th>14075443</th>\n",
       "      <td>2703451</td>\n",
       "      <td>a55475b1</td>\n",
       "      <td>PRIMARY_MOBILE</td>\n",
       "      <td>ACTIVE</td>\n",
       "      <td>5</td>\n",
       "      <td>0</td>\n",
       "    </tr>\n",
       "    <tr>\n",
       "      <th>14075468</th>\n",
       "      <td>2703453</td>\n",
       "      <td>a55475b1</td>\n",
       "      <td>PRIMARY_MOBILE</td>\n",
       "      <td>ACTIVE</td>\n",
       "      <td>5</td>\n",
       "      <td>0</td>\n",
       "    </tr>\n",
       "  </tbody>\n",
       "</table>\n",
       "<p>342083 rows × 6 columns</p>\n",
       "</div>"
      ],
      "text/plain": [
       "          case_id cacccardblochreas_147M   conts_type_509L  \\\n",
       "71             38                   None    PRIMARY_MOBILE   \n",
       "1520          936                   None             PHONE   \n",
       "1668         1029                   None    PRIMARY_MOBILE   \n",
       "4049         2419                   None        HOME_PHONE   \n",
       "4365         2591                   None    PRIMARY_MOBILE   \n",
       "...           ...                    ...               ...   \n",
       "14075331  2703443               a55475b1        HOME_PHONE   \n",
       "14075409  2703450               a55475b1  EMPLOYMENT_PHONE   \n",
       "14075433  2703450               a55475b1    PRIMARY_MOBILE   \n",
       "14075443  2703451               a55475b1    PRIMARY_MOBILE   \n",
       "14075468  2703453               a55475b1    PRIMARY_MOBILE   \n",
       "\n",
       "         credacc_cards_status_52L  num_group1  num_group2  \n",
       "71                      CANCELLED           0           0  \n",
       "1520                    CANCELLED           1           0  \n",
       "1668                    CANCELLED           0           0  \n",
       "4049                    CANCELLED           0           0  \n",
       "4365                     INACTIVE           1           0  \n",
       "...                           ...         ...         ...  \n",
       "14075331                   ACTIVE           6           0  \n",
       "14075409                 INACTIVE          11           1  \n",
       "14075433                CANCELLED          11           0  \n",
       "14075443                   ACTIVE           5           0  \n",
       "14075468                   ACTIVE           5           0  \n",
       "\n",
       "[342083 rows x 6 columns]"
      ]
     },
     "execution_count": 6,
     "metadata": {},
     "output_type": "execute_result"
    }
   ],
   "source": [
    "## credacc_cards_status_52L 컬럼의 non-null 데이터 확인\n",
    "applprev_2[~applprev_2[\"credacc_cards_status_52L\"].isna()]"
   ]
  },
  {
   "cell_type": "code",
   "execution_count": 16,
   "metadata": {},
   "outputs": [
    {
     "data": {
      "image/png": "[encoded data removed]",
      "text/plain": [
       "<Figure size 1500x1000 with 1 Axes>"
      ]
     },
     "metadata": {},
     "output_type": "display_data"
    }
   ],
   "source": [
    "# 각 Column별 null ratio 도식화\n",
    "plt.figure(figsize=(15, 10))\n",
    "sns.barplot(x='null_ratio', y='col_name', data=info_df(applprev_2), palette='Blues_r')\n",
    "\n",
    "# Set labels and title\n",
    "plt.xlabel('Null Ratio')\n",
    "plt.ylabel('Column Name')\n",
    "plt.title('Null Ratio of Each Variable')\n",
    "plt.xlim((0, 1))\n",
    "plt.show()"
   ]
  },
  {
   "cell_type": "markdown",
   "metadata": {},
   "source": [
    "3\\) Column별로 관찰되는 특징"
   ]
  },
  {
   "cell_type": "markdown",
   "metadata": {},
   "source": [
    "##### (1) <b>case_id</b>\n",
    "&nbsp;&nbsp;&nbsp;- <b>데이터 타입<span style=\"font-size:16px;\">(갯수)</span></b>: int64<span style=\"font-size:16px;\">(14,075,487개)</span><br>\n",
    "&nbsp;&nbsp;&nbsp;- <b>최빈 데이터<span style=\"font-size:16px;\">(갯수)</span></b>: 1246034 & 1390922<span style=\"font-size:16px;\">(79회)</span><br>\n",
    "&nbsp;&nbsp;&nbsp;&nbsp;&nbsp;&nbsp;<span style=\"color:orange;\">→ 신용거래가 잦은 사람과 그렇지 않은 사람의 차이가 있을까?</span><br>\n",
    "&nbsp;&nbsp;&nbsp;- <b>결측치 여부</b>: X<br>\n",
    "&nbsp;&nbsp;&nbsp;- <b>데이터의 분포 형태</b>: kdeplot 그려봤다가 폐기<br>\n",
    "&nbsp;&nbsp;&nbsp;&nbsp;&nbsp;&nbsp;<span style=\"color:orange;\">→ merge 후 다른 옵션과 비교하면 훨씬 해석이 잘 될 것 같음</span><br>\n",
    "&nbsp;&nbsp;&nbsp;- <b>고유 데이터 갯수</b>: 1,221,522명<br>\n",
    "&nbsp;&nbsp;&nbsp;- <b>기타 논의/의문점</b>:<br>\n",
    "&nbsp;&nbsp;&nbsp;&nbsp;&nbsp;&nbsp;① <br>\n",
    "&nbsp;&nbsp;&nbsp;&nbsp;&nbsp;&nbsp;② <br>\n",
    "&nbsp;&nbsp;&nbsp;&nbsp;&nbsp;&nbsp;③ "
   ]
  },
  {
   "cell_type": "code",
   "execution_count": 7,
   "metadata": {},
   "outputs": [
    {
     "data": {
      "text/plain": [
       "(dtype('int64'), 14075487)"
      ]
     },
     "execution_count": 7,
     "metadata": {},
     "output_type": "execute_result"
    }
   ],
   "source": [
    "# 데이터 타입(갯수)\n",
    "x = applprev_2[\"case_id\"]\n",
    "x.dtype, x.count()"
   ]
  },
  {
   "cell_type": "code",
   "execution_count": 8,
   "metadata": {},
   "outputs": [
    {
     "data": {
      "text/plain": [
       "case_id\n",
       "1246034    79\n",
       "1390922    79\n",
       "1344039    78\n",
       "1585694    77\n",
       "2647430    77\n",
       "           ..\n",
       "662100      1\n",
       "662102      1\n",
       "825269      1\n",
       "662114      1\n",
       "599064      1\n",
       "Name: count, Length: 1221522, dtype: int64"
      ]
     },
     "execution_count": 8,
     "metadata": {},
     "output_type": "execute_result"
    }
   ],
   "source": [
    "# 최빈 데이터(갯수)\n",
    "x.value_counts(ascending=False)"
   ]
  },
  {
   "cell_type": "code",
   "execution_count": 9,
   "metadata": {},
   "outputs": [
    {
     "data": {
      "text/plain": [
       "case_id\n",
       "False    14075487\n",
       "Name: count, dtype: int64"
      ]
     },
     "execution_count": 9,
     "metadata": {},
     "output_type": "execute_result"
    }
   ],
   "source": [
    "# 결측치 여부\n",
    "x.isna().value_counts()"
   ]
  },
  {
   "cell_type": "code",
   "execution_count": 10,
   "metadata": {},
   "outputs": [
    {
     "data": {
      "text/plain": [
       "1221522"
      ]
     },
     "execution_count": 10,
     "metadata": {},
     "output_type": "execute_result"
    }
   ],
   "source": [
    "# 고유 데이터 갯수\n",
    "x.nunique()"
   ]
  },
  {
   "cell_type": "markdown",
   "metadata": {},
   "source": [
    "##### (2) <b>cacccardblochreas_147M</b>: 카드 정지 사유<br>\n",
    "&nbsp;&nbsp;&nbsp;- <b>데이터 타입<span style=\"font-size:16px;\">(갯수)</span></b>: object<span style=\"font-size:16px;\">(13,966,238개)</span><br>\n",
    "&nbsp;&nbsp;&nbsp;- <b>최빈 데이터<span style=\"font-size:16px;\">(비율)</span></b>: a55475b1<span style=\"font-size:16px;\">(약 99.9%)</span><br>\n",
    "&nbsp;&nbsp;&nbsp;&nbsp;&nbsp;&nbsp;<span style=\"color:orange;\">→ Masking된 다른 컬럼에도 <b>a55475b1</b>가 매우 자주, 높은 비율로 등장함</span><br>\n",
    "&nbsp;&nbsp;&nbsp;&nbsp;&nbsp;&nbsp;&nbsp;&nbsp;&nbsp;&nbsp;<span style=\"color:orange;\">→ <b>Null</b>, 또는 <b>0</b>을 의미하는 값으로 추정됨</span><br>\n",
    "&nbsp;&nbsp;&nbsp;&nbsp;&nbsp;&nbsp;&nbsp;&nbsp;&nbsp;&nbsp;&nbsp;&nbsp;&nbsp;<span style=\"color:orange;\">→ 저는 이게 nominal이라 <b>Null</b>로 보이긴 합니당...</span><br>\n",
    "&nbsp;&nbsp;&nbsp;- <b>결측치 비율</b>: 약 0.7%<br>\n",
    "&nbsp;&nbsp;&nbsp;&nbsp;&nbsp;&nbsp;<span style=\"color:orange;\">→ 결측치만 따로 빼서 다른 컬럼을 봤는데 <b>별다른 특이점은 못 찾음</b></span><br>\n",
    "&nbsp;&nbsp;&nbsp;&nbsp;&nbsp;&nbsp;<span style=\"color:orange;\">→ 다른 파일 교차 검증 시 <b>이들이 만약 한 번도 카드 정지나 연체를 당하지 않은 사람들</b>임이 드러나면 리스트에서 빼도 되지 않을까?</span><br>\n",
    "&nbsp;&nbsp;&nbsp;- <b>고유 데이터 갯수</b>: 9가지<br>\n",
    "&nbsp;&nbsp;&nbsp;- <b>기타 논의/의문점</b>:<br>\n",
    "&nbsp;&nbsp;&nbsp;&nbsp;&nbsp;&nbsp;① 직불카드 정지의 주요 사유 중 하나가 통장 정지니 <b>a55475b1 외 데이터를 다른 파일에서 좀 살펴 보면 어떨까요?</b><br>\n",
    "&nbsp;&nbsp;&nbsp;&nbsp;&nbsp;&nbsp;&nbsp;&nbsp;&nbsp;&nbsp;&nbsp;&nbsp;<span style=\"color:orange;\">→ 세세하게 따지면야 분실, 도난, 직접 요청 등등 있겠지만 그건 어차피 우리가 알 수 없으니까요</span><br>\n",
    "&nbsp;&nbsp;&nbsp;&nbsp;&nbsp;&nbsp;② 다른 파일에 <b>debit card<span style=\"font-size:16px;\">(직불카드)</span></b>가 나왔으니, 이것도 debit card겠죠?<br>\n",
    "&nbsp;&nbsp;&nbsp;&nbsp;&nbsp;&nbsp;③ "
   ]
  },
  {
   "cell_type": "code",
   "execution_count": 11,
   "metadata": {},
   "outputs": [
    {
     "data": {
      "text/plain": [
       "(dtype('O'), 13966238)"
      ]
     },
     "execution_count": 11,
     "metadata": {},
     "output_type": "execute_result"
    }
   ],
   "source": [
    "# 데이터 타입(갯수)\n",
    "x = applprev_2[\"cacccardblochreas_147M\"]\n",
    "x.dtype, x.count()"
   ]
  },
  {
   "cell_type": "code",
   "execution_count": 12,
   "metadata": {},
   "outputs": [
    {
     "data": {
      "text/plain": [
       "cacccardblochreas_147M\n",
       "a55475b1       0.999442\n",
       "P33_145_161    0.000237\n",
       "P201_63_60     0.000212\n",
       "P19_60_110     0.000081\n",
       "P23_105_103    0.000008\n",
       "P133_119_56    0.000007\n",
       "P41_107_150    0.000007\n",
       "P17_56_144     0.000005\n",
       "P127_74_114    0.000001\n",
       "Name: proportion, dtype: float64"
      ]
     },
     "execution_count": 12,
     "metadata": {},
     "output_type": "execute_result"
    }
   ],
   "source": [
    "# 최빈 데이터(비율)\n",
    "x.value_counts(ascending=False, normalize=True)"
   ]
  },
  {
   "cell_type": "code",
   "execution_count": 13,
   "metadata": {},
   "outputs": [
    {
     "data": {
      "text/plain": [
       "cacccardblochreas_147M\n",
       "False    0.992238\n",
       "True     0.007762\n",
       "Name: proportion, dtype: float64"
      ]
     },
     "execution_count": 13,
     "metadata": {},
     "output_type": "execute_result"
    }
   ],
   "source": [
    "# 결측치 비율\n",
    "x.isna().value_counts(normalize=True)"
   ]
  },
  {
   "cell_type": "code",
   "execution_count": 14,
   "metadata": {},
   "outputs": [
    {
     "data": {
      "text/plain": [
       "24469"
      ]
     },
     "execution_count": 14,
     "metadata": {},
     "output_type": "execute_result"
    }
   ],
   "source": [
    "## 결측치 심층 탐색\n",
    "test = applprev_2[applprev_2[\"cacccardblochreas_147M\"].isnull()]\n",
    "no_block = list(set(list(test.iloc[:, 0].values)))\n",
    "len(no_block)"
   ]
  },
  {
   "cell_type": "code",
   "execution_count": 15,
   "metadata": {},
   "outputs": [
    {
     "data": {
      "text/plain": [
       "9"
      ]
     },
     "execution_count": 15,
     "metadata": {},
     "output_type": "execute_result"
    }
   ],
   "source": [
    "# 고유 데이터 갯수\n",
    "x.nunique()"
   ]
  },
  {
   "cell_type": "markdown",
   "metadata": {},
   "source": [
    "##### (3) <b>conts_type_509L</b>: 이전 대출 신청서에 작성된 고객의 연락수단 정보<br>\n",
    "&nbsp;&nbsp;&nbsp;- <b>데이터 타입<span style=\"font-size:16px;\">(갯수)</span></b>: object<span style=\"font-size:16px;\">(11,681,431개)</span><br>\n",
    "&nbsp;&nbsp;&nbsp;- <b>최빈 데이터<span style=\"font-size:16px;\">(비율)</span></b>: PRIMARY_MOBILE<span style=\"font-size:16px;\">(약 53.8%)</span><br>\n",
    "&nbsp;&nbsp;&nbsp;- <b>결측치 비율</b>: 약 17.0%<br>\n",
    "&nbsp;&nbsp;&nbsp;- <b>고유 데이터 갯수</b>: 9개<br>\n",
    "&nbsp;&nbsp;&nbsp;- <b>기타 논의/의문점</b>:<br>\n",
    "&nbsp;&nbsp;&nbsp;&nbsp;&nbsp;&nbsp;① drop을 쉽게 결정하면 안 되겠지만 아무리 봐도 이건 통째로 drop해도 될 것 같슴다<br>\n",
    "&nbsp;&nbsp;&nbsp;&nbsp;&nbsp;&nbsp;② 연락 수단 없이 application이 제출되었을 리는 없으니... 갱신계약? 단순 null?<br>\n",
    "&nbsp;&nbsp;&nbsp;&nbsp;&nbsp;&nbsp;③ "
   ]
  },
  {
   "cell_type": "code",
   "execution_count": 16,
   "metadata": {},
   "outputs": [
    {
     "data": {
      "text/plain": [
       "(dtype('O'), 11681431)"
      ]
     },
     "execution_count": 16,
     "metadata": {},
     "output_type": "execute_result"
    }
   ],
   "source": [
    "# 데이터 타입(갯수)\n",
    "x = applprev_2[\"conts_type_509L\"]\n",
    "x.dtype, x.count()"
   ]
  },
  {
   "cell_type": "code",
   "execution_count": 17,
   "metadata": {},
   "outputs": [
    {
     "data": {
      "text/plain": [
       "conts_type_509L\n",
       "PRIMARY_MOBILE       5.388369e-01\n",
       "HOME_PHONE           2.116333e-01\n",
       "EMPLOYMENT_PHONE     1.437681e-01\n",
       "PHONE                7.918191e-02\n",
       "PRIMARY_EMAIL        2.201152e-02\n",
       "ALTERNATIVE_PHONE    3.238730e-03\n",
       "SECONDARY_MOBILE     1.327235e-03\n",
       "WHATSAPP             2.140149e-06\n",
       "SKYPE                1.712119e-07\n",
       "Name: proportion, dtype: float64"
      ]
     },
     "execution_count": 17,
     "metadata": {},
     "output_type": "execute_result"
    }
   ],
   "source": [
    "# 최빈 데이터(비율)\n",
    "x.value_counts(ascending=False, normalize=True)"
   ]
  },
  {
   "cell_type": "code",
   "execution_count": 18,
   "metadata": {},
   "outputs": [
    {
     "data": {
      "text/plain": [
       "conts_type_509L\n",
       "False    0.829913\n",
       "True     0.170087\n",
       "Name: proportion, dtype: float64"
      ]
     },
     "execution_count": 18,
     "metadata": {},
     "output_type": "execute_result"
    }
   ],
   "source": [
    "# 결측치 비율\n",
    "x.isna().value_counts(normalize=True)"
   ]
  },
  {
   "cell_type": "code",
   "execution_count": 19,
   "metadata": {},
   "outputs": [
    {
     "data": {
      "text/plain": [
       "9"
      ]
     },
     "execution_count": 19,
     "metadata": {},
     "output_type": "execute_result"
    }
   ],
   "source": [
    "# 고유 데이터 갯수\n",
    "x.nunique()"
   ]
  },
  {
   "cell_type": "markdown",
   "metadata": {},
   "source": [
    "##### (4) <b>credacc_cards_status_52L</b>: 이전 신용 계좌의 카드 상태<br>\n",
    "&nbsp;&nbsp;&nbsp;- <b>데이터 타입<span style=\"font-size:16px;\">(갯수)</span></b>: object<span style=\"font-size:16px;\">(342,083개)</span><br>\n",
    "&nbsp;&nbsp;&nbsp;- <b>최빈 데이터<span style=\"font-size:16px;\">(비율)</span></b>: CANCELLED<span style=\"font-size:16px;\">(약 48.8%)</span><br>\n",
    "&nbsp;&nbsp;&nbsp;- <b>데이터 비율<span style=\"font-size:16px;\">(countplot)</span></b>: 하단 셀 참고<br>\n",
    "&nbsp;&nbsp;&nbsp;- <b>결측치 비율</b>: 약 97.6%<br>\n",
    "&nbsp;&nbsp;&nbsp;- <b>고유 데이터 갯수</b>: 6개<br>\n",
    "&nbsp;&nbsp;&nbsp;- <b>기타 논의/의문점</b>:<br>\n",
    "&nbsp;&nbsp;&nbsp;&nbsp;&nbsp;&nbsp;① 제 생각에 <b>CANCELLED=카드 발급 조건 미달로 발급 신청이 취소됨</b>, <b>BLOCKED=정지</b>로 보입니다. 맞을까요?<br>\n",
    "&nbsp;&nbsp;&nbsp;&nbsp;&nbsp;&nbsp;② BLOCKED인 case_id를 좀 더 살펴 보면 좋겠습니다.<br>\n",
    "&nbsp;&nbsp;&nbsp;&nbsp;&nbsp;&nbsp;③ null이 너무 많으니 아예 drop하는 것도 방법일 듯?"
   ]
  },
  {
   "cell_type": "code",
   "execution_count": 20,
   "metadata": {},
   "outputs": [
    {
     "data": {
      "text/plain": [
       "(dtype('O'), 342083)"
      ]
     },
     "execution_count": 20,
     "metadata": {},
     "output_type": "execute_result"
    }
   ],
   "source": [
    "# 데이터 타입(갯수)\n",
    "x = applprev_2[\"credacc_cards_status_52L\"]\n",
    "x.dtype, x.count()"
   ]
  },
  {
   "cell_type": "code",
   "execution_count": 21,
   "metadata": {},
   "outputs": [
    {
     "data": {
      "text/plain": [
       "credacc_cards_status_52L\n",
       "CANCELLED      0.488276\n",
       "ACTIVE         0.320513\n",
       "INACTIVE       0.184072\n",
       "BLOCKED        0.006133\n",
       "RENEWED        0.000889\n",
       "UNCONFIRMED    0.000117\n",
       "Name: proportion, dtype: float64"
      ]
     },
     "execution_count": 21,
     "metadata": {},
     "output_type": "execute_result"
    }
   ],
   "source": [
    "# 최빈 데이터(비율)\n",
    "x.value_counts(ascending=False, normalize=True)"
   ]
  },
  {
   "cell_type": "code",
   "execution_count": 22,
   "metadata": {},
   "outputs": [
    {
     "data": {
      "text/plain": [
       "<Axes: xlabel='credacc_cards_status_52L', ylabel='count'>"
      ]
     },
     "execution_count": 22,
     "metadata": {},
     "output_type": "execute_result"
    },
    {
     "data": {
      "image/png": "[encoded data removed]",
      "text/plain": [
       "<Figure size 800x500 with 1 Axes>"
      ]
     },
     "metadata": {},
     "output_type": "display_data"
    }
   ],
   "source": [
    "# 데이터 비율(countplot)\n",
    "plt.figure(figsize=(8, 5))\n",
    "sns.countplot(x=x, palette=\"spring\")"
   ]
  },
  {
   "cell_type": "code",
   "execution_count": 23,
   "metadata": {},
   "outputs": [
    {
     "data": {
      "text/plain": [
       "credacc_cards_status_52L\n",
       "True     0.975697\n",
       "False    0.024303\n",
       "Name: proportion, dtype: float64"
      ]
     },
     "execution_count": 23,
     "metadata": {},
     "output_type": "execute_result"
    }
   ],
   "source": [
    "# 결측치 비율\n",
    "x.isna().value_counts(normalize=True)"
   ]
  },
  {
   "cell_type": "code",
   "execution_count": 24,
   "metadata": {},
   "outputs": [
    {
     "data": {
      "text/plain": [
       "6"
      ]
     },
     "execution_count": 24,
     "metadata": {},
     "output_type": "execute_result"
    }
   ],
   "source": [
    "# 고유 데이터 갯수\n",
    "x.nunique()"
   ]
  },
  {
   "cell_type": "markdown",
   "metadata": {},
   "source": [
    "#### 02\\. credit_bureau_b_2<br>"
   ]
  },
  {
   "cell_type": "markdown",
   "metadata": {},
   "source": [
    "&nbsp;&nbsp;1\\) Column별 내용<span style=\"font-size:16px;\">(추정)</span><br>\n",
    "&nbsp;(1) <b>pmts_date_1107D</b>: 개인신용평가기관<span style=\"font-size:16px;\">(CB)</span>에 따른 활성 계약의 결제일(num_group1 - contract, num_group2 - payment)<span style=\"font-size:16px\" title=\"Payment date for an active contract according to credit bureau (num_group1 - contract, num_group2 - payment)\">(원문)</span><br>\n",
    "&nbsp;(2) <b>pmts_dpdvalue_108P</b>: 활성 계약에 대한 연체 금액(num_group1 - existing contract, num_group2 - payment)<span style=\"font-size:16px\" title=\"Value of past due payment for active contract\">(원문)</span><br>\n",
    "&nbsp;(3) <b>pmts_pmtsoverdue_635A</b>: 연체가 존재하는 활성 계약<span style=\"font-size:16px\" title=\"Active contract that has overdue payments (num_group1 - existing contract, num_group2 - payment)\">(원문)</span>"
   ]
  },
  {
   "cell_type": "code",
   "execution_count": 25,
   "metadata": {},
   "outputs": [
    {
     "data": {
      "text/html": [
       "<div>\n",
       "<style scoped>\n",
       "    .dataframe tbody tr th:only-of-type {\n",
       "        vertical-align: middle;\n",
       "    }\n",
       "\n",
       "    .dataframe tbody tr th {\n",
       "        vertical-align: top;\n",
       "    }\n",
       "\n",
       "    .dataframe thead th {\n",
       "        text-align: right;\n",
       "    }\n",
       "</style>\n",
       "<table border=\"1\" class=\"dataframe\">\n",
       "  <thead>\n",
       "    <tr style=\"text-align: right;\">\n",
       "      <th></th>\n",
       "      <th>case_id</th>\n",
       "      <th>num_group1</th>\n",
       "      <th>num_group2</th>\n",
       "      <th>pmts_date_1107D</th>\n",
       "      <th>pmts_dpdvalue_108P</th>\n",
       "      <th>pmts_pmtsoverdue_635A</th>\n",
       "    </tr>\n",
       "  </thead>\n",
       "  <tbody>\n",
       "    <tr>\n",
       "      <th>0</th>\n",
       "      <td>467</td>\n",
       "      <td>2</td>\n",
       "      <td>19</td>\n",
       "      <td>2018-05-15</td>\n",
       "      <td>0.0</td>\n",
       "      <td>0.0</td>\n",
       "    </tr>\n",
       "    <tr>\n",
       "      <th>1</th>\n",
       "      <td>467</td>\n",
       "      <td>2</td>\n",
       "      <td>25</td>\n",
       "      <td>2018-11-15</td>\n",
       "      <td>0.0</td>\n",
       "      <td>0.0</td>\n",
       "    </tr>\n",
       "    <tr>\n",
       "      <th>2</th>\n",
       "      <td>467</td>\n",
       "      <td>2</td>\n",
       "      <td>18</td>\n",
       "      <td>2018-04-15</td>\n",
       "      <td>0.0</td>\n",
       "      <td>0.0</td>\n",
       "    </tr>\n",
       "    <tr>\n",
       "      <th>3</th>\n",
       "      <td>467</td>\n",
       "      <td>2</td>\n",
       "      <td>0</td>\n",
       "      <td>2016-10-15</td>\n",
       "      <td>0.0</td>\n",
       "      <td>0.0</td>\n",
       "    </tr>\n",
       "    <tr>\n",
       "      <th>4</th>\n",
       "      <td>467</td>\n",
       "      <td>2</td>\n",
       "      <td>6</td>\n",
       "      <td>2017-04-15</td>\n",
       "      <td>0.0</td>\n",
       "      <td>0.0</td>\n",
       "    </tr>\n",
       "    <tr>\n",
       "      <th>...</th>\n",
       "      <td>...</td>\n",
       "      <td>...</td>\n",
       "      <td>...</td>\n",
       "      <td>...</td>\n",
       "      <td>...</td>\n",
       "      <td>...</td>\n",
       "    </tr>\n",
       "    <tr>\n",
       "      <th>1286750</th>\n",
       "      <td>2703436</td>\n",
       "      <td>0</td>\n",
       "      <td>10</td>\n",
       "      <td>2019-02-15</td>\n",
       "      <td>0.0</td>\n",
       "      <td>0.0</td>\n",
       "    </tr>\n",
       "    <tr>\n",
       "      <th>1286751</th>\n",
       "      <td>2703436</td>\n",
       "      <td>1</td>\n",
       "      <td>28</td>\n",
       "      <td>2020-02-15</td>\n",
       "      <td>0.0</td>\n",
       "      <td>0.0</td>\n",
       "    </tr>\n",
       "    <tr>\n",
       "      <th>1286752</th>\n",
       "      <td>2703436</td>\n",
       "      <td>0</td>\n",
       "      <td>6</td>\n",
       "      <td>2018-10-15</td>\n",
       "      <td>0.0</td>\n",
       "      <td>0.0</td>\n",
       "    </tr>\n",
       "    <tr>\n",
       "      <th>1286753</th>\n",
       "      <td>2703436</td>\n",
       "      <td>1</td>\n",
       "      <td>21</td>\n",
       "      <td>2019-07-15</td>\n",
       "      <td>0.0</td>\n",
       "      <td>0.0</td>\n",
       "    </tr>\n",
       "    <tr>\n",
       "      <th>1286754</th>\n",
       "      <td>2703436</td>\n",
       "      <td>1</td>\n",
       "      <td>6</td>\n",
       "      <td>2018-04-15</td>\n",
       "      <td>0.0</td>\n",
       "      <td>0.0</td>\n",
       "    </tr>\n",
       "  </tbody>\n",
       "</table>\n",
       "<p>1286755 rows × 6 columns</p>\n",
       "</div>"
      ],
      "text/plain": [
       "         case_id  num_group1  num_group2 pmts_date_1107D  pmts_dpdvalue_108P  \\\n",
       "0            467           2          19      2018-05-15                 0.0   \n",
       "1            467           2          25      2018-11-15                 0.0   \n",
       "2            467           2          18      2018-04-15                 0.0   \n",
       "3            467           2           0      2016-10-15                 0.0   \n",
       "4            467           2           6      2017-04-15                 0.0   \n",
       "...          ...         ...         ...             ...                 ...   \n",
       "1286750  2703436           0          10      2019-02-15                 0.0   \n",
       "1286751  2703436           1          28      2020-02-15                 0.0   \n",
       "1286752  2703436           0           6      2018-10-15                 0.0   \n",
       "1286753  2703436           1          21      2019-07-15                 0.0   \n",
       "1286754  2703436           1           6      2018-04-15                 0.0   \n",
       "\n",
       "         pmts_pmtsoverdue_635A  \n",
       "0                          0.0  \n",
       "1                          0.0  \n",
       "2                          0.0  \n",
       "3                          0.0  \n",
       "4                          0.0  \n",
       "...                        ...  \n",
       "1286750                    0.0  \n",
       "1286751                    0.0  \n",
       "1286752                    0.0  \n",
       "1286753                    0.0  \n",
       "1286754                    0.0  \n",
       "\n",
       "[1286755 rows x 6 columns]"
      ]
     },
     "execution_count": 25,
     "metadata": {},
     "output_type": "execute_result"
    }
   ],
   "source": [
    "credit_bureau_b_2 = pd.read_parquet(\"Datas/parquet_files/train/train_credit_bureau_b_2.parquet\")\n",
    "credit_bureau_b_2"
   ]
  },
  {
   "cell_type": "markdown",
   "metadata": {},
   "source": [
    "&nbsp;&nbsp;2\\) 파일 전체에서 관찰되는 특징 및 논의점<br>\n",
    "&nbsp;(1) D, P, A 컬럼은 각각 날짜, 연체일수, 양이 transform된 것<br>\n",
    "&nbsp;(2) pmts_dpdvalue_108P, pmts_pmtsoverdue_635A 컬럼은 동일한 null을 공유함<span style=\"font-size:16px;\">(하단 셀 참조)</span><br>\n",
    "&nbsp;&nbsp;&nbsp;&nbsp;&nbsp;&nbsp;<span style=\"color:orange;\">→ 이유가 있을까?</span><br>\n",
    "&nbsp;(3) 다른 파일에 비해서 null data 비율이 매우 낮은 편임<br>\n",
    "&nbsp;&nbsp;&nbsp;&nbsp;&nbsp;&nbsp;<span style=\"color:orange;\">→ 이것도 유의미한 해석 가치가 있을까?</span>"
   ]
  },
  {
   "cell_type": "code",
   "execution_count": 26,
   "metadata": {},
   "outputs": [
    {
     "name": "stdout",
     "output_type": "stream",
     "text": [
      "<class 'pandas.core.frame.DataFrame'>\n",
      "RangeIndex: 1286755 entries, 0 to 1286754\n",
      "Data columns (total 6 columns):\n",
      " #   Column                 Non-Null Count    Dtype  \n",
      "---  ------                 --------------    -----  \n",
      " 0   case_id                1286755 non-null  int64  \n",
      " 1   num_group1             1286755 non-null  int64  \n",
      " 2   num_group2             1286755 non-null  int64  \n",
      " 3   pmts_date_1107D        1286755 non-null  object \n",
      " 4   pmts_dpdvalue_108P     1281394 non-null  float64\n",
      " 5   pmts_pmtsoverdue_635A  1281394 non-null  float64\n",
      "dtypes: float64(2), int64(3), object(1)\n",
      "memory usage: 131.3 MB\n"
     ]
    }
   ],
   "source": [
    "credit_bureau_b_2.info(memory_usage=\"deep\", show_counts=True)"
   ]
  },
  {
   "cell_type": "code",
   "execution_count": 27,
   "metadata": {},
   "outputs": [
    {
     "data": {
      "text/html": [
       "<div>\n",
       "<style scoped>\n",
       "    .dataframe tbody tr th:only-of-type {\n",
       "        vertical-align: middle;\n",
       "    }\n",
       "\n",
       "    .dataframe tbody tr th {\n",
       "        vertical-align: top;\n",
       "    }\n",
       "\n",
       "    .dataframe thead th {\n",
       "        text-align: right;\n",
       "    }\n",
       "</style>\n",
       "<table border=\"1\" class=\"dataframe\">\n",
       "  <thead>\n",
       "    <tr style=\"text-align: right;\">\n",
       "      <th></th>\n",
       "      <th>case_id</th>\n",
       "      <th>num_group1</th>\n",
       "      <th>num_group2</th>\n",
       "      <th>pmts_date_1107D</th>\n",
       "      <th>pmts_dpdvalue_108P</th>\n",
       "      <th>pmts_pmtsoverdue_635A</th>\n",
       "    </tr>\n",
       "  </thead>\n",
       "  <tbody>\n",
       "    <tr>\n",
       "      <th>13</th>\n",
       "      <td>467</td>\n",
       "      <td>1</td>\n",
       "      <td>0</td>\n",
       "      <td>2018-12-15</td>\n",
       "      <td>NaN</td>\n",
       "      <td>NaN</td>\n",
       "    </tr>\n",
       "    <tr>\n",
       "      <th>28</th>\n",
       "      <td>467</td>\n",
       "      <td>0</td>\n",
       "      <td>1</td>\n",
       "      <td>2018-12-15</td>\n",
       "      <td>NaN</td>\n",
       "      <td>NaN</td>\n",
       "    </tr>\n",
       "    <tr>\n",
       "      <th>29</th>\n",
       "      <td>467</td>\n",
       "      <td>0</td>\n",
       "      <td>0</td>\n",
       "      <td>2018-11-15</td>\n",
       "      <td>NaN</td>\n",
       "      <td>NaN</td>\n",
       "    </tr>\n",
       "    <tr>\n",
       "      <th>60</th>\n",
       "      <td>1445</td>\n",
       "      <td>1</td>\n",
       "      <td>0</td>\n",
       "      <td>2018-11-15</td>\n",
       "      <td>NaN</td>\n",
       "      <td>NaN</td>\n",
       "    </tr>\n",
       "    <tr>\n",
       "      <th>96</th>\n",
       "      <td>1445</td>\n",
       "      <td>1</td>\n",
       "      <td>1</td>\n",
       "      <td>2018-12-15</td>\n",
       "      <td>NaN</td>\n",
       "      <td>NaN</td>\n",
       "    </tr>\n",
       "    <tr>\n",
       "      <th>...</th>\n",
       "      <td>...</td>\n",
       "      <td>...</td>\n",
       "      <td>...</td>\n",
       "      <td>...</td>\n",
       "      <td>...</td>\n",
       "      <td>...</td>\n",
       "    </tr>\n",
       "    <tr>\n",
       "      <th>1279192</th>\n",
       "      <td>2603807</td>\n",
       "      <td>0</td>\n",
       "      <td>30</td>\n",
       "      <td>2019-02-15</td>\n",
       "      <td>NaN</td>\n",
       "      <td>NaN</td>\n",
       "    </tr>\n",
       "    <tr>\n",
       "      <th>1279193</th>\n",
       "      <td>2603807</td>\n",
       "      <td>0</td>\n",
       "      <td>28</td>\n",
       "      <td>2018-12-15</td>\n",
       "      <td>NaN</td>\n",
       "      <td>NaN</td>\n",
       "    </tr>\n",
       "    <tr>\n",
       "      <th>1279196</th>\n",
       "      <td>2603807</td>\n",
       "      <td>0</td>\n",
       "      <td>33</td>\n",
       "      <td>2019-05-15</td>\n",
       "      <td>NaN</td>\n",
       "      <td>NaN</td>\n",
       "    </tr>\n",
       "    <tr>\n",
       "      <th>1279197</th>\n",
       "      <td>2603807</td>\n",
       "      <td>0</td>\n",
       "      <td>27</td>\n",
       "      <td>2018-11-15</td>\n",
       "      <td>NaN</td>\n",
       "      <td>NaN</td>\n",
       "    </tr>\n",
       "    <tr>\n",
       "      <th>1279201</th>\n",
       "      <td>2603807</td>\n",
       "      <td>0</td>\n",
       "      <td>31</td>\n",
       "      <td>2019-03-15</td>\n",
       "      <td>NaN</td>\n",
       "      <td>NaN</td>\n",
       "    </tr>\n",
       "  </tbody>\n",
       "</table>\n",
       "<p>5361 rows × 6 columns</p>\n",
       "</div>"
      ],
      "text/plain": [
       "         case_id  num_group1  num_group2 pmts_date_1107D  pmts_dpdvalue_108P  \\\n",
       "13           467           1           0      2018-12-15                 NaN   \n",
       "28           467           0           1      2018-12-15                 NaN   \n",
       "29           467           0           0      2018-11-15                 NaN   \n",
       "60          1445           1           0      2018-11-15                 NaN   \n",
       "96          1445           1           1      2018-12-15                 NaN   \n",
       "...          ...         ...         ...             ...                 ...   \n",
       "1279192  2603807           0          30      2019-02-15                 NaN   \n",
       "1279193  2603807           0          28      2018-12-15                 NaN   \n",
       "1279196  2603807           0          33      2019-05-15                 NaN   \n",
       "1279197  2603807           0          27      2018-11-15                 NaN   \n",
       "1279201  2603807           0          31      2019-03-15                 NaN   \n",
       "\n",
       "         pmts_pmtsoverdue_635A  \n",
       "13                         NaN  \n",
       "28                         NaN  \n",
       "29                         NaN  \n",
       "60                         NaN  \n",
       "96                         NaN  \n",
       "...                        ...  \n",
       "1279192                    NaN  \n",
       "1279193                    NaN  \n",
       "1279196                    NaN  \n",
       "1279197                    NaN  \n",
       "1279201                    NaN  \n",
       "\n",
       "[5361 rows x 6 columns]"
      ]
     },
     "execution_count": 27,
     "metadata": {},
     "output_type": "execute_result"
    }
   ],
   "source": [
    "# pmts_dpdvalue_108P, pmts_pmtsoverdue_635A 컬럼의 공통점\n",
    "credit_bureau_b_2[credit_bureau_b_2[\"pmts_dpdvalue_108P\"].isna()]"
   ]
  },
  {
   "cell_type": "markdown",
   "metadata": {},
   "source": [
    "3\\) Column별로 관찰되는 특징"
   ]
  },
  {
   "cell_type": "markdown",
   "metadata": {},
   "source": [
    "##### (1) <b>case_id</b>\n",
    "&nbsp;&nbsp;&nbsp;- <b>데이터 타입<span style=\"font-size:16px;\">(갯수)</span></b>: int64<span style=\"font-size:16px;\">(1,286,755개)</span><br>\n",
    "&nbsp;&nbsp;&nbsp;- <b>최빈 데이터<span style=\"font-size:16px;\">(갯수)</span></b>: 1828337<span style=\"font-size:16px;\">(301회)</span><br>\n",
    "&nbsp;&nbsp;&nbsp;- <b>결측치 여부</b>: X<br>\n",
    "&nbsp;&nbsp;&nbsp;- <b>고유 데이터 갯수</b>: 36,447명<br>\n",
    "&nbsp;&nbsp;&nbsp;- <b>기타 논의/의문점</b>:<br>\n",
    "&nbsp;&nbsp;&nbsp;&nbsp;&nbsp;&nbsp;① <br>\n",
    "&nbsp;&nbsp;&nbsp;&nbsp;&nbsp;&nbsp;② <br>\n",
    "&nbsp;&nbsp;&nbsp;&nbsp;&nbsp;&nbsp;③ "
   ]
  },
  {
   "cell_type": "code",
   "execution_count": 28,
   "metadata": {},
   "outputs": [
    {
     "data": {
      "text/plain": [
       "(dtype('int64'), 1286755)"
      ]
     },
     "execution_count": 28,
     "metadata": {},
     "output_type": "execute_result"
    }
   ],
   "source": [
    "# 데이터 타입(갯수)\n",
    "x = credit_bureau_b_2[\"case_id\"]\n",
    "x.dtype, x.count()"
   ]
  },
  {
   "cell_type": "code",
   "execution_count": 29,
   "metadata": {},
   "outputs": [
    {
     "data": {
      "text/plain": [
       "case_id\n",
       "1828337    301\n",
       "938117     297\n",
       "1690585    243\n",
       "1394674    242\n",
       "1027034    241\n",
       "          ... \n",
       "180774       1\n",
       "254194       1\n",
       "945117       1\n",
       "1611338      1\n",
       "957339       1\n",
       "Name: count, Length: 36447, dtype: int64"
      ]
     },
     "execution_count": 29,
     "metadata": {},
     "output_type": "execute_result"
    }
   ],
   "source": [
    "# 최빈 데이터(갯수)\n",
    "x.value_counts(ascending=False)"
   ]
  },
  {
   "cell_type": "code",
   "execution_count": 30,
   "metadata": {},
   "outputs": [
    {
     "data": {
      "text/plain": [
       "case_id\n",
       "False    1286755\n",
       "Name: count, dtype: int64"
      ]
     },
     "execution_count": 30,
     "metadata": {},
     "output_type": "execute_result"
    }
   ],
   "source": [
    "# 결측치 여부\n",
    "x.isna().value_counts()"
   ]
  },
  {
   "cell_type": "code",
   "execution_count": 31,
   "metadata": {},
   "outputs": [
    {
     "data": {
      "text/plain": [
       "36447"
      ]
     },
     "execution_count": 31,
     "metadata": {},
     "output_type": "execute_result"
    }
   ],
   "source": [
    "# 고유 데이터 갯수\n",
    "x.nunique()"
   ]
  },
  {
   "cell_type": "markdown",
   "metadata": {},
   "source": [
    "##### (2) <b>pmts_date_1107D</b>: 개인신용평가기관<span style=\"font-size:16px;\">(CB)</span>에 따른 활성 계약의 결제일(num_group1 - contract, num_group2 - payment)<br>\n",
    "&nbsp;&nbsp;&nbsp;- <b>데이터 타입<span style=\"font-size:16px;\">(갯수)</span></b>: object<span style=\"font-size:16px;\">(1,286,755개)</span><br>\n",
    "&nbsp;&nbsp;&nbsp;- <b>데이터 분포<span style=\"font-size:16px;\">(datetime64로 변환 후 분석)</span></b>: 2016년부터 조금씩 우상향하다가 2019년 4월경부터 쭉 급감<span style=\"font-size:16px;\">(하단 셀 참고)</span><br>\n",
    "&nbsp;&nbsp;&nbsp;&nbsp;&nbsp;&nbsp;<span style=\"color:orange;\">→ 매달 15일이 정기 결제일로 보임</span><br>\n",
    "&nbsp;&nbsp;&nbsp;- <b>결측치 여부</b>: X<br>\n",
    "&nbsp;&nbsp;&nbsp;- <b>기타 논의/의문점</b>:<br>\n",
    "&nbsp;&nbsp;&nbsp;&nbsp;&nbsp;&nbsp;① 2019년 4월경부터 쭉 데이터가 줄어드는데 이것이 무엇 때문일까?<br>\n",
    "&nbsp;&nbsp;&nbsp;&nbsp;&nbsp;&nbsp;② <br>\n",
    "&nbsp;&nbsp;&nbsp;&nbsp;&nbsp;&nbsp;③ "
   ]
  },
  {
   "cell_type": "code",
   "execution_count": 32,
   "metadata": {},
   "outputs": [
    {
     "data": {
      "text/plain": [
       "(dtype('O'), 1286755)"
      ]
     },
     "execution_count": 32,
     "metadata": {},
     "output_type": "execute_result"
    }
   ],
   "source": [
    "# 데이터 타입(갯수)\n",
    "x = credit_bureau_b_2[\"pmts_date_1107D\"]\n",
    "x.dtype, x.count()"
   ]
  },
  {
   "cell_type": "code",
   "execution_count": 33,
   "metadata": {},
   "outputs": [
    {
     "data": {
      "text/plain": [
       "<Axes: xlabel='pmts_date_1107D', ylabel='Count'>"
      ]
     },
     "execution_count": 33,
     "metadata": {},
     "output_type": "execute_result"
    },
    {
     "data": {
      "image/png": "[encoded data removed]",
      "text/plain": [
       "<Figure size 2000x700 with 1 Axes>"
      ]
     },
     "metadata": {},
     "output_type": "display_data"
    }
   ],
   "source": [
    "# 데이터 분포(datetime64로 변환 후 분석)\n",
    "x_dt = pd.to_datetime(x)\n",
    "x_dt = x_dt.sort_values()\n",
    "x_dt\n",
    "\n",
    "plt.figure(figsize=(20, 7))\n",
    "sns.histplot(data=x_dt, binwidth=30)"
   ]
  },
  {
   "cell_type": "code",
   "execution_count": 34,
   "metadata": {},
   "outputs": [
    {
     "data": {
      "text/plain": [
       "pmts_date_1107D\n",
       "False    1286755\n",
       "Name: count, dtype: int64"
      ]
     },
     "execution_count": 34,
     "metadata": {},
     "output_type": "execute_result"
    }
   ],
   "source": [
    "# 결측치 여부\n",
    "x.isna().value_counts()"
   ]
  },
  {
   "cell_type": "markdown",
   "metadata": {},
   "source": [
    "##### (3) <b>pmts_dpdvalue_108P</b>: 활성 계약에 대한 연체 금액(num_group1 - existing contract, num_group2 - payment)<br>\n",
    "&nbsp;&nbsp;&nbsp;- <b>데이터 타입<span style=\"font-size:16px;\">(갯수)</span></b>: float64<span style=\"font-size:16px;\">(1,281,394개)</span><br>\n",
    "&nbsp;&nbsp;&nbsp;- <b>최빈 데이터<span style=\"font-size:16px;\">(비율)</span></b>: 0.0<span style=\"font-size:16px;\">(약 88.7%)</span><br>\n",
    "&nbsp;&nbsp;&nbsp;- <b>결측치 비율</b>: 약 0.4%<br>\n",
    "&nbsp;&nbsp;&nbsp;&nbsp;&nbsp;&nbsp;<span style=\"color:orange;\">→ 단순 null?</span><br>\n",
    "&nbsp;&nbsp;&nbsp;- <b>기타 논의/의문점</b>:<br>\n",
    "&nbsp;&nbsp;&nbsp;&nbsp;&nbsp;&nbsp;① 고액 연체자들의 특징에는 어떤 게 있을까?<br>\n",
    "&nbsp;&nbsp;&nbsp;&nbsp;&nbsp;&nbsp;&nbsp;&nbsp;&nbsp;&nbsp;&nbsp;<span style=\"color:orange;\">→ 얼마를 기준으로 <b>고액 연체자</b>라고 정의하면 좋을까요?</span><br>\n",
    "&nbsp;&nbsp;&nbsp;&nbsp;&nbsp;&nbsp;② <br>\n",
    "&nbsp;&nbsp;&nbsp;&nbsp;&nbsp;&nbsp;③ <br>"
   ]
  },
  {
   "cell_type": "code",
   "execution_count": 35,
   "metadata": {},
   "outputs": [
    {
     "data": {
      "text/plain": [
       "(dtype('float64'), 1281394)"
      ]
     },
     "execution_count": 35,
     "metadata": {},
     "output_type": "execute_result"
    }
   ],
   "source": [
    "# 데이터 타입(갯수)\n",
    "x = credit_bureau_b_2[\"pmts_dpdvalue_108P\"]\n",
    "x.dtype, x.count()"
   ]
  },
  {
   "cell_type": "code",
   "execution_count": 36,
   "metadata": {},
   "outputs": [
    {
     "data": {
      "text/plain": [
       "pmts_dpdvalue_108P\n",
       "0.0         8.873399e-01\n",
       "4500.0      3.262072e-04\n",
       "13500.0     2.481672e-04\n",
       "9000.0      2.411436e-04\n",
       "1.0         2.239748e-04\n",
       "                ...     \n",
       "108415.0    7.804001e-07\n",
       "79500.0     7.804001e-07\n",
       "29073.0     7.804001e-07\n",
       "30851.0     7.804001e-07\n",
       "128426.0    7.804001e-07\n",
       "Name: proportion, Length: 62861, dtype: float64"
      ]
     },
     "execution_count": 36,
     "metadata": {},
     "output_type": "execute_result"
    }
   ],
   "source": [
    "# 최빈 데이터(비율)\n",
    "x.value_counts(ascending=False, normalize=True)"
   ]
  },
  {
   "cell_type": "code",
   "execution_count": 37,
   "metadata": {},
   "outputs": [
    {
     "data": {
      "text/plain": [
       "pmts_dpdvalue_108P\n",
       "False    0.995834\n",
       "True     0.004166\n",
       "Name: proportion, dtype: float64"
      ]
     },
     "execution_count": 37,
     "metadata": {},
     "output_type": "execute_result"
    }
   ],
   "source": [
    "# 결측치 비율\n",
    "x.isna().value_counts(normalize=True)"
   ]
  },
  {
   "cell_type": "markdown",
   "metadata": {},
   "source": [
    "##### (4) <b>pmts_pmtsoverdue_635A</b>: 연체가 존재하는 활성 계약<br>\n",
    "&nbsp;&nbsp;&nbsp;- <b>데이터 타입 및 갯수</b>: float64<span style=\"font-size:16px;\">(1,281,394개)</span><br>\n",
    "&nbsp;&nbsp;&nbsp;- <b>최빈 데이터 및 비율</b>: 0.0<span style=\"font-size:16px;\">(약 88.7%)</span><br>\n",
    "&nbsp;&nbsp;&nbsp;- <b>결측치 비율</b>: 0.4%<br>\n",
    "&nbsp;&nbsp;&nbsp;- <b>기타 논의/의문점</b>:<br>\n",
    "&nbsp;&nbsp;&nbsp;&nbsp;&nbsp;&nbsp;① <b>pmts_dpdvalue_108P</b>와 무슨 차이가 있는 것일까요...?<br>\n",
    "&nbsp;&nbsp;&nbsp;&nbsp;&nbsp;&nbsp;② 이 값이 0이면 무연체자로 볼 수 있을 듯한데 <b>null이면 뭐라고 해석하면 좋을까요?</b><br>\n",
    "&nbsp;&nbsp;&nbsp;&nbsp;&nbsp;&nbsp;③ "
   ]
  },
  {
   "cell_type": "code",
   "execution_count": 38,
   "metadata": {},
   "outputs": [
    {
     "data": {
      "text/plain": [
       "(dtype('float64'), 1281394)"
      ]
     },
     "execution_count": 38,
     "metadata": {},
     "output_type": "execute_result"
    }
   ],
   "source": [
    "# 데이터 타입 & 갯수\n",
    "x = credit_bureau_b_2[\"pmts_pmtsoverdue_635A\"]\n",
    "x.dtype, x.count()"
   ]
  },
  {
   "cell_type": "code",
   "execution_count": 39,
   "metadata": {},
   "outputs": [
    {
     "data": {
      "text/plain": [
       "pmts_pmtsoverdue_635A\n",
       "0.00000      8.872447e-01\n",
       "0.20000      1.124010e-02\n",
       "0.40000      4.193870e-03\n",
       "0.80000      4.012817e-03\n",
       "0.60000      3.649931e-03\n",
       "                 ...     \n",
       "474.60000    7.804001e-07\n",
       "511.00000    7.804001e-07\n",
       "737.80000    7.804001e-07\n",
       "788.60004    7.804001e-07\n",
       "674.00000    7.804001e-07\n",
       "Name: proportion, Length: 4163, dtype: float64"
      ]
     },
     "execution_count": 39,
     "metadata": {},
     "output_type": "execute_result"
    }
   ],
   "source": [
    "# 최빈 데이터 및 해당 데이터의 비율\n",
    "x.value_counts(ascending=False, normalize=True)"
   ]
  },
  {
   "cell_type": "code",
   "execution_count": 40,
   "metadata": {},
   "outputs": [
    {
     "data": {
      "text/plain": [
       "pmts_pmtsoverdue_635A\n",
       "False    0.995834\n",
       "True     0.004166\n",
       "Name: proportion, dtype: float64"
      ]
     },
     "execution_count": 40,
     "metadata": {},
     "output_type": "execute_result"
    }
   ],
   "source": [
    "# 결측치 여부\n",
    "x.isna().value_counts(normalize=True)"
   ]
  },
  {
   "cell_type": "markdown",
   "metadata": {},
   "source": [
    "#### 03\\. debitcard_1<br>"
   ]
  },
  {
   "cell_type": "markdown",
   "metadata": {},
   "source": [
    "&nbsp;&nbsp;1\\) Column별 내용<span style=\"font-size:16px;\">(추정)</span><br>\n",
    "&nbsp;(1) <b>last180dayaveragebalance_704A</b>: 최근 180일 동안 직불카드의 평균 잔액<span style=\"font-size:16px\" title=\"Average balance on debit card in the last 180 days\">(원문)</span><br>\n",
    "&nbsp;(2) <b>last180dayturnover_1134A</b>: 최근 180일 동안 직불카드의 평균 출금액<span style=\"font-size:16px\" title=\"Debit card's turnover within the last 180 days\">(원문)</span><br>\n",
    "&nbsp;(3) <b>last30dayturnover_651A</b>: 최근 30일 동안 직불카드의 평균 출금액<span style=\"font-size:16px\" title=\"Debit card turnover for the last 30 days\">(원문)</span><br>\n",
    "&nbsp;(4) <b>openingdate_857D</b>: 직불 카드 최초 발급일<span style=\"font-size:16px\" title=\"Debit card opening date\">(원문)</span>"
   ]
  },
  {
   "cell_type": "code",
   "execution_count": 41,
   "metadata": {},
   "outputs": [
    {
     "data": {
      "text/html": [
       "<div>\n",
       "<style scoped>\n",
       "    .dataframe tbody tr th:only-of-type {\n",
       "        vertical-align: middle;\n",
       "    }\n",
       "\n",
       "    .dataframe tbody tr th {\n",
       "        vertical-align: top;\n",
       "    }\n",
       "\n",
       "    .dataframe thead th {\n",
       "        text-align: right;\n",
       "    }\n",
       "</style>\n",
       "<table border=\"1\" class=\"dataframe\">\n",
       "  <thead>\n",
       "    <tr style=\"text-align: right;\">\n",
       "      <th></th>\n",
       "      <th>case_id</th>\n",
       "      <th>last180dayaveragebalance_704A</th>\n",
       "      <th>last180dayturnover_1134A</th>\n",
       "      <th>last30dayturnover_651A</th>\n",
       "      <th>num_group1</th>\n",
       "      <th>openingdate_857D</th>\n",
       "    </tr>\n",
       "  </thead>\n",
       "  <tbody>\n",
       "    <tr>\n",
       "      <th>0</th>\n",
       "      <td>225</td>\n",
       "      <td>NaN</td>\n",
       "      <td>NaN</td>\n",
       "      <td>NaN</td>\n",
       "      <td>0</td>\n",
       "      <td>2016-08-16</td>\n",
       "    </tr>\n",
       "    <tr>\n",
       "      <th>1</th>\n",
       "      <td>331</td>\n",
       "      <td>NaN</td>\n",
       "      <td>NaN</td>\n",
       "      <td>NaN</td>\n",
       "      <td>0</td>\n",
       "      <td>2015-03-19</td>\n",
       "    </tr>\n",
       "    <tr>\n",
       "      <th>2</th>\n",
       "      <td>358</td>\n",
       "      <td>NaN</td>\n",
       "      <td>NaN</td>\n",
       "      <td>NaN</td>\n",
       "      <td>0</td>\n",
       "      <td>2014-09-02</td>\n",
       "    </tr>\n",
       "    <tr>\n",
       "      <th>3</th>\n",
       "      <td>390</td>\n",
       "      <td>NaN</td>\n",
       "      <td>NaN</td>\n",
       "      <td>NaN</td>\n",
       "      <td>0</td>\n",
       "      <td>2014-07-23</td>\n",
       "    </tr>\n",
       "    <tr>\n",
       "      <th>4</th>\n",
       "      <td>390</td>\n",
       "      <td>NaN</td>\n",
       "      <td>NaN</td>\n",
       "      <td>NaN</td>\n",
       "      <td>2</td>\n",
       "      <td>2016-06-08</td>\n",
       "    </tr>\n",
       "    <tr>\n",
       "      <th>...</th>\n",
       "      <td>...</td>\n",
       "      <td>...</td>\n",
       "      <td>...</td>\n",
       "      <td>...</td>\n",
       "      <td>...</td>\n",
       "      <td>...</td>\n",
       "    </tr>\n",
       "    <tr>\n",
       "      <th>157297</th>\n",
       "      <td>2703430</td>\n",
       "      <td>NaN</td>\n",
       "      <td>NaN</td>\n",
       "      <td>NaN</td>\n",
       "      <td>8</td>\n",
       "      <td>2016-11-26</td>\n",
       "    </tr>\n",
       "    <tr>\n",
       "      <th>157298</th>\n",
       "      <td>2703430</td>\n",
       "      <td>NaN</td>\n",
       "      <td>NaN</td>\n",
       "      <td>NaN</td>\n",
       "      <td>2</td>\n",
       "      <td>2014-02-14</td>\n",
       "    </tr>\n",
       "    <tr>\n",
       "      <th>157299</th>\n",
       "      <td>2703439</td>\n",
       "      <td>NaN</td>\n",
       "      <td>NaN</td>\n",
       "      <td>NaN</td>\n",
       "      <td>0</td>\n",
       "      <td>2016-11-25</td>\n",
       "    </tr>\n",
       "    <tr>\n",
       "      <th>157300</th>\n",
       "      <td>2703453</td>\n",
       "      <td>NaN</td>\n",
       "      <td>NaN</td>\n",
       "      <td>NaN</td>\n",
       "      <td>1</td>\n",
       "      <td>2015-05-29</td>\n",
       "    </tr>\n",
       "    <tr>\n",
       "      <th>157301</th>\n",
       "      <td>2703453</td>\n",
       "      <td>NaN</td>\n",
       "      <td>NaN</td>\n",
       "      <td>NaN</td>\n",
       "      <td>0</td>\n",
       "      <td>2014-08-18</td>\n",
       "    </tr>\n",
       "  </tbody>\n",
       "</table>\n",
       "<p>157302 rows × 6 columns</p>\n",
       "</div>"
      ],
      "text/plain": [
       "        case_id  last180dayaveragebalance_704A  last180dayturnover_1134A  \\\n",
       "0           225                            NaN                       NaN   \n",
       "1           331                            NaN                       NaN   \n",
       "2           358                            NaN                       NaN   \n",
       "3           390                            NaN                       NaN   \n",
       "4           390                            NaN                       NaN   \n",
       "...         ...                            ...                       ...   \n",
       "157297  2703430                            NaN                       NaN   \n",
       "157298  2703430                            NaN                       NaN   \n",
       "157299  2703439                            NaN                       NaN   \n",
       "157300  2703453                            NaN                       NaN   \n",
       "157301  2703453                            NaN                       NaN   \n",
       "\n",
       "        last30dayturnover_651A  num_group1 openingdate_857D  \n",
       "0                          NaN           0       2016-08-16  \n",
       "1                          NaN           0       2015-03-19  \n",
       "2                          NaN           0       2014-09-02  \n",
       "3                          NaN           0       2014-07-23  \n",
       "4                          NaN           2       2016-06-08  \n",
       "...                        ...         ...              ...  \n",
       "157297                     NaN           8       2016-11-26  \n",
       "157298                     NaN           2       2014-02-14  \n",
       "157299                     NaN           0       2016-11-25  \n",
       "157300                     NaN           1       2015-05-29  \n",
       "157301                     NaN           0       2014-08-18  \n",
       "\n",
       "[157302 rows x 6 columns]"
      ]
     },
     "execution_count": 41,
     "metadata": {},
     "output_type": "execute_result"
    }
   ],
   "source": [
    "debitcard_1 = pd.read_parquet(\"Datas/parquet_files/train/train_debitcard_1.parquet\")\n",
    "debitcard_1"
   ]
  },
  {
   "cell_type": "markdown",
   "metadata": {},
   "source": [
    "&nbsp;&nbsp;2\\) 파일 전체에서 관찰되는 특징 및 논의점<br>\n",
    "&nbsp;(1) 직불카드의 평균 금액에 관련된 컬럼들이 null 값 비율이 매우 높음<br>\n",
    "&nbsp;&nbsp;&nbsp;&nbsp;&nbsp;&nbsp;<span style=\"color:orange;\">→ null인 사람들은 직불카드를 사용하지 않는다는 뜻일까?</span><br>\n",
    "&nbsp;(2) last180dayturnover_1134A, last30dayturnover_651A 컬럼의 null count가 같음<br>\n",
    "&nbsp;&nbsp;&nbsp;&nbsp;&nbsp;&nbsp;<span style=\"color:orange;\">→ 단순 데이터 수집 실수로 인한 null은 아닌 듯...?</span><br>\n",
    "&nbsp;(3) 카드 발급 데이터는 많은데 평균 잔액 데이터는 훨씬 적음<br>\n",
    "&nbsp;&nbsp;&nbsp;&nbsp;&nbsp;&nbsp;<span style=\"color:orange;\">→ 왜 그럴까?<br>"
   ]
  },
  {
   "cell_type": "code",
   "execution_count": 42,
   "metadata": {},
   "outputs": [
    {
     "name": "stdout",
     "output_type": "stream",
     "text": [
      "<class 'pandas.core.frame.DataFrame'>\n",
      "RangeIndex: 157302 entries, 0 to 157301\n",
      "Data columns (total 6 columns):\n",
      " #   Column                         Non-Null Count   Dtype  \n",
      "---  ------                         --------------   -----  \n",
      " 0   case_id                        157302 non-null  int64  \n",
      " 1   last180dayaveragebalance_704A  12216 non-null   float64\n",
      " 2   last180dayturnover_1134A       11081 non-null   float64\n",
      " 3   last30dayturnover_651A         11081 non-null   float64\n",
      " 4   num_group1                     157302 non-null  int64  \n",
      " 5   openingdate_857D               144591 non-null  object \n",
      "dtypes: float64(3), int64(2), object(1)\n",
      "memory usage: 15.5 MB\n"
     ]
    }
   ],
   "source": [
    "debitcard_1.info(memory_usage=\"deep\", show_counts=True)"
   ]
  },
  {
   "cell_type": "markdown",
   "metadata": {},
   "source": [
    "3\\) Column별로 관찰되는 특징"
   ]
  },
  {
   "cell_type": "markdown",
   "metadata": {},
   "source": [
    "##### (1) <b>case_id</b>\n",
    "&nbsp;&nbsp;&nbsp;- <b>데이터 타입<span style=\"font-size:16px;\">(갯수)</span></b>: int64<span style=\"font-size:16px;\">(157,302개)</span><br>\n",
    "&nbsp;&nbsp;&nbsp;- <b>최빈 데이터<span style=\"font-size:16px;\">(갯수)</span></b>: 1377353<span style=\"font-size:16px;\">(66회)</span><br>\n",
    "&nbsp;&nbsp;&nbsp;- <b>결측치 여부</b>: X<br>\n",
    "&nbsp;&nbsp;&nbsp;- <b>고유 데이터 갯수</b>: 111,772명<br>\n",
    "&nbsp;&nbsp;&nbsp;- <b>기타 논의/의문점</b>:<br>\n",
    "&nbsp;&nbsp;&nbsp;&nbsp;&nbsp;&nbsp;① <br>\n",
    "&nbsp;&nbsp;&nbsp;&nbsp;&nbsp;&nbsp;② <br>\n",
    "&nbsp;&nbsp;&nbsp;&nbsp;&nbsp;&nbsp;③ "
   ]
  },
  {
   "cell_type": "code",
   "execution_count": 43,
   "metadata": {},
   "outputs": [
    {
     "data": {
      "text/plain": [
       "(dtype('int64'), 157302)"
      ]
     },
     "execution_count": 43,
     "metadata": {},
     "output_type": "execute_result"
    }
   ],
   "source": [
    "# 데이터 타입(갯수)\n",
    "x = debitcard_1[\"case_id\"]\n",
    "x.dtype, x.count()"
   ]
  },
  {
   "cell_type": "code",
   "execution_count": 44,
   "metadata": {},
   "outputs": [
    {
     "data": {
      "text/plain": [
       "case_id\n",
       "1377353    66\n",
       "1494474    33\n",
       "151842     32\n",
       "246503     32\n",
       "783268     32\n",
       "           ..\n",
       "1396880     1\n",
       "1396877     1\n",
       "1396864     1\n",
       "1396862     1\n",
       "1570466     1\n",
       "Name: count, Length: 111772, dtype: int64"
      ]
     },
     "execution_count": 44,
     "metadata": {},
     "output_type": "execute_result"
    }
   ],
   "source": [
    "# 최빈 데이터(갯수)\n",
    "x.value_counts(ascending=False)"
   ]
  },
  {
   "cell_type": "code",
   "execution_count": 45,
   "metadata": {},
   "outputs": [
    {
     "data": {
      "text/plain": [
       "case_id\n",
       "False    157302\n",
       "Name: count, dtype: int64"
      ]
     },
     "execution_count": 45,
     "metadata": {},
     "output_type": "execute_result"
    }
   ],
   "source": [
    "# 결측치 여부\n",
    "x.isna().value_counts()"
   ]
  },
  {
   "cell_type": "code",
   "execution_count": 46,
   "metadata": {},
   "outputs": [
    {
     "data": {
      "text/plain": [
       "111772"
      ]
     },
     "execution_count": 46,
     "metadata": {},
     "output_type": "execute_result"
    }
   ],
   "source": [
    "# 고유 데이터 갯수\n",
    "x.nunique()"
   ]
  },
  {
   "cell_type": "markdown",
   "metadata": {},
   "source": [
    "##### (2) <b>last180dayaveragebalance_704A</b>: 최근 180일 동안 직불카드의 평균 잔액<br>\n",
    "&nbsp;&nbsp;&nbsp;- <b>데이터 타입<span style=\"font-size:16px;\">(갯수)</span></b>: float64<span style=\"font-size:16px;\">(12,216개)</span><br>\n",
    "&nbsp;&nbsp;&nbsp;- <b>최빈 데이터<span style=\"font-size:16px;\">(비율)</span></b>: 0.0<span style=\"font-size:16px;\">(약 65.8%)</span><br>\n",
    "&nbsp;&nbsp;&nbsp;- <b>데이터 분포</b>: <span style=\"font-size:16px;\">(하단 셀 참고)</span><br>\n",
    "&nbsp;&nbsp;&nbsp;&nbsp;&nbsp;&nbsp;<span style=\"color:orange;\">→ 매달 15일이 정기 결제일로 보임</span><br>\n",
    "&nbsp;&nbsp;&nbsp;- <b>결측치 여부</b>: X<br>\n",
    "&nbsp;&nbsp;&nbsp;- <b>기타 논의/의문점</b>:<br>\n",
    "&nbsp;&nbsp;&nbsp;&nbsp;&nbsp;&nbsp;① 2019년 4월경부터 쭉 데이터가 줄어드는데 이것이 무엇 때문일까요?<br>\n",
    "&nbsp;&nbsp;&nbsp;&nbsp;&nbsp;&nbsp;② 평균 잔액이 0인 통장이 inactive account라면, 이유가 뭘까요?<br>\n",
    "&nbsp;&nbsp;&nbsp;&nbsp;&nbsp;&nbsp;③ "
   ]
  },
  {
   "cell_type": "code",
   "execution_count": 47,
   "metadata": {},
   "outputs": [
    {
     "data": {
      "text/plain": [
       "(dtype('float64'), 12216)"
      ]
     },
     "execution_count": 47,
     "metadata": {},
     "output_type": "execute_result"
    }
   ],
   "source": [
    "# 데이터 타입(갯수)\n",
    "x = debitcard_1[\"last180dayaveragebalance_704A\"]\n",
    "x.dtype, x.count()"
   ]
  },
  {
   "cell_type": "code",
   "execution_count": 48,
   "metadata": {},
   "outputs": [
    {
     "data": {
      "text/plain": [
       "last180dayaveragebalance_704A\n",
       "0.0000       0.658972\n",
       "6.0000       0.004257\n",
       "0.0800       0.003847\n",
       "0.1200       0.003766\n",
       "0.1600       0.002947\n",
       "               ...   \n",
       "274.5640     0.000082\n",
       "4770.3490    0.000082\n",
       "2775.8760    0.000082\n",
       "7336.2783    0.000082\n",
       "1.8800       0.000082\n",
       "Name: proportion, Length: 2495, dtype: float64"
      ]
     },
     "execution_count": 48,
     "metadata": {},
     "output_type": "execute_result"
    }
   ],
   "source": [
    "# 최빈 데이터(비율)\n",
    "x.value_counts(ascending=False, normalize=True)"
   ]
  },
  {
   "cell_type": "code",
   "execution_count": 49,
   "metadata": {},
   "outputs": [
    {
     "data": {
      "text/plain": [
       "<Axes: xlabel='last180dayaveragebalance_704A', ylabel='Density'>"
      ]
     },
     "execution_count": 49,
     "metadata": {},
     "output_type": "execute_result"
    },
    {
     "data": {
      "image/png": "[encoded data removed]",
      "text/plain": [
       "<Figure size 640x480 with 1 Axes>"
      ]
     },
     "metadata": {},
     "output_type": "display_data"
    }
   ],
   "source": [
    "# 데이터 분포\n",
    "sns.kdeplot(x)"
   ]
  },
  {
   "cell_type": "code",
   "execution_count": 50,
   "metadata": {},
   "outputs": [
    {
     "data": {
      "text/plain": [
       "last180dayaveragebalance_704A\n",
       "True     145086\n",
       "False     12216\n",
       "Name: count, dtype: int64"
      ]
     },
     "execution_count": 50,
     "metadata": {},
     "output_type": "execute_result"
    }
   ],
   "source": [
    "# 결측치 여부\n",
    "x.isna().value_counts()"
   ]
  },
  {
   "cell_type": "markdown",
   "metadata": {},
   "source": [
    "##### (3) <b>last180dayturnover_1134A</b>: 최근 180일 동안 직불카드의 평균 출금액<br>\n",
    "&nbsp;&nbsp;&nbsp;- <b>데이터 타입<span style=\"font-size:16px;\">(갯수)</span></b>: float64<span style=\"font-size:16px;\">(11,081개)</span><br>\n",
    "&nbsp;&nbsp;&nbsp;- <b>최빈 데이터<span style=\"font-size:16px;\">(갯수)</span></b>: 60,000.0<span style=\"font-size:16px;\">(650개)</span><br>\n",
    "&nbsp;&nbsp;&nbsp;- <b>데이터 분포</b>: 60,000에서 갑자기 최대 비율로 급증했다가 하락함<span style=\"font-size:16px;\">(하단 셀 참고)</span><br>\n",
    "&nbsp;&nbsp;&nbsp;- <b>결측치 비율</b>: 약 0.4%<br>\n",
    "&nbsp;&nbsp;&nbsp;&nbsp;&nbsp;&nbsp;<span style=\"color:orange;\">→ 단순 null?</span><br>\n",
    "&nbsp;&nbsp;&nbsp;- <b>기타 논의/의문점</b>:<br>\n",
    "&nbsp;&nbsp;&nbsp;&nbsp;&nbsp;&nbsp;① <b>고액 연체자들의 특징</b>에는 어떤 게 있을까요?<br>\n",
    "&nbsp;&nbsp;&nbsp;&nbsp;&nbsp;&nbsp;② (단위는 모르지만) 계속 거의 없다가 60,000부터 연체자 수가 많이 분포하는 이유?<br>\n",
    "&nbsp;&nbsp;&nbsp;&nbsp;&nbsp;&nbsp;&nbsp;&nbsp;&nbsp;&nbsp;&nbsp;<span style=\"color:orange;\">→ 가설 1: 60,000까지는 변제/경감해 주는 프로그램이 있다?</span><br>\n",
    "&nbsp;&nbsp;&nbsp;&nbsp;&nbsp;&nbsp;&nbsp;&nbsp;&nbsp;&nbsp;&nbsp;<span style=\"color:orange;\">→ 가설 2: 60,000부터 이율이 확 뛴다?</span><br>\n",
    "&nbsp;&nbsp;&nbsp;&nbsp;&nbsp;&nbsp;③ <br>"
   ]
  },
  {
   "cell_type": "code",
   "execution_count": 51,
   "metadata": {},
   "outputs": [
    {
     "data": {
      "text/plain": [
       "(dtype('float64'), 11081)"
      ]
     },
     "execution_count": 51,
     "metadata": {},
     "output_type": "execute_result"
    }
   ],
   "source": [
    "# 데이터 타입(갯수)\n",
    "x = debitcard_1[\"last180dayturnover_1134A\"]\n",
    "x.dtype, x.count()"
   ]
  },
  {
   "cell_type": "code",
   "execution_count": 52,
   "metadata": {},
   "outputs": [
    {
     "data": {
      "text/plain": [
       "last180dayturnover_1134A\n",
       "60000.000     650\n",
       "100000.000    574\n",
       "20000.000     474\n",
       "40000.000     325\n",
       "30000.000     302\n",
       "             ... \n",
       "8058.000        1\n",
       "0.116           1\n",
       "778.240         1\n",
       "89991.000       1\n",
       "12607.400       1\n",
       "Name: count, Length: 2581, dtype: int64"
      ]
     },
     "execution_count": 52,
     "metadata": {},
     "output_type": "execute_result"
    }
   ],
   "source": [
    "# 최빈 데이터(갯수)\n",
    "x.value_counts(ascending=False)"
   ]
  },
  {
   "cell_type": "code",
   "execution_count": 53,
   "metadata": {},
   "outputs": [
    {
     "data": {
      "text/plain": [
       "<Axes: xlabel='last180dayturnover_1134A', ylabel='Density'>"
      ]
     },
     "execution_count": 53,
     "metadata": {},
     "output_type": "execute_result"
    },
    {
     "data": {
      "image/png": "[encoded data removed]",
      "text/plain": [
       "<Figure size 640x480 with 1 Axes>"
      ]
     },
     "metadata": {},
     "output_type": "display_data"
    }
   ],
   "source": [
    "# 데이터 분포\n",
    "sns.kdeplot(x)"
   ]
  },
  {
   "cell_type": "code",
   "execution_count": 54,
   "metadata": {},
   "outputs": [
    {
     "data": {
      "text/plain": [
       "last180dayturnover_1134A\n",
       "True     0.929556\n",
       "False    0.070444\n",
       "Name: proportion, dtype: float64"
      ]
     },
     "execution_count": 54,
     "metadata": {},
     "output_type": "execute_result"
    }
   ],
   "source": [
    "# 결측치 비율\n",
    "x.isna().value_counts(normalize=True)"
   ]
  },
  {
   "cell_type": "markdown",
   "metadata": {},
   "source": [
    "##### (4) <b>last30dayturnover_651A</b>: 최근 30일 동안 직불카드의 평균 출금액<br>\n",
    "&nbsp;&nbsp;&nbsp;- <b>데이터 타입<span style=\"font-size:16px;\">(갯수)</span></b>: float64<span style=\"font-size:16px;\">(11,081개)</span><br>\n",
    "&nbsp;&nbsp;&nbsp;- <b>최빈 데이터<span style=\"font-size:16px;\">(비율)</span></b>: 0.0<span style=\"font-size:16px;\">(약 88.5%)</span><br>\n",
    "&nbsp;&nbsp;&nbsp;- <b>데이터 분포</b>: 0.0을 중심으로 정규분포를 띄는 걸로 보임<span style=\"font-size:16px;\">(하단 셀 참고)</span><br>\n",
    "&nbsp;&nbsp;&nbsp;- <b>결측치 비율</b>: 약 7%<br>\n",
    "&nbsp;&nbsp;&nbsp;- <b>기타 논의/의문점</b>:<br>\n",
    "&nbsp;&nbsp;&nbsp;&nbsp;&nbsp;&nbsp;① <br>\n",
    "&nbsp;&nbsp;&nbsp;&nbsp;&nbsp;&nbsp;② <br>\n",
    "&nbsp;&nbsp;&nbsp;&nbsp;&nbsp;&nbsp;③ "
   ]
  },
  {
   "cell_type": "code",
   "execution_count": 55,
   "metadata": {},
   "outputs": [
    {
     "data": {
      "text/plain": [
       "(dtype('float64'), 11081)"
      ]
     },
     "execution_count": 55,
     "metadata": {},
     "output_type": "execute_result"
    }
   ],
   "source": [
    "# 데이터 타입(갯수)\n",
    "x = debitcard_1[\"last30dayturnover_651A\"]\n",
    "x.dtype, x.count()"
   ]
  },
  {
   "cell_type": "code",
   "execution_count": 56,
   "metadata": {},
   "outputs": [
    {
     "data": {
      "text/plain": [
       "last30dayturnover_651A\n",
       "0.0         0.885119\n",
       "100000.0    0.006317\n",
       "60000.0     0.004963\n",
       "34000.0     0.003339\n",
       "20000.0     0.002978\n",
       "              ...   \n",
       "22100.0     0.000090\n",
       "37819.0     0.000090\n",
       "29997.0     0.000090\n",
       "17984.6     0.000090\n",
       "23800.0     0.000090\n",
       "Name: proportion, Length: 482, dtype: float64"
      ]
     },
     "execution_count": 56,
     "metadata": {},
     "output_type": "execute_result"
    }
   ],
   "source": [
    "# 최빈 데이터(비율)\n",
    "x.value_counts(ascending=False, normalize=True)"
   ]
  },
  {
   "cell_type": "code",
   "execution_count": 57,
   "metadata": {},
   "outputs": [
    {
     "data": {
      "text/plain": [
       "<Axes: xlabel='last30dayturnover_651A', ylabel='Density'>"
      ]
     },
     "execution_count": 57,
     "metadata": {},
     "output_type": "execute_result"
    },
    {
     "data": {
      "image/png": "[encoded data removed]",
      "text/plain": [
       "<Figure size 640x480 with 1 Axes>"
      ]
     },
     "metadata": {},
     "output_type": "display_data"
    }
   ],
   "source": [
    "# 데이터 분포\n",
    "sns.kdeplot(x)"
   ]
  },
  {
   "cell_type": "code",
   "execution_count": 58,
   "metadata": {},
   "outputs": [
    {
     "data": {
      "text/plain": [
       "last30dayturnover_651A\n",
       "True     0.929556\n",
       "False    0.070444\n",
       "Name: proportion, dtype: float64"
      ]
     },
     "execution_count": 58,
     "metadata": {},
     "output_type": "execute_result"
    }
   ],
   "source": [
    "# 결측치 비율\n",
    "x.isna().value_counts(normalize=True)"
   ]
  },
  {
   "cell_type": "markdown",
   "metadata": {},
   "source": [
    "##### (5) <b>openingdate_857D</b>: 직불 카드 최초 발급일<br>\n",
    "&nbsp;&nbsp;&nbsp;- <b>데이터 타입<span style=\"font-size:16px;\">(갯수)</span></b>: object<span style=\"font-size:16px;\">(144,591개)</span><br>\n",
    "&nbsp;&nbsp;&nbsp;- <b>최빈 데이터<span style=\"font-size:16px;\">(갯수)</span></b>: 2014-07-11<span style=\"font-size:16px;\">(368개)</span><br>\n",
    "&nbsp;&nbsp;&nbsp;- <b>데이터 분포<span style=\"font-size:16px;\">(datetime64로 변환 후 확인)</span></b>: <span style=\"font-size:16px;\">(하단 셀 참고)</span><br>\n",
    "&nbsp;&nbsp;&nbsp;- <b>결측치 비율</b>: 약 8.1%<br>\n",
    "&nbsp;&nbsp;&nbsp;- <b>기타 논의/의문점</b>:<br>\n",
    "&nbsp;&nbsp;&nbsp;&nbsp;&nbsp;&nbsp;① <br>\n",
    "&nbsp;&nbsp;&nbsp;&nbsp;&nbsp;&nbsp;② <br>\n",
    "&nbsp;&nbsp;&nbsp;&nbsp;&nbsp;&nbsp;③ "
   ]
  },
  {
   "cell_type": "code",
   "execution_count": 59,
   "metadata": {},
   "outputs": [
    {
     "data": {
      "text/plain": [
       "(dtype('O'), 144591)"
      ]
     },
     "execution_count": 59,
     "metadata": {},
     "output_type": "execute_result"
    }
   ],
   "source": [
    "# 데이터 타입(갯수)\n",
    "x = debitcard_1[\"openingdate_857D\"]\n",
    "x.dtype, x.count()"
   ]
  },
  {
   "cell_type": "code",
   "execution_count": 60,
   "metadata": {},
   "outputs": [
    {
     "data": {
      "text/plain": [
       "openingdate_857D\n",
       "2014-07-11    368\n",
       "2014-04-11    306\n",
       "2014-03-28    304\n",
       "2014-04-09    301\n",
       "2013-12-26    301\n",
       "             ... \n",
       "2003-09-30      1\n",
       "2006-12-24      1\n",
       "2005-01-12      1\n",
       "2001-11-19      1\n",
       "2017-04-23      1\n",
       "Name: count, Length: 1578, dtype: int64"
      ]
     },
     "execution_count": 60,
     "metadata": {},
     "output_type": "execute_result"
    }
   ],
   "source": [
    "# 최빈 데이터(갯수)\n",
    "x.value_counts(ascending=False)"
   ]
  },
  {
   "cell_type": "code",
   "execution_count": 61,
   "metadata": {},
   "outputs": [
    {
     "data": {
      "text/plain": [
       "<Axes: xlabel='openingdate_857D', ylabel='Count'>"
      ]
     },
     "execution_count": 61,
     "metadata": {},
     "output_type": "execute_result"
    },
    {
     "data": {
      "image/png": "[encoded data removed]",
      "text/plain": [
       "<Figure size 2000x700 with 1 Axes>"
      ]
     },
     "metadata": {},
     "output_type": "display_data"
    }
   ],
   "source": [
    "# 데이터 분포\n",
    "x_dt = pd.to_datetime(x)\n",
    "x_dt = x_dt.sort_values()\n",
    "x_dt\n",
    "\n",
    "plt.figure(figsize=(20, 7))\n",
    "sns.histplot(data=x_dt, binwidth=30)"
   ]
  },
  {
   "cell_type": "code",
   "execution_count": 62,
   "metadata": {},
   "outputs": [
    {
     "data": {
      "text/plain": [
       "openingdate_857D\n",
       "False    0.919194\n",
       "True     0.080806\n",
       "Name: proportion, dtype: float64"
      ]
     },
     "execution_count": 62,
     "metadata": {},
     "output_type": "execute_result"
    }
   ],
   "source": [
    "# 결측치 비율\n",
    "x.isna().value_counts(normalize=True)"
   ]
  },
  {
   "cell_type": "markdown",
   "metadata": {},
   "source": [
    "#### 04\\. deposit_1<br>"
   ]
  },
  {
   "cell_type": "markdown",
   "metadata": {},
   "source": [
    "&nbsp;&nbsp;1\\) Column별 내용<span style=\"font-size:16px;\">(추정)</span><br>\n",
    "&nbsp;(1) <b>amount_416A</b>: 계좌 잔액<span style=\"font-size:16px\" title=\"Deposit amount\">(원문)</span><br>\n",
    "&nbsp;(2) <b>contractenddate_991D</b>: 대출 상환 만기일<span style=\"font-size:16px\" title=\"End date of deposit contract\">(원문)</span><br>\n",
    "&nbsp;(3) <b>openingdate_313D</b>: 대출 계좌 개설일<span style=\"font-size:16px\" title=\"Deposit account opening date\">(원문)</span>"
   ]
  },
  {
   "cell_type": "code",
   "execution_count": 5,
   "metadata": {},
   "outputs": [
    {
     "data": {
      "text/html": [
       "<div>\n",
       "<style scoped>\n",
       "    .dataframe tbody tr th:only-of-type {\n",
       "        vertical-align: middle;\n",
       "    }\n",
       "\n",
       "    .dataframe tbody tr th {\n",
       "        vertical-align: top;\n",
       "    }\n",
       "\n",
       "    .dataframe thead th {\n",
       "        text-align: right;\n",
       "    }\n",
       "</style>\n",
       "<table border=\"1\" class=\"dataframe\">\n",
       "  <thead>\n",
       "    <tr style=\"text-align: right;\">\n",
       "      <th></th>\n",
       "      <th>case_id</th>\n",
       "      <th>amount_416A</th>\n",
       "      <th>contractenddate_991D</th>\n",
       "      <th>num_group1</th>\n",
       "      <th>openingdate_313D</th>\n",
       "    </tr>\n",
       "  </thead>\n",
       "  <tbody>\n",
       "    <tr>\n",
       "      <th>0</th>\n",
       "      <td>225</td>\n",
       "      <td>0.00000</td>\n",
       "      <td>None</td>\n",
       "      <td>0</td>\n",
       "      <td>2016-08-16</td>\n",
       "    </tr>\n",
       "    <tr>\n",
       "      <th>1</th>\n",
       "      <td>331</td>\n",
       "      <td>260.37400</td>\n",
       "      <td>2018-03-18</td>\n",
       "      <td>0</td>\n",
       "      <td>2015-03-19</td>\n",
       "    </tr>\n",
       "    <tr>\n",
       "      <th>2</th>\n",
       "      <td>358</td>\n",
       "      <td>0.00000</td>\n",
       "      <td>None</td>\n",
       "      <td>0</td>\n",
       "      <td>2014-09-02</td>\n",
       "    </tr>\n",
       "    <tr>\n",
       "      <th>3</th>\n",
       "      <td>390</td>\n",
       "      <td>211748.53000</td>\n",
       "      <td>2017-07-22</td>\n",
       "      <td>0</td>\n",
       "      <td>2014-07-23</td>\n",
       "    </tr>\n",
       "    <tr>\n",
       "      <th>4</th>\n",
       "      <td>390</td>\n",
       "      <td>223.68001</td>\n",
       "      <td>None</td>\n",
       "      <td>2</td>\n",
       "      <td>2016-06-08</td>\n",
       "    </tr>\n",
       "    <tr>\n",
       "      <th>...</th>\n",
       "      <td>...</td>\n",
       "      <td>...</td>\n",
       "      <td>...</td>\n",
       "      <td>...</td>\n",
       "      <td>...</td>\n",
       "    </tr>\n",
       "    <tr>\n",
       "      <th>145081</th>\n",
       "      <td>2703430</td>\n",
       "      <td>22918.00600</td>\n",
       "      <td>None</td>\n",
       "      <td>8</td>\n",
       "      <td>2016-11-26</td>\n",
       "    </tr>\n",
       "    <tr>\n",
       "      <th>145082</th>\n",
       "      <td>2703430</td>\n",
       "      <td>0.00000</td>\n",
       "      <td>None</td>\n",
       "      <td>2</td>\n",
       "      <td>2014-02-14</td>\n",
       "    </tr>\n",
       "    <tr>\n",
       "      <th>145083</th>\n",
       "      <td>2703439</td>\n",
       "      <td>219.98401</td>\n",
       "      <td>None</td>\n",
       "      <td>0</td>\n",
       "      <td>2016-11-25</td>\n",
       "    </tr>\n",
       "    <tr>\n",
       "      <th>145084</th>\n",
       "      <td>2703453</td>\n",
       "      <td>44916.64500</td>\n",
       "      <td>2018-05-28</td>\n",
       "      <td>1</td>\n",
       "      <td>2015-05-29</td>\n",
       "    </tr>\n",
       "    <tr>\n",
       "      <th>145085</th>\n",
       "      <td>2703453</td>\n",
       "      <td>0.00000</td>\n",
       "      <td>None</td>\n",
       "      <td>0</td>\n",
       "      <td>2014-08-18</td>\n",
       "    </tr>\n",
       "  </tbody>\n",
       "</table>\n",
       "<p>145086 rows × 5 columns</p>\n",
       "</div>"
      ],
      "text/plain": [
       "        case_id   amount_416A contractenddate_991D  num_group1  \\\n",
       "0           225       0.00000                 None           0   \n",
       "1           331     260.37400           2018-03-18           0   \n",
       "2           358       0.00000                 None           0   \n",
       "3           390  211748.53000           2017-07-22           0   \n",
       "4           390     223.68001                 None           2   \n",
       "...         ...           ...                  ...         ...   \n",
       "145081  2703430   22918.00600                 None           8   \n",
       "145082  2703430       0.00000                 None           2   \n",
       "145083  2703439     219.98401                 None           0   \n",
       "145084  2703453   44916.64500           2018-05-28           1   \n",
       "145085  2703453       0.00000                 None           0   \n",
       "\n",
       "       openingdate_313D  \n",
       "0            2016-08-16  \n",
       "1            2015-03-19  \n",
       "2            2014-09-02  \n",
       "3            2014-07-23  \n",
       "4            2016-06-08  \n",
       "...                 ...  \n",
       "145081       2016-11-26  \n",
       "145082       2014-02-14  \n",
       "145083       2016-11-25  \n",
       "145084       2015-05-29  \n",
       "145085       2014-08-18  \n",
       "\n",
       "[145086 rows x 5 columns]"
      ]
     },
     "execution_count": 5,
     "metadata": {},
     "output_type": "execute_result"
    }
   ],
   "source": [
    "deposit_1 = pd.read_parquet(\"Datas/parquet_files/train/train_deposit_1.parquet\")\n",
    "deposit_1"
   ]
  },
  {
   "cell_type": "markdown",
   "metadata": {},
   "source": [
    "&nbsp;&nbsp;2\\) 파일 전체에서 관찰되는 특징 및 논의점<br>\n",
    "&nbsp;(1) contractenddate_991D 컬럼에서 null이 다수 발생함<br>\n",
    "&nbsp;(2) contractenddate_991D, openingdate_313D 컬럼의 dtype은 object이므로 datetime64로 변환이 필요해 보임<br>\n",
    "&nbsp;(3) 대출 계좌 개설 건수는 145,086건인데 대출 상환 만기일 정보는 65,404건임<br>\n",
    "&nbsp;&nbsp;&nbsp;&nbsp;&nbsp;&nbsp;<span style=\"color:orange;\">→ 약 54.9%의 사람들이 대출을 제때 갚지 못했다는 것일까?</span>"
   ]
  },
  {
   "cell_type": "code",
   "execution_count": 64,
   "metadata": {},
   "outputs": [
    {
     "name": "stdout",
     "output_type": "stream",
     "text": [
      "<class 'pandas.core.frame.DataFrame'>\n",
      "RangeIndex: 145086 entries, 0 to 145085\n",
      "Data columns (total 5 columns):\n",
      " #   Column                Non-Null Count   Dtype  \n",
      "---  ------                --------------   -----  \n",
      " 0   case_id               145086 non-null  int64  \n",
      " 1   amount_416A           145086 non-null  float64\n",
      " 2   contractenddate_991D  65404 non-null   object \n",
      " 3   num_group1            145086 non-null  int64  \n",
      " 4   openingdate_313D      145086 non-null  object \n",
      "dtypes: float64(1), int64(2), object(2)\n",
      "memory usage: 18.6 MB\n"
     ]
    }
   ],
   "source": [
    "deposit_1.info(memory_usage=\"deep\")"
   ]
  },
  {
   "cell_type": "markdown",
   "metadata": {},
   "source": [
    "##### &nbsp;(1) <b>case_id</b><br>\n",
    "&nbsp;&nbsp;&nbsp;- <b>데이터 타입</b><span style=\"font-size:16px;\">(갯수)</span>: int64<span style=\"font-size:16px;\">(145,086개)</span><br>\n",
    "&nbsp;&nbsp;&nbsp;- <b>최빈 데이터</b><span style=\"font-size:16px;\">(갯수)</span>: 1377353<span style=\"font-size:16px;\">(65회)</span><br>\n",
    "&nbsp;&nbsp;&nbsp;- <b>결측치 여부</b>: X<br>\n",
    "&nbsp;&nbsp;&nbsp;- <b>데이터 분포<span style=\"font-size:16px;\">(폐기)</span></b>: 다른 옵션과 함께 봐야 할 것으로 생각됨<span style=\"font-size:16px;\">(하단 셀 참고)</span><br>\n",
    "&nbsp;&nbsp;&nbsp;- <b>고유 데이터 갯수</b>: 105,111명<br>\n",
    "&nbsp;&nbsp;&nbsp;- <b>기타 논의/의문점</b>:<br>\n",
    "&nbsp;&nbsp;&nbsp;&nbsp;&nbsp;&nbsp;① <br>\n",
    "&nbsp;&nbsp;&nbsp;&nbsp;&nbsp;&nbsp;② <br>\n",
    "&nbsp;&nbsp;&nbsp;&nbsp;&nbsp;&nbsp;③ "
   ]
  },
  {
   "cell_type": "code",
   "execution_count": 4,
   "metadata": {},
   "outputs": [
    {
     "data": {
      "text/plain": [
       "(dtype('int64'), 145086)"
      ]
     },
     "execution_count": 4,
     "metadata": {},
     "output_type": "execute_result"
    }
   ],
   "source": [
    "# 데이터 타입(갯수)\n",
    "x = deposit_1[\"case_id\"]\n",
    "x.dtype, x.count()"
   ]
  },
  {
   "cell_type": "code",
   "execution_count": 98,
   "metadata": {},
   "outputs": [
    {
     "data": {
      "text/plain": [
       "case_id\n",
       "1377353    65\n",
       "1306349    32\n",
       "783268     32\n",
       "151842     31\n",
       "246503     31\n",
       "           ..\n",
       "1386264     1\n",
       "1386242     1\n",
       "1386239     1\n",
       "1386238     1\n",
       "1567492     1\n",
       "Name: count, Length: 105111, dtype: int64"
      ]
     },
     "execution_count": 98,
     "metadata": {},
     "output_type": "execute_result"
    }
   ],
   "source": [
    "# 최빈 데이터(갯수)\n",
    "x.value_counts(ascending=False)"
   ]
  },
  {
   "cell_type": "code",
   "execution_count": 5,
   "metadata": {},
   "outputs": [
    {
     "data": {
      "text/plain": [
       "<Axes: xlabel='case_id', ylabel='Density'>"
      ]
     },
     "execution_count": 5,
     "metadata": {},
     "output_type": "execute_result"
    },
    {
     "data": {
      "image/png": "[encoded data removed]",
      "text/plain": [
       "<Figure size 640x480 with 1 Axes>"
      ]
     },
     "metadata": {},
     "output_type": "display_data"
    }
   ],
   "source": [
    "# 데이터 분포\n",
    "sns.kdeplot(x)"
   ]
  },
  {
   "cell_type": "code",
   "execution_count": 67,
   "metadata": {},
   "outputs": [
    {
     "data": {
      "text/plain": [
       "case_id\n",
       "False    145086\n",
       "Name: count, dtype: int64"
      ]
     },
     "execution_count": 67,
     "metadata": {},
     "output_type": "execute_result"
    }
   ],
   "source": [
    "# 결측치 여부\n",
    "x.isna().value_counts()"
   ]
  },
  {
   "cell_type": "code",
   "execution_count": 68,
   "metadata": {},
   "outputs": [
    {
     "data": {
      "text/plain": [
       "105111"
      ]
     },
     "execution_count": 68,
     "metadata": {},
     "output_type": "execute_result"
    }
   ],
   "source": [
    "# nunique\n",
    "x.nunique()"
   ]
  },
  {
   "cell_type": "markdown",
   "metadata": {},
   "source": [
    "##### &nbsp;(2) <b>amount_416A</b>: 대출금의 양<br>\n",
    "&nbsp;&nbsp;&nbsp;- <b>데이터 타입</b><span style=\"font-size:16px;\">(갯수)</span>: float64<span style=\"font-size:16px;\">(145,086개)</span><br>\n",
    "&nbsp;&nbsp;&nbsp;- <b>최솟값/최댓값</b>: 12,213,286/-40,000<br>\n",
    "&nbsp;&nbsp;&nbsp;- <b>최빈 데이터</b><span style=\"font-size:16px;\">(비율)</span>: 0.0<span style=\"font-size:16px;\">(40.6%)</span><br>\n",
    "&nbsp;&nbsp;&nbsp;- <b>데이터 분포</b>: 0을 중심으로 정규분포처럼 보임<span style=\"font-size:16px;\">(하단 셀 참고)</span><br>\n",
    "&nbsp;&nbsp;&nbsp;- <b>결측치 여부</b>: X<br>\n",
    "&nbsp;&nbsp;&nbsp;- <b>기타 논의/의문점</b>:<br>\n",
    "&nbsp;&nbsp;&nbsp;&nbsp;&nbsp;&nbsp;① 대출금의 양이 음수인 건 어떻게 이해해야 하는 걸까요?<br>\n",
    "&nbsp;&nbsp;&nbsp;&nbsp;&nbsp;&nbsp;② <br>\n",
    "&nbsp;&nbsp;&nbsp;&nbsp;&nbsp;&nbsp;③ "
   ]
  },
  {
   "cell_type": "code",
   "execution_count": 7,
   "metadata": {},
   "outputs": [
    {
     "data": {
      "text/plain": [
       "(dtype('float64'), 145086)"
      ]
     },
     "execution_count": 7,
     "metadata": {},
     "output_type": "execute_result"
    }
   ],
   "source": [
    "# 데이터 타입(갯수)\n",
    "x = deposit_1[\"amount_416A\"]\n",
    "x.dtype, x.count()"
   ]
  },
  {
   "cell_type": "code",
   "execution_count": 100,
   "metadata": {},
   "outputs": [
    {
     "data": {
      "text/plain": [
       "(12213286.0, -40000.0)"
      ]
     },
     "execution_count": 100,
     "metadata": {},
     "output_type": "execute_result"
    }
   ],
   "source": [
    "# 최솟값/최댓값\n",
    "x.max(), x.min()"
   ]
  },
  {
   "cell_type": "code",
   "execution_count": 101,
   "metadata": {},
   "outputs": [
    {
     "data": {
      "text/plain": [
       "amount_416A\n",
       "0.00000        0.406607\n",
       "202.00800      0.006520\n",
       "204.04001      0.005397\n",
       "204.03801      0.004797\n",
       "202.00601      0.004218\n",
       "                 ...   \n",
       "891.15000      0.000007\n",
       "14831.34400    0.000007\n",
       "1379.62600     0.000007\n",
       "544.98200      0.000007\n",
       "528.28200      0.000007\n",
       "Name: proportion, Length: 40724, dtype: float64"
      ]
     },
     "execution_count": 101,
     "metadata": {},
     "output_type": "execute_result"
    }
   ],
   "source": [
    "# 최빈 데이터(비율)\n",
    "x.value_counts(ascending=False, normalize=True)"
   ]
  },
  {
   "cell_type": "code",
   "execution_count": 11,
   "metadata": {},
   "outputs": [
    {
     "data": {
      "text/plain": [
       "<Axes: xlabel='amount_416A', ylabel='Density'>"
      ]
     },
     "execution_count": 11,
     "metadata": {},
     "output_type": "execute_result"
    },
    {
     "data": {
      "image/png": "[encoded data removed]",
      "text/plain": [
       "<Figure size 3500x500 with 1 Axes>"
      ]
     },
     "metadata": {},
     "output_type": "display_data"
    }
   ],
   "source": [
    "# 데이터 분포\n",
    "plt.figure(figsize=(35, 5))\n",
    "sns.kdeplot(data=x, fill=True)"
   ]
  },
  {
   "cell_type": "code",
   "execution_count": 72,
   "metadata": {},
   "outputs": [
    {
     "data": {
      "text/plain": [
       "amount_416A\n",
       "False    145086\n",
       "Name: count, dtype: int64"
      ]
     },
     "execution_count": 72,
     "metadata": {},
     "output_type": "execute_result"
    }
   ],
   "source": [
    "# 결측치 여부\n",
    "x.isna().value_counts()"
   ]
  },
  {
   "cell_type": "code",
   "execution_count": 74,
   "metadata": {},
   "outputs": [
    {
     "data": {
      "text/plain": [
       "40724"
      ]
     },
     "execution_count": 74,
     "metadata": {},
     "output_type": "execute_result"
    }
   ],
   "source": [
    "# 고유 데이터 갯수\n",
    "x.nunique()"
   ]
  },
  {
   "cell_type": "markdown",
   "metadata": {},
   "source": [
    "##### &nbsp;(3) <b>contractenddate_991D</b>: 대출 상환 만기일<br>\n",
    "&nbsp;&nbsp;&nbsp;- <b>데이터 타입</b><span style=\"font-size:16px;\">(갯수)</span>: object<span style=\"font-size:16px;\">(65,404개)</span><br>\n",
    "&nbsp;&nbsp;&nbsp;- <b>최빈 데이터</b><span style=\"font-size:16px;\">(갯수)</span>: 2017-08-03<span style=\"font-size:16px;\">(295개)</span><br>\n",
    "&nbsp;&nbsp;&nbsp;- <b>데이터 분포<span style=\"font-size:16px;\">(datetime64로 변환 후 분석)</span></b>: 2018년을 중심으로 몰려 있음<span style=\"font-size:16px;\">(하단 셀 참고)</span><br>\n",
    "&nbsp;&nbsp;&nbsp;- <b>결측치 비율</b>: 약 54.9%<br>\n",
    "&nbsp;&nbsp;&nbsp;- <b>기타 논의/의문점</b>:<br>\n",
    "&nbsp;&nbsp;&nbsp;&nbsp;&nbsp;&nbsp;① 사람들마다의 대출 기간이 비슷하다면 언제쯤 대출이 많이 이루어지는지 알 수 있지 않을까요?<br>\n",
    "&nbsp;&nbsp;&nbsp;&nbsp;&nbsp;&nbsp;② <br>\n",
    "&nbsp;&nbsp;&nbsp;&nbsp;&nbsp;&nbsp;③ "
   ]
  },
  {
   "cell_type": "code",
   "execution_count": 6,
   "metadata": {},
   "outputs": [
    {
     "data": {
      "text/plain": [
       "(dtype('O'), 65404)"
      ]
     },
     "execution_count": 6,
     "metadata": {},
     "output_type": "execute_result"
    }
   ],
   "source": [
    "# 데이터 타입(갯수)\n",
    "x = deposit_1[\"contractenddate_991D\"]\n",
    "x.dtype, x.count()"
   ]
  },
  {
   "cell_type": "code",
   "execution_count": 7,
   "metadata": {},
   "outputs": [
    {
     "data": {
      "text/plain": [
       "contractenddate_991D\n",
       "2017-08-03    295\n",
       "2017-12-31    293\n",
       "2017-09-01    292\n",
       "2017-09-08    282\n",
       "2017-12-23    280\n",
       "             ... \n",
       "2016-01-16      1\n",
       "2014-03-19      1\n",
       "2008-06-21      1\n",
       "2008-04-05      1\n",
       "2016-11-20      1\n",
       "Name: count, Length: 1524, dtype: int64"
      ]
     },
     "execution_count": 7,
     "metadata": {},
     "output_type": "execute_result"
    }
   ],
   "source": [
    "# 최빈 데이터(개수)\n",
    "x.value_counts(ascending=False)"
   ]
  },
  {
   "cell_type": "code",
   "execution_count": 8,
   "metadata": {},
   "outputs": [
    {
     "data": {
      "text/plain": [
       "<Axes: xlabel='contractenddate_991D', ylabel='Count'>"
      ]
     },
     "execution_count": 8,
     "metadata": {},
     "output_type": "execute_result"
    },
    {
     "data": {
      "image/png": "[encoded data removed]",
      "text/plain": [
       "<Figure size 2000x700 with 1 Axes>"
      ]
     },
     "metadata": {},
     "output_type": "display_data"
    }
   ],
   "source": [
    "# 데이터 분포(datetime64로 변환 후 분석)\n",
    "x_dt = pd.to_datetime(x)\n",
    "x_dt = x_dt.sort_values()\n",
    "x_dt\n",
    "\n",
    "plt.figure(figsize=(20, 7))\n",
    "sns.histplot(data=x_dt, binwidth=30)"
   ]
  },
  {
   "cell_type": "code",
   "execution_count": 77,
   "metadata": {},
   "outputs": [
    {
     "data": {
      "text/plain": [
       "contractenddate_991D\n",
       "True     0.549205\n",
       "False    0.450795\n",
       "Name: proportion, dtype: float64"
      ]
     },
     "execution_count": 77,
     "metadata": {},
     "output_type": "execute_result"
    }
   ],
   "source": [
    "# 결측치 여부\n",
    "x.isna().value_counts(normalize=True)"
   ]
  },
  {
   "cell_type": "code",
   "execution_count": 79,
   "metadata": {},
   "outputs": [
    {
     "data": {
      "text/plain": [
       "1524"
      ]
     },
     "execution_count": 79,
     "metadata": {},
     "output_type": "execute_result"
    }
   ],
   "source": [
    "# 고유 데이터 갯수\n",
    "x.nunique()"
   ]
  },
  {
   "cell_type": "markdown",
   "metadata": {},
   "source": [
    "##### &nbsp;(4) <b>openingdate_313D</b>: 대출|예금 계좌 개설일<br>\n",
    "&nbsp;&nbsp;&nbsp;- <b>데이터 타입</b><span style=\"font-size:16px;\">(갯수)</span>: object<span style=\"font-size:16px;\">(145,086개)</span><br>\n",
    "&nbsp;&nbsp;&nbsp;- <b>최빈 데이터</b><span style=\"font-size:16px;\">(갯수)</span>: 2014-07-11<span style=\"font-size:16px;\">(368개)</span><br>\n",
    "&nbsp;&nbsp;&nbsp;- <b>데이터 분포<span style=\"font-size:16px;\">(datetime64로 변환 후 분석)</span></b>: 2013년 말부터 급증 후 오르락 내리락 하다가 2016년도부터 쭉 하락함<span style=\"font-size:16px;\">(하단 셀 참고)</span><br>\n",
    "&nbsp;&nbsp;&nbsp;- <b>결측치 여부</b>: X<br>\n",
    "&nbsp;&nbsp;&nbsp;- <b>기타 논의/의문점</b>:<br>\n",
    "&nbsp;&nbsp;&nbsp;&nbsp;&nbsp;&nbsp;① 사람들마다의 대출 기간이 비슷하다면 언제쯤 대출이 많이 이루어지는지 알 수 있지 않을까요?<br>\n",
    "&nbsp;&nbsp;&nbsp;&nbsp;&nbsp;&nbsp;② <br>\n",
    "&nbsp;&nbsp;&nbsp;&nbsp;&nbsp;&nbsp;③ "
   ]
  },
  {
   "cell_type": "code",
   "execution_count": 14,
   "metadata": {},
   "outputs": [
    {
     "data": {
      "text/plain": [
       "(dtype('O'), 145086)"
      ]
     },
     "execution_count": 14,
     "metadata": {},
     "output_type": "execute_result"
    }
   ],
   "source": [
    "# 데이터 타입(갯수)\n",
    "x = deposit_1[\"openingdate_313D\"]\n",
    "x.dtype, x.count()"
   ]
  },
  {
   "cell_type": "code",
   "execution_count": 15,
   "metadata": {},
   "outputs": [
    {
     "data": {
      "text/plain": [
       "openingdate_313D\n",
       "2014-07-11    368\n",
       "2014-04-11    306\n",
       "2014-03-28    304\n",
       "2014-04-09    301\n",
       "2013-12-26    301\n",
       "             ... \n",
       "2007-04-10      1\n",
       "2006-10-24      1\n",
       "2004-01-01      1\n",
       "2003-09-30      1\n",
       "2017-04-23      1\n",
       "Name: count, Length: 1579, dtype: int64"
      ]
     },
     "execution_count": 15,
     "metadata": {},
     "output_type": "execute_result"
    }
   ],
   "source": [
    "# 최빈 데이터(갯수)\n",
    "x.value_counts(ascending=False)"
   ]
  },
  {
   "cell_type": "code",
   "execution_count": 12,
   "metadata": {},
   "outputs": [
    {
     "data": {
      "text/plain": [
       "<Axes: xlabel='openingdate_313D', ylabel='Count'>"
      ]
     },
     "execution_count": 12,
     "metadata": {},
     "output_type": "execute_result"
    },
    {
     "data": {
      "image/png": "[encoded data removed]",
      "text/plain": [
       "<Figure size 2000x700 with 1 Axes>"
      ]
     },
     "metadata": {},
     "output_type": "display_data"
    }
   ],
   "source": [
    "# 데이터 분포(datetime64로 변환 후 분석)\n",
    "x_dt = pd.to_datetime(x)\n",
    "x_dt = x_dt.sort_values()\n",
    "x_dt\n",
    "\n",
    "plt.figure(figsize=(20, 7))\n",
    "sns.histplot(data=x_dt, binwidth=30)"
   ]
  },
  {
   "cell_type": "code",
   "execution_count": 16,
   "metadata": {},
   "outputs": [
    {
     "data": {
      "text/plain": [
       "openingdate_313D\n",
       "False    1.0\n",
       "Name: proportion, dtype: float64"
      ]
     },
     "execution_count": 16,
     "metadata": {},
     "output_type": "execute_result"
    }
   ],
   "source": [
    "# 결측치 여부\n",
    "x.isna().value_counts(normalize=True)"
   ]
  },
  {
   "cell_type": "markdown",
   "metadata": {},
   "source": [
    "#### 05\\. person_2<br>"
   ]
  },
  {
   "cell_type": "markdown",
   "metadata": {},
   "source": [
    "&nbsp;&nbsp;1\\) Column별 내용<span style=\"font-size:16px;\">(추정)</span><br>\n",
    "&nbsp;(1) <b>addres_district_368M</b>: 고객의 거주 구역<span style=\"font-size:16px\" title=\"District of the person's address\">(원문)</span><br>\n",
    "&nbsp;(2) <b>addres_role_871L</b>: <span style=\"color:red;\">해석불가</span><span style=\"font-size:16px\" title=\"Role of person's address\">(원문)</span><br>\n",
    "&nbsp;(3) <b>addres_zip_823M</b>: 고객 주소의 우편번호<span style=\"font-size:16px\" title=\"Zip code of the address\">(원문)</span><br>\n",
    "&nbsp;(4) <b>conts_role_79M</b>: 고객의 연락수단 유형<span style=\"font-size:16px\" title=\"Type of contact role of a person\">(원문)</span><br>\n",
    "&nbsp;(5) <b>empls_economicalst_849M(num_group1 - person, num_group2 - employment)</b>: 고객의 재정 상태<span style=\"font-size:16px\" title=\"The economical status of the person\">(원문)</span><br>\n",
    "&nbsp;(6) <b>empls_employedfrom_796D(num_group1 - person, num_group2 - employment)</b>: 고객의 근무 시작 날짜<span style=\"font-size:16px\" title=\"Start of employment\">(원문)</span><br>\n",
    "&nbsp;(7) <b>empls_employer_name_740M(num_group1 - person, num_group2 - employment)</b>: 고객의 고용주 이름<span style=\"font-size:16px\" title=\"Employer's name\">(원문)</span><br>\n",
    "&nbsp;(8) <b>relatedpersons_role_762T(num_group1 - person, num_group2 - related person)</b>: <span style=\"color:red;\">해석불가</span><span style=\"font-size:16px\" title=\"Relationship type of a client's related person\">(원문)</span>"
   ]
  },
  {
   "cell_type": "code",
   "execution_count": 19,
   "metadata": {},
   "outputs": [
    {
     "data": {
      "text/html": [
       "<div>\n",
       "<style scoped>\n",
       "    .dataframe tbody tr th:only-of-type {\n",
       "        vertical-align: middle;\n",
       "    }\n",
       "\n",
       "    .dataframe tbody tr th {\n",
       "        vertical-align: top;\n",
       "    }\n",
       "\n",
       "    .dataframe thead th {\n",
       "        text-align: right;\n",
       "    }\n",
       "</style>\n",
       "<table border=\"1\" class=\"dataframe\">\n",
       "  <thead>\n",
       "    <tr style=\"text-align: right;\">\n",
       "      <th></th>\n",
       "      <th>case_id</th>\n",
       "      <th>addres_district_368M</th>\n",
       "      <th>addres_role_871L</th>\n",
       "      <th>addres_zip_823M</th>\n",
       "      <th>conts_role_79M</th>\n",
       "      <th>empls_economicalst_849M</th>\n",
       "      <th>empls_employedfrom_796D</th>\n",
       "      <th>empls_employer_name_740M</th>\n",
       "      <th>num_group1</th>\n",
       "      <th>num_group2</th>\n",
       "      <th>relatedpersons_role_762T</th>\n",
       "    </tr>\n",
       "  </thead>\n",
       "  <tbody>\n",
       "    <tr>\n",
       "      <th>0</th>\n",
       "      <td>5</td>\n",
       "      <td>a55475b1</td>\n",
       "      <td>None</td>\n",
       "      <td>a55475b1</td>\n",
       "      <td>a55475b1</td>\n",
       "      <td>a55475b1</td>\n",
       "      <td>None</td>\n",
       "      <td>a55475b1</td>\n",
       "      <td>0</td>\n",
       "      <td>0</td>\n",
       "      <td>None</td>\n",
       "    </tr>\n",
       "    <tr>\n",
       "      <th>1</th>\n",
       "      <td>6</td>\n",
       "      <td>P55_110_32</td>\n",
       "      <td>CONTACT</td>\n",
       "      <td>P10_68_40</td>\n",
       "      <td>P38_92_157</td>\n",
       "      <td>P164_110_33</td>\n",
       "      <td>None</td>\n",
       "      <td>a55475b1</td>\n",
       "      <td>0</td>\n",
       "      <td>0</td>\n",
       "      <td>None</td>\n",
       "    </tr>\n",
       "    <tr>\n",
       "      <th>2</th>\n",
       "      <td>6</td>\n",
       "      <td>P55_110_32</td>\n",
       "      <td>PERMANENT</td>\n",
       "      <td>P10_68_40</td>\n",
       "      <td>a55475b1</td>\n",
       "      <td>a55475b1</td>\n",
       "      <td>None</td>\n",
       "      <td>a55475b1</td>\n",
       "      <td>0</td>\n",
       "      <td>1</td>\n",
       "      <td>None</td>\n",
       "    </tr>\n",
       "    <tr>\n",
       "      <th>3</th>\n",
       "      <td>6</td>\n",
       "      <td>P204_92_178</td>\n",
       "      <td>CONTACT</td>\n",
       "      <td>P65_136_169</td>\n",
       "      <td>P38_92_157</td>\n",
       "      <td>P164_110_33</td>\n",
       "      <td>None</td>\n",
       "      <td>a55475b1</td>\n",
       "      <td>1</td>\n",
       "      <td>0</td>\n",
       "      <td>OTHER_RELATIVE</td>\n",
       "    </tr>\n",
       "    <tr>\n",
       "      <th>4</th>\n",
       "      <td>6</td>\n",
       "      <td>P191_109_75</td>\n",
       "      <td>CONTACT</td>\n",
       "      <td>P10_68_40</td>\n",
       "      <td>P7_147_157</td>\n",
       "      <td>a55475b1</td>\n",
       "      <td>None</td>\n",
       "      <td>a55475b1</td>\n",
       "      <td>1</td>\n",
       "      <td>1</td>\n",
       "      <td>OTHER_RELATIVE</td>\n",
       "    </tr>\n",
       "    <tr>\n",
       "      <th>...</th>\n",
       "      <td>...</td>\n",
       "      <td>...</td>\n",
       "      <td>...</td>\n",
       "      <td>...</td>\n",
       "      <td>...</td>\n",
       "      <td>...</td>\n",
       "      <td>...</td>\n",
       "      <td>...</td>\n",
       "      <td>...</td>\n",
       "      <td>...</td>\n",
       "      <td>...</td>\n",
       "    </tr>\n",
       "    <tr>\n",
       "      <th>1643405</th>\n",
       "      <td>2703450</td>\n",
       "      <td>a55475b1</td>\n",
       "      <td>None</td>\n",
       "      <td>a55475b1</td>\n",
       "      <td>a55475b1</td>\n",
       "      <td>a55475b1</td>\n",
       "      <td>None</td>\n",
       "      <td>a55475b1</td>\n",
       "      <td>0</td>\n",
       "      <td>0</td>\n",
       "      <td>None</td>\n",
       "    </tr>\n",
       "    <tr>\n",
       "      <th>1643406</th>\n",
       "      <td>2703451</td>\n",
       "      <td>a55475b1</td>\n",
       "      <td>None</td>\n",
       "      <td>a55475b1</td>\n",
       "      <td>a55475b1</td>\n",
       "      <td>a55475b1</td>\n",
       "      <td>None</td>\n",
       "      <td>a55475b1</td>\n",
       "      <td>0</td>\n",
       "      <td>0</td>\n",
       "      <td>None</td>\n",
       "    </tr>\n",
       "    <tr>\n",
       "      <th>1643407</th>\n",
       "      <td>2703452</td>\n",
       "      <td>a55475b1</td>\n",
       "      <td>None</td>\n",
       "      <td>a55475b1</td>\n",
       "      <td>a55475b1</td>\n",
       "      <td>a55475b1</td>\n",
       "      <td>None</td>\n",
       "      <td>a55475b1</td>\n",
       "      <td>0</td>\n",
       "      <td>0</td>\n",
       "      <td>None</td>\n",
       "    </tr>\n",
       "    <tr>\n",
       "      <th>1643408</th>\n",
       "      <td>2703453</td>\n",
       "      <td>a55475b1</td>\n",
       "      <td>None</td>\n",
       "      <td>a55475b1</td>\n",
       "      <td>a55475b1</td>\n",
       "      <td>a55475b1</td>\n",
       "      <td>None</td>\n",
       "      <td>a55475b1</td>\n",
       "      <td>0</td>\n",
       "      <td>0</td>\n",
       "      <td>None</td>\n",
       "    </tr>\n",
       "    <tr>\n",
       "      <th>1643409</th>\n",
       "      <td>2703454</td>\n",
       "      <td>a55475b1</td>\n",
       "      <td>None</td>\n",
       "      <td>a55475b1</td>\n",
       "      <td>a55475b1</td>\n",
       "      <td>a55475b1</td>\n",
       "      <td>None</td>\n",
       "      <td>a55475b1</td>\n",
       "      <td>0</td>\n",
       "      <td>0</td>\n",
       "      <td>None</td>\n",
       "    </tr>\n",
       "  </tbody>\n",
       "</table>\n",
       "<p>1643410 rows × 11 columns</p>\n",
       "</div>"
      ],
      "text/plain": [
       "         case_id addres_district_368M addres_role_871L addres_zip_823M  \\\n",
       "0              5             a55475b1             None        a55475b1   \n",
       "1              6           P55_110_32          CONTACT       P10_68_40   \n",
       "2              6           P55_110_32        PERMANENT       P10_68_40   \n",
       "3              6          P204_92_178          CONTACT     P65_136_169   \n",
       "4              6          P191_109_75          CONTACT       P10_68_40   \n",
       "...          ...                  ...              ...             ...   \n",
       "1643405  2703450             a55475b1             None        a55475b1   \n",
       "1643406  2703451             a55475b1             None        a55475b1   \n",
       "1643407  2703452             a55475b1             None        a55475b1   \n",
       "1643408  2703453             a55475b1             None        a55475b1   \n",
       "1643409  2703454             a55475b1             None        a55475b1   \n",
       "\n",
       "        conts_role_79M empls_economicalst_849M empls_employedfrom_796D  \\\n",
       "0             a55475b1                a55475b1                    None   \n",
       "1           P38_92_157             P164_110_33                    None   \n",
       "2             a55475b1                a55475b1                    None   \n",
       "3           P38_92_157             P164_110_33                    None   \n",
       "4           P7_147_157                a55475b1                    None   \n",
       "...                ...                     ...                     ...   \n",
       "1643405       a55475b1                a55475b1                    None   \n",
       "1643406       a55475b1                a55475b1                    None   \n",
       "1643407       a55475b1                a55475b1                    None   \n",
       "1643408       a55475b1                a55475b1                    None   \n",
       "1643409       a55475b1                a55475b1                    None   \n",
       "\n",
       "        empls_employer_name_740M  num_group1  num_group2  \\\n",
       "0                       a55475b1           0           0   \n",
       "1                       a55475b1           0           0   \n",
       "2                       a55475b1           0           1   \n",
       "3                       a55475b1           1           0   \n",
       "4                       a55475b1           1           1   \n",
       "...                          ...         ...         ...   \n",
       "1643405                 a55475b1           0           0   \n",
       "1643406                 a55475b1           0           0   \n",
       "1643407                 a55475b1           0           0   \n",
       "1643408                 a55475b1           0           0   \n",
       "1643409                 a55475b1           0           0   \n",
       "\n",
       "        relatedpersons_role_762T  \n",
       "0                           None  \n",
       "1                           None  \n",
       "2                           None  \n",
       "3                 OTHER_RELATIVE  \n",
       "4                 OTHER_RELATIVE  \n",
       "...                          ...  \n",
       "1643405                     None  \n",
       "1643406                     None  \n",
       "1643407                     None  \n",
       "1643408                     None  \n",
       "1643409                     None  \n",
       "\n",
       "[1643410 rows x 11 columns]"
      ]
     },
     "execution_count": 19,
     "metadata": {},
     "output_type": "execute_result"
    }
   ],
   "source": [
    "person_2 = pd.read_parquet(\"Datas/parquet_files/train/train_person_2.parquet\")\n",
    "person_2"
   ]
  },
  {
   "cell_type": "markdown",
   "metadata": {},
   "source": [
    "&nbsp;&nbsp;2\\) 파일 전체에서 관찰되는 특징 및 논의점<br>\n",
    "&nbsp;(1) <br>\n",
    "&nbsp;&nbsp;&nbsp;&nbsp;&nbsp;&nbsp;<span style=\"color:orange;\">→ ?</span><br>\n",
    "&nbsp;(2) <br>\n",
    "&nbsp;(3) <br>"
   ]
  },
  {
   "cell_type": "code",
   "execution_count": 20,
   "metadata": {},
   "outputs": [
    {
     "name": "stdout",
     "output_type": "stream",
     "text": [
      "<class 'pandas.core.frame.DataFrame'>\n",
      "RangeIndex: 1643410 entries, 0 to 1643409\n",
      "Data columns (total 11 columns):\n",
      " #   Column                    Non-Null Count    Dtype \n",
      "---  ------                    --------------    ----- \n",
      " 0   case_id                   1643410 non-null  int64 \n",
      " 1   addres_district_368M      1643410 non-null  object\n",
      " 2   addres_role_871L          67674 non-null    object\n",
      " 3   addres_zip_823M           1643410 non-null  object\n",
      " 4   conts_role_79M            1643410 non-null  object\n",
      " 5   empls_economicalst_849M   1643410 non-null  object\n",
      " 6   empls_employedfrom_796D   5757 non-null     object\n",
      " 7   empls_employer_name_740M  1643410 non-null  object\n",
      " 8   num_group1                1643410 non-null  int64 \n",
      " 9   num_group2                1643410 non-null  int64 \n",
      " 10  relatedpersons_role_762T  28726 non-null    object\n",
      "dtypes: int64(3), object(8)\n",
      "memory usage: 664.4 MB\n"
     ]
    }
   ],
   "source": [
    "person_2.info(memory_usage=\"deep\", show_counts=True)"
   ]
  },
  {
   "cell_type": "code",
   "execution_count": 23,
   "metadata": {},
   "outputs": [
    {
     "data": {
      "text/plain": [
       "empls_employedfrom_796D\n",
       "True     0.996497\n",
       "False    0.003503\n",
       "Name: proportion, dtype: float64"
      ]
     },
     "execution_count": 23,
     "metadata": {},
     "output_type": "execute_result"
    }
   ],
   "source": [
    "person_2[\"empls_employedfrom_796D\"].isna().value_counts(normalize=True)"
   ]
  },
  {
   "cell_type": "markdown",
   "metadata": {},
   "source": [
    "3\\) Column별로 관찰되는 특징"
   ]
  },
  {
   "cell_type": "markdown",
   "metadata": {},
   "source": [
    "##### (1) <b>case_id</b>\n",
    "&nbsp;&nbsp;&nbsp;- <b>데이터 타입<span style=\"font-size:16px;\">(갯수)</span></b>: int64<span style=\"font-size:16px;\">(1,643,410개)</span><br>\n",
    "&nbsp;&nbsp;&nbsp;- <b>최빈 데이터<span style=\"font-size:16px;\">(갯수)</span></b>: 140528, 1336868<span style=\"font-size:16px;\">(34개)</span><br>\n",
    "&nbsp;&nbsp;&nbsp;- <b>결측치 여부</b>: X<br>\n",
    "&nbsp;&nbsp;&nbsp;- <b>고유 데이터 갯수</b>: 1,643,410명<br>\n",
    "&nbsp;&nbsp;&nbsp;- <b>기타 논의/의문점</b>:<br>\n",
    "&nbsp;&nbsp;&nbsp;&nbsp;&nbsp;&nbsp;① <br>\n",
    "&nbsp;&nbsp;&nbsp;&nbsp;&nbsp;&nbsp;② <br>\n",
    "&nbsp;&nbsp;&nbsp;&nbsp;&nbsp;&nbsp;③ "
   ]
  },
  {
   "cell_type": "code",
   "execution_count": 29,
   "metadata": {},
   "outputs": [
    {
     "data": {
      "text/plain": [
       "(dtype('int64'), 1643410)"
      ]
     },
     "execution_count": 29,
     "metadata": {},
     "output_type": "execute_result"
    }
   ],
   "source": [
    "# 데이터 타입(갯수)\n",
    "x = person_2[\"case_id\"]\n",
    "x.dtype, x.count()"
   ]
  },
  {
   "cell_type": "code",
   "execution_count": 30,
   "metadata": {},
   "outputs": [
    {
     "data": {
      "text/plain": [
       "case_id\n",
       "140528     34\n",
       "1336868    34\n",
       "203731     32\n",
       "169916     31\n",
       "259366     31\n",
       "           ..\n",
       "959731      1\n",
       "959730      1\n",
       "959729      1\n",
       "959728      1\n",
       "2703454     1\n",
       "Name: count, Length: 1435105, dtype: int64"
      ]
     },
     "execution_count": 30,
     "metadata": {},
     "output_type": "execute_result"
    }
   ],
   "source": [
    "# 최빈 데이터(갯수)\n",
    "x.value_counts(ascending=False)"
   ]
  },
  {
   "cell_type": "code",
   "execution_count": 31,
   "metadata": {},
   "outputs": [
    {
     "data": {
      "text/plain": [
       "case_id\n",
       "False    1643410\n",
       "Name: count, dtype: int64"
      ]
     },
     "execution_count": 31,
     "metadata": {},
     "output_type": "execute_result"
    }
   ],
   "source": [
    "# 결측치 여부\n",
    "x.isna().value_counts()"
   ]
  },
  {
   "cell_type": "code",
   "execution_count": 32,
   "metadata": {},
   "outputs": [
    {
     "data": {
      "text/plain": [
       "1435105"
      ]
     },
     "execution_count": 32,
     "metadata": {},
     "output_type": "execute_result"
    }
   ],
   "source": [
    "# 고유 데이터 갯수\n",
    "x.nunique()"
   ]
  },
  {
   "cell_type": "markdown",
   "metadata": {},
   "source": [
    "##### (2) <b>addres_district_368M</b>: 고객의 거주 구역<br>\n",
    "&nbsp;&nbsp;&nbsp;- <b>데이터 타입<span style=\"font-size:16px;\">(갯수)</span></b>: opject<span style=\"font-size:16px;\">(12,216개)</span><br>\n",
    "&nbsp;&nbsp;&nbsp;- <b>최빈 데이터<span style=\"font-size:16px;\">(비율)</span></b>: a55475b1<span style=\"font-size:16px;\">(약 96.3%)</span><br>\n",
    "&nbsp;&nbsp;&nbsp;- <b>a55475b1 뺀 최빈 데이터<span style=\"font-size:16px;\">(비율)</span></b>: P125_48_164<span style=\"font-size:16px;\">(약 16.0%)</span><br>\n",
    "&nbsp;&nbsp;&nbsp;&nbsp;&nbsp;&nbsp;<span style=\"color:orange;\">→ 이것도 해석해 볼 만한 여지가 있지 않을까요?</span><br>\n",
    "&nbsp;&nbsp;&nbsp;- <b>결측치 여부</b>: X<br>\n",
    "&nbsp;&nbsp;&nbsp;- <b>고유 데이터 갯수</b>: 508개<br>\n",
    "&nbsp;&nbsp;&nbsp;- <b>기타 논의/의문점</b>:<br>\n",
    "&nbsp;&nbsp;&nbsp;&nbsp;&nbsp;&nbsp;① <br>\n",
    "&nbsp;&nbsp;&nbsp;&nbsp;&nbsp;&nbsp;② <br>\n",
    "&nbsp;&nbsp;&nbsp;&nbsp;&nbsp;&nbsp;③ "
   ]
  },
  {
   "cell_type": "code",
   "execution_count": 33,
   "metadata": {},
   "outputs": [
    {
     "data": {
      "text/plain": [
       "(dtype('O'), 1643410)"
      ]
     },
     "execution_count": 33,
     "metadata": {},
     "output_type": "execute_result"
    }
   ],
   "source": [
    "# 데이터 타입(갯수)\n",
    "x = person_2[\"addres_district_368M\"]\n",
    "x.dtype, x.count()"
   ]
  },
  {
   "cell_type": "code",
   "execution_count": 34,
   "metadata": {},
   "outputs": [
    {
     "data": {
      "text/plain": [
       "addres_district_368M\n",
       "a55475b1        9.631632e-01\n",
       "P125_48_164     5.883498e-03\n",
       "P155_139_77     2.490553e-03\n",
       "P114_74_190     1.552869e-03\n",
       "P111_2_12       1.501755e-03\n",
       "                    ...     \n",
       "P180_30_168     6.084909e-07\n",
       "P150_123_175    6.084909e-07\n",
       "P191_79_125     6.084909e-07\n",
       "P185_126_64     6.084909e-07\n",
       "P113_141_141    6.084909e-07\n",
       "Name: proportion, Length: 508, dtype: float64"
      ]
     },
     "execution_count": 34,
     "metadata": {},
     "output_type": "execute_result"
    }
   ],
   "source": [
    "# 최빈 데이터(비율)\n",
    "x.value_counts(ascending=False, normalize=True)"
   ]
  },
  {
   "cell_type": "code",
   "execution_count": 72,
   "metadata": {},
   "outputs": [
    {
     "data": {
      "text/plain": [
       "addres_zip_823M\n",
       "P161_14_174     0.089021\n",
       "P144_138_111    0.050791\n",
       "P46_103_143     0.049165\n",
       "P85_138_173     0.035367\n",
       "P118_161_181    0.031802\n",
       "                  ...   \n",
       "P69_128_178     0.000015\n",
       "P77_151_173     0.000015\n",
       "P22_23_6        0.000015\n",
       "P127_75_187     0.000015\n",
       "P130_157_145    0.000015\n",
       "Name: proportion, Length: 2026, dtype: float64"
      ]
     },
     "execution_count": 72,
     "metadata": {},
     "output_type": "execute_result"
    }
   ],
   "source": [
    "# a55475b1 뺀 최빈 데이터\n",
    "x_nonnull = x[x != \"a55475b1\"]\n",
    "x_nonnull.value_counts(ascending=False, normalize=True)"
   ]
  },
  {
   "cell_type": "code",
   "execution_count": 53,
   "metadata": {},
   "outputs": [
    {
     "data": {
      "text/plain": [
       "addres_district_368M\n",
       "False    1643410\n",
       "Name: count, dtype: int64"
      ]
     },
     "execution_count": 53,
     "metadata": {},
     "output_type": "execute_result"
    }
   ],
   "source": [
    "# 결측치 여부\n",
    "x.isna().value_counts()"
   ]
  },
  {
   "cell_type": "code",
   "execution_count": 54,
   "metadata": {},
   "outputs": [
    {
     "data": {
      "text/plain": [
       "508"
      ]
     },
     "execution_count": 54,
     "metadata": {},
     "output_type": "execute_result"
    }
   ],
   "source": [
    "# 고유 데이터 갯수\n",
    "x.nunique()"
   ]
  },
  {
   "cell_type": "markdown",
   "metadata": {},
   "source": [
    "##### (3) <b>addres_role_871L</b>: Role of person's address<br>\n",
    "&nbsp;&nbsp;&nbsp;- <b>데이터 타입<span style=\"font-size:16px;\">(갯수)</span></b>: object<span style=\"font-size:16px;\">(67,674개)</span><br>\n",
    "&nbsp;&nbsp;&nbsp;- <b>데이터 분포<span style=\"font-size:16px;\">(countplot)</span></b>: 하단 셀 참고<br>\n",
    "&nbsp;&nbsp;&nbsp;- <b>결측치 비율</b>: 약 95.9%<br>\n",
    "&nbsp;&nbsp;&nbsp;- <b>기타 논의/의문점</b>:<br>\n",
    "&nbsp;&nbsp;&nbsp;&nbsp;&nbsp;&nbsp;① 개인의 상환 능력을 판단하기에는 도움이 안 되는 자료 같음<br>\n",
    "&nbsp;&nbsp;&nbsp;&nbsp;&nbsp;&nbsp;② <br>\n",
    "&nbsp;&nbsp;&nbsp;&nbsp;&nbsp;&nbsp;③ "
   ]
  },
  {
   "cell_type": "code",
   "execution_count": 56,
   "metadata": {},
   "outputs": [
    {
     "data": {
      "text/plain": [
       "(dtype('O'), 67674)"
      ]
     },
     "execution_count": 56,
     "metadata": {},
     "output_type": "execute_result"
    }
   ],
   "source": [
    "# 데이터 타입(갯수)\n",
    "x = person_2[\"addres_role_871L\"]\n",
    "x.dtype, x.count()"
   ]
  },
  {
   "cell_type": "code",
   "execution_count": 67,
   "metadata": {},
   "outputs": [
    {
     "data": {
      "text/plain": [
       "<Axes: xlabel='addres_role_871L', ylabel='count'>"
      ]
     },
     "execution_count": 67,
     "metadata": {},
     "output_type": "execute_result"
    },
    {
     "data": {
      "image/png": "[encoded data removed]",
      "text/plain": [
       "<Figure size 2000x500 with 1 Axes>"
      ]
     },
     "metadata": {},
     "output_type": "display_data"
    }
   ],
   "source": [
    "# 데이터 분포(countplot)\n",
    "plt.figure(figsize=(20, 5))\n",
    "sns.countplot(data=x, x=x, palette=\"spring\")"
   ]
  },
  {
   "cell_type": "code",
   "execution_count": 68,
   "metadata": {},
   "outputs": [
    {
     "data": {
      "text/plain": [
       "addres_role_871L\n",
       "True     0.958821\n",
       "False    0.041179\n",
       "Name: proportion, dtype: float64"
      ]
     },
     "execution_count": 68,
     "metadata": {},
     "output_type": "execute_result"
    }
   ],
   "source": [
    "# 결측치 비율\n",
    "x.isna().value_counts(normalize=True)"
   ]
  },
  {
   "cell_type": "markdown",
   "metadata": {},
   "source": [
    "##### (4) <b>addres_zip_823M</b>: 고객 주소의 우편번호<br>\n",
    "&nbsp;&nbsp;&nbsp;- <b>데이터 타입<span style=\"font-size:16px;\">(갯수)</span></b>: object<span style=\"font-size:16px;\">(1,643,410개)</span><br>\n",
    "&nbsp;&nbsp;&nbsp;- <b>최빈 데이터<span style=\"font-size:16px;\">(비율)</span></b>: a55475b1<span style=\"font-size:16px;\">(약 95.9%)</span><br>\n",
    "&nbsp;&nbsp;&nbsp;&nbsp;&nbsp;&nbsp;<span style=\"color:orange;\">→ 우편번호가 없다는 것은 무엇을 뜻하는 걸까요?</span><br>\n",
    "&nbsp;&nbsp;&nbsp;- <b>결측치 여부</b>: X<br>\n",
    "&nbsp;&nbsp;&nbsp;- <b>기타 논의/의문점</b>:<br>\n",
    "&nbsp;&nbsp;&nbsp;&nbsp;&nbsp;&nbsp;① 개인의 상환 능력을 판단하기에는 도움이 안 되는 자료 같음<br>\n",
    "&nbsp;&nbsp;&nbsp;&nbsp;&nbsp;&nbsp;② <br>\n",
    "&nbsp;&nbsp;&nbsp;&nbsp;&nbsp;&nbsp;③ "
   ]
  },
  {
   "cell_type": "code",
   "execution_count": 69,
   "metadata": {},
   "outputs": [
    {
     "data": {
      "text/plain": [
       "(dtype('O'), 1643410)"
      ]
     },
     "execution_count": 69,
     "metadata": {},
     "output_type": "execute_result"
    }
   ],
   "source": [
    "# 데이터 타입(갯수)\n",
    "x = person_2[\"addres_zip_823M\"]\n",
    "x.dtype, x.count()"
   ]
  },
  {
   "cell_type": "code",
   "execution_count": 70,
   "metadata": {},
   "outputs": [
    {
     "data": {
      "text/plain": [
       "addres_zip_823M\n",
       "a55475b1        9.592068e-01\n",
       "P161_14_174     3.631474e-03\n",
       "P144_138_111    2.071911e-03\n",
       "P46_103_143     2.005586e-03\n",
       "P85_138_173     1.442732e-03\n",
       "                    ...     \n",
       "P89_135_161     6.084909e-07\n",
       "P98_135_175     6.084909e-07\n",
       "P98_50_168      6.084909e-07\n",
       "P26_101_80      6.084909e-07\n",
       "P88_42_171      6.084909e-07\n",
       "Name: proportion, Length: 2027, dtype: float64"
      ]
     },
     "execution_count": 70,
     "metadata": {},
     "output_type": "execute_result"
    }
   ],
   "source": [
    "# 최빈 데이터(비율)\n",
    "x.value_counts(ascending=False, normalize=True)"
   ]
  },
  {
   "cell_type": "code",
   "execution_count": 73,
   "metadata": {},
   "outputs": [
    {
     "data": {
      "text/plain": [
       "addres_zip_823M\n",
       "False    1.0\n",
       "Name: proportion, dtype: float64"
      ]
     },
     "execution_count": 73,
     "metadata": {},
     "output_type": "execute_result"
    }
   ],
   "source": [
    "# 결측치 비율\n",
    "x.isna().value_counts(normalize=True)"
   ]
  },
  {
   "cell_type": "markdown",
   "metadata": {},
   "source": [
    "##### (5) <b>conts_role_79M</b>: 고객의 연락수단 유형<br>\n",
    "&nbsp;&nbsp;&nbsp;- <b>데이터 타입<span style=\"font-size:16px;\">(갯수)</span></b>: object<span style=\"font-size:16px;\">(144,591개)</span><br>\n",
    "&nbsp;&nbsp;&nbsp;- <b>결측치 여부</b>: X<br>\n",
    "&nbsp;&nbsp;&nbsp;- <b>기타 논의/의문점</b>:<br>\n",
    "&nbsp;&nbsp;&nbsp;&nbsp;&nbsp;&nbsp;① 개인의 상환 능력을 판단하기에는 도움이 안 되는 자료 같음<br>\n",
    "&nbsp;&nbsp;&nbsp;&nbsp;&nbsp;&nbsp;② <br>\n",
    "&nbsp;&nbsp;&nbsp;&nbsp;&nbsp;&nbsp;③ "
   ]
  },
  {
   "cell_type": "code",
   "execution_count": 76,
   "metadata": {},
   "outputs": [
    {
     "data": {
      "text/plain": [
       "(dtype('O'), 1643410)"
      ]
     },
     "execution_count": 76,
     "metadata": {},
     "output_type": "execute_result"
    }
   ],
   "source": [
    "# 데이터 타입(갯수)\n",
    "x = person_2[\"conts_role_79M\"]\n",
    "x.dtype, x.count()"
   ]
  },
  {
   "cell_type": "code",
   "execution_count": 77,
   "metadata": {},
   "outputs": [
    {
     "data": {
      "text/plain": [
       "conts_role_79M\n",
       "False    1.0\n",
       "Name: proportion, dtype: float64"
      ]
     },
     "execution_count": 77,
     "metadata": {},
     "output_type": "execute_result"
    }
   ],
   "source": [
    "# 결측치 여부\n",
    "x.isna().value_counts(normalize=True)"
   ]
  },
  {
   "cell_type": "markdown",
   "metadata": {},
   "source": [
    "##### (6) <b>empls_economicalst_849M(num_group1 - person, num_group2 - employment)</b>: 고객의 재정 상태<br>\n",
    "&nbsp;&nbsp;&nbsp;- <b>데이터 타입<span style=\"font-size:16px;\">(갯수)</span></b>: object<span style=\"font-size:16px;\">(1,643,410개)</span><br>\n",
    "&nbsp;&nbsp;&nbsp;- <b>a55475b1 뺀 최빈 데이터<span style=\"font-size:16px;\">(비율)</span></b>: P22_131_138<span style=\"font-size:16px;\">(약 37.6%)</span><br>\n",
    "&nbsp;&nbsp;&nbsp;- <b>a55475b1 뺀 데이터 분포</b>: <span style=\"font-size:16px;\">(하단 셀 참조)</span><br>\n",
    "&nbsp;&nbsp;&nbsp;- <b>결측치 여부</b>: X<br>\n",
    "&nbsp;&nbsp;&nbsp;- <b>기타 논의/의문점</b>:<br>\n",
    "&nbsp;&nbsp;&nbsp;&nbsp;&nbsp;&nbsp;① 이건 Masking되어 있어도 해석해 볼 가치가 있을 듯...?<br>\n",
    "&nbsp;&nbsp;&nbsp;&nbsp;&nbsp;&nbsp;② <br>\n",
    "&nbsp;&nbsp;&nbsp;&nbsp;&nbsp;&nbsp;③ "
   ]
  },
  {
   "cell_type": "code",
   "execution_count": 81,
   "metadata": {},
   "outputs": [
    {
     "data": {
      "text/plain": [
       "(dtype('O'), 1643410)"
      ]
     },
     "execution_count": 81,
     "metadata": {},
     "output_type": "execute_result"
    }
   ],
   "source": [
    "# 데이터 타입(갯수)\n",
    "x = person_2[\"empls_economicalst_849M\"]\n",
    "x.dtype, x.count()"
   ]
  },
  {
   "cell_type": "code",
   "execution_count": 82,
   "metadata": {},
   "outputs": [
    {
     "data": {
      "text/plain": [
       "empls_economicalst_849M\n",
       "P22_131_138    0.376557\n",
       "P164_110_33    0.263994\n",
       "P28_32_178     0.254449\n",
       "P148_57_109    0.075675\n",
       "P112_86_147    0.018929\n",
       "P191_80_124    0.004611\n",
       "P7_47_145      0.003195\n",
       "P164_122_65    0.002467\n",
       "P82_144_169    0.000121\n",
       "Name: proportion, dtype: float64"
      ]
     },
     "execution_count": 82,
     "metadata": {},
     "output_type": "execute_result"
    }
   ],
   "source": [
    "# a55475b1 뺀 최빈 데이터\n",
    "x_nonnull = x[x != \"a55475b1\"]\n",
    "x_nonnull.value_counts(ascending=False, normalize=True)"
   ]
  },
  {
   "cell_type": "code",
   "execution_count": 85,
   "metadata": {},
   "outputs": [
    {
     "data": {
      "text/plain": [
       "<Axes: xlabel='empls_economicalst_849M', ylabel='count'>"
      ]
     },
     "execution_count": 85,
     "metadata": {},
     "output_type": "execute_result"
    },
    {
     "data": {
      "image/png": "[encoded data removed]",
      "text/plain": [
       "<Figure size 1500x500 with 1 Axes>"
      ]
     },
     "metadata": {},
     "output_type": "display_data"
    }
   ],
   "source": [
    "# a55475b1 뺀 데이터 분포\n",
    "plt.figure(figsize=(15, 5))\n",
    "sns.countplot(data=x_nonnull, x=x_nonnull, palette=\"spring\")"
   ]
  },
  {
   "cell_type": "code",
   "execution_count": 87,
   "metadata": {},
   "outputs": [
    {
     "data": {
      "text/plain": [
       "empls_economicalst_849M\n",
       "False    1.0\n",
       "Name: proportion, dtype: float64"
      ]
     },
     "execution_count": 87,
     "metadata": {},
     "output_type": "execute_result"
    }
   ],
   "source": [
    "# 결측치 여부\n",
    "x.isna().value_counts(normalize=True)"
   ]
  },
  {
   "cell_type": "markdown",
   "metadata": {},
   "source": [
    "##### (7) <b>empls_employedfrom_796D(num_group1 - person, num_group2 - employment)</b>: 고객의 근무 시작 날짜<br>\n",
    "&nbsp;&nbsp;&nbsp;- <b>데이터 타입<span style=\"font-size:16px;\">(갯수)</span></b>: object<span style=\"font-size:16px;\">(5,757개)</span><br>\n",
    "&nbsp;&nbsp;&nbsp;- <b>최빈 데이터<span style=\"font-size:16px;\">(갯수)</span></b>: 2017-01-15<span style=\"font-size:16px;\">(228개)</span><br>\n",
    "&nbsp;&nbsp;&nbsp;- <b>데이터 분포<span style=\"font-size:16px;\">(datetime64로 변환 후 확인)</span></b>: 하단 셀 참고<br>\n",
    "&nbsp;&nbsp;&nbsp;- <b>결측치 비율</b>: 약 99.6%<br>\n",
    "&nbsp;&nbsp;&nbsp;- <b>기타 논의/의문점</b>:<br>\n",
    "&nbsp;&nbsp;&nbsp;&nbsp;&nbsp;&nbsp;① 개인의 상환 능력을 판단하기에는 도움이 안 되는 자료 같음<br>\n",
    "&nbsp;&nbsp;&nbsp;&nbsp;&nbsp;&nbsp;② <br>\n",
    "&nbsp;&nbsp;&nbsp;&nbsp;&nbsp;&nbsp;③ "
   ]
  },
  {
   "cell_type": "code",
   "execution_count": 92,
   "metadata": {},
   "outputs": [
    {
     "data": {
      "text/plain": [
       "(dtype('O'), 5757)"
      ]
     },
     "execution_count": 92,
     "metadata": {},
     "output_type": "execute_result"
    }
   ],
   "source": [
    "# 데이터 타입(갯수)\n",
    "x = person_2[\"empls_employedfrom_796D\"]\n",
    "x.dtype, x.count()"
   ]
  },
  {
   "cell_type": "code",
   "execution_count": 93,
   "metadata": {},
   "outputs": [
    {
     "data": {
      "text/plain": [
       "empls_employedfrom_796D\n",
       "2017-01-15    228\n",
       "2016-01-15    196\n",
       "2015-01-15    181\n",
       "2018-01-15    125\n",
       "2013-01-15    113\n",
       "             ... \n",
       "2014-03-16      1\n",
       "2017-07-12      1\n",
       "2019-01-01      1\n",
       "1989-08-15      1\n",
       "2013-02-19      1\n",
       "Name: count, Length: 801, dtype: int64"
      ]
     },
     "execution_count": 93,
     "metadata": {},
     "output_type": "execute_result"
    }
   ],
   "source": [
    "# 최빈 데이터(갯수)\n",
    "x.value_counts(ascending=False)"
   ]
  },
  {
   "cell_type": "code",
   "execution_count": 90,
   "metadata": {},
   "outputs": [
    {
     "data": {
      "text/plain": [
       "<Axes: xlabel='empls_employedfrom_796D', ylabel='Count'>"
      ]
     },
     "execution_count": 90,
     "metadata": {},
     "output_type": "execute_result"
    },
    {
     "data": {
      "image/png": "[encoded data removed]",
      "text/plain": [
       "<Figure size 2000x700 with 1 Axes>"
      ]
     },
     "metadata": {},
     "output_type": "display_data"
    }
   ],
   "source": [
    "# 데이터 분포\n",
    "x_dt = pd.to_datetime(x)\n",
    "x_dt = x_dt.sort_values()\n",
    "x_dt\n",
    "\n",
    "plt.figure(figsize=(20, 7))\n",
    "sns.histplot(data=x_dt, binwidth=30)"
   ]
  },
  {
   "cell_type": "code",
   "execution_count": 91,
   "metadata": {},
   "outputs": [
    {
     "data": {
      "text/plain": [
       "empls_employedfrom_796D\n",
       "True     0.996497\n",
       "False    0.003503\n",
       "Name: proportion, dtype: float64"
      ]
     },
     "execution_count": 91,
     "metadata": {},
     "output_type": "execute_result"
    }
   ],
   "source": [
    "# 결측치 비율\n",
    "x.isna().value_counts(normalize=True)"
   ]
  },
  {
   "cell_type": "markdown",
   "metadata": {},
   "source": [
    "##### (8) <b>empls_employer_name_740M(num_group1 - person, num_group2 - employment)</b>: 고객의 고용주 이름<br>\n",
    "&nbsp;&nbsp;&nbsp;- <b>데이터 타입<span style=\"font-size:16px;\">(갯수)</span></b>: object<span style=\"font-size:16px;\">(1,643,410개)</span><br>\n",
    "&nbsp;&nbsp;&nbsp;- <b>결측치 여부</b>: X<br>\n",
    "&nbsp;&nbsp;&nbsp;- <b>기타 논의/의문점</b>:<br>\n",
    "&nbsp;&nbsp;&nbsp;&nbsp;&nbsp;&nbsp;① 개인의 상환 능력을 판단하기에는 도움이 안 되는 자료 같음<br>\n",
    "&nbsp;&nbsp;&nbsp;&nbsp;&nbsp;&nbsp;② <br>\n",
    "&nbsp;&nbsp;&nbsp;&nbsp;&nbsp;&nbsp;③ "
   ]
  },
  {
   "cell_type": "code",
   "execution_count": 96,
   "metadata": {},
   "outputs": [
    {
     "data": {
      "text/plain": [
       "(dtype('O'), 1643410)"
      ]
     },
     "execution_count": 96,
     "metadata": {},
     "output_type": "execute_result"
    }
   ],
   "source": [
    "# 데이터 타입(갯수)\n",
    "x = person_2[\"empls_economicalst_849M\"]\n",
    "x.dtype, x.count()"
   ]
  },
  {
   "cell_type": "code",
   "execution_count": 98,
   "metadata": {},
   "outputs": [
    {
     "data": {
      "text/plain": [
       "empls_economicalst_849M\n",
       "False    1.0\n",
       "Name: proportion, dtype: float64"
      ]
     },
     "execution_count": 98,
     "metadata": {},
     "output_type": "execute_result"
    }
   ],
   "source": [
    "# 결측치 비율\n",
    "x.isna().value_counts(normalize=True)"
   ]
  },
  {
   "cell_type": "markdown",
   "metadata": {},
   "source": [
    "##### (9) <b>relatedpersons_role_762T(num_group1 - person, num_group2 - employment)</b>: Relationship type of a client's related person<br>\n",
    "&nbsp;&nbsp;&nbsp;- <b>데이터 타입<span style=\"font-size:16px;\">(갯수)</span></b>: object<span style=\"font-size:16px;\">(28,726개)</span><br>\n",
    "&nbsp;&nbsp;&nbsp;- <b>데이터 분포</b>: object<span style=\"font-size:16px;\">(하단 셀 참조)</span><br>\n",
    "&nbsp;&nbsp;&nbsp;- <b>결측치 비율</b>: 98.2%<br>\n",
    "&nbsp;&nbsp;&nbsp;- <b>기타 논의/의문점</b>:<br>\n",
    "&nbsp;&nbsp;&nbsp;&nbsp;&nbsp;&nbsp;① 개인의 상환 능력을 판단하기에는 <b>직접적인 도움</b>이 안 되는 자료 같음<br>\n",
    "&nbsp;&nbsp;&nbsp;&nbsp;&nbsp;&nbsp;② <br>\n",
    "&nbsp;&nbsp;&nbsp;&nbsp;&nbsp;&nbsp;③ "
   ]
  },
  {
   "cell_type": "code",
   "execution_count": 99,
   "metadata": {},
   "outputs": [
    {
     "data": {
      "text/plain": [
       "(dtype('O'), 28726)"
      ]
     },
     "execution_count": 99,
     "metadata": {},
     "output_type": "execute_result"
    }
   ],
   "source": [
    "# 데이터 타입(갯수)\n",
    "x = person_2[\"relatedpersons_role_762T\"]\n",
    "x.dtype, x.count()"
   ]
  },
  {
   "cell_type": "code",
   "execution_count": 105,
   "metadata": {},
   "outputs": [
    {
     "data": {
      "text/plain": [
       "<Axes: xlabel='relatedpersons_role_762T', ylabel='count'>"
      ]
     },
     "execution_count": 105,
     "metadata": {},
     "output_type": "execute_result"
    },
    {
     "data": {
      "image/png": "[encoded data removed]",
      "text/plain": [
       "<Figure size 1500x500 with 1 Axes>"
      ]
     },
     "metadata": {},
     "output_type": "display_data"
    }
   ],
   "source": [
    "# 데이터 분포\n",
    "plt.figure(figsize=(15, 5))\n",
    "sns.countplot(data=x, x=x, palette=\"spring\")"
   ]
  },
  {
   "cell_type": "code",
   "execution_count": 101,
   "metadata": {},
   "outputs": [
    {
     "data": {
      "text/plain": [
       "relatedpersons_role_762T\n",
       "True     0.98252\n",
       "False    0.01748\n",
       "Name: proportion, dtype: float64"
      ]
     },
     "execution_count": 101,
     "metadata": {},
     "output_type": "execute_result"
    }
   ],
   "source": [
    "# 결측치 비율\n",
    "x.isna().value_counts(normalize=True)"
   ]
  },
  {
   "cell_type": "markdown",
   "metadata": {},
   "source": [
    "#### 06. 전체 데이터에 대한 의문점"
   ]
  },
  {
   "cell_type": "markdown",
   "metadata": {},
   "source": [
    "&nbsp;&nbsp;&nbsp;- <span style=\"color:orange;\">Masking된 데이터</span>를 <b><span style=\"color:orange;\">예측에 도움이 되지 않는 데이터</span></b>로, 와 <span style=\"color:green;\">Masking 되지 않은 데이터</span>를 <b><span style=\"color:green;\">예측에 도움이 되는 데이터</span></b>로 생각해도 될까요?"
   ]
  }
 ],
 "metadata": {
  "kernelspec": {
   "display_name": "ML",
   "language": "python",
   "name": "python3"
  },
  "language_info": {
   "codemirror_mode": {
    "name": "ipython",
    "version": 3
   },
   "file_extension": ".py",
   "mimetype": "text/x-python",
   "name": "python",
   "nbconvert_exporter": "python",
   "pygments_lexer": "ipython3",
   "version": "0.0.0"
  }
 },
 "nbformat": 4,
 "nbformat_minor": 2
}
